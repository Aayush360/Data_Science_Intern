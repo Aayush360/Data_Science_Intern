{
 "cells": [
  {
   "cell_type": "code",
   "execution_count": 1,
   "metadata": {},
   "outputs": [],
   "source": [
    "import pandas as pd\n",
    "import numpy as np\n",
    "import matplotlib.pyplot as plt\n",
    "import seaborn as sns\n",
    "\n",
    "import statsmodels.graphics.tsaplots as sgt\n",
    "import statsmodels.tsa.stattools as sts\n",
    "from statsmodels.tsa.arima_model import ARMA\n",
    "from scipy.stats.distributions import chi2\n",
    "from statsmodels.tsa.statespace.sarimax import SARIMAX\n",
    "from pmdarima.arima import auto_arima\n",
    "\n",
    "from math import sqrt\n",
    "sns.set()"
   ]
  },
  {
   "cell_type": "code",
   "execution_count": 2,
   "metadata": {},
   "outputs": [],
   "source": [
    "raw_data = pd.read_csv('dataset/daily-min-temperatures.csv')"
   ]
  },
  {
   "cell_type": "code",
   "execution_count": 3,
   "metadata": {},
   "outputs": [],
   "source": [
    "df_copy = raw_data.copy()"
   ]
  },
  {
   "cell_type": "code",
   "execution_count": 4,
   "metadata": {},
   "outputs": [
    {
     "data": {
      "text/html": [
       "<div>\n",
       "<style scoped>\n",
       "    .dataframe tbody tr th:only-of-type {\n",
       "        vertical-align: middle;\n",
       "    }\n",
       "\n",
       "    .dataframe tbody tr th {\n",
       "        vertical-align: top;\n",
       "    }\n",
       "\n",
       "    .dataframe thead th {\n",
       "        text-align: right;\n",
       "    }\n",
       "</style>\n",
       "<table border=\"1\" class=\"dataframe\">\n",
       "  <thead>\n",
       "    <tr style=\"text-align: right;\">\n",
       "      <th></th>\n",
       "      <th>Temp</th>\n",
       "    </tr>\n",
       "  </thead>\n",
       "  <tbody>\n",
       "    <tr>\n",
       "      <th>count</th>\n",
       "      <td>3650.000000</td>\n",
       "    </tr>\n",
       "    <tr>\n",
       "      <th>mean</th>\n",
       "      <td>11.177753</td>\n",
       "    </tr>\n",
       "    <tr>\n",
       "      <th>std</th>\n",
       "      <td>4.071837</td>\n",
       "    </tr>\n",
       "    <tr>\n",
       "      <th>min</th>\n",
       "      <td>0.000000</td>\n",
       "    </tr>\n",
       "    <tr>\n",
       "      <th>25%</th>\n",
       "      <td>8.300000</td>\n",
       "    </tr>\n",
       "    <tr>\n",
       "      <th>50%</th>\n",
       "      <td>11.000000</td>\n",
       "    </tr>\n",
       "    <tr>\n",
       "      <th>75%</th>\n",
       "      <td>14.000000</td>\n",
       "    </tr>\n",
       "    <tr>\n",
       "      <th>max</th>\n",
       "      <td>26.300000</td>\n",
       "    </tr>\n",
       "  </tbody>\n",
       "</table>\n",
       "</div>"
      ],
      "text/plain": [
       "              Temp\n",
       "count  3650.000000\n",
       "mean     11.177753\n",
       "std       4.071837\n",
       "min       0.000000\n",
       "25%       8.300000\n",
       "50%      11.000000\n",
       "75%      14.000000\n",
       "max      26.300000"
      ]
     },
     "execution_count": 4,
     "metadata": {},
     "output_type": "execute_result"
    }
   ],
   "source": [
    "df_copy.describe()"
   ]
  },
  {
   "cell_type": "code",
   "execution_count": 5,
   "metadata": {},
   "outputs": [
    {
     "data": {
      "text/plain": [
       "Date    0\n",
       "Temp    0\n",
       "dtype: int64"
      ]
     },
     "execution_count": 5,
     "metadata": {},
     "output_type": "execute_result"
    }
   ],
   "source": [
    "df_copy.isna().sum() # initially no missing values"
   ]
  },
  {
   "cell_type": "code",
   "execution_count": 6,
   "metadata": {},
   "outputs": [
    {
     "name": "stdout",
     "output_type": "stream",
     "text": [
      "<class 'pandas.core.frame.DataFrame'>\n",
      "RangeIndex: 3650 entries, 0 to 3649\n",
      "Data columns (total 2 columns):\n",
      " #   Column  Non-Null Count  Dtype  \n",
      "---  ------  --------------  -----  \n",
      " 0   Date    3650 non-null   object \n",
      " 1   Temp    3650 non-null   float64\n",
      "dtypes: float64(1), object(1)\n",
      "memory usage: 57.2+ KB\n"
     ]
    }
   ],
   "source": [
    "df_copy.info()"
   ]
  },
  {
   "cell_type": "code",
   "execution_count": 7,
   "metadata": {},
   "outputs": [],
   "source": [
    "## since date is an object, let us convert it to date_time obejct\n",
    "\n",
    "df_copy['Date'] = pd.to_datetime(df_copy['Date'])"
   ]
  },
  {
   "cell_type": "code",
   "execution_count": 8,
   "metadata": {},
   "outputs": [
    {
     "data": {
      "text/html": [
       "<div>\n",
       "<style scoped>\n",
       "    .dataframe tbody tr th:only-of-type {\n",
       "        vertical-align: middle;\n",
       "    }\n",
       "\n",
       "    .dataframe tbody tr th {\n",
       "        vertical-align: top;\n",
       "    }\n",
       "\n",
       "    .dataframe thead th {\n",
       "        text-align: right;\n",
       "    }\n",
       "</style>\n",
       "<table border=\"1\" class=\"dataframe\">\n",
       "  <thead>\n",
       "    <tr style=\"text-align: right;\">\n",
       "      <th></th>\n",
       "      <th>Date</th>\n",
       "      <th>Temp</th>\n",
       "    </tr>\n",
       "  </thead>\n",
       "  <tbody>\n",
       "    <tr>\n",
       "      <th>0</th>\n",
       "      <td>1981-01-01</td>\n",
       "      <td>20.7</td>\n",
       "    </tr>\n",
       "    <tr>\n",
       "      <th>1</th>\n",
       "      <td>1981-01-02</td>\n",
       "      <td>17.9</td>\n",
       "    </tr>\n",
       "    <tr>\n",
       "      <th>2</th>\n",
       "      <td>1981-01-03</td>\n",
       "      <td>18.8</td>\n",
       "    </tr>\n",
       "    <tr>\n",
       "      <th>3</th>\n",
       "      <td>1981-01-04</td>\n",
       "      <td>14.6</td>\n",
       "    </tr>\n",
       "    <tr>\n",
       "      <th>4</th>\n",
       "      <td>1981-01-05</td>\n",
       "      <td>15.8</td>\n",
       "    </tr>\n",
       "  </tbody>\n",
       "</table>\n",
       "</div>"
      ],
      "text/plain": [
       "        Date  Temp\n",
       "0 1981-01-01  20.7\n",
       "1 1981-01-02  17.9\n",
       "2 1981-01-03  18.8\n",
       "3 1981-01-04  14.6\n",
       "4 1981-01-05  15.8"
      ]
     },
     "execution_count": 8,
     "metadata": {},
     "output_type": "execute_result"
    }
   ],
   "source": [
    "df_copy.head()"
   ]
  },
  {
   "cell_type": "code",
   "execution_count": 9,
   "metadata": {},
   "outputs": [],
   "source": [
    "## the period of the dataset is daily -- recorded every day"
   ]
  },
  {
   "cell_type": "code",
   "execution_count": 10,
   "metadata": {},
   "outputs": [],
   "source": [
    "## make the date_time as index,, makes our analysis easier\n",
    "\n",
    "df_copy.set_index('Date',inplace=True)"
   ]
  },
  {
   "cell_type": "code",
   "execution_count": 29,
   "metadata": {},
   "outputs": [
    {
     "data": {
      "text/html": [
       "<div>\n",
       "<style scoped>\n",
       "    .dataframe tbody tr th:only-of-type {\n",
       "        vertical-align: middle;\n",
       "    }\n",
       "\n",
       "    .dataframe tbody tr th {\n",
       "        vertical-align: top;\n",
       "    }\n",
       "\n",
       "    .dataframe thead th {\n",
       "        text-align: right;\n",
       "    }\n",
       "</style>\n",
       "<table border=\"1\" class=\"dataframe\">\n",
       "  <thead>\n",
       "    <tr style=\"text-align: right;\">\n",
       "      <th></th>\n",
       "      <th>Temp</th>\n",
       "    </tr>\n",
       "    <tr>\n",
       "      <th>Date</th>\n",
       "      <th></th>\n",
       "    </tr>\n",
       "  </thead>\n",
       "  <tbody>\n",
       "    <tr>\n",
       "      <th>1981-01-01</th>\n",
       "      <td>20.7</td>\n",
       "    </tr>\n",
       "    <tr>\n",
       "      <th>1981-01-02</th>\n",
       "      <td>17.9</td>\n",
       "    </tr>\n",
       "    <tr>\n",
       "      <th>1981-01-03</th>\n",
       "      <td>18.8</td>\n",
       "    </tr>\n",
       "    <tr>\n",
       "      <th>1981-01-04</th>\n",
       "      <td>14.6</td>\n",
       "    </tr>\n",
       "    <tr>\n",
       "      <th>1981-01-05</th>\n",
       "      <td>15.8</td>\n",
       "    </tr>\n",
       "  </tbody>\n",
       "</table>\n",
       "</div>"
      ],
      "text/plain": [
       "            Temp\n",
       "Date            \n",
       "1981-01-01  20.7\n",
       "1981-01-02  17.9\n",
       "1981-01-03  18.8\n",
       "1981-01-04  14.6\n",
       "1981-01-05  15.8"
      ]
     },
     "execution_count": 29,
     "metadata": {},
     "output_type": "execute_result"
    }
   ],
   "source": [
    "df_copy.head()"
   ]
  },
  {
   "cell_type": "code",
   "execution_count": 11,
   "metadata": {},
   "outputs": [
    {
     "data": {
      "image/png": "[encoded data removed]",
      "text/plain": [
       "<Figure size 1440x360 with 1 Axes>"
      ]
     },
     "metadata": {},
     "output_type": "display_data"
    }
   ],
   "source": [
    "df_copy.plot(figsize=(20,5))\n",
    "plt.title('Temperature along the time-series',size=20)\n",
    "plt.show()"
   ]
  },
  {
   "cell_type": "code",
   "execution_count": 12,
   "metadata": {},
   "outputs": [],
   "source": [
    "# we can see some patterns in the data which is being repeated after certrain interval,, this shows that tempetatue\n",
    "## is a seasonal variable, which repeates after certain interval(every year)\n",
    "## But there is no trend in the data"
   ]
  },
  {
   "cell_type": "code",
   "execution_count": 13,
   "metadata": {},
   "outputs": [
    {
     "data": {
      "image/png": "[encoded data removed]",
      "text/plain": [
       "<Figure size 432x288 with 1 Axes>"
      ]
     },
     "metadata": {},
     "output_type": "display_data"
    }
   ],
   "source": [
    "sgt.plot_acf(df_copy.Temp,lags=40,zero=False)\n",
    "plt.title('ACF for temperature',size=20)\n",
    "plt.show()"
   ]
  },
  {
   "cell_type": "code",
   "execution_count": 14,
   "metadata": {},
   "outputs": [],
   "source": [
    "## the decreasing trend in auto-correlation,,\n",
    "## the more back in time we go ,,the less impacat it makes to the current variable/ value of temp"
   ]
  },
  {
   "cell_type": "code",
   "execution_count": 15,
   "metadata": {},
   "outputs": [
    {
     "data": {
      "image/png": "[encoded data removed]",
      "text/plain": [
       "<Figure size 432x288 with 1 Axes>"
      ]
     },
     "metadata": {},
     "output_type": "display_data"
    }
   ],
   "source": [
    "sgt.plot_pacf(df_copy.Temp,lags=40,zero=False)\n",
    "plt.title('PACF for temperature',size=20)\n",
    "plt.show()"
   ]
  },
  {
   "cell_type": "code",
   "execution_count": 47,
   "metadata": {},
   "outputs": [],
   "source": [
    "## until 8th lag the error seems significant,, and random later on\n",
    "## coeff value after 18th lag is close to zero, thus the impact of coeff after 18th lag to the model is minimal\n",
    "## negative after 30th lag indicates, cyclical changes every month\n",
    "# sice first lag is greatly significant we should include it in our model"
   ]
  },
  {
   "cell_type": "markdown",
   "metadata": {},
   "source": [
    "### AR(1)"
   ]
  },
  {
   "cell_type": "code",
   "execution_count": 17,
   "metadata": {},
   "outputs": [
    {
     "name": "stderr",
     "output_type": "stream",
     "text": [
      "/opt/anaconda3/lib/python3.8/site-packages/statsmodels/tsa/base/tsa_model.py:216: ValueWarning: A date index has been provided, but it has no associated frequency information and so will be ignored when e.g. forecasting.\n",
      "  warnings.warn('A date index has been provided, but it has no'\n"
     ]
    },
    {
     "data": {
      "text/html": [
       "<table class=\"simpletable\">\n",
       "<caption>ARMA Model Results</caption>\n",
       "<tr>\n",
       "  <th>Dep. Variable:</th>       <td>Temp</td>       <th>  No. Observations:  </th>   <td>3650</td>   \n",
       "</tr>\n",
       "<tr>\n",
       "  <th>Model:</th>            <td>ARMA(1, 0)</td>    <th>  Log Likelihood     </th> <td>-8629.862</td>\n",
       "</tr>\n",
       "<tr>\n",
       "  <th>Method:</th>             <td>css-mle</td>     <th>  S.D. of innovations</th>   <td>2.574</td>  \n",
       "</tr>\n",
       "<tr>\n",
       "  <th>Date:</th>          <td>Sat, 23 Jan 2021</td> <th>  AIC                </th> <td>17265.725</td>\n",
       "</tr>\n",
       "<tr>\n",
       "  <th>Time:</th>              <td>13:28:38</td>     <th>  BIC                </th> <td>17284.332</td>\n",
       "</tr>\n",
       "<tr>\n",
       "  <th>Sample:</th>                <td>0</td>        <th>  HQIC               </th> <td>17272.352</td>\n",
       "</tr>\n",
       "<tr>\n",
       "  <th></th>                       <td> </td>        <th>                     </th>     <td> </td>    \n",
       "</tr>\n",
       "</table>\n",
       "<table class=\"simpletable\">\n",
       "<tr>\n",
       "       <td></td>         <th>coef</th>     <th>std err</th>      <th>z</th>      <th>P>|z|</th>  <th>[0.025</th>    <th>0.975]</th>  \n",
       "</tr>\n",
       "<tr>\n",
       "  <th>const</th>      <td>   11.1885</td> <td>    0.189</td> <td>   59.085</td> <td> 0.000</td> <td>   10.817</td> <td>   11.560</td>\n",
       "</tr>\n",
       "<tr>\n",
       "  <th>ar.L1.Temp</th> <td>    0.7753</td> <td>    0.010</td> <td>   74.079</td> <td> 0.000</td> <td>    0.755</td> <td>    0.796</td>\n",
       "</tr>\n",
       "</table>\n",
       "<table class=\"simpletable\">\n",
       "<caption>Roots</caption>\n",
       "<tr>\n",
       "    <td></td>   <th>            Real</th>  <th>         Imaginary</th> <th>         Modulus</th>  <th>        Frequency</th>\n",
       "</tr>\n",
       "<tr>\n",
       "  <th>AR.1</th> <td>           1.2899</td> <td>          +0.0000j</td> <td>           1.2899</td> <td>           0.0000</td>\n",
       "</tr>\n",
       "</table>"
      ],
      "text/plain": [
       "<class 'statsmodels.iolib.summary.Summary'>\n",
       "\"\"\"\n",
       "                              ARMA Model Results                              \n",
       "==============================================================================\n",
       "Dep. Variable:                   Temp   No. Observations:                 3650\n",
       "Model:                     ARMA(1, 0)   Log Likelihood               -8629.862\n",
       "Method:                       css-mle   S.D. of innovations              2.574\n",
       "Date:                Sat, 23 Jan 2021   AIC                          17265.725\n",
       "Time:                        13:28:38   BIC                          17284.332\n",
       "Sample:                             0   HQIC                         17272.352\n",
       "                                                                              \n",
       "==============================================================================\n",
       "                 coef    std err          z      P>|z|      [0.025      0.975]\n",
       "------------------------------------------------------------------------------\n",
       "const         11.1885      0.189     59.085      0.000      10.817      11.560\n",
       "ar.L1.Temp     0.7753      0.010     74.079      0.000       0.755       0.796\n",
       "                                    Roots                                    \n",
       "=============================================================================\n",
       "                  Real          Imaginary           Modulus         Frequency\n",
       "-----------------------------------------------------------------------------\n",
       "AR.1            1.2899           +0.0000j            1.2899            0.0000\n",
       "-----------------------------------------------------------------------------\n",
       "\"\"\""
      ]
     },
     "execution_count": 17,
     "metadata": {},
     "output_type": "execute_result"
    }
   ],
   "source": [
    "model_ar_1 = ARMA(df_copy['Temp'],order=(1,0))\n",
    "result_ar_1 = model_ar_1.fit()\n",
    "result_ar_1.summary()"
   ]
  },
  {
   "cell_type": "code",
   "execution_count": 18,
   "metadata": {},
   "outputs": [],
   "source": [
    "## lag one-day before is significant"
   ]
  },
  {
   "cell_type": "code",
   "execution_count": 19,
   "metadata": {},
   "outputs": [
    {
     "name": "stderr",
     "output_type": "stream",
     "text": [
      "/opt/anaconda3/lib/python3.8/site-packages/statsmodels/tsa/base/tsa_model.py:216: ValueWarning: A date index has been provided, but it has no associated frequency information and so will be ignored when e.g. forecasting.\n",
      "  warnings.warn('A date index has been provided, but it has no'\n"
     ]
    },
    {
     "data": {
      "text/html": [
       "<table class=\"simpletable\">\n",
       "<caption>ARMA Model Results</caption>\n",
       "<tr>\n",
       "  <th>Dep. Variable:</th>       <td>Temp</td>       <th>  No. Observations:  </th>   <td>3650</td>   \n",
       "</tr>\n",
       "<tr>\n",
       "  <th>Model:</th>            <td>ARMA(2, 0)</td>    <th>  Log Likelihood     </th> <td>-8618.979</td>\n",
       "</tr>\n",
       "<tr>\n",
       "  <th>Method:</th>             <td>css-mle</td>     <th>  S.D. of innovations</th>   <td>2.566</td>  \n",
       "</tr>\n",
       "<tr>\n",
       "  <th>Date:</th>          <td>Sat, 23 Jan 2021</td> <th>  AIC                </th> <td>17245.958</td>\n",
       "</tr>\n",
       "<tr>\n",
       "  <th>Time:</th>              <td>13:28:39</td>     <th>  BIC                </th> <td>17270.767</td>\n",
       "</tr>\n",
       "<tr>\n",
       "  <th>Sample:</th>                <td>0</td>        <th>  HQIC               </th> <td>17254.793</td>\n",
       "</tr>\n",
       "<tr>\n",
       "  <th></th>                       <td> </td>        <th>                     </th>     <td> </td>    \n",
       "</tr>\n",
       "</table>\n",
       "<table class=\"simpletable\">\n",
       "<tr>\n",
       "       <td></td>         <th>coef</th>     <th>std err</th>      <th>z</th>      <th>P>|z|</th>  <th>[0.025</th>    <th>0.975]</th>  \n",
       "</tr>\n",
       "<tr>\n",
       "  <th>const</th>      <td>   11.1908</td> <td>    0.205</td> <td>   54.695</td> <td> 0.000</td> <td>   10.790</td> <td>   11.592</td>\n",
       "</tr>\n",
       "<tr>\n",
       "  <th>ar.L1.Temp</th> <td>    0.7155</td> <td>    0.017</td> <td>   43.347</td> <td> 0.000</td> <td>    0.683</td> <td>    0.748</td>\n",
       "</tr>\n",
       "<tr>\n",
       "  <th>ar.L2.Temp</th> <td>    0.0772</td> <td>    0.017</td> <td>    4.673</td> <td> 0.000</td> <td>    0.045</td> <td>    0.110</td>\n",
       "</tr>\n",
       "</table>\n",
       "<table class=\"simpletable\">\n",
       "<caption>Roots</caption>\n",
       "<tr>\n",
       "    <td></td>   <th>            Real</th>  <th>         Imaginary</th> <th>         Modulus</th>  <th>        Frequency</th>\n",
       "</tr>\n",
       "<tr>\n",
       "  <th>AR.1</th> <td>           1.2335</td> <td>          +0.0000j</td> <td>           1.2335</td> <td>           0.0000</td>\n",
       "</tr>\n",
       "<tr>\n",
       "  <th>AR.2</th> <td>         -10.5058</td> <td>          +0.0000j</td> <td>          10.5058</td> <td>           0.5000</td>\n",
       "</tr>\n",
       "</table>"
      ],
      "text/plain": [
       "<class 'statsmodels.iolib.summary.Summary'>\n",
       "\"\"\"\n",
       "                              ARMA Model Results                              \n",
       "==============================================================================\n",
       "Dep. Variable:                   Temp   No. Observations:                 3650\n",
       "Model:                     ARMA(2, 0)   Log Likelihood               -8618.979\n",
       "Method:                       css-mle   S.D. of innovations              2.566\n",
       "Date:                Sat, 23 Jan 2021   AIC                          17245.958\n",
       "Time:                        13:28:39   BIC                          17270.767\n",
       "Sample:                             0   HQIC                         17254.793\n",
       "                                                                              \n",
       "==============================================================================\n",
       "                 coef    std err          z      P>|z|      [0.025      0.975]\n",
       "------------------------------------------------------------------------------\n",
       "const         11.1908      0.205     54.695      0.000      10.790      11.592\n",
       "ar.L1.Temp     0.7155      0.017     43.347      0.000       0.683       0.748\n",
       "ar.L2.Temp     0.0772      0.017      4.673      0.000       0.045       0.110\n",
       "                                    Roots                                    \n",
       "=============================================================================\n",
       "                  Real          Imaginary           Modulus         Frequency\n",
       "-----------------------------------------------------------------------------\n",
       "AR.1            1.2335           +0.0000j            1.2335            0.0000\n",
       "AR.2          -10.5058           +0.0000j           10.5058            0.5000\n",
       "-----------------------------------------------------------------------------\n",
       "\"\"\""
      ]
     },
     "execution_count": 19,
     "metadata": {},
     "output_type": "execute_result"
    }
   ],
   "source": [
    "model_ar_2 = ARMA(df_copy['Temp'],order=(2,0))\n",
    "result_ar_2 = model_ar_2.fit()\n",
    "result_ar_2.summary()"
   ]
  },
  {
   "cell_type": "code",
   "execution_count": 20,
   "metadata": {},
   "outputs": [
    {
     "name": "stderr",
     "output_type": "stream",
     "text": [
      "/opt/anaconda3/lib/python3.8/site-packages/statsmodels/tsa/base/tsa_model.py:216: ValueWarning: A date index has been provided, but it has no associated frequency information and so will be ignored when e.g. forecasting.\n",
      "  warnings.warn('A date index has been provided, but it has no'\n"
     ]
    },
    {
     "data": {
      "text/html": [
       "<table class=\"simpletable\">\n",
       "<caption>ARMA Model Results</caption>\n",
       "<tr>\n",
       "  <th>Dep. Variable:</th>       <td>Temp</td>       <th>  No. Observations:  </th>   <td>3650</td>   \n",
       "</tr>\n",
       "<tr>\n",
       "  <th>Model:</th>            <td>ARMA(5, 0)</td>    <th>  Log Likelihood     </th> <td>-8478.123</td>\n",
       "</tr>\n",
       "<tr>\n",
       "  <th>Method:</th>             <td>css-mle</td>     <th>  S.D. of innovations</th>   <td>2.469</td>  \n",
       "</tr>\n",
       "<tr>\n",
       "  <th>Date:</th>          <td>Sat, 23 Jan 2021</td> <th>  AIC                </th> <td>16970.247</td>\n",
       "</tr>\n",
       "<tr>\n",
       "  <th>Time:</th>              <td>13:28:39</td>     <th>  BIC                </th> <td>17013.664</td>\n",
       "</tr>\n",
       "<tr>\n",
       "  <th>Sample:</th>                <td>0</td>        <th>  HQIC               </th> <td>16985.709</td>\n",
       "</tr>\n",
       "<tr>\n",
       "  <th></th>                       <td> </td>        <th>                     </th>     <td> </td>    \n",
       "</tr>\n",
       "</table>\n",
       "<table class=\"simpletable\">\n",
       "<tr>\n",
       "       <td></td>         <th>coef</th>     <th>std err</th>      <th>z</th>      <th>P>|z|</th>  <th>[0.025</th>    <th>0.975]</th>  \n",
       "</tr>\n",
       "<tr>\n",
       "  <th>const</th>      <td>   11.2161</td> <td>    0.330</td> <td>   34.013</td> <td> 0.000</td> <td>   10.570</td> <td>   11.862</td>\n",
       "</tr>\n",
       "<tr>\n",
       "  <th>ar.L1.Temp</th> <td>    0.6523</td> <td>    0.016</td> <td>   39.734</td> <td> 0.000</td> <td>    0.620</td> <td>    0.684</td>\n",
       "</tr>\n",
       "<tr>\n",
       "  <th>ar.L2.Temp</th> <td>   -0.0609</td> <td>    0.020</td> <td>   -3.103</td> <td> 0.002</td> <td>   -0.099</td> <td>   -0.022</td>\n",
       "</tr>\n",
       "<tr>\n",
       "  <th>ar.L3.Temp</th> <td>    0.0909</td> <td>    0.020</td> <td>    4.638</td> <td> 0.000</td> <td>    0.052</td> <td>    0.129</td>\n",
       "</tr>\n",
       "<tr>\n",
       "  <th>ar.L4.Temp</th> <td>    0.0638</td> <td>    0.020</td> <td>    3.251</td> <td> 0.001</td> <td>    0.025</td> <td>    0.102</td>\n",
       "</tr>\n",
       "<tr>\n",
       "  <th>ar.L5.Temp</th> <td>    0.1305</td> <td>    0.016</td> <td>    7.947</td> <td> 0.000</td> <td>    0.098</td> <td>    0.163</td>\n",
       "</tr>\n",
       "</table>\n",
       "<table class=\"simpletable\">\n",
       "<caption>Roots</caption>\n",
       "<tr>\n",
       "    <td></td>   <th>            Real</th>  <th>         Imaginary</th> <th>         Modulus</th>  <th>        Frequency</th>\n",
       "</tr>\n",
       "<tr>\n",
       "  <th>AR.1</th> <td>           1.0669</td> <td>          -0.0000j</td> <td>           1.0669</td> <td>          -0.0000</td>\n",
       "</tr>\n",
       "<tr>\n",
       "  <th>AR.2</th> <td>           0.5767</td> <td>          -1.3544j</td> <td>           1.4720</td> <td>          -0.1859</td>\n",
       "</tr>\n",
       "<tr>\n",
       "  <th>AR.3</th> <td>           0.5767</td> <td>          +1.3544j</td> <td>           1.4720</td> <td>           0.1859</td>\n",
       "</tr>\n",
       "<tr>\n",
       "  <th>AR.4</th> <td>          -1.3547</td> <td>          -1.2164j</td> <td>           1.8206</td> <td>          -0.3836</td>\n",
       "</tr>\n",
       "<tr>\n",
       "  <th>AR.5</th> <td>          -1.3547</td> <td>          +1.2164j</td> <td>           1.8206</td> <td>           0.3836</td>\n",
       "</tr>\n",
       "</table>"
      ],
      "text/plain": [
       "<class 'statsmodels.iolib.summary.Summary'>\n",
       "\"\"\"\n",
       "                              ARMA Model Results                              \n",
       "==============================================================================\n",
       "Dep. Variable:                   Temp   No. Observations:                 3650\n",
       "Model:                     ARMA(5, 0)   Log Likelihood               -8478.123\n",
       "Method:                       css-mle   S.D. of innovations              2.469\n",
       "Date:                Sat, 23 Jan 2021   AIC                          16970.247\n",
       "Time:                        13:28:39   BIC                          17013.664\n",
       "Sample:                             0   HQIC                         16985.709\n",
       "                                                                              \n",
       "==============================================================================\n",
       "                 coef    std err          z      P>|z|      [0.025      0.975]\n",
       "------------------------------------------------------------------------------\n",
       "const         11.2161      0.330     34.013      0.000      10.570      11.862\n",
       "ar.L1.Temp     0.6523      0.016     39.734      0.000       0.620       0.684\n",
       "ar.L2.Temp    -0.0609      0.020     -3.103      0.002      -0.099      -0.022\n",
       "ar.L3.Temp     0.0909      0.020      4.638      0.000       0.052       0.129\n",
       "ar.L4.Temp     0.0638      0.020      3.251      0.001       0.025       0.102\n",
       "ar.L5.Temp     0.1305      0.016      7.947      0.000       0.098       0.163\n",
       "                                    Roots                                    \n",
       "=============================================================================\n",
       "                  Real          Imaginary           Modulus         Frequency\n",
       "-----------------------------------------------------------------------------\n",
       "AR.1            1.0669           -0.0000j            1.0669           -0.0000\n",
       "AR.2            0.5767           -1.3544j            1.4720           -0.1859\n",
       "AR.3            0.5767           +1.3544j            1.4720            0.1859\n",
       "AR.4           -1.3547           -1.2164j            1.8206           -0.3836\n",
       "AR.5           -1.3547           +1.2164j            1.8206            0.3836\n",
       "-----------------------------------------------------------------------------\n",
       "\"\"\""
      ]
     },
     "execution_count": 20,
     "metadata": {},
     "output_type": "execute_result"
    }
   ],
   "source": [
    "model_ar_5 = ARMA(df_copy['Temp'],order=(5,0))\n",
    "result_ar_5 = model_ar_5.fit()\n",
    "result_ar_5.summary()"
   ]
  },
  {
   "cell_type": "code",
   "execution_count": 21,
   "metadata": {},
   "outputs": [],
   "source": [
    "## lag 5 days before is also significant-- this show some todays temp is dependent on temp value 5 days ahead"
   ]
  },
  {
   "cell_type": "code",
   "execution_count": 22,
   "metadata": {},
   "outputs": [
    {
     "name": "stderr",
     "output_type": "stream",
     "text": [
      "/opt/anaconda3/lib/python3.8/site-packages/statsmodels/tsa/base/tsa_model.py:216: ValueWarning: A date index has been provided, but it has no associated frequency information and so will be ignored when e.g. forecasting.\n",
      "  warnings.warn('A date index has been provided, but it has no'\n"
     ]
    },
    {
     "data": {
      "text/html": [
       "<table class=\"simpletable\">\n",
       "<caption>ARMA Model Results</caption>\n",
       "<tr>\n",
       "  <th>Dep. Variable:</th>       <td>Temp</td>       <th>  No. Observations:  </th>   <td>3650</td>   \n",
       "</tr>\n",
       "<tr>\n",
       "  <th>Model:</th>            <td>ARMA(10, 0)</td>   <th>  Log Likelihood     </th> <td>-8414.129</td>\n",
       "</tr>\n",
       "<tr>\n",
       "  <th>Method:</th>             <td>css-mle</td>     <th>  S.D. of innovations</th>   <td>2.426</td>  \n",
       "</tr>\n",
       "<tr>\n",
       "  <th>Date:</th>          <td>Sat, 23 Jan 2021</td> <th>  AIC                </th> <td>16852.258</td>\n",
       "</tr>\n",
       "<tr>\n",
       "  <th>Time:</th>              <td>13:28:41</td>     <th>  BIC                </th> <td>16926.688</td>\n",
       "</tr>\n",
       "<tr>\n",
       "  <th>Sample:</th>                <td>0</td>        <th>  HQIC               </th> <td>16878.764</td>\n",
       "</tr>\n",
       "<tr>\n",
       "  <th></th>                       <td> </td>        <th>                     </th>     <td> </td>    \n",
       "</tr>\n",
       "</table>\n",
       "<table class=\"simpletable\">\n",
       "<tr>\n",
       "       <td></td>          <th>coef</th>     <th>std err</th>      <th>z</th>      <th>P>|z|</th>  <th>[0.025</th>    <th>0.975]</th>  \n",
       "</tr>\n",
       "<tr>\n",
       "  <th>const</th>       <td>   11.2669</td> <td>    0.492</td> <td>   22.918</td> <td> 0.000</td> <td>   10.303</td> <td>   12.230</td>\n",
       "</tr>\n",
       "<tr>\n",
       "  <th>ar.L1.Temp</th>  <td>    0.6108</td> <td>    0.017</td> <td>   36.919</td> <td> 0.000</td> <td>    0.578</td> <td>    0.643</td>\n",
       "</tr>\n",
       "<tr>\n",
       "  <th>ar.L2.Temp</th>  <td>   -0.0825</td> <td>    0.019</td> <td>   -4.255</td> <td> 0.000</td> <td>   -0.120</td> <td>   -0.044</td>\n",
       "</tr>\n",
       "<tr>\n",
       "  <th>ar.L3.Temp</th>  <td>    0.0629</td> <td>    0.019</td> <td>    3.239</td> <td> 0.001</td> <td>    0.025</td> <td>    0.101</td>\n",
       "</tr>\n",
       "<tr>\n",
       "  <th>ar.L4.Temp</th>  <td>    0.0515</td> <td>    0.019</td> <td>    2.652</td> <td> 0.008</td> <td>    0.013</td> <td>    0.090</td>\n",
       "</tr>\n",
       "<tr>\n",
       "  <th>ar.L5.Temp</th>  <td>    0.0544</td> <td>    0.019</td> <td>    2.798</td> <td> 0.005</td> <td>    0.016</td> <td>    0.092</td>\n",
       "</tr>\n",
       "<tr>\n",
       "  <th>ar.L6.Temp</th>  <td>    0.0424</td> <td>    0.019</td> <td>    2.183</td> <td> 0.029</td> <td>    0.004</td> <td>    0.080</td>\n",
       "</tr>\n",
       "<tr>\n",
       "  <th>ar.L7.Temp</th>  <td>    0.0598</td> <td>    0.019</td> <td>    3.079</td> <td> 0.002</td> <td>    0.022</td> <td>    0.098</td>\n",
       "</tr>\n",
       "<tr>\n",
       "  <th>ar.L8.Temp</th>  <td>    0.0331</td> <td>    0.019</td> <td>    1.707</td> <td> 0.088</td> <td>   -0.005</td> <td>    0.071</td>\n",
       "</tr>\n",
       "<tr>\n",
       "  <th>ar.L9.Temp</th>  <td>    0.0502</td> <td>    0.019</td> <td>    2.590</td> <td> 0.010</td> <td>    0.012</td> <td>    0.088</td>\n",
       "</tr>\n",
       "<tr>\n",
       "  <th>ar.L10.Temp</th> <td>    0.0364</td> <td>    0.017</td> <td>    2.197</td> <td> 0.028</td> <td>    0.004</td> <td>    0.069</td>\n",
       "</tr>\n",
       "</table>\n",
       "<table class=\"simpletable\">\n",
       "<caption>Roots</caption>\n",
       "<tr>\n",
       "    <td></td>    <th>            Real</th>  <th>         Imaginary</th> <th>         Modulus</th>  <th>        Frequency</th>\n",
       "</tr>\n",
       "<tr>\n",
       "  <th>AR.1</th>  <td>           1.0264</td> <td>          -0.0000j</td> <td>           1.0264</td> <td>          -0.0000</td>\n",
       "</tr>\n",
       "<tr>\n",
       "  <th>AR.2</th>  <td>           0.9796</td> <td>          -0.7927j</td> <td>           1.2601</td> <td>          -0.1083</td>\n",
       "</tr>\n",
       "<tr>\n",
       "  <th>AR.3</th>  <td>           0.9796</td> <td>          +0.7927j</td> <td>           1.2601</td> <td>           0.1083</td>\n",
       "</tr>\n",
       "<tr>\n",
       "  <th>AR.4</th>  <td>           0.4189</td> <td>          -1.3016j</td> <td>           1.3674</td> <td>          -0.2004</td>\n",
       "</tr>\n",
       "<tr>\n",
       "  <th>AR.5</th>  <td>           0.4189</td> <td>          +1.3016j</td> <td>           1.3674</td> <td>           0.2004</td>\n",
       "</tr>\n",
       "<tr>\n",
       "  <th>AR.6</th>  <td>          -0.4319</td> <td>          -1.3910j</td> <td>           1.4565</td> <td>          -0.2979</td>\n",
       "</tr>\n",
       "<tr>\n",
       "  <th>AR.7</th>  <td>          -0.4319</td> <td>          +1.3910j</td> <td>           1.4565</td> <td>           0.2979</td>\n",
       "</tr>\n",
       "<tr>\n",
       "  <th>AR.8</th>  <td>          -1.2984</td> <td>          -0.8684j</td> <td>           1.5620</td> <td>          -0.4062</td>\n",
       "</tr>\n",
       "<tr>\n",
       "  <th>AR.9</th>  <td>          -1.2984</td> <td>          +0.8684j</td> <td>           1.5620</td> <td>           0.4062</td>\n",
       "</tr>\n",
       "<tr>\n",
       "  <th>AR.10</th> <td>          -1.7428</td> <td>          -0.0000j</td> <td>           1.7428</td> <td>          -0.5000</td>\n",
       "</tr>\n",
       "</table>"
      ],
      "text/plain": [
       "<class 'statsmodels.iolib.summary.Summary'>\n",
       "\"\"\"\n",
       "                              ARMA Model Results                              \n",
       "==============================================================================\n",
       "Dep. Variable:                   Temp   No. Observations:                 3650\n",
       "Model:                    ARMA(10, 0)   Log Likelihood               -8414.129\n",
       "Method:                       css-mle   S.D. of innovations              2.426\n",
       "Date:                Sat, 23 Jan 2021   AIC                          16852.258\n",
       "Time:                        13:28:41   BIC                          16926.688\n",
       "Sample:                             0   HQIC                         16878.764\n",
       "                                                                              \n",
       "===============================================================================\n",
       "                  coef    std err          z      P>|z|      [0.025      0.975]\n",
       "-------------------------------------------------------------------------------\n",
       "const          11.2669      0.492     22.918      0.000      10.303      12.230\n",
       "ar.L1.Temp      0.6108      0.017     36.919      0.000       0.578       0.643\n",
       "ar.L2.Temp     -0.0825      0.019     -4.255      0.000      -0.120      -0.044\n",
       "ar.L3.Temp      0.0629      0.019      3.239      0.001       0.025       0.101\n",
       "ar.L4.Temp      0.0515      0.019      2.652      0.008       0.013       0.090\n",
       "ar.L5.Temp      0.0544      0.019      2.798      0.005       0.016       0.092\n",
       "ar.L6.Temp      0.0424      0.019      2.183      0.029       0.004       0.080\n",
       "ar.L7.Temp      0.0598      0.019      3.079      0.002       0.022       0.098\n",
       "ar.L8.Temp      0.0331      0.019      1.707      0.088      -0.005       0.071\n",
       "ar.L9.Temp      0.0502      0.019      2.590      0.010       0.012       0.088\n",
       "ar.L10.Temp     0.0364      0.017      2.197      0.028       0.004       0.069\n",
       "                                    Roots                                     \n",
       "==============================================================================\n",
       "                   Real          Imaginary           Modulus         Frequency\n",
       "------------------------------------------------------------------------------\n",
       "AR.1             1.0264           -0.0000j            1.0264           -0.0000\n",
       "AR.2             0.9796           -0.7927j            1.2601           -0.1083\n",
       "AR.3             0.9796           +0.7927j            1.2601            0.1083\n",
       "AR.4             0.4189           -1.3016j            1.3674           -0.2004\n",
       "AR.5             0.4189           +1.3016j            1.3674            0.2004\n",
       "AR.6            -0.4319           -1.3910j            1.4565           -0.2979\n",
       "AR.7            -0.4319           +1.3910j            1.4565            0.2979\n",
       "AR.8            -1.2984           -0.8684j            1.5620           -0.4062\n",
       "AR.9            -1.2984           +0.8684j            1.5620            0.4062\n",
       "AR.10           -1.7428           -0.0000j            1.7428           -0.5000\n",
       "------------------------------------------------------------------------------\n",
       "\"\"\""
      ]
     },
     "execution_count": 22,
     "metadata": {},
     "output_type": "execute_result"
    }
   ],
   "source": [
    "model_ar_10 = ARMA(df_copy['Temp'],order=(10,0))\n",
    "result_ar_10 = model_ar_10.fit()\n",
    "result_ar_10.summary()"
   ]
  },
  {
   "cell_type": "code",
   "execution_count": 23,
   "metadata": {},
   "outputs": [],
   "source": [
    "## temp for 8 th lag is not significant "
   ]
  },
  {
   "cell_type": "code",
   "execution_count": 24,
   "metadata": {},
   "outputs": [
    {
     "name": "stderr",
     "output_type": "stream",
     "text": [
      "/opt/anaconda3/lib/python3.8/site-packages/statsmodels/tsa/base/tsa_model.py:216: ValueWarning: A date index has been provided, but it has no associated frequency information and so will be ignored when e.g. forecasting.\n",
      "  warnings.warn('A date index has been provided, but it has no'\n"
     ]
    },
    {
     "data": {
      "text/html": [
       "<table class=\"simpletable\">\n",
       "<caption>ARMA Model Results</caption>\n",
       "<tr>\n",
       "  <th>Dep. Variable:</th>       <td>Temp</td>       <th>  No. Observations:  </th>   <td>3650</td>   \n",
       "</tr>\n",
       "<tr>\n",
       "  <th>Model:</th>            <td>ARMA(7, 0)</td>    <th>  Log Likelihood     </th> <td>-8436.422</td>\n",
       "</tr>\n",
       "<tr>\n",
       "  <th>Method:</th>             <td>css-mle</td>     <th>  S.D. of innovations</th>   <td>2.441</td>  \n",
       "</tr>\n",
       "<tr>\n",
       "  <th>Date:</th>          <td>Sat, 23 Jan 2021</td> <th>  AIC                </th> <td>16890.843</td>\n",
       "</tr>\n",
       "<tr>\n",
       "  <th>Time:</th>              <td>13:28:46</td>     <th>  BIC                </th> <td>16946.666</td>\n",
       "</tr>\n",
       "<tr>\n",
       "  <th>Sample:</th>                <td>0</td>        <th>  HQIC               </th> <td>16910.723</td>\n",
       "</tr>\n",
       "<tr>\n",
       "  <th></th>                       <td> </td>        <th>                     </th>     <td> </td>    \n",
       "</tr>\n",
       "</table>\n",
       "<table class=\"simpletable\">\n",
       "<tr>\n",
       "       <td></td>         <th>coef</th>     <th>std err</th>      <th>z</th>      <th>P>|z|</th>  <th>[0.025</th>    <th>0.975]</th>  \n",
       "</tr>\n",
       "<tr>\n",
       "  <th>const</th>      <td>   11.2378</td> <td>    0.408</td> <td>   27.512</td> <td> 0.000</td> <td>   10.437</td> <td>   12.038</td>\n",
       "</tr>\n",
       "<tr>\n",
       "  <th>ar.L1.Temp</th> <td>    0.6266</td> <td>    0.016</td> <td>   38.046</td> <td> 0.000</td> <td>    0.594</td> <td>    0.659</td>\n",
       "</tr>\n",
       "<tr>\n",
       "  <th>ar.L2.Temp</th> <td>   -0.0740</td> <td>    0.019</td> <td>   -3.803</td> <td> 0.000</td> <td>   -0.112</td> <td>   -0.036</td>\n",
       "</tr>\n",
       "<tr>\n",
       "  <th>ar.L3.Temp</th> <td>    0.0736</td> <td>    0.019</td> <td>    3.782</td> <td> 0.000</td> <td>    0.035</td> <td>    0.112</td>\n",
       "</tr>\n",
       "<tr>\n",
       "  <th>ar.L4.Temp</th> <td>    0.0622</td> <td>    0.019</td> <td>    3.193</td> <td> 0.001</td> <td>    0.024</td> <td>    0.100</td>\n",
       "</tr>\n",
       "<tr>\n",
       "  <th>ar.L5.Temp</th> <td>    0.0661</td> <td>    0.019</td> <td>    3.397</td> <td> 0.001</td> <td>    0.028</td> <td>    0.104</td>\n",
       "</tr>\n",
       "<tr>\n",
       "  <th>ar.L6.Temp</th> <td>    0.0437</td> <td>    0.019</td> <td>    2.247</td> <td> 0.025</td> <td>    0.006</td> <td>    0.082</td>\n",
       "</tr>\n",
       "<tr>\n",
       "  <th>ar.L7.Temp</th> <td>    0.1035</td> <td>    0.016</td> <td>    6.283</td> <td> 0.000</td> <td>    0.071</td> <td>    0.136</td>\n",
       "</tr>\n",
       "</table>\n",
       "<table class=\"simpletable\">\n",
       "<caption>Roots</caption>\n",
       "<tr>\n",
       "    <td></td>   <th>            Real</th>  <th>         Imaginary</th> <th>         Modulus</th>  <th>        Frequency</th>\n",
       "</tr>\n",
       "<tr>\n",
       "  <th>AR.1</th> <td>           1.0403</td> <td>          -0.0000j</td> <td>           1.0403</td> <td>          -0.0000</td>\n",
       "</tr>\n",
       "<tr>\n",
       "  <th>AR.2</th> <td>           0.8385</td> <td>          -1.0210j</td> <td>           1.3211</td> <td>          -0.1406</td>\n",
       "</tr>\n",
       "<tr>\n",
       "  <th>AR.3</th> <td>           0.8385</td> <td>          +1.0210j</td> <td>           1.3211</td> <td>           0.1406</td>\n",
       "</tr>\n",
       "<tr>\n",
       "  <th>AR.4</th> <td>          -0.1916</td> <td>          -1.4566j</td> <td>           1.4691</td> <td>          -0.2708</td>\n",
       "</tr>\n",
       "<tr>\n",
       "  <th>AR.5</th> <td>          -0.1916</td> <td>          +1.4566j</td> <td>           1.4691</td> <td>           0.2708</td>\n",
       "</tr>\n",
       "<tr>\n",
       "  <th>AR.6</th> <td>          -1.3783</td> <td>          -0.7524j</td> <td>           1.5703</td> <td>          -0.4205</td>\n",
       "</tr>\n",
       "<tr>\n",
       "  <th>AR.7</th> <td>          -1.3783</td> <td>          +0.7524j</td> <td>           1.5703</td> <td>           0.4205</td>\n",
       "</tr>\n",
       "</table>"
      ],
      "text/plain": [
       "<class 'statsmodels.iolib.summary.Summary'>\n",
       "\"\"\"\n",
       "                              ARMA Model Results                              \n",
       "==============================================================================\n",
       "Dep. Variable:                   Temp   No. Observations:                 3650\n",
       "Model:                     ARMA(7, 0)   Log Likelihood               -8436.422\n",
       "Method:                       css-mle   S.D. of innovations              2.441\n",
       "Date:                Sat, 23 Jan 2021   AIC                          16890.843\n",
       "Time:                        13:28:46   BIC                          16946.666\n",
       "Sample:                             0   HQIC                         16910.723\n",
       "                                                                              \n",
       "==============================================================================\n",
       "                 coef    std err          z      P>|z|      [0.025      0.975]\n",
       "------------------------------------------------------------------------------\n",
       "const         11.2378      0.408     27.512      0.000      10.437      12.038\n",
       "ar.L1.Temp     0.6266      0.016     38.046      0.000       0.594       0.659\n",
       "ar.L2.Temp    -0.0740      0.019     -3.803      0.000      -0.112      -0.036\n",
       "ar.L3.Temp     0.0736      0.019      3.782      0.000       0.035       0.112\n",
       "ar.L4.Temp     0.0622      0.019      3.193      0.001       0.024       0.100\n",
       "ar.L5.Temp     0.0661      0.019      3.397      0.001       0.028       0.104\n",
       "ar.L6.Temp     0.0437      0.019      2.247      0.025       0.006       0.082\n",
       "ar.L7.Temp     0.1035      0.016      6.283      0.000       0.071       0.136\n",
       "                                    Roots                                    \n",
       "=============================================================================\n",
       "                  Real          Imaginary           Modulus         Frequency\n",
       "-----------------------------------------------------------------------------\n",
       "AR.1            1.0403           -0.0000j            1.0403           -0.0000\n",
       "AR.2            0.8385           -1.0210j            1.3211           -0.1406\n",
       "AR.3            0.8385           +1.0210j            1.3211            0.1406\n",
       "AR.4           -0.1916           -1.4566j            1.4691           -0.2708\n",
       "AR.5           -0.1916           +1.4566j            1.4691            0.2708\n",
       "AR.6           -1.3783           -0.7524j            1.5703           -0.4205\n",
       "AR.7           -1.3783           +0.7524j            1.5703            0.4205\n",
       "-----------------------------------------------------------------------------\n",
       "\"\"\""
      ]
     },
     "execution_count": 24,
     "metadata": {},
     "output_type": "execute_result"
    }
   ],
   "source": [
    "model_ar_7 = ARMA(df_copy['Temp'],order=(7,0))\n",
    "result_ar_7 = model_ar_7.fit()\n",
    "result_ar_7.summary()"
   ]
  },
  {
   "cell_type": "code",
   "execution_count": 25,
   "metadata": {},
   "outputs": [
    {
     "name": "stderr",
     "output_type": "stream",
     "text": [
      "/opt/anaconda3/lib/python3.8/site-packages/statsmodels/tsa/base/tsa_model.py:216: ValueWarning: A date index has been provided, but it has no associated frequency information and so will be ignored when e.g. forecasting.\n",
      "  warnings.warn('A date index has been provided, but it has no'\n"
     ]
    },
    {
     "data": {
      "text/html": [
       "<table class=\"simpletable\">\n",
       "<caption>ARMA Model Results</caption>\n",
       "<tr>\n",
       "  <th>Dep. Variable:</th>       <td>Temp</td>       <th>  No. Observations:  </th>   <td>3650</td>   \n",
       "</tr>\n",
       "<tr>\n",
       "  <th>Model:</th>            <td>ARMA(8, 0)</td>    <th>  Log Likelihood     </th> <td>-8426.139</td>\n",
       "</tr>\n",
       "<tr>\n",
       "  <th>Method:</th>             <td>css-mle</td>     <th>  S.D. of innovations</th>   <td>2.434</td>  \n",
       "</tr>\n",
       "<tr>\n",
       "  <th>Date:</th>          <td>Sat, 23 Jan 2021</td> <th>  AIC                </th> <td>16872.277</td>\n",
       "</tr>\n",
       "<tr>\n",
       "  <th>Time:</th>              <td>13:28:48</td>     <th>  BIC                </th> <td>16934.302</td>\n",
       "</tr>\n",
       "<tr>\n",
       "  <th>Sample:</th>                <td>0</td>        <th>  HQIC               </th> <td>16894.366</td>\n",
       "</tr>\n",
       "<tr>\n",
       "  <th></th>                       <td> </td>        <th>                     </th>     <td> </td>    \n",
       "</tr>\n",
       "</table>\n",
       "<table class=\"simpletable\">\n",
       "<tr>\n",
       "       <td></td>         <th>coef</th>     <th>std err</th>      <th>z</th>      <th>P>|z|</th>  <th>[0.025</th>    <th>0.975]</th>  \n",
       "</tr>\n",
       "<tr>\n",
       "  <th>const</th>      <td>   11.2474</td> <td>    0.440</td> <td>   25.543</td> <td> 0.000</td> <td>   10.384</td> <td>   12.110</td>\n",
       "</tr>\n",
       "<tr>\n",
       "  <th>ar.L1.Temp</th> <td>    0.6188</td> <td>    0.017</td> <td>   37.482</td> <td> 0.000</td> <td>    0.586</td> <td>    0.651</td>\n",
       "</tr>\n",
       "<tr>\n",
       "  <th>ar.L2.Temp</th> <td>   -0.0773</td> <td>    0.019</td> <td>   -3.982</td> <td> 0.000</td> <td>   -0.115</td> <td>   -0.039</td>\n",
       "</tr>\n",
       "<tr>\n",
       "  <th>ar.L3.Temp</th> <td>    0.0687</td> <td>    0.019</td> <td>    3.533</td> <td> 0.000</td> <td>    0.031</td> <td>    0.107</td>\n",
       "</tr>\n",
       "<tr>\n",
       "  <th>ar.L4.Temp</th> <td>    0.0576</td> <td>    0.019</td> <td>    2.959</td> <td> 0.003</td> <td>    0.019</td> <td>    0.096</td>\n",
       "</tr>\n",
       "<tr>\n",
       "  <th>ar.L5.Temp</th> <td>    0.0606</td> <td>    0.019</td> <td>    3.114</td> <td> 0.002</td> <td>    0.022</td> <td>    0.099</td>\n",
       "</tr>\n",
       "<tr>\n",
       "  <th>ar.L6.Temp</th> <td>    0.0493</td> <td>    0.019</td> <td>    2.538</td> <td> 0.011</td> <td>    0.011</td> <td>    0.087</td>\n",
       "</tr>\n",
       "<tr>\n",
       "  <th>ar.L7.Temp</th> <td>    0.0565</td> <td>    0.019</td> <td>    2.912</td> <td> 0.004</td> <td>    0.018</td> <td>    0.095</td>\n",
       "</tr>\n",
       "<tr>\n",
       "  <th>ar.L8.Temp</th> <td>    0.0750</td> <td>    0.017</td> <td>    4.541</td> <td> 0.000</td> <td>    0.043</td> <td>    0.107</td>\n",
       "</tr>\n",
       "</table>\n",
       "<table class=\"simpletable\">\n",
       "<caption>Roots</caption>\n",
       "<tr>\n",
       "    <td></td>   <th>            Real</th>  <th>         Imaginary</th> <th>         Modulus</th>  <th>        Frequency</th>\n",
       "</tr>\n",
       "<tr>\n",
       "  <th>AR.1</th> <td>           1.0339</td> <td>          -0.0000j</td> <td>           1.0339</td> <td>          -0.0000</td>\n",
       "</tr>\n",
       "<tr>\n",
       "  <th>AR.2</th> <td>           0.8984</td> <td>          -0.9250j</td> <td>           1.2895</td> <td>          -0.1273</td>\n",
       "</tr>\n",
       "<tr>\n",
       "  <th>AR.3</th> <td>           0.8984</td> <td>          +0.9250j</td> <td>           1.2895</td> <td>           0.1273</td>\n",
       "</tr>\n",
       "<tr>\n",
       "  <th>AR.4</th> <td>           0.0697</td> <td>          -1.4142j</td> <td>           1.4159</td> <td>          -0.2422</td>\n",
       "</tr>\n",
       "<tr>\n",
       "  <th>AR.5</th> <td>           0.0697</td> <td>          +1.4142j</td> <td>           1.4159</td> <td>           0.2422</td>\n",
       "</tr>\n",
       "<tr>\n",
       "  <th>AR.6</th> <td>          -1.6184</td> <td>          -0.0000j</td> <td>           1.6184</td> <td>          -0.5000</td>\n",
       "</tr>\n",
       "<tr>\n",
       "  <th>AR.7</th> <td>          -1.0526</td> <td>          -1.1325j</td> <td>           1.5461</td> <td>          -0.3692</td>\n",
       "</tr>\n",
       "<tr>\n",
       "  <th>AR.8</th> <td>          -1.0526</td> <td>          +1.1325j</td> <td>           1.5461</td> <td>           0.3692</td>\n",
       "</tr>\n",
       "</table>"
      ],
      "text/plain": [
       "<class 'statsmodels.iolib.summary.Summary'>\n",
       "\"\"\"\n",
       "                              ARMA Model Results                              \n",
       "==============================================================================\n",
       "Dep. Variable:                   Temp   No. Observations:                 3650\n",
       "Model:                     ARMA(8, 0)   Log Likelihood               -8426.139\n",
       "Method:                       css-mle   S.D. of innovations              2.434\n",
       "Date:                Sat, 23 Jan 2021   AIC                          16872.277\n",
       "Time:                        13:28:48   BIC                          16934.302\n",
       "Sample:                             0   HQIC                         16894.366\n",
       "                                                                              \n",
       "==============================================================================\n",
       "                 coef    std err          z      P>|z|      [0.025      0.975]\n",
       "------------------------------------------------------------------------------\n",
       "const         11.2474      0.440     25.543      0.000      10.384      12.110\n",
       "ar.L1.Temp     0.6188      0.017     37.482      0.000       0.586       0.651\n",
       "ar.L2.Temp    -0.0773      0.019     -3.982      0.000      -0.115      -0.039\n",
       "ar.L3.Temp     0.0687      0.019      3.533      0.000       0.031       0.107\n",
       "ar.L4.Temp     0.0576      0.019      2.959      0.003       0.019       0.096\n",
       "ar.L5.Temp     0.0606      0.019      3.114      0.002       0.022       0.099\n",
       "ar.L6.Temp     0.0493      0.019      2.538      0.011       0.011       0.087\n",
       "ar.L7.Temp     0.0565      0.019      2.912      0.004       0.018       0.095\n",
       "ar.L8.Temp     0.0750      0.017      4.541      0.000       0.043       0.107\n",
       "                                    Roots                                    \n",
       "=============================================================================\n",
       "                  Real          Imaginary           Modulus         Frequency\n",
       "-----------------------------------------------------------------------------\n",
       "AR.1            1.0339           -0.0000j            1.0339           -0.0000\n",
       "AR.2            0.8984           -0.9250j            1.2895           -0.1273\n",
       "AR.3            0.8984           +0.9250j            1.2895            0.1273\n",
       "AR.4            0.0697           -1.4142j            1.4159           -0.2422\n",
       "AR.5            0.0697           +1.4142j            1.4159            0.2422\n",
       "AR.6           -1.6184           -0.0000j            1.6184           -0.5000\n",
       "AR.7           -1.0526           -1.1325j            1.5461           -0.3692\n",
       "AR.8           -1.0526           +1.1325j            1.5461            0.3692\n",
       "-----------------------------------------------------------------------------\n",
       "\"\"\""
      ]
     },
     "execution_count": 25,
     "metadata": {},
     "output_type": "execute_result"
    }
   ],
   "source": [
    "model_ar_8 = ARMA(df_copy['Temp'],order=(8,0))\n",
    "result_ar_8 = model_ar_8.fit()\n",
    "result_ar_8.summary()"
   ]
  },
  {
   "cell_type": "code",
   "execution_count": 26,
   "metadata": {},
   "outputs": [
    {
     "ename": "NameError",
     "evalue": "name 'llr_test' is not defined",
     "output_type": "error",
     "traceback": [
      "\u001b[0;31m---------------------------------------------------------------------------\u001b[0m",
      "\u001b[0;31mNameError\u001b[0m                                 Traceback (most recent call last)",
      "\u001b[0;32m<ipython-input-26-83df52d7047a>\u001b[0m in \u001b[0;36m<module>\u001b[0;34m\u001b[0m\n\u001b[0;32m----> 1\u001b[0;31m \u001b[0mllr_test\u001b[0m\u001b[0;34m(\u001b[0m\u001b[0mmodel_ar_7\u001b[0m\u001b[0;34m,\u001b[0m\u001b[0mmodel_ar_8\u001b[0m\u001b[0;34m)\u001b[0m \u001b[0;31m# model 8 better than 7 ----- complex model better than the simpler one\u001b[0m\u001b[0;34m\u001b[0m\u001b[0;34m\u001b[0m\u001b[0m\n\u001b[0m",
      "\u001b[0;31mNameError\u001b[0m: name 'llr_test' is not defined"
     ]
    }
   ],
   "source": [
    "llr_test(model_ar_7,model_ar_8) # model 8 better than 7 ----- complex model better than the simpler one"
   ]
  },
  {
   "cell_type": "code",
   "execution_count": null,
   "metadata": {},
   "outputs": [],
   "source": []
  },
  {
   "cell_type": "markdown",
   "metadata": {},
   "source": [
    "### LLR test"
   ]
  },
  {
   "cell_type": "code",
   "execution_count": null,
   "metadata": {},
   "outputs": [],
   "source": [
    "def llr_test(model_1,model_2,df=1):\n",
    "    L1 = model_1.fit().llf\n",
    "    L2 = model_2.fit().llf\n",
    "    LR = (2*(L2-L1))\n",
    "    p = chi2.sf(LR,df).round(3)\n",
    "    return p"
   ]
  },
  {
   "cell_type": "code",
   "execution_count": null,
   "metadata": {},
   "outputs": [],
   "source": [
    "## comparing higher lag AR models"
   ]
  },
  {
   "cell_type": "code",
   "execution_count": null,
   "metadata": {},
   "outputs": [],
   "source": [
    "llr_test(model_ar_2,model_ar_5,df=3) # model 5 better than model 2"
   ]
  },
  {
   "cell_type": "code",
   "execution_count": null,
   "metadata": {},
   "outputs": [],
   "source": [
    "## higher the lag, better the AR model , especially when the data is non-stationary"
   ]
  },
  {
   "cell_type": "markdown",
   "metadata": {},
   "source": [
    "## Stationarity Check DFTest"
   ]
  },
  {
   "cell_type": "code",
   "execution_count": null,
   "metadata": {},
   "outputs": [],
   "source": [
    "sts.adfuller(df_copy.Temp)"
   ]
  },
  {
   "cell_type": "code",
   "execution_count": null,
   "metadata": {},
   "outputs": [],
   "source": [
    "# p-value > 0.05: Fail to reject the null hypothesis (H0), the data has a unit root and is non-stationary.\n",
    "# p-value <= 0.05: Reject the null hypothesis (H0), the data does not have a unit root and is stationary."
   ]
  },
  {
   "cell_type": "code",
   "execution_count": null,
   "metadata": {},
   "outputs": [],
   "source": [
    "## this suggest that the data is stationary"
   ]
  },
  {
   "cell_type": "code",
   "execution_count": null,
   "metadata": {},
   "outputs": [],
   "source": [
    "## residuals"
   ]
  },
  {
   "cell_type": "code",
   "execution_count": null,
   "metadata": {},
   "outputs": [],
   "source": [
    "df_copy['res_ar_8']=result_ar_8.resid\n",
    "sgt.plot_acf(df_copy.res_ar_8,lags=40,zero=False)\n",
    "plt.title('ACF for residuls of AR(8)',size=20)\n",
    "plt.show()"
   ]
  },
  {
   "cell_type": "code",
   "execution_count": null,
   "metadata": {},
   "outputs": [],
   "source": [
    "df_copy.res_ar_8.mean()"
   ]
  },
  {
   "cell_type": "code",
   "execution_count": null,
   "metadata": {},
   "outputs": [],
   "source": [
    "df_copy.res_ar_8.var()"
   ]
  },
  {
   "cell_type": "code",
   "execution_count": null,
   "metadata": {},
   "outputs": [],
   "source": [
    "df_copy.res_ar_8.plot(figsize=(20,5))\n",
    "plt.title('residual for ar(8)',size=20)\n",
    "plt.show()\n"
   ]
  },
  {
   "cell_type": "code",
   "execution_count": null,
   "metadata": {},
   "outputs": [],
   "source": []
  },
  {
   "cell_type": "code",
   "execution_count": null,
   "metadata": {},
   "outputs": [],
   "source": []
  },
  {
   "cell_type": "code",
   "execution_count": null,
   "metadata": {},
   "outputs": [],
   "source": []
  },
  {
   "cell_type": "code",
   "execution_count": 28,
   "metadata": {},
   "outputs": [],
   "source": [
    "## using Auto_arima to know the best model"
   ]
  },
  {
   "cell_type": "code",
   "execution_count": 32,
   "metadata": {},
   "outputs": [
    {
     "data": {
      "text/html": [
       "<table class=\"simpletable\">\n",
       "<caption>SARIMAX Results</caption>\n",
       "<tr>\n",
       "  <th>Dep. Variable:</th>                    <td>y</td>                 <th>  No. Observations:  </th>   <td>3650</td>   \n",
       "</tr>\n",
       "<tr>\n",
       "  <th>Model:</th>           <td>SARIMAX(1, 0, 1)x(2, 0, [1, 2], 5)</td> <th>  Log Likelihood     </th> <td>-8495.108</td>\n",
       "</tr>\n",
       "<tr>\n",
       "  <th>Date:</th>                     <td>Sat, 23 Jan 2021</td>          <th>  AIC                </th> <td>17006.216</td>\n",
       "</tr>\n",
       "<tr>\n",
       "  <th>Time:</th>                         <td>14:03:25</td>              <th>  BIC                </th> <td>17055.836</td>\n",
       "</tr>\n",
       "<tr>\n",
       "  <th>Sample:</th>                           <td>0</td>                 <th>  HQIC               </th> <td>17023.887</td>\n",
       "</tr>\n",
       "<tr>\n",
       "  <th></th>                               <td> - 3650</td>              <th>                     </th>     <td> </td>    \n",
       "</tr>\n",
       "<tr>\n",
       "  <th>Covariance Type:</th>                 <td>opg</td>                <th>                     </th>     <td> </td>    \n",
       "</tr>\n",
       "</table>\n",
       "<table class=\"simpletable\">\n",
       "<tr>\n",
       "      <td></td>         <th>coef</th>     <th>std err</th>      <th>z</th>      <th>P>|z|</th>  <th>[0.025</th>    <th>0.975]</th>  \n",
       "</tr>\n",
       "<tr>\n",
       "  <th>intercept</th> <td>    0.0859</td> <td>    0.010</td> <td>    8.667</td> <td> 0.000</td> <td>    0.066</td> <td>    0.105</td>\n",
       "</tr>\n",
       "<tr>\n",
       "  <th>ar.L1</th>     <td>    0.4428</td> <td>    0.027</td> <td>   16.508</td> <td> 0.000</td> <td>    0.390</td> <td>    0.495</td>\n",
       "</tr>\n",
       "<tr>\n",
       "  <th>ma.L1</th>     <td>    0.1390</td> <td>    0.030</td> <td>    4.602</td> <td> 0.000</td> <td>    0.080</td> <td>    0.198</td>\n",
       "</tr>\n",
       "<tr>\n",
       "  <th>ar.S.L5</th>   <td>    1.8842</td> <td>    0.019</td> <td>   98.734</td> <td> 0.000</td> <td>    1.847</td> <td>    1.922</td>\n",
       "</tr>\n",
       "<tr>\n",
       "  <th>ar.S.L10</th>  <td>   -0.8980</td> <td>    0.018</td> <td>  -49.528</td> <td> 0.000</td> <td>   -0.934</td> <td>   -0.862</td>\n",
       "</tr>\n",
       "<tr>\n",
       "  <th>ma.S.L5</th>   <td>   -1.8260</td> <td>    0.017</td> <td> -105.303</td> <td> 0.000</td> <td>   -1.860</td> <td>   -1.792</td>\n",
       "</tr>\n",
       "<tr>\n",
       "  <th>ma.S.L10</th>  <td>    0.8616</td> <td>    0.015</td> <td>   57.978</td> <td> 0.000</td> <td>    0.832</td> <td>    0.891</td>\n",
       "</tr>\n",
       "<tr>\n",
       "  <th>sigma2</th>    <td>    6.1192</td> <td>    0.140</td> <td>   43.713</td> <td> 0.000</td> <td>    5.845</td> <td>    6.394</td>\n",
       "</tr>\n",
       "</table>\n",
       "<table class=\"simpletable\">\n",
       "<tr>\n",
       "  <th>Ljung-Box (Q):</th>          <td>299.57</td> <th>  Jarque-Bera (JB):  </th> <td>10.00</td>\n",
       "</tr>\n",
       "<tr>\n",
       "  <th>Prob(Q):</th>                 <td>0.00</td>  <th>  Prob(JB):          </th> <td>0.01</td> \n",
       "</tr>\n",
       "<tr>\n",
       "  <th>Heteroskedasticity (H):</th>  <td>0.84</td>  <th>  Skew:              </th> <td>0.04</td> \n",
       "</tr>\n",
       "<tr>\n",
       "  <th>Prob(H) (two-sided):</th>     <td>0.00</td>  <th>  Kurtosis:          </th> <td>3.25</td> \n",
       "</tr>\n",
       "</table><br/><br/>Warnings:<br/>[1] Covariance matrix calculated using the outer product of gradients (complex-step)."
      ],
      "text/plain": [
       "<class 'statsmodels.iolib.summary.Summary'>\n",
       "\"\"\"\n",
       "                                       SARIMAX Results                                        \n",
       "==============================================================================================\n",
       "Dep. Variable:                                      y   No. Observations:                 3650\n",
       "Model:             SARIMAX(1, 0, 1)x(2, 0, [1, 2], 5)   Log Likelihood               -8495.108\n",
       "Date:                                Sat, 23 Jan 2021   AIC                          17006.216\n",
       "Time:                                        14:03:25   BIC                          17055.836\n",
       "Sample:                                             0   HQIC                         17023.887\n",
       "                                               - 3650                                         \n",
       "Covariance Type:                                  opg                                         \n",
       "==============================================================================\n",
       "                 coef    std err          z      P>|z|      [0.025      0.975]\n",
       "------------------------------------------------------------------------------\n",
       "intercept      0.0859      0.010      8.667      0.000       0.066       0.105\n",
       "ar.L1          0.4428      0.027     16.508      0.000       0.390       0.495\n",
       "ma.L1          0.1390      0.030      4.602      0.000       0.080       0.198\n",
       "ar.S.L5        1.8842      0.019     98.734      0.000       1.847       1.922\n",
       "ar.S.L10      -0.8980      0.018    -49.528      0.000      -0.934      -0.862\n",
       "ma.S.L5       -1.8260      0.017   -105.303      0.000      -1.860      -1.792\n",
       "ma.S.L10       0.8616      0.015     57.978      0.000       0.832       0.891\n",
       "sigma2         6.1192      0.140     43.713      0.000       5.845       6.394\n",
       "===================================================================================\n",
       "Ljung-Box (Q):                      299.57   Jarque-Bera (JB):                10.00\n",
       "Prob(Q):                              0.00   Prob(JB):                         0.01\n",
       "Heteroskedasticity (H):               0.84   Skew:                             0.04\n",
       "Prob(H) (two-sided):                  0.00   Kurtosis:                         3.25\n",
       "===================================================================================\n",
       "\n",
       "Warnings:\n",
       "[1] Covariance matrix calculated using the outer product of gradients (complex-step).\n",
       "\"\"\""
      ]
     },
     "execution_count": 32,
     "metadata": {},
     "output_type": "execute_result"
    }
   ],
   "source": [
    "model_auto_arima = auto_arima(df_copy.Temp,m=5,max_p=5, max_q=5)\n",
    "model_auto_arima.summary()"
   ]
  },
  {
   "cell_type": "code",
   "execution_count": 33,
   "metadata": {},
   "outputs": [],
   "source": [
    "## since the data is stationary, we donot have to go for integrated model\n",
    "## thus it is better to use SARMA model, "
   ]
  },
  {
   "cell_type": "markdown",
   "metadata": {},
   "source": [
    "### Split the data 80-20"
   ]
  },
  {
   "cell_type": "code",
   "execution_count": 39,
   "metadata": {},
   "outputs": [],
   "source": [
    "size = int(len(df_copy)*0.8)\n",
    "df = df_copy.iloc[:size]\n",
    "df_test = df_copy.iloc[size:]"
   ]
  },
  {
   "cell_type": "code",
   "execution_count": 44,
   "metadata": {},
   "outputs": [
    {
     "data": {
      "text/html": [
       "<div>\n",
       "<style scoped>\n",
       "    .dataframe tbody tr th:only-of-type {\n",
       "        vertical-align: middle;\n",
       "    }\n",
       "\n",
       "    .dataframe tbody tr th {\n",
       "        vertical-align: top;\n",
       "    }\n",
       "\n",
       "    .dataframe thead th {\n",
       "        text-align: right;\n",
       "    }\n",
       "</style>\n",
       "<table border=\"1\" class=\"dataframe\">\n",
       "  <thead>\n",
       "    <tr style=\"text-align: right;\">\n",
       "      <th></th>\n",
       "      <th>Temp</th>\n",
       "    </tr>\n",
       "    <tr>\n",
       "      <th>Date</th>\n",
       "      <th></th>\n",
       "    </tr>\n",
       "  </thead>\n",
       "  <tbody>\n",
       "    <tr>\n",
       "      <th>1988-12-26</th>\n",
       "      <td>9.5</td>\n",
       "    </tr>\n",
       "    <tr>\n",
       "      <th>1988-12-27</th>\n",
       "      <td>12.9</td>\n",
       "    </tr>\n",
       "    <tr>\n",
       "      <th>1988-12-28</th>\n",
       "      <td>12.9</td>\n",
       "    </tr>\n",
       "    <tr>\n",
       "      <th>1988-12-29</th>\n",
       "      <td>14.8</td>\n",
       "    </tr>\n",
       "    <tr>\n",
       "      <th>1988-12-30</th>\n",
       "      <td>14.1</td>\n",
       "    </tr>\n",
       "  </tbody>\n",
       "</table>\n",
       "</div>"
      ],
      "text/plain": [
       "            Temp\n",
       "Date            \n",
       "1988-12-26   9.5\n",
       "1988-12-27  12.9\n",
       "1988-12-28  12.9\n",
       "1988-12-29  14.8\n",
       "1988-12-30  14.1"
      ]
     },
     "execution_count": 44,
     "metadata": {},
     "output_type": "execute_result"
    }
   ],
   "source": [
    "df.tail()"
   ]
  },
  {
   "cell_type": "markdown",
   "metadata": {},
   "source": [
    "### Model Evaluation and Forecasting using SARMA model"
   ]
  },
  {
   "cell_type": "code",
   "execution_count": 46,
   "metadata": {},
   "outputs": [
    {
     "data": {
      "image/png": "[encoded data removed]",
      "text/plain": [
       "<Figure size 1440x360 with 1 Axes>"
      ]
     },
     "metadata": {},
     "output_type": "display_data"
    }
   ],
   "source": [
    "start_date = '1981-01-01'\n",
    "end_date = '1988-12-30'\n",
    "\n",
    "start_date_pred = '1989-01-01'\n",
    "end_date_pred = '1990-12-31'\n",
    "\n",
    "model_auto_pred = auto_arima(df_copy.Temp[start_date:end_date],m=5,max_p=5,max_q=5, max_P=5,max_Q=5)\n",
    "df_auto_pred = pd.DataFrame(model_auto_pred.predict(n_periods=len(df_copy[start_date_pred:end_date_pred])), index=df_copy[start_date_pred:end_date_pred].index)\n",
    "df_auto_pred[start_date_pred:end_date_pred].plot(figsize=(20,5),color='red')\n",
    "\n",
    "df_copy.Temp[start_date_pred:end_date_pred].plot(color='blue')\n",
    "plt.title('Predicted temp vs Actual Temp ',size=20)\n",
    "plt.show()"
   ]
  },
  {
   "cell_type": "code",
   "execution_count": 48,
   "metadata": {},
   "outputs": [],
   "source": [
    "## since we are using m=5, but in actual it should be 365 as after every 365 days the pattern repeats,, it shows the\n",
    "# deviation from actual value"
   ]
  },
  {
   "cell_type": "code",
   "execution_count": null,
   "metadata": {},
   "outputs": [],
   "source": [
    "# model_s_ar1_ma1= SARIMAX(df,order=(1,0,1),seasonal_order=(2,0,2,365))\n",
    "# result_s_ar1_ma1 = model_s_ar1_ma1.fit()\n",
    "# result_s_ar1_ma1.summary()\n"
   ]
  },
  {
   "cell_type": "code",
   "execution_count": null,
   "metadata": {},
   "outputs": [],
   "source": []
  }
 ],
 "metadata": {
  "kernelspec": {
   "display_name": "Python 3",
   "language": "python",
   "name": "python3"
  },
  "language_info": {
   "codemirror_mode": {
    "name": "ipython",
    "version": 3
   },
   "file_extension": ".py",
   "mimetype": "text/x-python",
   "name": "python",
   "nbconvert_exporter": "python",
   "pygments_lexer": "ipython3",
   "version": "3.8.3"
  }
 },
 "nbformat": 4,
 "nbformat_minor": 4
}
