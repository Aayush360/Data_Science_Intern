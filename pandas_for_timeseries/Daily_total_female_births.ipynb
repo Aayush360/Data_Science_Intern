{
 "cells": [
  {
   "cell_type": "code",
   "execution_count": 107,
   "metadata": {},
   "outputs": [],
   "source": [
    "import pandas as pd\n",
    "import numpy as np\n",
    "import matplotlib.pyplot as plt\n",
    "import seaborn as sns\n",
    "\n",
    "import statsmodels.graphics.tsaplots as sgt\n",
    "import statsmodels.tsa.stattools as sts\n",
    "from statsmodels.tsa.arima_model import ARMA\n",
    "from statsmodels.tsa.arima_model import ARIMA\n",
    "\n",
    "from scipy.stats.distributions import chi2\n",
    "from statsmodels.tsa.statespace.sarimax import SARIMAX\n",
    "from pmdarima.arima import auto_arima\n",
    "\n",
    "from math import sqrt\n",
    "sns.set()"
   ]
  },
  {
   "cell_type": "code",
   "execution_count": 2,
   "metadata": {},
   "outputs": [],
   "source": [
    "## load the data"
   ]
  },
  {
   "cell_type": "code",
   "execution_count": 18,
   "metadata": {},
   "outputs": [],
   "source": [
    "raw_data = pd.read_csv('dataset/daily-total-female-births.csv')\n",
    "df_copy = raw_data.copy()"
   ]
  },
  {
   "cell_type": "code",
   "execution_count": 19,
   "metadata": {},
   "outputs": [
    {
     "data": {
      "text/html": [
       "<div>\n",
       "<style scoped>\n",
       "    .dataframe tbody tr th:only-of-type {\n",
       "        vertical-align: middle;\n",
       "    }\n",
       "\n",
       "    .dataframe tbody tr th {\n",
       "        vertical-align: top;\n",
       "    }\n",
       "\n",
       "    .dataframe thead th {\n",
       "        text-align: right;\n",
       "    }\n",
       "</style>\n",
       "<table border=\"1\" class=\"dataframe\">\n",
       "  <thead>\n",
       "    <tr style=\"text-align: right;\">\n",
       "      <th></th>\n",
       "      <th>Date</th>\n",
       "      <th>Births</th>\n",
       "    </tr>\n",
       "  </thead>\n",
       "  <tbody>\n",
       "    <tr>\n",
       "      <th>0</th>\n",
       "      <td>1959-01-01</td>\n",
       "      <td>35</td>\n",
       "    </tr>\n",
       "    <tr>\n",
       "      <th>1</th>\n",
       "      <td>1959-01-02</td>\n",
       "      <td>32</td>\n",
       "    </tr>\n",
       "    <tr>\n",
       "      <th>2</th>\n",
       "      <td>1959-01-03</td>\n",
       "      <td>30</td>\n",
       "    </tr>\n",
       "    <tr>\n",
       "      <th>3</th>\n",
       "      <td>1959-01-04</td>\n",
       "      <td>31</td>\n",
       "    </tr>\n",
       "    <tr>\n",
       "      <th>4</th>\n",
       "      <td>1959-01-05</td>\n",
       "      <td>44</td>\n",
       "    </tr>\n",
       "  </tbody>\n",
       "</table>\n",
       "</div>"
      ],
      "text/plain": [
       "         Date  Births\n",
       "0  1959-01-01      35\n",
       "1  1959-01-02      32\n",
       "2  1959-01-03      30\n",
       "3  1959-01-04      31\n",
       "4  1959-01-05      44"
      ]
     },
     "execution_count": 19,
     "metadata": {},
     "output_type": "execute_result"
    }
   ],
   "source": [
    "df_copy.head() # data is in day-level"
   ]
  },
  {
   "cell_type": "code",
   "execution_count": 27,
   "metadata": {},
   "outputs": [
    {
     "data": {
      "text/html": [
       "<div>\n",
       "<style scoped>\n",
       "    .dataframe tbody tr th:only-of-type {\n",
       "        vertical-align: middle;\n",
       "    }\n",
       "\n",
       "    .dataframe tbody tr th {\n",
       "        vertical-align: top;\n",
       "    }\n",
       "\n",
       "    .dataframe thead th {\n",
       "        text-align: right;\n",
       "    }\n",
       "</style>\n",
       "<table border=\"1\" class=\"dataframe\">\n",
       "  <thead>\n",
       "    <tr style=\"text-align: right;\">\n",
       "      <th></th>\n",
       "      <th>Births</th>\n",
       "    </tr>\n",
       "  </thead>\n",
       "  <tbody>\n",
       "    <tr>\n",
       "      <th>count</th>\n",
       "      <td>365.000000</td>\n",
       "    </tr>\n",
       "    <tr>\n",
       "      <th>mean</th>\n",
       "      <td>41.980822</td>\n",
       "    </tr>\n",
       "    <tr>\n",
       "      <th>std</th>\n",
       "      <td>7.348257</td>\n",
       "    </tr>\n",
       "    <tr>\n",
       "      <th>min</th>\n",
       "      <td>23.000000</td>\n",
       "    </tr>\n",
       "    <tr>\n",
       "      <th>25%</th>\n",
       "      <td>37.000000</td>\n",
       "    </tr>\n",
       "    <tr>\n",
       "      <th>50%</th>\n",
       "      <td>42.000000</td>\n",
       "    </tr>\n",
       "    <tr>\n",
       "      <th>75%</th>\n",
       "      <td>46.000000</td>\n",
       "    </tr>\n",
       "    <tr>\n",
       "      <th>max</th>\n",
       "      <td>73.000000</td>\n",
       "    </tr>\n",
       "  </tbody>\n",
       "</table>\n",
       "</div>"
      ],
      "text/plain": [
       "           Births\n",
       "count  365.000000\n",
       "mean    41.980822\n",
       "std      7.348257\n",
       "min     23.000000\n",
       "25%     37.000000\n",
       "50%     42.000000\n",
       "75%     46.000000\n",
       "max     73.000000"
      ]
     },
     "execution_count": 27,
     "metadata": {},
     "output_type": "execute_result"
    }
   ],
   "source": [
    "df_copy.describe() # we have data for a single year"
   ]
  },
  {
   "cell_type": "code",
   "execution_count": 21,
   "metadata": {},
   "outputs": [
    {
     "data": {
      "text/plain": [
       "Date      0\n",
       "Births    0\n",
       "dtype: int64"
      ]
     },
     "execution_count": 21,
     "metadata": {},
     "output_type": "execute_result"
    }
   ],
   "source": [
    "# check for missing values\n",
    "df_copy.isna().sum()"
   ]
  },
  {
   "cell_type": "code",
   "execution_count": 25,
   "metadata": {},
   "outputs": [],
   "source": [
    "df_copy['Date']=pd.to_datetime(df_copy['Date'])\n",
    "df_copy.set_index('Date',inplace=True)"
   ]
  },
  {
   "cell_type": "code",
   "execution_count": 26,
   "metadata": {},
   "outputs": [
    {
     "data": {
      "image/png": "[encoded data removed]",
      "text/plain": [
       "<Figure size 1440x360 with 1 Axes>"
      ]
     },
     "metadata": {},
     "output_type": "display_data"
    }
   ],
   "source": [
    "df_copy['Births'].plot(figsize=(20,5))\n",
    "plt.xlabel('time')\n",
    "plt.ylabel('Number of Births per day')\n",
    "plt.show()"
   ]
  },
  {
   "cell_type": "code",
   "execution_count": 28,
   "metadata": {},
   "outputs": [],
   "source": [
    "# data seems to be normally distributed around the mean of 42\n",
    "## there seems to be more birth in the month of sept-october"
   ]
  },
  {
   "cell_type": "code",
   "execution_count": 30,
   "metadata": {},
   "outputs": [
    {
     "data": {
      "image/png": "[encoded data removed]",
      "text/plain": [
       "<Figure size 432x288 with 1 Axes>"
      ]
     },
     "metadata": {},
     "output_type": "display_data"
    }
   ],
   "source": [
    "# plotting the autocorrelation\n",
    "sgt.plot_acf(df_copy.Births,lags=40,zero=False)\n",
    "plt.title('ACF for Births',size=20)\n",
    "plt.show()\n",
    "\n",
    "# more or less random ,, so no autocorreation"
   ]
  },
  {
   "cell_type": "code",
   "execution_count": 32,
   "metadata": {},
   "outputs": [
    {
     "data": {
      "image/png": "[encoded data removed]",
      "text/plain": [
       "<Figure size 432x288 with 1 Axes>"
      ]
     },
     "metadata": {},
     "output_type": "display_data"
    }
   ],
   "source": [
    "sgt.plot_pacf(df_copy.Births,lags=40,zero=False)\n",
    "plt.title('PACF for Births',size=20)\n",
    "plt.show()\n",
    "\n",
    "## only seems to be significant upto 2nd lag"
   ]
  },
  {
   "cell_type": "code",
   "execution_count": 33,
   "metadata": {},
   "outputs": [
    {
     "data": {
      "text/plain": [
       "(-4.808291253559764,\n",
       " 5.2434129901498554e-05,\n",
       " 6,\n",
       " 358,\n",
       " {'1%': -3.448748905151901,\n",
       "  '5%': -2.8696473721448728,\n",
       "  '10%': -2.5710891239349585},\n",
       " 2343.8290926464197)"
      ]
     },
     "execution_count": 33,
     "metadata": {},
     "output_type": "execute_result"
    }
   ],
   "source": [
    "sts.adfuller(df_copy.Births)"
   ]
  },
  {
   "cell_type": "code",
   "execution_count": 34,
   "metadata": {},
   "outputs": [],
   "source": [
    "## since p-value <0.05, we say that the data comes from the stationary process"
   ]
  },
  {
   "cell_type": "markdown",
   "metadata": {},
   "source": [
    "## The AR(1) model"
   ]
  },
  {
   "cell_type": "code",
   "execution_count": 35,
   "metadata": {},
   "outputs": [
    {
     "name": "stderr",
     "output_type": "stream",
     "text": [
      "/opt/anaconda3/lib/python3.8/site-packages/statsmodels/tsa/base/tsa_model.py:159: ValueWarning: No frequency information was provided, so inferred frequency D will be used.\n",
      "  warnings.warn('No frequency information was'\n"
     ]
    },
    {
     "data": {
      "text/html": [
       "<table class=\"simpletable\">\n",
       "<caption>ARMA Model Results</caption>\n",
       "<tr>\n",
       "  <th>Dep. Variable:</th>      <td>Births</td>      <th>  No. Observations:  </th>    <td>365</td>   \n",
       "</tr>\n",
       "<tr>\n",
       "  <th>Model:</th>            <td>ARMA(1, 0)</td>    <th>  Log Likelihood     </th> <td>-1236.540</td>\n",
       "</tr>\n",
       "<tr>\n",
       "  <th>Method:</th>             <td>css-mle</td>     <th>  S.D. of innovations</th>   <td>7.162</td>  \n",
       "</tr>\n",
       "<tr>\n",
       "  <th>Date:</th>          <td>Tue, 26 Jan 2021</td> <th>  AIC                </th> <td>2479.081</td> \n",
       "</tr>\n",
       "<tr>\n",
       "  <th>Time:</th>              <td>10:42:32</td>     <th>  BIC                </th> <td>2490.780</td> \n",
       "</tr>\n",
       "<tr>\n",
       "  <th>Sample:</th>           <td>01-01-1959</td>    <th>  HQIC               </th> <td>2483.730</td> \n",
       "</tr>\n",
       "<tr>\n",
       "  <th></th>                 <td>- 12-31-1959</td>   <th>                     </th>     <td> </td>    \n",
       "</tr>\n",
       "</table>\n",
       "<table class=\"simpletable\">\n",
       "<tr>\n",
       "        <td></td>          <th>coef</th>     <th>std err</th>      <th>z</th>      <th>P>|z|</th>  <th>[0.025</th>    <th>0.975]</th>  \n",
       "</tr>\n",
       "<tr>\n",
       "  <th>const</th>        <td>   41.9816</td> <td>    0.479</td> <td>   87.654</td> <td> 0.000</td> <td>   41.043</td> <td>   42.920</td>\n",
       "</tr>\n",
       "<tr>\n",
       "  <th>ar.L1.Births</th> <td>    0.2179</td> <td>    0.051</td> <td>    4.260</td> <td> 0.000</td> <td>    0.118</td> <td>    0.318</td>\n",
       "</tr>\n",
       "</table>\n",
       "<table class=\"simpletable\">\n",
       "<caption>Roots</caption>\n",
       "<tr>\n",
       "    <td></td>   <th>            Real</th>  <th>         Imaginary</th> <th>         Modulus</th>  <th>        Frequency</th>\n",
       "</tr>\n",
       "<tr>\n",
       "  <th>AR.1</th> <td>           4.5893</td> <td>          +0.0000j</td> <td>           4.5893</td> <td>           0.0000</td>\n",
       "</tr>\n",
       "</table>"
      ],
      "text/plain": [
       "<class 'statsmodels.iolib.summary.Summary'>\n",
       "\"\"\"\n",
       "                              ARMA Model Results                              \n",
       "==============================================================================\n",
       "Dep. Variable:                 Births   No. Observations:                  365\n",
       "Model:                     ARMA(1, 0)   Log Likelihood               -1236.540\n",
       "Method:                       css-mle   S.D. of innovations              7.162\n",
       "Date:                Tue, 26 Jan 2021   AIC                           2479.081\n",
       "Time:                        10:42:32   BIC                           2490.780\n",
       "Sample:                    01-01-1959   HQIC                          2483.730\n",
       "                         - 12-31-1959                                         \n",
       "================================================================================\n",
       "                   coef    std err          z      P>|z|      [0.025      0.975]\n",
       "--------------------------------------------------------------------------------\n",
       "const           41.9816      0.479     87.654      0.000      41.043      42.920\n",
       "ar.L1.Births     0.2179      0.051      4.260      0.000       0.118       0.318\n",
       "                                    Roots                                    \n",
       "=============================================================================\n",
       "                  Real          Imaginary           Modulus         Frequency\n",
       "-----------------------------------------------------------------------------\n",
       "AR.1            4.5893           +0.0000j            4.5893            0.0000\n",
       "-----------------------------------------------------------------------------\n",
       "\"\"\""
      ]
     },
     "execution_count": 35,
     "metadata": {},
     "output_type": "execute_result"
    }
   ],
   "source": [
    "model_ar_1 = ARMA(df_copy.Births,order=(1,0))\n",
    "result_ar_1 = model_ar_1.fit()\n",
    "result_ar_1.summary()"
   ]
  },
  {
   "cell_type": "code",
   "execution_count": 36,
   "metadata": {},
   "outputs": [
    {
     "name": "stderr",
     "output_type": "stream",
     "text": [
      "/opt/anaconda3/lib/python3.8/site-packages/statsmodels/tsa/base/tsa_model.py:159: ValueWarning: No frequency information was provided, so inferred frequency D will be used.\n",
      "  warnings.warn('No frequency information was'\n"
     ]
    },
    {
     "data": {
      "text/html": [
       "<table class=\"simpletable\">\n",
       "<caption>ARMA Model Results</caption>\n",
       "<tr>\n",
       "  <th>Dep. Variable:</th>      <td>Births</td>      <th>  No. Observations:  </th>    <td>365</td>   \n",
       "</tr>\n",
       "<tr>\n",
       "  <th>Model:</th>            <td>ARMA(2, 0)</td>    <th>  Log Likelihood     </th> <td>-1234.182</td>\n",
       "</tr>\n",
       "<tr>\n",
       "  <th>Method:</th>             <td>css-mle</td>     <th>  S.D. of innovations</th>   <td>7.116</td>  \n",
       "</tr>\n",
       "<tr>\n",
       "  <th>Date:</th>          <td>Tue, 26 Jan 2021</td> <th>  AIC                </th> <td>2476.364</td> \n",
       "</tr>\n",
       "<tr>\n",
       "  <th>Time:</th>              <td>10:42:59</td>     <th>  BIC                </th> <td>2491.963</td> \n",
       "</tr>\n",
       "<tr>\n",
       "  <th>Sample:</th>           <td>01-01-1959</td>    <th>  HQIC               </th> <td>2482.563</td> \n",
       "</tr>\n",
       "<tr>\n",
       "  <th></th>                 <td>- 12-31-1959</td>   <th>                     </th>     <td> </td>    \n",
       "</tr>\n",
       "</table>\n",
       "<table class=\"simpletable\">\n",
       "<tr>\n",
       "        <td></td>          <th>coef</th>     <th>std err</th>      <th>z</th>      <th>P>|z|</th>  <th>[0.025</th>    <th>0.975]</th>  \n",
       "</tr>\n",
       "<tr>\n",
       "  <th>const</th>        <td>   41.9835</td> <td>    0.537</td> <td>   78.149</td> <td> 0.000</td> <td>   40.931</td> <td>   43.036</td>\n",
       "</tr>\n",
       "<tr>\n",
       "  <th>ar.L1.Births</th> <td>    0.1939</td> <td>    0.052</td> <td>    3.731</td> <td> 0.000</td> <td>    0.092</td> <td>    0.296</td>\n",
       "</tr>\n",
       "<tr>\n",
       "  <th>ar.L2.Births</th> <td>    0.1139</td> <td>    0.052</td> <td>    2.179</td> <td> 0.029</td> <td>    0.011</td> <td>    0.216</td>\n",
       "</tr>\n",
       "</table>\n",
       "<table class=\"simpletable\">\n",
       "<caption>Roots</caption>\n",
       "<tr>\n",
       "    <td></td>   <th>            Real</th>  <th>         Imaginary</th> <th>         Modulus</th>  <th>        Frequency</th>\n",
       "</tr>\n",
       "<tr>\n",
       "  <th>AR.1</th> <td>           2.2313</td> <td>          +0.0000j</td> <td>           2.2313</td> <td>           0.0000</td>\n",
       "</tr>\n",
       "<tr>\n",
       "  <th>AR.2</th> <td>          -3.9335</td> <td>          +0.0000j</td> <td>           3.9335</td> <td>           0.5000</td>\n",
       "</tr>\n",
       "</table>"
      ],
      "text/plain": [
       "<class 'statsmodels.iolib.summary.Summary'>\n",
       "\"\"\"\n",
       "                              ARMA Model Results                              \n",
       "==============================================================================\n",
       "Dep. Variable:                 Births   No. Observations:                  365\n",
       "Model:                     ARMA(2, 0)   Log Likelihood               -1234.182\n",
       "Method:                       css-mle   S.D. of innovations              7.116\n",
       "Date:                Tue, 26 Jan 2021   AIC                           2476.364\n",
       "Time:                        10:42:59   BIC                           2491.963\n",
       "Sample:                    01-01-1959   HQIC                          2482.563\n",
       "                         - 12-31-1959                                         \n",
       "================================================================================\n",
       "                   coef    std err          z      P>|z|      [0.025      0.975]\n",
       "--------------------------------------------------------------------------------\n",
       "const           41.9835      0.537     78.149      0.000      40.931      43.036\n",
       "ar.L1.Births     0.1939      0.052      3.731      0.000       0.092       0.296\n",
       "ar.L2.Births     0.1139      0.052      2.179      0.029       0.011       0.216\n",
       "                                    Roots                                    \n",
       "=============================================================================\n",
       "                  Real          Imaginary           Modulus         Frequency\n",
       "-----------------------------------------------------------------------------\n",
       "AR.1            2.2313           +0.0000j            2.2313            0.0000\n",
       "AR.2           -3.9335           +0.0000j            3.9335            0.5000\n",
       "-----------------------------------------------------------------------------\n",
       "\"\"\""
      ]
     },
     "execution_count": 36,
     "metadata": {},
     "output_type": "execute_result"
    }
   ],
   "source": [
    "model_ar_1 = ARMA(df_copy.Births,order=(2,0))\n",
    "result_ar_1 = model_ar_1.fit()\n",
    "result_ar_1.summary()"
   ]
  },
  {
   "cell_type": "code",
   "execution_count": 37,
   "metadata": {},
   "outputs": [],
   "source": [
    "## the second lag is not significant "
   ]
  },
  {
   "cell_type": "code",
   "execution_count": 38,
   "metadata": {},
   "outputs": [
    {
     "name": "stderr",
     "output_type": "stream",
     "text": [
      "/opt/anaconda3/lib/python3.8/site-packages/statsmodels/tsa/base/tsa_model.py:159: ValueWarning: No frequency information was provided, so inferred frequency D will be used.\n",
      "  warnings.warn('No frequency information was'\n"
     ]
    },
    {
     "data": {
      "text/html": [
       "<table class=\"simpletable\">\n",
       "<caption>ARMA Model Results</caption>\n",
       "<tr>\n",
       "  <th>Dep. Variable:</th>      <td>Births</td>      <th>  No. Observations:  </th>    <td>365</td>   \n",
       "</tr>\n",
       "<tr>\n",
       "  <th>Model:</th>            <td>ARMA(3, 0)</td>    <th>  Log Likelihood     </th> <td>-1233.500</td>\n",
       "</tr>\n",
       "<tr>\n",
       "  <th>Method:</th>             <td>css-mle</td>     <th>  S.D. of innovations</th>   <td>7.102</td>  \n",
       "</tr>\n",
       "<tr>\n",
       "  <th>Date:</th>          <td>Tue, 26 Jan 2021</td> <th>  AIC                </th> <td>2476.999</td> \n",
       "</tr>\n",
       "<tr>\n",
       "  <th>Time:</th>              <td>10:43:22</td>     <th>  BIC                </th> <td>2496.499</td> \n",
       "</tr>\n",
       "<tr>\n",
       "  <th>Sample:</th>           <td>01-01-1959</td>    <th>  HQIC               </th> <td>2484.748</td> \n",
       "</tr>\n",
       "<tr>\n",
       "  <th></th>                 <td>- 12-31-1959</td>   <th>                     </th>     <td> </td>    \n",
       "</tr>\n",
       "</table>\n",
       "<table class=\"simpletable\">\n",
       "<tr>\n",
       "        <td></td>          <th>coef</th>     <th>std err</th>      <th>z</th>      <th>P>|z|</th>  <th>[0.025</th>    <th>0.975]</th>  \n",
       "</tr>\n",
       "<tr>\n",
       "  <th>const</th>        <td>   41.9829</td> <td>    0.572</td> <td>   73.410</td> <td> 0.000</td> <td>   40.862</td> <td>   43.104</td>\n",
       "</tr>\n",
       "<tr>\n",
       "  <th>ar.L1.Births</th> <td>    0.1872</td> <td>    0.052</td> <td>    3.585</td> <td> 0.000</td> <td>    0.085</td> <td>    0.289</td>\n",
       "</tr>\n",
       "<tr>\n",
       "  <th>ar.L2.Births</th> <td>    0.1029</td> <td>    0.053</td> <td>    1.940</td> <td> 0.052</td> <td>   -0.001</td> <td>    0.207</td>\n",
       "</tr>\n",
       "<tr>\n",
       "  <th>ar.L3.Births</th> <td>    0.0615</td> <td>    0.053</td> <td>    1.169</td> <td> 0.242</td> <td>   -0.042</td> <td>    0.165</td>\n",
       "</tr>\n",
       "</table>\n",
       "<table class=\"simpletable\">\n",
       "<caption>Roots</caption>\n",
       "<tr>\n",
       "    <td></td>   <th>            Real</th>  <th>         Imaginary</th> <th>         Modulus</th>  <th>        Frequency</th>\n",
       "</tr>\n",
       "<tr>\n",
       "  <th>AR.1</th> <td>           1.7747</td> <td>          -0.0000j</td> <td>           1.7747</td> <td>          -0.0000</td>\n",
       "</tr>\n",
       "<tr>\n",
       "  <th>AR.2</th> <td>          -1.7239</td> <td>          -2.4881j</td> <td>           3.0270</td> <td>          -0.3464</td>\n",
       "</tr>\n",
       "<tr>\n",
       "  <th>AR.3</th> <td>          -1.7239</td> <td>          +2.4881j</td> <td>           3.0270</td> <td>           0.3464</td>\n",
       "</tr>\n",
       "</table>"
      ],
      "text/plain": [
       "<class 'statsmodels.iolib.summary.Summary'>\n",
       "\"\"\"\n",
       "                              ARMA Model Results                              \n",
       "==============================================================================\n",
       "Dep. Variable:                 Births   No. Observations:                  365\n",
       "Model:                     ARMA(3, 0)   Log Likelihood               -1233.500\n",
       "Method:                       css-mle   S.D. of innovations              7.102\n",
       "Date:                Tue, 26 Jan 2021   AIC                           2476.999\n",
       "Time:                        10:43:22   BIC                           2496.499\n",
       "Sample:                    01-01-1959   HQIC                          2484.748\n",
       "                         - 12-31-1959                                         \n",
       "================================================================================\n",
       "                   coef    std err          z      P>|z|      [0.025      0.975]\n",
       "--------------------------------------------------------------------------------\n",
       "const           41.9829      0.572     73.410      0.000      40.862      43.104\n",
       "ar.L1.Births     0.1872      0.052      3.585      0.000       0.085       0.289\n",
       "ar.L2.Births     0.1029      0.053      1.940      0.052      -0.001       0.207\n",
       "ar.L3.Births     0.0615      0.053      1.169      0.242      -0.042       0.165\n",
       "                                    Roots                                    \n",
       "=============================================================================\n",
       "                  Real          Imaginary           Modulus         Frequency\n",
       "-----------------------------------------------------------------------------\n",
       "AR.1            1.7747           -0.0000j            1.7747           -0.0000\n",
       "AR.2           -1.7239           -2.4881j            3.0270           -0.3464\n",
       "AR.3           -1.7239           +2.4881j            3.0270            0.3464\n",
       "-----------------------------------------------------------------------------\n",
       "\"\"\""
      ]
     },
     "execution_count": 38,
     "metadata": {},
     "output_type": "execute_result"
    }
   ],
   "source": [
    "model_ar_1 = ARMA(df_copy.Births,order=(3,0))\n",
    "result_ar_1 = model_ar_1.fit()\n",
    "result_ar_1.summary()"
   ]
  },
  {
   "cell_type": "code",
   "execution_count": 39,
   "metadata": {},
   "outputs": [],
   "source": [
    "## thus AR model alone cannot fit this dataset well,, let us use MA model as well"
   ]
  },
  {
   "cell_type": "code",
   "execution_count": 42,
   "metadata": {},
   "outputs": [
    {
     "name": "stderr",
     "output_type": "stream",
     "text": [
      "/opt/anaconda3/lib/python3.8/site-packages/statsmodels/tsa/base/tsa_model.py:159: ValueWarning: No frequency information was provided, so inferred frequency D will be used.\n",
      "  warnings.warn('No frequency information was'\n"
     ]
    },
    {
     "data": {
      "text/html": [
       "<table class=\"simpletable\">\n",
       "<caption>ARMA Model Results</caption>\n",
       "<tr>\n",
       "  <th>Dep. Variable:</th>      <td>Births</td>      <th>  No. Observations:  </th>    <td>365</td>   \n",
       "</tr>\n",
       "<tr>\n",
       "  <th>Model:</th>            <td>ARMA(1, 1)</td>    <th>  Log Likelihood     </th> <td>-1230.453</td>\n",
       "</tr>\n",
       "<tr>\n",
       "  <th>Method:</th>             <td>css-mle</td>     <th>  S.D. of innovations</th>   <td>7.039</td>  \n",
       "</tr>\n",
       "<tr>\n",
       "  <th>Date:</th>          <td>Tue, 26 Jan 2021</td> <th>  AIC                </th> <td>2468.906</td> \n",
       "</tr>\n",
       "<tr>\n",
       "  <th>Time:</th>              <td>10:45:04</td>     <th>  BIC                </th> <td>2484.505</td> \n",
       "</tr>\n",
       "<tr>\n",
       "  <th>Sample:</th>           <td>01-01-1959</td>    <th>  HQIC               </th> <td>2475.105</td> \n",
       "</tr>\n",
       "<tr>\n",
       "  <th></th>                 <td>- 12-31-1959</td>   <th>                     </th>     <td> </td>    \n",
       "</tr>\n",
       "</table>\n",
       "<table class=\"simpletable\">\n",
       "<tr>\n",
       "        <td></td>          <th>coef</th>     <th>std err</th>      <th>z</th>      <th>P>|z|</th>  <th>[0.025</th>    <th>0.975]</th>  \n",
       "</tr>\n",
       "<tr>\n",
       "  <th>const</th>        <td>   41.8279</td> <td>    1.354</td> <td>   30.898</td> <td> 0.000</td> <td>   39.175</td> <td>   44.481</td>\n",
       "</tr>\n",
       "<tr>\n",
       "  <th>ar.L1.Births</th> <td>    0.9800</td> <td>    0.028</td> <td>   35.158</td> <td> 0.000</td> <td>    0.925</td> <td>    1.035</td>\n",
       "</tr>\n",
       "<tr>\n",
       "  <th>ma.L1.Births</th> <td>   -0.9199</td> <td>    0.065</td> <td>  -14.058</td> <td> 0.000</td> <td>   -1.048</td> <td>   -0.792</td>\n",
       "</tr>\n",
       "</table>\n",
       "<table class=\"simpletable\">\n",
       "<caption>Roots</caption>\n",
       "<tr>\n",
       "    <td></td>   <th>            Real</th>  <th>         Imaginary</th> <th>         Modulus</th>  <th>        Frequency</th>\n",
       "</tr>\n",
       "<tr>\n",
       "  <th>AR.1</th> <td>           1.0204</td> <td>          +0.0000j</td> <td>           1.0204</td> <td>           0.0000</td>\n",
       "</tr>\n",
       "<tr>\n",
       "  <th>MA.1</th> <td>           1.0871</td> <td>          +0.0000j</td> <td>           1.0871</td> <td>           0.0000</td>\n",
       "</tr>\n",
       "</table>"
      ],
      "text/plain": [
       "<class 'statsmodels.iolib.summary.Summary'>\n",
       "\"\"\"\n",
       "                              ARMA Model Results                              \n",
       "==============================================================================\n",
       "Dep. Variable:                 Births   No. Observations:                  365\n",
       "Model:                     ARMA(1, 1)   Log Likelihood               -1230.453\n",
       "Method:                       css-mle   S.D. of innovations              7.039\n",
       "Date:                Tue, 26 Jan 2021   AIC                           2468.906\n",
       "Time:                        10:45:04   BIC                           2484.505\n",
       "Sample:                    01-01-1959   HQIC                          2475.105\n",
       "                         - 12-31-1959                                         \n",
       "================================================================================\n",
       "                   coef    std err          z      P>|z|      [0.025      0.975]\n",
       "--------------------------------------------------------------------------------\n",
       "const           41.8279      1.354     30.898      0.000      39.175      44.481\n",
       "ar.L1.Births     0.9800      0.028     35.158      0.000       0.925       1.035\n",
       "ma.L1.Births    -0.9199      0.065    -14.058      0.000      -1.048      -0.792\n",
       "                                    Roots                                    \n",
       "=============================================================================\n",
       "                  Real          Imaginary           Modulus         Frequency\n",
       "-----------------------------------------------------------------------------\n",
       "AR.1            1.0204           +0.0000j            1.0204            0.0000\n",
       "MA.1            1.0871           +0.0000j            1.0871            0.0000\n",
       "-----------------------------------------------------------------------------\n",
       "\"\"\""
      ]
     },
     "execution_count": 42,
     "metadata": {},
     "output_type": "execute_result"
    }
   ],
   "source": [
    "model_ar_1_ma_1 = ARMA(df_copy.Births,order=(1,1))\n",
    "result_ar_1_ma_1 = model_ar_1_ma_1.fit()\n",
    "result_ar_1_ma_1.summary()"
   ]
  },
  {
   "cell_type": "code",
   "execution_count": 41,
   "metadata": {},
   "outputs": [],
   "source": [
    "## both ar and ma component are significant .. let us increase the lag"
   ]
  },
  {
   "cell_type": "code",
   "execution_count": 43,
   "metadata": {},
   "outputs": [
    {
     "name": "stderr",
     "output_type": "stream",
     "text": [
      "/opt/anaconda3/lib/python3.8/site-packages/statsmodels/tsa/base/tsa_model.py:159: ValueWarning: No frequency information was provided, so inferred frequency D will be used.\n",
      "  warnings.warn('No frequency information was'\n"
     ]
    },
    {
     "data": {
      "text/html": [
       "<table class=\"simpletable\">\n",
       "<caption>ARMA Model Results</caption>\n",
       "<tr>\n",
       "  <th>Dep. Variable:</th>      <td>Births</td>      <th>  No. Observations:  </th>    <td>365</td>   \n",
       "</tr>\n",
       "<tr>\n",
       "  <th>Model:</th>            <td>ARMA(2, 2)</td>    <th>  Log Likelihood     </th> <td>-1227.849</td>\n",
       "</tr>\n",
       "<tr>\n",
       "  <th>Method:</th>             <td>css-mle</td>     <th>  S.D. of innovations</th>   <td>6.969</td>  \n",
       "</tr>\n",
       "<tr>\n",
       "  <th>Date:</th>          <td>Tue, 26 Jan 2021</td> <th>  AIC                </th> <td>2467.698</td> \n",
       "</tr>\n",
       "<tr>\n",
       "  <th>Time:</th>              <td>10:45:29</td>     <th>  BIC                </th> <td>2491.097</td> \n",
       "</tr>\n",
       "<tr>\n",
       "  <th>Sample:</th>           <td>01-01-1959</td>    <th>  HQIC               </th> <td>2476.997</td> \n",
       "</tr>\n",
       "<tr>\n",
       "  <th></th>                 <td>- 12-31-1959</td>   <th>                     </th>     <td> </td>    \n",
       "</tr>\n",
       "</table>\n",
       "<table class=\"simpletable\">\n",
       "<tr>\n",
       "        <td></td>          <th>coef</th>     <th>std err</th>      <th>z</th>      <th>P>|z|</th>  <th>[0.025</th>    <th>0.975]</th>  \n",
       "</tr>\n",
       "<tr>\n",
       "  <th>const</th>        <td>   41.8158</td> <td>    1.394</td> <td>   29.989</td> <td> 0.000</td> <td>   39.083</td> <td>   44.549</td>\n",
       "</tr>\n",
       "<tr>\n",
       "  <th>ar.L1.Births</th> <td>    0.0201</td> <td>    0.027</td> <td>    0.731</td> <td> 0.465</td> <td>   -0.034</td> <td>    0.074</td>\n",
       "</tr>\n",
       "<tr>\n",
       "  <th>ar.L2.Births</th> <td>    0.9454</td> <td>    0.025</td> <td>   37.824</td> <td> 0.000</td> <td>    0.896</td> <td>    0.994</td>\n",
       "</tr>\n",
       "<tr>\n",
       "  <th>ma.L1.Births</th> <td>    0.0729</td> <td>    0.052</td> <td>    1.411</td> <td> 0.158</td> <td>   -0.028</td> <td>    0.174</td>\n",
       "</tr>\n",
       "<tr>\n",
       "  <th>ma.L2.Births</th> <td>   -0.9271</td> <td>    0.052</td> <td>  -17.972</td> <td> 0.000</td> <td>   -1.028</td> <td>   -0.826</td>\n",
       "</tr>\n",
       "</table>\n",
       "<table class=\"simpletable\">\n",
       "<caption>Roots</caption>\n",
       "<tr>\n",
       "    <td></td>   <th>            Real</th>  <th>         Imaginary</th> <th>         Modulus</th>  <th>        Frequency</th>\n",
       "</tr>\n",
       "<tr>\n",
       "  <th>AR.1</th> <td>           1.0179</td> <td>          +0.0000j</td> <td>           1.0179</td> <td>           0.0000</td>\n",
       "</tr>\n",
       "<tr>\n",
       "  <th>AR.2</th> <td>          -1.0392</td> <td>          +0.0000j</td> <td>           1.0392</td> <td>           0.5000</td>\n",
       "</tr>\n",
       "<tr>\n",
       "  <th>MA.1</th> <td>          -1.0000</td> <td>          +0.0000j</td> <td>           1.0000</td> <td>           0.5000</td>\n",
       "</tr>\n",
       "<tr>\n",
       "  <th>MA.2</th> <td>           1.0787</td> <td>          +0.0000j</td> <td>           1.0787</td> <td>           0.0000</td>\n",
       "</tr>\n",
       "</table>"
      ],
      "text/plain": [
       "<class 'statsmodels.iolib.summary.Summary'>\n",
       "\"\"\"\n",
       "                              ARMA Model Results                              \n",
       "==============================================================================\n",
       "Dep. Variable:                 Births   No. Observations:                  365\n",
       "Model:                     ARMA(2, 2)   Log Likelihood               -1227.849\n",
       "Method:                       css-mle   S.D. of innovations              6.969\n",
       "Date:                Tue, 26 Jan 2021   AIC                           2467.698\n",
       "Time:                        10:45:29   BIC                           2491.097\n",
       "Sample:                    01-01-1959   HQIC                          2476.997\n",
       "                         - 12-31-1959                                         \n",
       "================================================================================\n",
       "                   coef    std err          z      P>|z|      [0.025      0.975]\n",
       "--------------------------------------------------------------------------------\n",
       "const           41.8158      1.394     29.989      0.000      39.083      44.549\n",
       "ar.L1.Births     0.0201      0.027      0.731      0.465      -0.034       0.074\n",
       "ar.L2.Births     0.9454      0.025     37.824      0.000       0.896       0.994\n",
       "ma.L1.Births     0.0729      0.052      1.411      0.158      -0.028       0.174\n",
       "ma.L2.Births    -0.9271      0.052    -17.972      0.000      -1.028      -0.826\n",
       "                                    Roots                                    \n",
       "=============================================================================\n",
       "                  Real          Imaginary           Modulus         Frequency\n",
       "-----------------------------------------------------------------------------\n",
       "AR.1            1.0179           +0.0000j            1.0179            0.0000\n",
       "AR.2           -1.0392           +0.0000j            1.0392            0.5000\n",
       "MA.1           -1.0000           +0.0000j            1.0000            0.5000\n",
       "MA.2            1.0787           +0.0000j            1.0787            0.0000\n",
       "-----------------------------------------------------------------------------\n",
       "\"\"\""
      ]
     },
     "execution_count": 43,
     "metadata": {},
     "output_type": "execute_result"
    }
   ],
   "source": [
    "model_ar_2_ma_2 = ARMA(df_copy.Births,order=(2,2))\n",
    "result_ar_2_ma_2 = model_ar_2_ma_2.fit()\n",
    "result_ar_2_ma_2.summary()"
   ]
  },
  {
   "cell_type": "code",
   "execution_count": 44,
   "metadata": {},
   "outputs": [],
   "source": [
    "## first coeff of both AR and MA model are insignificant but the 2nd coeff are"
   ]
  },
  {
   "cell_type": "code",
   "execution_count": 45,
   "metadata": {},
   "outputs": [
    {
     "name": "stderr",
     "output_type": "stream",
     "text": [
      "/opt/anaconda3/lib/python3.8/site-packages/statsmodels/tsa/base/tsa_model.py:159: ValueWarning: No frequency information was provided, so inferred frequency D will be used.\n",
      "  warnings.warn('No frequency information was'\n",
      "/opt/anaconda3/lib/python3.8/site-packages/statsmodels/base/model.py:547: HessianInversionWarning: Inverting hessian failed, no bse or cov_params available\n",
      "  warn('Inverting hessian failed, no bse or cov_params '\n"
     ]
    },
    {
     "data": {
      "text/html": [
       "<table class=\"simpletable\">\n",
       "<caption>ARMA Model Results</caption>\n",
       "<tr>\n",
       "  <th>Dep. Variable:</th>      <td>Births</td>      <th>  No. Observations:  </th>    <td>365</td>   \n",
       "</tr>\n",
       "<tr>\n",
       "  <th>Model:</th>            <td>ARMA(3, 3)</td>    <th>  Log Likelihood     </th> <td>-1226.208</td>\n",
       "</tr>\n",
       "<tr>\n",
       "  <th>Method:</th>             <td>css-mle</td>     <th>  S.D. of innovations</th>   <td>6.921</td>  \n",
       "</tr>\n",
       "<tr>\n",
       "  <th>Date:</th>          <td>Tue, 26 Jan 2021</td> <th>  AIC                </th> <td>2468.416</td> \n",
       "</tr>\n",
       "<tr>\n",
       "  <th>Time:</th>              <td>10:46:27</td>     <th>  BIC                </th> <td>2499.616</td> \n",
       "</tr>\n",
       "<tr>\n",
       "  <th>Sample:</th>           <td>01-01-1959</td>    <th>  HQIC               </th> <td>2480.815</td> \n",
       "</tr>\n",
       "<tr>\n",
       "  <th></th>                 <td>- 12-31-1959</td>   <th>                     </th>     <td> </td>    \n",
       "</tr>\n",
       "</table>\n",
       "<table class=\"simpletable\">\n",
       "<tr>\n",
       "        <td></td>          <th>coef</th>     <th>std err</th>      <th>z</th>      <th>P>|z|</th>  <th>[0.025</th>    <th>0.975]</th>  \n",
       "</tr>\n",
       "<tr>\n",
       "  <th>const</th>        <td>   41.8105</td> <td>    1.424</td> <td>   29.356</td> <td> 0.000</td> <td>   39.019</td> <td>   44.602</td>\n",
       "</tr>\n",
       "<tr>\n",
       "  <th>ar.L1.Births</th> <td>    0.2911</td> <td>    0.029</td> <td>    9.929</td> <td> 0.000</td> <td>    0.234</td> <td>    0.349</td>\n",
       "</tr>\n",
       "<tr>\n",
       "  <th>ar.L2.Births</th> <td>   -0.2620</td> <td>    0.029</td> <td>   -8.908</td> <td> 0.000</td> <td>   -0.320</td> <td>   -0.204</td>\n",
       "</tr>\n",
       "<tr>\n",
       "  <th>ar.L3.Births</th> <td>    0.9288</td> <td>    0.025</td> <td>   36.811</td> <td> 0.000</td> <td>    0.879</td> <td>    0.978</td>\n",
       "</tr>\n",
       "<tr>\n",
       "  <th>ma.L1.Births</th> <td>   -0.1991</td> <td>    0.045</td> <td>   -4.440</td> <td> 0.000</td> <td>   -0.287</td> <td>   -0.111</td>\n",
       "</tr>\n",
       "<tr>\n",
       "  <th>ma.L2.Births</th> <td>    0.3164</td> <td>    0.036</td> <td>    8.855</td> <td> 0.000</td> <td>    0.246</td> <td>    0.386</td>\n",
       "</tr>\n",
       "<tr>\n",
       "  <th>ma.L3.Births</th> <td>   -0.9322</td> <td>    0.047</td> <td>  -19.790</td> <td> 0.000</td> <td>   -1.025</td> <td>   -0.840</td>\n",
       "</tr>\n",
       "</table>\n",
       "<table class=\"simpletable\">\n",
       "<caption>Roots</caption>\n",
       "<tr>\n",
       "    <td></td>   <th>            Real</th>  <th>         Imaginary</th> <th>         Modulus</th>  <th>        Frequency</th>\n",
       "</tr>\n",
       "<tr>\n",
       "  <th>AR.1</th> <td>           1.0162</td> <td>          -0.0000j</td> <td>           1.0162</td> <td>          -0.0000</td>\n",
       "</tr>\n",
       "<tr>\n",
       "  <th>AR.2</th> <td>          -0.3671</td> <td>          -0.9616j</td> <td>           1.0293</td> <td>          -0.3080</td>\n",
       "</tr>\n",
       "<tr>\n",
       "  <th>AR.3</th> <td>          -0.3671</td> <td>          +0.9616j</td> <td>           1.0293</td> <td>           0.3080</td>\n",
       "</tr>\n",
       "<tr>\n",
       "  <th>MA.1</th> <td>          -0.3666</td> <td>          -0.9304j</td> <td>           1.0001</td> <td>          -0.3097</td>\n",
       "</tr>\n",
       "<tr>\n",
       "  <th>MA.2</th> <td>          -0.3666</td> <td>          +0.9304j</td> <td>           1.0001</td> <td>           0.3097</td>\n",
       "</tr>\n",
       "<tr>\n",
       "  <th>MA.3</th> <td>           1.0726</td> <td>          -0.0000j</td> <td>           1.0726</td> <td>          -0.0000</td>\n",
       "</tr>\n",
       "</table>"
      ],
      "text/plain": [
       "<class 'statsmodels.iolib.summary.Summary'>\n",
       "\"\"\"\n",
       "                              ARMA Model Results                              \n",
       "==============================================================================\n",
       "Dep. Variable:                 Births   No. Observations:                  365\n",
       "Model:                     ARMA(3, 3)   Log Likelihood               -1226.208\n",
       "Method:                       css-mle   S.D. of innovations              6.921\n",
       "Date:                Tue, 26 Jan 2021   AIC                           2468.416\n",
       "Time:                        10:46:27   BIC                           2499.616\n",
       "Sample:                    01-01-1959   HQIC                          2480.815\n",
       "                         - 12-31-1959                                         \n",
       "================================================================================\n",
       "                   coef    std err          z      P>|z|      [0.025      0.975]\n",
       "--------------------------------------------------------------------------------\n",
       "const           41.8105      1.424     29.356      0.000      39.019      44.602\n",
       "ar.L1.Births     0.2911      0.029      9.929      0.000       0.234       0.349\n",
       "ar.L2.Births    -0.2620      0.029     -8.908      0.000      -0.320      -0.204\n",
       "ar.L3.Births     0.9288      0.025     36.811      0.000       0.879       0.978\n",
       "ma.L1.Births    -0.1991      0.045     -4.440      0.000      -0.287      -0.111\n",
       "ma.L2.Births     0.3164      0.036      8.855      0.000       0.246       0.386\n",
       "ma.L3.Births    -0.9322      0.047    -19.790      0.000      -1.025      -0.840\n",
       "                                    Roots                                    \n",
       "=============================================================================\n",
       "                  Real          Imaginary           Modulus         Frequency\n",
       "-----------------------------------------------------------------------------\n",
       "AR.1            1.0162           -0.0000j            1.0162           -0.0000\n",
       "AR.2           -0.3671           -0.9616j            1.0293           -0.3080\n",
       "AR.3           -0.3671           +0.9616j            1.0293            0.3080\n",
       "MA.1           -0.3666           -0.9304j            1.0001           -0.3097\n",
       "MA.2           -0.3666           +0.9304j            1.0001            0.3097\n",
       "MA.3            1.0726           -0.0000j            1.0726           -0.0000\n",
       "-----------------------------------------------------------------------------\n",
       "\"\"\""
      ]
     },
     "execution_count": 45,
     "metadata": {},
     "output_type": "execute_result"
    }
   ],
   "source": [
    "model_ar_3_ma_3 = ARMA(df_copy.Births,order=(3,3))\n",
    "result_ar_3_ma_3 = model_ar_3_ma_3.fit()\n",
    "result_ar_3_ma_3.summary()"
   ]
  },
  {
   "cell_type": "code",
   "execution_count": 46,
   "metadata": {},
   "outputs": [],
   "source": [
    "## the coeff are significant,, seems like a right direction to head for"
   ]
  },
  {
   "cell_type": "code",
   "execution_count": 56,
   "metadata": {},
   "outputs": [
    {
     "name": "stderr",
     "output_type": "stream",
     "text": [
      "/opt/anaconda3/lib/python3.8/site-packages/statsmodels/tsa/base/tsa_model.py:159: ValueWarning: No frequency information was provided, so inferred frequency D will be used.\n",
      "  warnings.warn('No frequency information was'\n",
      "/opt/anaconda3/lib/python3.8/site-packages/statsmodels/base/model.py:547: HessianInversionWarning: Inverting hessian failed, no bse or cov_params available\n",
      "  warn('Inverting hessian failed, no bse or cov_params '\n"
     ]
    },
    {
     "data": {
      "text/html": [
       "<table class=\"simpletable\">\n",
       "<caption>ARMA Model Results</caption>\n",
       "<tr>\n",
       "  <th>Dep. Variable:</th>      <td>Births</td>      <th>  No. Observations:  </th>    <td>365</td>   \n",
       "</tr>\n",
       "<tr>\n",
       "  <th>Model:</th>            <td>ARMA(4, 4)</td>    <th>  Log Likelihood     </th> <td>-1224.546</td>\n",
       "</tr>\n",
       "<tr>\n",
       "  <th>Method:</th>             <td>css-mle</td>     <th>  S.D. of innovations</th>   <td>6.873</td>  \n",
       "</tr>\n",
       "<tr>\n",
       "  <th>Date:</th>          <td>Tue, 26 Jan 2021</td> <th>  AIC                </th> <td>2469.092</td> \n",
       "</tr>\n",
       "<tr>\n",
       "  <th>Time:</th>              <td>10:54:57</td>     <th>  BIC                </th> <td>2508.091</td> \n",
       "</tr>\n",
       "<tr>\n",
       "  <th>Sample:</th>           <td>01-01-1959</td>    <th>  HQIC               </th> <td>2484.591</td> \n",
       "</tr>\n",
       "<tr>\n",
       "  <th></th>                 <td>- 12-31-1959</td>   <th>                     </th>     <td> </td>    \n",
       "</tr>\n",
       "</table>\n",
       "<table class=\"simpletable\">\n",
       "<tr>\n",
       "        <td></td>          <th>coef</th>     <th>std err</th>      <th>z</th>      <th>P>|z|</th>  <th>[0.025</th>    <th>0.975]</th>  \n",
       "</tr>\n",
       "<tr>\n",
       "  <th>const</th>        <td>   41.7989</td> <td>    1.422</td> <td>   29.399</td> <td> 0.000</td> <td>   39.012</td> <td>   44.586</td>\n",
       "</tr>\n",
       "<tr>\n",
       "  <th>ar.L1.Births</th> <td>   -0.9797</td> <td>    0.030</td> <td>  -32.747</td> <td> 0.000</td> <td>   -1.038</td> <td>   -0.921</td>\n",
       "</tr>\n",
       "<tr>\n",
       "  <th>ar.L2.Births</th> <td>   -0.0032</td> <td>    0.042</td> <td>   -0.076</td> <td> 0.939</td> <td>   -0.086</td> <td>    0.079</td>\n",
       "</tr>\n",
       "<tr>\n",
       "  <th>ar.L3.Births</th> <td>    0.9664</td> <td>    0.040</td> <td>   23.978</td> <td> 0.000</td> <td>    0.887</td> <td>    1.045</td>\n",
       "</tr>\n",
       "<tr>\n",
       "  <th>ar.L4.Births</th> <td>    0.9208</td> <td>    0.027</td> <td>   34.511</td> <td> 0.000</td> <td>    0.869</td> <td>    0.973</td>\n",
       "</tr>\n",
       "<tr>\n",
       "  <th>ma.L1.Births</th> <td>    1.1067</td> <td>    0.048</td> <td>   23.226</td> <td> 0.000</td> <td>    1.013</td> <td>    1.200</td>\n",
       "</tr>\n",
       "<tr>\n",
       "  <th>ma.L2.Births</th> <td>    0.1413</td> <td>    0.094</td> <td>    1.496</td> <td> 0.135</td> <td>   -0.044</td> <td>    0.326</td>\n",
       "</tr>\n",
       "<tr>\n",
       "  <th>ma.L3.Births</th> <td>   -0.8962</td> <td>    0.094</td> <td>   -9.541</td> <td> 0.000</td> <td>   -1.080</td> <td>   -0.712</td>\n",
       "</tr>\n",
       "<tr>\n",
       "  <th>ma.L4.Births</th> <td>   -0.9306</td> <td>    0.049</td> <td>  -19.071</td> <td> 0.000</td> <td>   -1.026</td> <td>   -0.835</td>\n",
       "</tr>\n",
       "</table>\n",
       "<table class=\"simpletable\">\n",
       "<caption>Roots</caption>\n",
       "<tr>\n",
       "    <td></td>   <th>            Real</th>  <th>         Imaginary</th> <th>         Modulus</th>  <th>        Frequency</th>\n",
       "</tr>\n",
       "<tr>\n",
       "  <th>AR.1</th> <td>           1.0167</td> <td>          -0.0000j</td> <td>           1.0167</td> <td>          -0.0000</td>\n",
       "</tr>\n",
       "<tr>\n",
       "  <th>AR.2</th> <td>          -0.5145</td> <td>          -0.8747j</td> <td>           1.0148</td> <td>          -0.3346</td>\n",
       "</tr>\n",
       "<tr>\n",
       "  <th>AR.3</th> <td>          -0.5145</td> <td>          +0.8747j</td> <td>           1.0148</td> <td>           0.3346</td>\n",
       "</tr>\n",
       "<tr>\n",
       "  <th>AR.4</th> <td>          -1.0372</td> <td>          -0.0000j</td> <td>           1.0372</td> <td>          -0.5000</td>\n",
       "</tr>\n",
       "<tr>\n",
       "  <th>MA.1</th> <td>           1.0745</td> <td>          -0.0000j</td> <td>           1.0745</td> <td>          -0.0000</td>\n",
       "</tr>\n",
       "<tr>\n",
       "  <th>MA.2</th> <td>          -0.5187</td> <td>          -0.8549j</td> <td>           1.0000</td> <td>          -0.3368</td>\n",
       "</tr>\n",
       "<tr>\n",
       "  <th>MA.3</th> <td>          -0.5187</td> <td>          +0.8549j</td> <td>           1.0000</td> <td>           0.3368</td>\n",
       "</tr>\n",
       "<tr>\n",
       "  <th>MA.4</th> <td>          -1.0001</td> <td>          -0.0000j</td> <td>           1.0001</td> <td>          -0.5000</td>\n",
       "</tr>\n",
       "</table>"
      ],
      "text/plain": [
       "<class 'statsmodels.iolib.summary.Summary'>\n",
       "\"\"\"\n",
       "                              ARMA Model Results                              \n",
       "==============================================================================\n",
       "Dep. Variable:                 Births   No. Observations:                  365\n",
       "Model:                     ARMA(4, 4)   Log Likelihood               -1224.546\n",
       "Method:                       css-mle   S.D. of innovations              6.873\n",
       "Date:                Tue, 26 Jan 2021   AIC                           2469.092\n",
       "Time:                        10:54:57   BIC                           2508.091\n",
       "Sample:                    01-01-1959   HQIC                          2484.591\n",
       "                         - 12-31-1959                                         \n",
       "================================================================================\n",
       "                   coef    std err          z      P>|z|      [0.025      0.975]\n",
       "--------------------------------------------------------------------------------\n",
       "const           41.7989      1.422     29.399      0.000      39.012      44.586\n",
       "ar.L1.Births    -0.9797      0.030    -32.747      0.000      -1.038      -0.921\n",
       "ar.L2.Births    -0.0032      0.042     -0.076      0.939      -0.086       0.079\n",
       "ar.L3.Births     0.9664      0.040     23.978      0.000       0.887       1.045\n",
       "ar.L4.Births     0.9208      0.027     34.511      0.000       0.869       0.973\n",
       "ma.L1.Births     1.1067      0.048     23.226      0.000       1.013       1.200\n",
       "ma.L2.Births     0.1413      0.094      1.496      0.135      -0.044       0.326\n",
       "ma.L3.Births    -0.8962      0.094     -9.541      0.000      -1.080      -0.712\n",
       "ma.L4.Births    -0.9306      0.049    -19.071      0.000      -1.026      -0.835\n",
       "                                    Roots                                    \n",
       "=============================================================================\n",
       "                  Real          Imaginary           Modulus         Frequency\n",
       "-----------------------------------------------------------------------------\n",
       "AR.1            1.0167           -0.0000j            1.0167           -0.0000\n",
       "AR.2           -0.5145           -0.8747j            1.0148           -0.3346\n",
       "AR.3           -0.5145           +0.8747j            1.0148            0.3346\n",
       "AR.4           -1.0372           -0.0000j            1.0372           -0.5000\n",
       "MA.1            1.0745           -0.0000j            1.0745           -0.0000\n",
       "MA.2           -0.5187           -0.8549j            1.0000           -0.3368\n",
       "MA.3           -0.5187           +0.8549j            1.0000            0.3368\n",
       "MA.4           -1.0001           -0.0000j            1.0001           -0.5000\n",
       "-----------------------------------------------------------------------------\n",
       "\"\"\""
      ]
     },
     "execution_count": 56,
     "metadata": {},
     "output_type": "execute_result"
    }
   ],
   "source": [
    "model_ar_4_ma_4 = ARMA(df_copy.Births,order=(4,4))\n",
    "result_ar_4_ma_4 = model_ar_4_ma_4.fit()\n",
    "result_ar_4_ma_4.summary()"
   ]
  },
  {
   "cell_type": "code",
   "execution_count": 49,
   "metadata": {},
   "outputs": [],
   "source": [
    "## the 2nd lag coeff of AR and MA model are not significant\n",
    "## thus previous model was better than this one\n",
    "\n",
    "## we can use LLR test to verify so\n",
    "## AIC has increased for this complex model -- not a good indicator\n",
    "## LL has increased -- shows good sign,, let us see the combined effect using LLR test"
   ]
  },
  {
   "cell_type": "code",
   "execution_count": 50,
   "metadata": {},
   "outputs": [],
   "source": [
    "def llr_test(model_1,model_2,df=1):\n",
    "    L1 = model_1.fit().llf\n",
    "    L2 = model_2.fit().llf\n",
    "    LR = (2*(L2-L1))\n",
    "    p = chi2.sf(LR,df).round(3)\n",
    "    return p"
   ]
  },
  {
   "cell_type": "code",
   "execution_count": 51,
   "metadata": {},
   "outputs": [
    {
     "name": "stderr",
     "output_type": "stream",
     "text": [
      "/opt/anaconda3/lib/python3.8/site-packages/statsmodels/base/model.py:547: HessianInversionWarning: Inverting hessian failed, no bse or cov_params available\n",
      "  warn('Inverting hessian failed, no bse or cov_params '\n",
      "/opt/anaconda3/lib/python3.8/site-packages/statsmodels/base/model.py:547: HessianInversionWarning: Inverting hessian failed, no bse or cov_params available\n",
      "  warn('Inverting hessian failed, no bse or cov_params '\n"
     ]
    },
    {
     "data": {
      "text/plain": [
       "0.068"
      ]
     },
     "execution_count": 51,
     "metadata": {},
     "output_type": "execute_result"
    }
   ],
   "source": [
    "llr_test(model_ar_3_ma_3,model_ar_4_ma_4)"
   ]
  },
  {
   "cell_type": "code",
   "execution_count": 52,
   "metadata": {},
   "outputs": [],
   "source": [
    "## since the vlaue is > than 0.05,, this shows the complex model is worse fit than its simpler counterpart"
   ]
  },
  {
   "cell_type": "code",
   "execution_count": 53,
   "metadata": {},
   "outputs": [],
   "source": [
    "## since the data comes from stationary process we should not go for Itegrated model,,\n",
    "# also since there is no seasonality seen, no need to go for seasonal model\n",
    "\n",
    "## but we could use some exogenous data to account for the model with better fit"
   ]
  },
  {
   "cell_type": "code",
   "execution_count": 54,
   "metadata": {},
   "outputs": [],
   "source": [
    "## let us use 2 other model and compare the result"
   ]
  },
  {
   "cell_type": "code",
   "execution_count": 62,
   "metadata": {},
   "outputs": [
    {
     "name": "stderr",
     "output_type": "stream",
     "text": [
      "/opt/anaconda3/lib/python3.8/site-packages/statsmodels/tsa/base/tsa_model.py:159: ValueWarning: No frequency information was provided, so inferred frequency D will be used.\n",
      "  warnings.warn('No frequency information was'\n",
      "/opt/anaconda3/lib/python3.8/site-packages/statsmodels/base/model.py:547: HessianInversionWarning: Inverting hessian failed, no bse or cov_params available\n",
      "  warn('Inverting hessian failed, no bse or cov_params '\n"
     ]
    },
    {
     "data": {
      "text/html": [
       "<table class=\"simpletable\">\n",
       "<caption>ARMA Model Results</caption>\n",
       "<tr>\n",
       "  <th>Dep. Variable:</th>      <td>Births</td>      <th>  No. Observations:  </th>    <td>365</td>   \n",
       "</tr>\n",
       "<tr>\n",
       "  <th>Model:</th>            <td>ARMA(3, 4)</td>    <th>  Log Likelihood     </th> <td>-1226.863</td>\n",
       "</tr>\n",
       "<tr>\n",
       "  <th>Method:</th>             <td>css-mle</td>     <th>  S.D. of innovations</th>   <td>6.943</td>  \n",
       "</tr>\n",
       "<tr>\n",
       "  <th>Date:</th>          <td>Tue, 26 Jan 2021</td> <th>  AIC                </th> <td>2471.726</td> \n",
       "</tr>\n",
       "<tr>\n",
       "  <th>Time:</th>              <td>10:59:53</td>     <th>  BIC                </th> <td>2506.825</td> \n",
       "</tr>\n",
       "<tr>\n",
       "  <th>Sample:</th>           <td>01-01-1959</td>    <th>  HQIC               </th> <td>2485.675</td> \n",
       "</tr>\n",
       "<tr>\n",
       "  <th></th>                 <td>- 12-31-1959</td>   <th>                     </th>     <td> </td>    \n",
       "</tr>\n",
       "</table>\n",
       "<table class=\"simpletable\">\n",
       "<tr>\n",
       "        <td></td>          <th>coef</th>     <th>std err</th>      <th>z</th>      <th>P>|z|</th>  <th>[0.025</th>    <th>0.975]</th>  \n",
       "</tr>\n",
       "<tr>\n",
       "  <th>const</th>        <td>   41.8031</td> <td>    1.519</td> <td>   27.518</td> <td> 0.000</td> <td>   38.826</td> <td>   44.781</td>\n",
       "</tr>\n",
       "<tr>\n",
       "  <th>ar.L1.Births</th> <td>    0.1224</td> <td>    0.025</td> <td>    4.947</td> <td> 0.000</td> <td>    0.074</td> <td>    0.171</td>\n",
       "</tr>\n",
       "<tr>\n",
       "  <th>ar.L2.Births</th> <td>   -0.1149</td> <td>    0.024</td> <td>   -4.839</td> <td> 0.000</td> <td>   -0.161</td> <td>   -0.068</td>\n",
       "</tr>\n",
       "<tr>\n",
       "  <th>ar.L3.Births</th> <td>    0.9609</td> <td>    0.020</td> <td>   48.533</td> <td> 0.000</td> <td>    0.922</td> <td>    1.000</td>\n",
       "</tr>\n",
       "<tr>\n",
       "  <th>ma.L1.Births</th> <td>    0.0337</td> <td>    0.057</td> <td>    0.591</td> <td> 0.554</td> <td>   -0.078</td> <td>    0.145</td>\n",
       "</tr>\n",
       "<tr>\n",
       "  <th>ma.L2.Births</th> <td>    0.1640</td> <td>    0.029</td> <td>    5.576</td> <td> 0.000</td> <td>    0.106</td> <td>    0.222</td>\n",
       "</tr>\n",
       "<tr>\n",
       "  <th>ma.L3.Births</th> <td>   -0.9313</td> <td>    0.030</td> <td>  -30.985</td> <td> 0.000</td> <td>   -0.990</td> <td>   -0.872</td>\n",
       "</tr>\n",
       "<tr>\n",
       "  <th>ma.L4.Births</th> <td>   -0.1116</td> <td>    0.053</td> <td>   -2.099</td> <td> 0.036</td> <td>   -0.216</td> <td>   -0.007</td>\n",
       "</tr>\n",
       "</table>\n",
       "<table class=\"simpletable\">\n",
       "<caption>Roots</caption>\n",
       "<tr>\n",
       "    <td></td>   <th>            Real</th>  <th>         Imaginary</th> <th>         Modulus</th>  <th>        Frequency</th>\n",
       "</tr>\n",
       "<tr>\n",
       "  <th>AR.1</th> <td>           1.0113</td> <td>          -0.0000j</td> <td>           1.0113</td> <td>          -0.0000</td>\n",
       "</tr>\n",
       "<tr>\n",
       "  <th>AR.2</th> <td>          -0.4458</td> <td>          -0.9112j</td> <td>           1.0145</td> <td>          -0.3224</td>\n",
       "</tr>\n",
       "<tr>\n",
       "  <th>AR.3</th> <td>          -0.4458</td> <td>          +0.9112j</td> <td>           1.0145</td> <td>           0.3224</td>\n",
       "</tr>\n",
       "<tr>\n",
       "  <th>MA.1</th> <td>           1.0508</td> <td>          -0.0000j</td> <td>           1.0508</td> <td>          -0.0000</td>\n",
       "</tr>\n",
       "<tr>\n",
       "  <th>MA.2</th> <td>          -0.4341</td> <td>          -0.9009j</td> <td>           1.0000</td> <td>          -0.3215</td>\n",
       "</tr>\n",
       "<tr>\n",
       "  <th>MA.3</th> <td>          -0.4341</td> <td>          +0.9009j</td> <td>           1.0000</td> <td>           0.3215</td>\n",
       "</tr>\n",
       "<tr>\n",
       "  <th>MA.4</th> <td>          -8.5293</td> <td>          -0.0000j</td> <td>           8.5293</td> <td>          -0.5000</td>\n",
       "</tr>\n",
       "</table>"
      ],
      "text/plain": [
       "<class 'statsmodels.iolib.summary.Summary'>\n",
       "\"\"\"\n",
       "                              ARMA Model Results                              \n",
       "==============================================================================\n",
       "Dep. Variable:                 Births   No. Observations:                  365\n",
       "Model:                     ARMA(3, 4)   Log Likelihood               -1226.863\n",
       "Method:                       css-mle   S.D. of innovations              6.943\n",
       "Date:                Tue, 26 Jan 2021   AIC                           2471.726\n",
       "Time:                        10:59:53   BIC                           2506.825\n",
       "Sample:                    01-01-1959   HQIC                          2485.675\n",
       "                         - 12-31-1959                                         \n",
       "================================================================================\n",
       "                   coef    std err          z      P>|z|      [0.025      0.975]\n",
       "--------------------------------------------------------------------------------\n",
       "const           41.8031      1.519     27.518      0.000      38.826      44.781\n",
       "ar.L1.Births     0.1224      0.025      4.947      0.000       0.074       0.171\n",
       "ar.L2.Births    -0.1149      0.024     -4.839      0.000      -0.161      -0.068\n",
       "ar.L3.Births     0.9609      0.020     48.533      0.000       0.922       1.000\n",
       "ma.L1.Births     0.0337      0.057      0.591      0.554      -0.078       0.145\n",
       "ma.L2.Births     0.1640      0.029      5.576      0.000       0.106       0.222\n",
       "ma.L3.Births    -0.9313      0.030    -30.985      0.000      -0.990      -0.872\n",
       "ma.L4.Births    -0.1116      0.053     -2.099      0.036      -0.216      -0.007\n",
       "                                    Roots                                    \n",
       "=============================================================================\n",
       "                  Real          Imaginary           Modulus         Frequency\n",
       "-----------------------------------------------------------------------------\n",
       "AR.1            1.0113           -0.0000j            1.0113           -0.0000\n",
       "AR.2           -0.4458           -0.9112j            1.0145           -0.3224\n",
       "AR.3           -0.4458           +0.9112j            1.0145            0.3224\n",
       "MA.1            1.0508           -0.0000j            1.0508           -0.0000\n",
       "MA.2           -0.4341           -0.9009j            1.0000           -0.3215\n",
       "MA.3           -0.4341           +0.9009j            1.0000            0.3215\n",
       "MA.4           -8.5293           -0.0000j            8.5293           -0.5000\n",
       "-----------------------------------------------------------------------------\n",
       "\"\"\""
      ]
     },
     "execution_count": 62,
     "metadata": {},
     "output_type": "execute_result"
    }
   ],
   "source": [
    "model_ar_3_ma_4 = ARMA(df_copy.Births,order=(3,4))\n",
    "result_ar_3_ma_4 = model_ar_3_ma_4.fit(start_ar_lags=7)\n",
    "result_ar_3_ma_4.summary()"
   ]
  },
  {
   "cell_type": "code",
   "execution_count": 63,
   "metadata": {},
   "outputs": [],
   "source": [
    "## FIRST MA compnet no significant thus not a better model"
   ]
  },
  {
   "cell_type": "code",
   "execution_count": null,
   "metadata": {},
   "outputs": [],
   "source": []
  },
  {
   "cell_type": "code",
   "execution_count": 57,
   "metadata": {},
   "outputs": [
    {
     "name": "stderr",
     "output_type": "stream",
     "text": [
      "/opt/anaconda3/lib/python3.8/site-packages/statsmodels/tsa/base/tsa_model.py:159: ValueWarning: No frequency information was provided, so inferred frequency D will be used.\n",
      "  warnings.warn('No frequency information was'\n"
     ]
    },
    {
     "data": {
      "text/html": [
       "<table class=\"simpletable\">\n",
       "<caption>ARMA Model Results</caption>\n",
       "<tr>\n",
       "  <th>Dep. Variable:</th>      <td>Births</td>      <th>  No. Observations:  </th>    <td>365</td>   \n",
       "</tr>\n",
       "<tr>\n",
       "  <th>Model:</th>            <td>ARMA(4, 3)</td>    <th>  Log Likelihood     </th> <td>-1226.110</td>\n",
       "</tr>\n",
       "<tr>\n",
       "  <th>Method:</th>             <td>css-mle</td>     <th>  S.D. of innovations</th>   <td>6.925</td>  \n",
       "</tr>\n",
       "<tr>\n",
       "  <th>Date:</th>          <td>Tue, 26 Jan 2021</td> <th>  AIC                </th> <td>2470.219</td> \n",
       "</tr>\n",
       "<tr>\n",
       "  <th>Time:</th>              <td>10:55:47</td>     <th>  BIC                </th> <td>2505.318</td> \n",
       "</tr>\n",
       "<tr>\n",
       "  <th>Sample:</th>           <td>01-01-1959</td>    <th>  HQIC               </th> <td>2484.168</td> \n",
       "</tr>\n",
       "<tr>\n",
       "  <th></th>                 <td>- 12-31-1959</td>   <th>                     </th>     <td> </td>    \n",
       "</tr>\n",
       "</table>\n",
       "<table class=\"simpletable\">\n",
       "<tr>\n",
       "        <td></td>          <th>coef</th>     <th>std err</th>      <th>z</th>      <th>P>|z|</th>  <th>[0.025</th>    <th>0.975]</th>  \n",
       "</tr>\n",
       "<tr>\n",
       "  <th>const</th>        <td>   41.7850</td> <td>    1.537</td> <td>   27.185</td> <td> 0.000</td> <td>   38.772</td> <td>   44.798</td>\n",
       "</tr>\n",
       "<tr>\n",
       "  <th>ar.L1.Births</th> <td>   -0.0121</td> <td>    0.059</td> <td>   -0.206</td> <td> 0.837</td> <td>   -0.128</td> <td>    0.103</td>\n",
       "</tr>\n",
       "<tr>\n",
       "  <th>ar.L2.Births</th> <td>    0.1520</td> <td>    0.028</td> <td>    5.474</td> <td> 0.000</td> <td>    0.098</td> <td>    0.206</td>\n",
       "</tr>\n",
       "<tr>\n",
       "  <th>ar.L3.Births</th> <td>    0.9320</td> <td>    0.023</td> <td>   41.312</td> <td> 0.000</td> <td>    0.888</td> <td>    0.976</td>\n",
       "</tr>\n",
       "<tr>\n",
       "  <th>ar.L4.Births</th> <td>   -0.1015</td> <td>    0.056</td> <td>   -1.804</td> <td> 0.071</td> <td>   -0.212</td> <td>    0.009</td>\n",
       "</tr>\n",
       "<tr>\n",
       "  <th>ma.L1.Births</th> <td>    0.1813</td> <td>    0.028</td> <td>    6.523</td> <td> 0.000</td> <td>    0.127</td> <td>    0.236</td>\n",
       "</tr>\n",
       "<tr>\n",
       "  <th>ma.L2.Births</th> <td>   -0.0808</td> <td>    0.031</td> <td>   -2.633</td> <td> 0.008</td> <td>   -0.141</td> <td>   -0.021</td>\n",
       "</tr>\n",
       "<tr>\n",
       "  <th>ma.L3.Births</th> <td>   -0.9529</td> <td>    0.030</td> <td>  -32.037</td> <td> 0.000</td> <td>   -1.011</td> <td>   -0.895</td>\n",
       "</tr>\n",
       "</table>\n",
       "<table class=\"simpletable\">\n",
       "<caption>Roots</caption>\n",
       "<tr>\n",
       "    <td></td>   <th>            Real</th>  <th>         Imaginary</th> <th>         Modulus</th>  <th>        Frequency</th>\n",
       "</tr>\n",
       "<tr>\n",
       "  <th>AR.1</th> <td>          -0.5790</td> <td>          -0.8423j</td> <td>           1.0221</td> <td>          -0.3458</td>\n",
       "</tr>\n",
       "<tr>\n",
       "  <th>AR.2</th> <td>          -0.5790</td> <td>          +0.8423j</td> <td>           1.0221</td> <td>           0.3458</td>\n",
       "</tr>\n",
       "<tr>\n",
       "  <th>AR.3</th> <td>           1.0110</td> <td>          -0.0000j</td> <td>           1.0110</td> <td>          -0.0000</td>\n",
       "</tr>\n",
       "<tr>\n",
       "  <th>AR.4</th> <td>           9.3276</td> <td>          -0.0000j</td> <td>           9.3276</td> <td>          -0.0000</td>\n",
       "</tr>\n",
       "<tr>\n",
       "  <th>MA.1</th> <td>          -0.5671</td> <td>          -0.8236j</td> <td>           1.0000</td> <td>          -0.3460</td>\n",
       "</tr>\n",
       "<tr>\n",
       "  <th>MA.2</th> <td>          -0.5671</td> <td>          +0.8236j</td> <td>           1.0000</td> <td>           0.3460</td>\n",
       "</tr>\n",
       "<tr>\n",
       "  <th>MA.3</th> <td>           1.0495</td> <td>          -0.0000j</td> <td>           1.0495</td> <td>          -0.0000</td>\n",
       "</tr>\n",
       "</table>"
      ],
      "text/plain": [
       "<class 'statsmodels.iolib.summary.Summary'>\n",
       "\"\"\"\n",
       "                              ARMA Model Results                              \n",
       "==============================================================================\n",
       "Dep. Variable:                 Births   No. Observations:                  365\n",
       "Model:                     ARMA(4, 3)   Log Likelihood               -1226.110\n",
       "Method:                       css-mle   S.D. of innovations              6.925\n",
       "Date:                Tue, 26 Jan 2021   AIC                           2470.219\n",
       "Time:                        10:55:47   BIC                           2505.318\n",
       "Sample:                    01-01-1959   HQIC                          2484.168\n",
       "                         - 12-31-1959                                         \n",
       "================================================================================\n",
       "                   coef    std err          z      P>|z|      [0.025      0.975]\n",
       "--------------------------------------------------------------------------------\n",
       "const           41.7850      1.537     27.185      0.000      38.772      44.798\n",
       "ar.L1.Births    -0.0121      0.059     -0.206      0.837      -0.128       0.103\n",
       "ar.L2.Births     0.1520      0.028      5.474      0.000       0.098       0.206\n",
       "ar.L3.Births     0.9320      0.023     41.312      0.000       0.888       0.976\n",
       "ar.L4.Births    -0.1015      0.056     -1.804      0.071      -0.212       0.009\n",
       "ma.L1.Births     0.1813      0.028      6.523      0.000       0.127       0.236\n",
       "ma.L2.Births    -0.0808      0.031     -2.633      0.008      -0.141      -0.021\n",
       "ma.L3.Births    -0.9529      0.030    -32.037      0.000      -1.011      -0.895\n",
       "                                    Roots                                    \n",
       "=============================================================================\n",
       "                  Real          Imaginary           Modulus         Frequency\n",
       "-----------------------------------------------------------------------------\n",
       "AR.1           -0.5790           -0.8423j            1.0221           -0.3458\n",
       "AR.2           -0.5790           +0.8423j            1.0221            0.3458\n",
       "AR.3            1.0110           -0.0000j            1.0110           -0.0000\n",
       "AR.4            9.3276           -0.0000j            9.3276           -0.0000\n",
       "MA.1           -0.5671           -0.8236j            1.0000           -0.3460\n",
       "MA.2           -0.5671           +0.8236j            1.0000            0.3460\n",
       "MA.3            1.0495           -0.0000j            1.0495           -0.0000\n",
       "-----------------------------------------------------------------------------\n",
       "\"\"\""
      ]
     },
     "execution_count": 57,
     "metadata": {},
     "output_type": "execute_result"
    }
   ],
   "source": [
    "model_ar_4_ma_3 = ARMA(df_copy.Births,order=(4,3))\n",
    "result_ar_4_ma_3 = model_ar_4_ma_3.fit()\n",
    "result_ar_4_ma_3.summary()"
   ]
  },
  {
   "cell_type": "code",
   "execution_count": 66,
   "metadata": {},
   "outputs": [
    {
     "name": "stderr",
     "output_type": "stream",
     "text": [
      "/opt/anaconda3/lib/python3.8/site-packages/statsmodels/base/model.py:547: HessianInversionWarning: Inverting hessian failed, no bse or cov_params available\n",
      "  warn('Inverting hessian failed, no bse or cov_params '\n"
     ]
    },
    {
     "data": {
      "text/plain": [
       "0.657"
      ]
     },
     "execution_count": 66,
     "metadata": {},
     "output_type": "execute_result"
    }
   ],
   "source": [
    "## FIRST AND FOURTH LAG COEFF ARE NOT SIGNIFICANT,, NOT A BETTER MODEL\n",
    "\n",
    "llr_test(model_ar_3_ma_3,model_ar_4_ma_3)"
   ]
  },
  {
   "cell_type": "markdown",
   "metadata": {},
   "source": [
    "#### Prediction using arma(3,3)"
   ]
  },
  {
   "cell_type": "code",
   "execution_count": 68,
   "metadata": {},
   "outputs": [],
   "source": [
    "## split the data into training and validation"
   ]
  },
  {
   "cell_type": "code",
   "execution_count": 73,
   "metadata": {},
   "outputs": [],
   "source": [
    "size = int(len(df_copy.Births)*0.8)\n",
    "df = df_copy.iloc[:size]\n",
    "df_test = df_copy.iloc[size:]"
   ]
  },
  {
   "cell_type": "code",
   "execution_count": 78,
   "metadata": {},
   "outputs": [
    {
     "data": {
      "text/html": [
       "<div>\n",
       "<style scoped>\n",
       "    .dataframe tbody tr th:only-of-type {\n",
       "        vertical-align: middle;\n",
       "    }\n",
       "\n",
       "    .dataframe tbody tr th {\n",
       "        vertical-align: top;\n",
       "    }\n",
       "\n",
       "    .dataframe thead th {\n",
       "        text-align: right;\n",
       "    }\n",
       "</style>\n",
       "<table border=\"1\" class=\"dataframe\">\n",
       "  <thead>\n",
       "    <tr style=\"text-align: right;\">\n",
       "      <th></th>\n",
       "      <th>Births</th>\n",
       "    </tr>\n",
       "    <tr>\n",
       "      <th>Date</th>\n",
       "      <th></th>\n",
       "    </tr>\n",
       "  </thead>\n",
       "  <tbody>\n",
       "    <tr>\n",
       "      <th>1959-10-15</th>\n",
       "      <td>42</td>\n",
       "    </tr>\n",
       "    <tr>\n",
       "      <th>1959-10-16</th>\n",
       "      <td>51</td>\n",
       "    </tr>\n",
       "    <tr>\n",
       "      <th>1959-10-17</th>\n",
       "      <td>49</td>\n",
       "    </tr>\n",
       "    <tr>\n",
       "      <th>1959-10-18</th>\n",
       "      <td>45</td>\n",
       "    </tr>\n",
       "    <tr>\n",
       "      <th>1959-10-19</th>\n",
       "      <td>43</td>\n",
       "    </tr>\n",
       "  </tbody>\n",
       "</table>\n",
       "</div>"
      ],
      "text/plain": [
       "            Births\n",
       "Date              \n",
       "1959-10-15      42\n",
       "1959-10-16      51\n",
       "1959-10-17      49\n",
       "1959-10-18      45\n",
       "1959-10-19      43"
      ]
     },
     "execution_count": 78,
     "metadata": {},
     "output_type": "execute_result"
    }
   ],
   "source": [
    "df.tail()"
   ]
  },
  {
   "cell_type": "code",
   "execution_count": 79,
   "metadata": {},
   "outputs": [
    {
     "data": {
      "text/html": [
       "<div>\n",
       "<style scoped>\n",
       "    .dataframe tbody tr th:only-of-type {\n",
       "        vertical-align: middle;\n",
       "    }\n",
       "\n",
       "    .dataframe tbody tr th {\n",
       "        vertical-align: top;\n",
       "    }\n",
       "\n",
       "    .dataframe thead th {\n",
       "        text-align: right;\n",
       "    }\n",
       "</style>\n",
       "<table border=\"1\" class=\"dataframe\">\n",
       "  <thead>\n",
       "    <tr style=\"text-align: right;\">\n",
       "      <th></th>\n",
       "      <th>Births</th>\n",
       "    </tr>\n",
       "    <tr>\n",
       "      <th>Date</th>\n",
       "      <th></th>\n",
       "    </tr>\n",
       "  </thead>\n",
       "  <tbody>\n",
       "    <tr>\n",
       "      <th>1959-12-27</th>\n",
       "      <td>37</td>\n",
       "    </tr>\n",
       "    <tr>\n",
       "      <th>1959-12-28</th>\n",
       "      <td>52</td>\n",
       "    </tr>\n",
       "    <tr>\n",
       "      <th>1959-12-29</th>\n",
       "      <td>48</td>\n",
       "    </tr>\n",
       "    <tr>\n",
       "      <th>1959-12-30</th>\n",
       "      <td>55</td>\n",
       "    </tr>\n",
       "    <tr>\n",
       "      <th>1959-12-31</th>\n",
       "      <td>50</td>\n",
       "    </tr>\n",
       "  </tbody>\n",
       "</table>\n",
       "</div>"
      ],
      "text/plain": [
       "            Births\n",
       "Date              \n",
       "1959-12-27      37\n",
       "1959-12-28      52\n",
       "1959-12-29      48\n",
       "1959-12-30      55\n",
       "1959-12-31      50"
      ]
     },
     "execution_count": 79,
     "metadata": {},
     "output_type": "execute_result"
    }
   ],
   "source": [
    "df_test.tail()"
   ]
  },
  {
   "cell_type": "code",
   "execution_count": 80,
   "metadata": {},
   "outputs": [],
   "source": [
    "start_date = '1959-10-19'\n",
    "end_date = '1959-12-31'"
   ]
  },
  {
   "cell_type": "code",
   "execution_count": 82,
   "metadata": {},
   "outputs": [],
   "source": [
    "# prediction using the fitted model arma(3,3)\n",
    "df_pred = result_ar_3_ma_3.predict(start=start_date,end=end_date)"
   ]
  },
  {
   "cell_type": "code",
   "execution_count": 84,
   "metadata": {},
   "outputs": [
    {
     "data": {
      "image/png": "[encoded data removed]",
      "text/plain": [
       "<Figure size 1440x360 with 1 Axes>"
      ]
     },
     "metadata": {},
     "output_type": "display_data"
    }
   ],
   "source": [
    "df_pred[start_date:end_date].plot(figsize=(20,5),color='red')\n",
    "df_test.Births[start_date:end_date].plot(color='blue')\n",
    "plt.title('predictions vs actual',size=20)\n",
    "plt.legend(['Predicted','Actual'])\n",
    "plt.show()"
   ]
  },
  {
   "cell_type": "code",
   "execution_count": 85,
   "metadata": {},
   "outputs": [],
   "source": [
    "## this shows our predicted model could not capture the rise and falls in the actual value\n",
    "## it almost shows the mean value around the actual value \n"
   ]
  },
  {
   "cell_type": "code",
   "execution_count": 97,
   "metadata": {},
   "outputs": [],
   "source": [
    "## feature extraction"
   ]
  },
  {
   "cell_type": "code",
   "execution_count": 89,
   "metadata": {},
   "outputs": [],
   "source": [
    "df_copy_2 = raw_data.copy()"
   ]
  },
  {
   "cell_type": "code",
   "execution_count": 91,
   "metadata": {},
   "outputs": [],
   "source": [
    "df_copy_2['Date']=pd.to_datetime(df_copy_2['Date'])"
   ]
  },
  {
   "cell_type": "code",
   "execution_count": 95,
   "metadata": {},
   "outputs": [],
   "source": [
    "df_copy['month']=df_copy_2['Date'].dt.month.values"
   ]
  },
  {
   "cell_type": "code",
   "execution_count": 96,
   "metadata": {},
   "outputs": [
    {
     "data": {
      "text/html": [
       "<div>\n",
       "<style scoped>\n",
       "    .dataframe tbody tr th:only-of-type {\n",
       "        vertical-align: middle;\n",
       "    }\n",
       "\n",
       "    .dataframe tbody tr th {\n",
       "        vertical-align: top;\n",
       "    }\n",
       "\n",
       "    .dataframe thead th {\n",
       "        text-align: right;\n",
       "    }\n",
       "</style>\n",
       "<table border=\"1\" class=\"dataframe\">\n",
       "  <thead>\n",
       "    <tr style=\"text-align: right;\">\n",
       "      <th></th>\n",
       "      <th>Births</th>\n",
       "      <th>month</th>\n",
       "    </tr>\n",
       "    <tr>\n",
       "      <th>Date</th>\n",
       "      <th></th>\n",
       "      <th></th>\n",
       "    </tr>\n",
       "  </thead>\n",
       "  <tbody>\n",
       "    <tr>\n",
       "      <th>1959-01-01</th>\n",
       "      <td>35</td>\n",
       "      <td>1</td>\n",
       "    </tr>\n",
       "    <tr>\n",
       "      <th>1959-01-02</th>\n",
       "      <td>32</td>\n",
       "      <td>1</td>\n",
       "    </tr>\n",
       "    <tr>\n",
       "      <th>1959-01-03</th>\n",
       "      <td>30</td>\n",
       "      <td>1</td>\n",
       "    </tr>\n",
       "    <tr>\n",
       "      <th>1959-01-04</th>\n",
       "      <td>31</td>\n",
       "      <td>1</td>\n",
       "    </tr>\n",
       "    <tr>\n",
       "      <th>1959-01-05</th>\n",
       "      <td>44</td>\n",
       "      <td>1</td>\n",
       "    </tr>\n",
       "  </tbody>\n",
       "</table>\n",
       "</div>"
      ],
      "text/plain": [
       "            Births  month\n",
       "Date                     \n",
       "1959-01-01      35      1\n",
       "1959-01-02      32      1\n",
       "1959-01-03      30      1\n",
       "1959-01-04      31      1\n",
       "1959-01-05      44      1"
      ]
     },
     "execution_count": 96,
     "metadata": {},
     "output_type": "execute_result"
    }
   ],
   "source": [
    "df_copy.head()"
   ]
  },
  {
   "cell_type": "code",
   "execution_count": 98,
   "metadata": {},
   "outputs": [],
   "source": [
    "def month_feature(month):\n",
    "    if month==9 or month==10 or month==11:\n",
    "        return 1\n",
    "    else:\n",
    "        return 0"
   ]
  },
  {
   "cell_type": "code",
   "execution_count": 100,
   "metadata": {},
   "outputs": [],
   "source": [
    "df_copy['month_feature']=df_copy['month'].apply(month_feature)"
   ]
  },
  {
   "cell_type": "code",
   "execution_count": 102,
   "metadata": {},
   "outputs": [
    {
     "data": {
      "text/html": [
       "<div>\n",
       "<style scoped>\n",
       "    .dataframe tbody tr th:only-of-type {\n",
       "        vertical-align: middle;\n",
       "    }\n",
       "\n",
       "    .dataframe tbody tr th {\n",
       "        vertical-align: top;\n",
       "    }\n",
       "\n",
       "    .dataframe thead th {\n",
       "        text-align: right;\n",
       "    }\n",
       "</style>\n",
       "<table border=\"1\" class=\"dataframe\">\n",
       "  <thead>\n",
       "    <tr style=\"text-align: right;\">\n",
       "      <th></th>\n",
       "      <th>Births</th>\n",
       "      <th>month</th>\n",
       "      <th>month_feature</th>\n",
       "    </tr>\n",
       "    <tr>\n",
       "      <th>Date</th>\n",
       "      <th></th>\n",
       "      <th></th>\n",
       "      <th></th>\n",
       "    </tr>\n",
       "  </thead>\n",
       "  <tbody>\n",
       "    <tr>\n",
       "      <th>1959-12-27</th>\n",
       "      <td>37</td>\n",
       "      <td>12</td>\n",
       "      <td>0</td>\n",
       "    </tr>\n",
       "    <tr>\n",
       "      <th>1959-12-28</th>\n",
       "      <td>52</td>\n",
       "      <td>12</td>\n",
       "      <td>0</td>\n",
       "    </tr>\n",
       "    <tr>\n",
       "      <th>1959-12-29</th>\n",
       "      <td>48</td>\n",
       "      <td>12</td>\n",
       "      <td>0</td>\n",
       "    </tr>\n",
       "    <tr>\n",
       "      <th>1959-12-30</th>\n",
       "      <td>55</td>\n",
       "      <td>12</td>\n",
       "      <td>0</td>\n",
       "    </tr>\n",
       "    <tr>\n",
       "      <th>1959-12-31</th>\n",
       "      <td>50</td>\n",
       "      <td>12</td>\n",
       "      <td>0</td>\n",
       "    </tr>\n",
       "  </tbody>\n",
       "</table>\n",
       "</div>"
      ],
      "text/plain": [
       "            Births  month  month_feature\n",
       "Date                                    \n",
       "1959-12-27      37     12              0\n",
       "1959-12-28      52     12              0\n",
       "1959-12-29      48     12              0\n",
       "1959-12-30      55     12              0\n",
       "1959-12-31      50     12              0"
      ]
     },
     "execution_count": 102,
     "metadata": {},
     "output_type": "execute_result"
    }
   ],
   "source": [
    "df_copy.tail()"
   ]
  },
  {
   "cell_type": "code",
   "execution_count": 103,
   "metadata": {},
   "outputs": [],
   "source": [
    "df = df_copy[['Births','month_feature']].iloc[:size]\n",
    "df_test = df_copy[['Births','month_feature']].iloc[size:]"
   ]
  },
  {
   "cell_type": "code",
   "execution_count": 105,
   "metadata": {},
   "outputs": [],
   "source": [
    "## including month_feature as exogenous variable "
   ]
  },
  {
   "cell_type": "code",
   "execution_count": 108,
   "metadata": {},
   "outputs": [
    {
     "name": "stderr",
     "output_type": "stream",
     "text": [
      "/opt/anaconda3/lib/python3.8/site-packages/statsmodels/tsa/base/tsa_model.py:159: ValueWarning: No frequency information was provided, so inferred frequency D will be used.\n",
      "  warnings.warn('No frequency information was'\n"
     ]
    },
    {
     "data": {
      "text/html": [
       "<table class=\"simpletable\">\n",
       "<caption>ARMA Model Results</caption>\n",
       "<tr>\n",
       "  <th>Dep. Variable:</th>      <td>Births</td>      <th>  No. Observations:  </th>    <td>292</td>  \n",
       "</tr>\n",
       "<tr>\n",
       "  <th>Model:</th>            <td>ARMA(3, 3)</td>    <th>  Log Likelihood     </th> <td>-979.522</td>\n",
       "</tr>\n",
       "<tr>\n",
       "  <th>Method:</th>             <td>css-mle</td>     <th>  S.D. of innovations</th>   <td>6.880</td> \n",
       "</tr>\n",
       "<tr>\n",
       "  <th>Date:</th>          <td>Tue, 26 Jan 2021</td> <th>  AIC                </th> <td>1977.044</td>\n",
       "</tr>\n",
       "<tr>\n",
       "  <th>Time:</th>              <td>11:31:21</td>     <th>  BIC                </th> <td>2010.135</td>\n",
       "</tr>\n",
       "<tr>\n",
       "  <th>Sample:</th>           <td>01-01-1959</td>    <th>  HQIC               </th> <td>1990.299</td>\n",
       "</tr>\n",
       "<tr>\n",
       "  <th></th>                 <td>- 10-19-1959</td>   <th>                     </th>     <td> </td>   \n",
       "</tr>\n",
       "</table>\n",
       "<table class=\"simpletable\">\n",
       "<tr>\n",
       "        <td></td>          <th>coef</th>     <th>std err</th>      <th>z</th>      <th>P>|z|</th>  <th>[0.025</th>    <th>0.975]</th>  \n",
       "</tr>\n",
       "<tr>\n",
       "  <th>const</th>        <td>   40.6024</td> <td>    0.694</td> <td>   58.515</td> <td> 0.000</td> <td>   39.242</td> <td>   41.962</td>\n",
       "</tr>\n",
       "<tr>\n",
       "  <th>x1</th>           <td>    6.5200</td> <td>    1.642</td> <td>    3.971</td> <td> 0.000</td> <td>    3.302</td> <td>    9.738</td>\n",
       "</tr>\n",
       "<tr>\n",
       "  <th>ar.L1.Births</th> <td>    0.4454</td> <td>    0.033</td> <td>   13.682</td> <td> 0.000</td> <td>    0.382</td> <td>    0.509</td>\n",
       "</tr>\n",
       "<tr>\n",
       "  <th>ar.L2.Births</th> <td>   -0.4369</td> <td>    0.029</td> <td>  -14.956</td> <td> 0.000</td> <td>   -0.494</td> <td>   -0.380</td>\n",
       "</tr>\n",
       "<tr>\n",
       "  <th>ar.L3.Births</th> <td>    0.9536</td> <td>    0.032</td> <td>   30.082</td> <td> 0.000</td> <td>    0.891</td> <td>    1.016</td>\n",
       "</tr>\n",
       "<tr>\n",
       "  <th>ma.L1.Births</th> <td>   -0.3868</td> <td>    0.032</td> <td>  -12.271</td> <td> 0.000</td> <td>   -0.449</td> <td>   -0.325</td>\n",
       "</tr>\n",
       "<tr>\n",
       "  <th>ma.L2.Births</th> <td>    0.4261</td> <td>    0.023</td> <td>   18.216</td> <td> 0.000</td> <td>    0.380</td> <td>    0.472</td>\n",
       "</tr>\n",
       "<tr>\n",
       "  <th>ma.L3.Births</th> <td>   -0.9752</td> <td>    0.033</td> <td>  -29.385</td> <td> 0.000</td> <td>   -1.040</td> <td>   -0.910</td>\n",
       "</tr>\n",
       "</table>\n",
       "<table class=\"simpletable\">\n",
       "<caption>Roots</caption>\n",
       "<tr>\n",
       "    <td></td>   <th>            Real</th>  <th>         Imaginary</th> <th>         Modulus</th>  <th>        Frequency</th>\n",
       "</tr>\n",
       "<tr>\n",
       "  <th>AR.1</th> <td>           1.0153</td> <td>          -0.0000j</td> <td>           1.0153</td> <td>          -0.0000</td>\n",
       "</tr>\n",
       "<tr>\n",
       "  <th>AR.2</th> <td>          -0.2786</td> <td>          -0.9773j</td> <td>           1.0163</td> <td>          -0.2942</td>\n",
       "</tr>\n",
       "<tr>\n",
       "  <th>AR.3</th> <td>          -0.2786</td> <td>          +0.9773j</td> <td>           1.0163</td> <td>           0.2942</td>\n",
       "</tr>\n",
       "<tr>\n",
       "  <th>MA.1</th> <td>          -0.2942</td> <td>          -0.9557j</td> <td>           1.0000</td> <td>          -0.2975</td>\n",
       "</tr>\n",
       "<tr>\n",
       "  <th>MA.2</th> <td>          -0.2942</td> <td>          +0.9557j</td> <td>           1.0000</td> <td>           0.2975</td>\n",
       "</tr>\n",
       "<tr>\n",
       "  <th>MA.3</th> <td>           1.0254</td> <td>          -0.0000j</td> <td>           1.0254</td> <td>          -0.0000</td>\n",
       "</tr>\n",
       "</table>"
      ],
      "text/plain": [
       "<class 'statsmodels.iolib.summary.Summary'>\n",
       "\"\"\"\n",
       "                              ARMA Model Results                              \n",
       "==============================================================================\n",
       "Dep. Variable:                 Births   No. Observations:                  292\n",
       "Model:                     ARMA(3, 3)   Log Likelihood                -979.522\n",
       "Method:                       css-mle   S.D. of innovations              6.880\n",
       "Date:                Tue, 26 Jan 2021   AIC                           1977.044\n",
       "Time:                        11:31:21   BIC                           2010.135\n",
       "Sample:                    01-01-1959   HQIC                          1990.299\n",
       "                         - 10-19-1959                                         \n",
       "================================================================================\n",
       "                   coef    std err          z      P>|z|      [0.025      0.975]\n",
       "--------------------------------------------------------------------------------\n",
       "const           40.6024      0.694     58.515      0.000      39.242      41.962\n",
       "x1               6.5200      1.642      3.971      0.000       3.302       9.738\n",
       "ar.L1.Births     0.4454      0.033     13.682      0.000       0.382       0.509\n",
       "ar.L2.Births    -0.4369      0.029    -14.956      0.000      -0.494      -0.380\n",
       "ar.L3.Births     0.9536      0.032     30.082      0.000       0.891       1.016\n",
       "ma.L1.Births    -0.3868      0.032    -12.271      0.000      -0.449      -0.325\n",
       "ma.L2.Births     0.4261      0.023     18.216      0.000       0.380       0.472\n",
       "ma.L3.Births    -0.9752      0.033    -29.385      0.000      -1.040      -0.910\n",
       "                                    Roots                                    \n",
       "=============================================================================\n",
       "                  Real          Imaginary           Modulus         Frequency\n",
       "-----------------------------------------------------------------------------\n",
       "AR.1            1.0153           -0.0000j            1.0153           -0.0000\n",
       "AR.2           -0.2786           -0.9773j            1.0163           -0.2942\n",
       "AR.3           -0.2786           +0.9773j            1.0163            0.2942\n",
       "MA.1           -0.2942           -0.9557j            1.0000           -0.2975\n",
       "MA.2           -0.2942           +0.9557j            1.0000            0.2975\n",
       "MA.3            1.0254           -0.0000j            1.0254           -0.0000\n",
       "-----------------------------------------------------------------------------\n",
       "\"\"\""
      ]
     },
     "execution_count": 108,
     "metadata": {},
     "output_type": "execute_result"
    }
   ],
   "source": [
    "model_ar_3_ma_3_Xm = ARIMA(df.Births,exog=df['month_feature'].values,order=(3,0,3))\n",
    "result_ar_3_ma_3_Xm=model_ar_3_ma_3_Xm.fit()\n",
    "result_ar_3_ma_3_Xm.summary()"
   ]
  },
  {
   "cell_type": "code",
   "execution_count": 109,
   "metadata": {},
   "outputs": [],
   "source": [
    "## this shows all the coeff are significant ,, seems like a good choice"
   ]
  },
  {
   "cell_type": "code",
   "execution_count": 110,
   "metadata": {},
   "outputs": [
    {
     "name": "stdout",
     "output_type": "stream",
     "text": [
      "ARMA(3,3) LLF: -1226.2081890231548 AIC:2468.4163780463095\n",
      "ARMAX(3,3) LLF: -979.5220532157739 AIC:1977.0441064315478\n"
     ]
    }
   ],
   "source": [
    "print(f'ARMA(3,3) LLF: {result_ar_3_ma_3.llf} AIC:{result_ar_3_ma_3.aic}')\n",
    "print(f'ARMAX(3,3) LLF: {result_ar_3_ma_3_Xm.llf} AIC:{result_ar_3_ma_3_Xm.aic}')"
   ]
  },
  {
   "cell_type": "code",
   "execution_count": 111,
   "metadata": {},
   "outputs": [],
   "source": [
    "## ARMA(3,3) has low AIC and Higher LLF than ARMA(3,3) - thus is a better model than ARMA(3,3)"
   ]
  },
  {
   "cell_type": "code",
   "execution_count": 112,
   "metadata": {},
   "outputs": [
    {
     "name": "stderr",
     "output_type": "stream",
     "text": [
      "/opt/anaconda3/lib/python3.8/site-packages/statsmodels/base/model.py:547: HessianInversionWarning: Inverting hessian failed, no bse or cov_params available\n",
      "  warn('Inverting hessian failed, no bse or cov_params '\n"
     ]
    },
    {
     "data": {
      "text/plain": [
       "0.0"
      ]
     },
     "execution_count": 112,
     "metadata": {},
     "output_type": "execute_result"
    }
   ],
   "source": [
    "## use LLR test to verify this\n",
    "llr_test(model_ar_3_ma_3, model_ar_3_ma_3_Xm)"
   ]
  },
  {
   "cell_type": "code",
   "execution_count": 113,
   "metadata": {},
   "outputs": [],
   "source": [
    "## thus, adding an Exogenous variable is indeed useful for this analysis"
   ]
  },
  {
   "cell_type": "code",
   "execution_count": 114,
   "metadata": {},
   "outputs": [],
   "source": [
    "## let us make prediciton using ARMAX(3,3)"
   ]
  },
  {
   "cell_type": "code",
   "execution_count": 116,
   "metadata": {},
   "outputs": [],
   "source": [
    "df_pred_x = result_ar_3_ma_3_Xm.predict(start_date,end_date,exog = df_test['month_feature'])"
   ]
  },
  {
   "cell_type": "code",
   "execution_count": 117,
   "metadata": {},
   "outputs": [
    {
     "data": {
      "image/png": "[encoded data removed]",
      "text/plain": [
       "<Figure size 1440x360 with 1 Axes>"
      ]
     },
     "metadata": {},
     "output_type": "display_data"
    }
   ],
   "source": [
    "## plotting the result\n",
    "\n",
    "df_pred_x[start_date:end_date].plot(figsize=(20,5),color='red')\n",
    "df_test.Births[start_date:end_date].plot(color='blue')\n",
    "plt.title('predictions vs actual',size=20)\n",
    "plt.legend(['Predicted','Actual'])\n",
    "plt.show()"
   ]
  },
  {
   "cell_type": "markdown",
   "metadata": {},
   "source": [
    "### AUTO-ARIMA without Exogenous Variable "
   ]
  },
  {
   "cell_type": "code",
   "execution_count": 118,
   "metadata": {},
   "outputs": [
    {
     "data": {
      "text/html": [
       "<div>\n",
       "<style scoped>\n",
       "    .dataframe tbody tr th:only-of-type {\n",
       "        vertical-align: middle;\n",
       "    }\n",
       "\n",
       "    .dataframe tbody tr th {\n",
       "        vertical-align: top;\n",
       "    }\n",
       "\n",
       "    .dataframe thead th {\n",
       "        text-align: right;\n",
       "    }\n",
       "</style>\n",
       "<table border=\"1\" class=\"dataframe\">\n",
       "  <thead>\n",
       "    <tr style=\"text-align: right;\">\n",
       "      <th></th>\n",
       "      <th>Births</th>\n",
       "      <th>month_feature</th>\n",
       "    </tr>\n",
       "    <tr>\n",
       "      <th>Date</th>\n",
       "      <th></th>\n",
       "      <th></th>\n",
       "    </tr>\n",
       "  </thead>\n",
       "  <tbody>\n",
       "    <tr>\n",
       "      <th>1959-01-01</th>\n",
       "      <td>35</td>\n",
       "      <td>0</td>\n",
       "    </tr>\n",
       "    <tr>\n",
       "      <th>1959-01-02</th>\n",
       "      <td>32</td>\n",
       "      <td>0</td>\n",
       "    </tr>\n",
       "    <tr>\n",
       "      <th>1959-01-03</th>\n",
       "      <td>30</td>\n",
       "      <td>0</td>\n",
       "    </tr>\n",
       "    <tr>\n",
       "      <th>1959-01-04</th>\n",
       "      <td>31</td>\n",
       "      <td>0</td>\n",
       "    </tr>\n",
       "    <tr>\n",
       "      <th>1959-01-05</th>\n",
       "      <td>44</td>\n",
       "      <td>0</td>\n",
       "    </tr>\n",
       "  </tbody>\n",
       "</table>\n",
       "</div>"
      ],
      "text/plain": [
       "            Births  month_feature\n",
       "Date                             \n",
       "1959-01-01      35              0\n",
       "1959-01-02      32              0\n",
       "1959-01-03      30              0\n",
       "1959-01-04      31              0\n",
       "1959-01-05      44              0"
      ]
     },
     "execution_count": 118,
     "metadata": {},
     "output_type": "execute_result"
    }
   ],
   "source": [
    "df.head()"
   ]
  },
  {
   "cell_type": "code",
   "execution_count": 132,
   "metadata": {},
   "outputs": [
    {
     "data": {
      "text/html": [
       "<div>\n",
       "<style scoped>\n",
       "    .dataframe tbody tr th:only-of-type {\n",
       "        vertical-align: middle;\n",
       "    }\n",
       "\n",
       "    .dataframe tbody tr th {\n",
       "        vertical-align: top;\n",
       "    }\n",
       "\n",
       "    .dataframe thead th {\n",
       "        text-align: right;\n",
       "    }\n",
       "</style>\n",
       "<table border=\"1\" class=\"dataframe\">\n",
       "  <thead>\n",
       "    <tr style=\"text-align: right;\">\n",
       "      <th></th>\n",
       "      <th>Births</th>\n",
       "      <th>month_feature</th>\n",
       "    </tr>\n",
       "    <tr>\n",
       "      <th>Date</th>\n",
       "      <th></th>\n",
       "      <th></th>\n",
       "    </tr>\n",
       "  </thead>\n",
       "  <tbody>\n",
       "    <tr>\n",
       "      <th>1959-10-20</th>\n",
       "      <td>42</td>\n",
       "      <td>1</td>\n",
       "    </tr>\n",
       "    <tr>\n",
       "      <th>1959-10-21</th>\n",
       "      <td>38</td>\n",
       "      <td>1</td>\n",
       "    </tr>\n",
       "    <tr>\n",
       "      <th>1959-10-22</th>\n",
       "      <td>47</td>\n",
       "      <td>1</td>\n",
       "    </tr>\n",
       "    <tr>\n",
       "      <th>1959-10-23</th>\n",
       "      <td>38</td>\n",
       "      <td>1</td>\n",
       "    </tr>\n",
       "    <tr>\n",
       "      <th>1959-10-24</th>\n",
       "      <td>36</td>\n",
       "      <td>1</td>\n",
       "    </tr>\n",
       "  </tbody>\n",
       "</table>\n",
       "</div>"
      ],
      "text/plain": [
       "            Births  month_feature\n",
       "Date                             \n",
       "1959-10-20      42              1\n",
       "1959-10-21      38              1\n",
       "1959-10-22      47              1\n",
       "1959-10-23      38              1\n",
       "1959-10-24      36              1"
      ]
     },
     "execution_count": 132,
     "metadata": {},
     "output_type": "execute_result"
    }
   ],
   "source": [
    "df_test.head()"
   ]
  },
  {
   "cell_type": "code",
   "execution_count": 133,
   "metadata": {},
   "outputs": [],
   "source": [
    "start_train = '1959-01-01'\n",
    "end_train = '1959-10-19'\n",
    "\n",
    "start_date = '1959-10-20'"
   ]
  },
  {
   "cell_type": "code",
   "execution_count": 187,
   "metadata": {},
   "outputs": [],
   "source": [
    "model_auto = auto_arima(df.Births[start_train:end_train],max_p=15,max_q=15,seasonal=False,stationary=True)\n",
    "df_auto_pred = pd.DataFrame(model_auto.predict(n_periods=len(df_test[start_date:end_date]),index=df_test[start_date:end_date].index))\n",
    "# df_auto_pred.plot(figsize=(20,5),color='red')\n"
   ]
  },
  {
   "cell_type": "code",
   "execution_count": 188,
   "metadata": {},
   "outputs": [],
   "source": [
    "df_auto_pred['actual_births'] = df_test['Births'].values"
   ]
  },
  {
   "cell_type": "code",
   "execution_count": 189,
   "metadata": {},
   "outputs": [
    {
     "data": {
      "text/plain": [
       "<matplotlib.axes._subplots.AxesSubplot at 0x7fae213c8070>"
      ]
     },
     "execution_count": 189,
     "metadata": {},
     "output_type": "execute_result"
    },
    {
     "data": {
      "image/png": "[encoded data removed]",
      "text/plain": [
       "<Figure size 432x288 with 1 Axes>"
      ]
     },
     "metadata": {},
     "output_type": "display_data"
    }
   ],
   "source": [
    "df_auto_pred.plot()"
   ]
  },
  {
   "cell_type": "code",
   "execution_count": 180,
   "metadata": {},
   "outputs": [],
   "source": [
    "## could not predict maybe because we have too few data ??"
   ]
  },
  {
   "cell_type": "code",
   "execution_count": 190,
   "metadata": {},
   "outputs": [],
   "source": [
    "## lets fit SARIMAX model"
   ]
  },
  {
   "cell_type": "code",
   "execution_count": 207,
   "metadata": {},
   "outputs": [
    {
     "name": "stderr",
     "output_type": "stream",
     "text": [
      "/opt/anaconda3/lib/python3.8/site-packages/statsmodels/tsa/base/tsa_model.py:159: ValueWarning: No frequency information was provided, so inferred frequency D will be used.\n",
      "  warnings.warn('No frequency information was'\n",
      "/opt/anaconda3/lib/python3.8/site-packages/statsmodels/tsa/base/tsa_model.py:159: ValueWarning: No frequency information was provided, so inferred frequency D will be used.\n",
      "  warnings.warn('No frequency information was'\n",
      "/opt/anaconda3/lib/python3.8/site-packages/statsmodels/base/model.py:567: ConvergenceWarning: Maximum Likelihood optimization failed to converge. Check mle_retvals\n",
      "  warn(\"Maximum Likelihood optimization failed to converge. \"\n"
     ]
    },
    {
     "data": {
      "text/html": [
       "<table class=\"simpletable\">\n",
       "<caption>SARIMAX Results</caption>\n",
       "<tr>\n",
       "  <th>Dep. Variable:</th>        <td>Births</td>      <th>  No. Observations:  </th>    <td>292</td>  \n",
       "</tr>\n",
       "<tr>\n",
       "  <th>Model:</th>           <td>SARIMAX(3, 0, 3)</td> <th>  Log Likelihood     </th> <td>-986.565</td>\n",
       "</tr>\n",
       "<tr>\n",
       "  <th>Date:</th>            <td>Tue, 26 Jan 2021</td> <th>  AIC                </th> <td>1989.130</td>\n",
       "</tr>\n",
       "<tr>\n",
       "  <th>Time:</th>                <td>12:41:06</td>     <th>  BIC                </th> <td>2018.544</td>\n",
       "</tr>\n",
       "<tr>\n",
       "  <th>Sample:</th>             <td>01-01-1959</td>    <th>  HQIC               </th> <td>2000.912</td>\n",
       "</tr>\n",
       "<tr>\n",
       "  <th></th>                   <td>- 10-19-1959</td>   <th>                     </th>     <td> </td>   \n",
       "</tr>\n",
       "<tr>\n",
       "  <th>Covariance Type:</th>        <td>opg</td>       <th>                     </th>     <td> </td>   \n",
       "</tr>\n",
       "</table>\n",
       "<table class=\"simpletable\">\n",
       "<tr>\n",
       "     <td></td>       <th>coef</th>     <th>std err</th>      <th>z</th>      <th>P>|z|</th>  <th>[0.025</th>    <th>0.975]</th>  \n",
       "</tr>\n",
       "<tr>\n",
       "  <th>x1</th>     <td>    4.4921</td> <td>    1.867</td> <td>    2.406</td> <td> 0.016</td> <td>    0.833</td> <td>    8.152</td>\n",
       "</tr>\n",
       "<tr>\n",
       "  <th>ar.L1</th>  <td>    2.0910</td> <td>    0.021</td> <td>   97.486</td> <td> 0.000</td> <td>    2.049</td> <td>    2.133</td>\n",
       "</tr>\n",
       "<tr>\n",
       "  <th>ar.L2</th>  <td>   -2.0814</td> <td>    0.040</td> <td>  -52.112</td> <td> 0.000</td> <td>   -2.160</td> <td>   -2.003</td>\n",
       "</tr>\n",
       "<tr>\n",
       "  <th>ar.L3</th>  <td>    0.9904</td> <td>    0.026</td> <td>   37.675</td> <td> 0.000</td> <td>    0.939</td> <td>    1.042</td>\n",
       "</tr>\n",
       "<tr>\n",
       "  <th>ma.L1</th>  <td>   -2.0372</td> <td>    0.107</td> <td>  -18.996</td> <td> 0.000</td> <td>   -2.247</td> <td>   -1.827</td>\n",
       "</tr>\n",
       "<tr>\n",
       "  <th>ma.L2</th>  <td>    2.0320</td> <td>    0.292</td> <td>    6.962</td> <td> 0.000</td> <td>    1.460</td> <td>    2.604</td>\n",
       "</tr>\n",
       "<tr>\n",
       "  <th>ma.L3</th>  <td>   -0.9604</td> <td>    0.185</td> <td>   -5.190</td> <td> 0.000</td> <td>   -1.323</td> <td>   -0.598</td>\n",
       "</tr>\n",
       "<tr>\n",
       "  <th>sigma2</th> <td>   48.7117</td> <td>    8.912</td> <td>    5.466</td> <td> 0.000</td> <td>   31.245</td> <td>   66.179</td>\n",
       "</tr>\n",
       "</table>\n",
       "<table class=\"simpletable\">\n",
       "<tr>\n",
       "  <th>Ljung-Box (Q):</th>          <td>44.75</td> <th>  Jarque-Bera (JB):  </th> <td>15.58</td>\n",
       "</tr>\n",
       "<tr>\n",
       "  <th>Prob(Q):</th>                <td>0.28</td>  <th>  Prob(JB):          </th> <td>0.00</td> \n",
       "</tr>\n",
       "<tr>\n",
       "  <th>Heteroskedasticity (H):</th> <td>0.83</td>  <th>  Skew:              </th> <td>0.54</td> \n",
       "</tr>\n",
       "<tr>\n",
       "  <th>Prob(H) (two-sided):</th>    <td>0.37</td>  <th>  Kurtosis:          </th> <td>3.35</td> \n",
       "</tr>\n",
       "</table><br/><br/>Warnings:<br/>[1] Covariance matrix calculated using the outer product of gradients (complex-step)."
      ],
      "text/plain": [
       "<class 'statsmodels.iolib.summary.Summary'>\n",
       "\"\"\"\n",
       "                               SARIMAX Results                                \n",
       "==============================================================================\n",
       "Dep. Variable:                 Births   No. Observations:                  292\n",
       "Model:               SARIMAX(3, 0, 3)   Log Likelihood                -986.565\n",
       "Date:                Tue, 26 Jan 2021   AIC                           1989.130\n",
       "Time:                        12:41:06   BIC                           2018.544\n",
       "Sample:                    01-01-1959   HQIC                          2000.912\n",
       "                         - 10-19-1959                                         \n",
       "Covariance Type:                  opg                                         \n",
       "==============================================================================\n",
       "                 coef    std err          z      P>|z|      [0.025      0.975]\n",
       "------------------------------------------------------------------------------\n",
       "x1             4.4921      1.867      2.406      0.016       0.833       8.152\n",
       "ar.L1          2.0910      0.021     97.486      0.000       2.049       2.133\n",
       "ar.L2         -2.0814      0.040    -52.112      0.000      -2.160      -2.003\n",
       "ar.L3          0.9904      0.026     37.675      0.000       0.939       1.042\n",
       "ma.L1         -2.0372      0.107    -18.996      0.000      -2.247      -1.827\n",
       "ma.L2          2.0320      0.292      6.962      0.000       1.460       2.604\n",
       "ma.L3         -0.9604      0.185     -5.190      0.000      -1.323      -0.598\n",
       "sigma2        48.7117      8.912      5.466      0.000      31.245      66.179\n",
       "===================================================================================\n",
       "Ljung-Box (Q):                       44.75   Jarque-Bera (JB):                15.58\n",
       "Prob(Q):                              0.28   Prob(JB):                         0.00\n",
       "Heteroskedasticity (H):               0.83   Skew:                             0.54\n",
       "Prob(H) (two-sided):                  0.37   Kurtosis:                         3.35\n",
       "===================================================================================\n",
       "\n",
       "Warnings:\n",
       "[1] Covariance matrix calculated using the outer product of gradients (complex-step).\n",
       "\"\"\""
      ]
     },
     "execution_count": 207,
     "metadata": {},
     "output_type": "execute_result"
    }
   ],
   "source": [
    "model_sarimax = SARIMAX(df.Births,order=(3,0,3),exog=df.month_feature.values)\n",
    "result_sarimax=model_sarimax.fit()\n",
    "result_sarimax.summary()"
   ]
  },
  {
   "cell_type": "code",
   "execution_count": 208,
   "metadata": {},
   "outputs": [],
   "source": [
    "output_pred = result_sarimax.predict(start_date,end_date,exog=df_test.month_feature.values)"
   ]
  },
  {
   "cell_type": "code",
   "execution_count": 209,
   "metadata": {},
   "outputs": [],
   "source": [
    "df_compare = pd.DataFrame(output_pred, columns=['predicted_births'])\n"
   ]
  },
  {
   "cell_type": "code",
   "execution_count": 210,
   "metadata": {},
   "outputs": [],
   "source": [
    "df_compare['actual_birth'] = df_test.Births"
   ]
  },
  {
   "cell_type": "code",
   "execution_count": 211,
   "metadata": {},
   "outputs": [
    {
     "data": {
      "image/png": "[encoded data removed]",
      "text/plain": [
       "<Figure size 432x288 with 1 Axes>"
      ]
     },
     "metadata": {},
     "output_type": "display_data"
    }
   ],
   "source": [
    "df_compare.plot(title='Actual vs Predicted using ARMA model from SARIMA')\n",
    "plt.show()"
   ]
  },
  {
   "cell_type": "code",
   "execution_count": 212,
   "metadata": {},
   "outputs": [
    {
     "data": {
      "text/html": [
       "<div>\n",
       "<style scoped>\n",
       "    .dataframe tbody tr th:only-of-type {\n",
       "        vertical-align: middle;\n",
       "    }\n",
       "\n",
       "    .dataframe tbody tr th {\n",
       "        vertical-align: top;\n",
       "    }\n",
       "\n",
       "    .dataframe thead th {\n",
       "        text-align: right;\n",
       "    }\n",
       "</style>\n",
       "<table border=\"1\" class=\"dataframe\">\n",
       "  <thead>\n",
       "    <tr style=\"text-align: right;\">\n",
       "      <th></th>\n",
       "      <th>predicted_births</th>\n",
       "      <th>actual_birth</th>\n",
       "    </tr>\n",
       "  </thead>\n",
       "  <tbody>\n",
       "    <tr>\n",
       "      <th>1959-10-20</th>\n",
       "      <td>47.991726</td>\n",
       "      <td>42</td>\n",
       "    </tr>\n",
       "    <tr>\n",
       "      <th>1959-10-21</th>\n",
       "      <td>46.865301</td>\n",
       "      <td>38</td>\n",
       "    </tr>\n",
       "    <tr>\n",
       "      <th>1959-10-22</th>\n",
       "      <td>46.203394</td>\n",
       "      <td>47</td>\n",
       "    </tr>\n",
       "    <tr>\n",
       "      <th>1959-10-23</th>\n",
       "      <td>46.594482</td>\n",
       "      <td>38</td>\n",
       "    </tr>\n",
       "    <tr>\n",
       "      <th>1959-10-24</th>\n",
       "      <td>47.674343</td>\n",
       "      <td>36</td>\n",
       "    </tr>\n",
       "    <tr>\n",
       "      <th>...</th>\n",
       "      <td>...</td>\n",
       "      <td>...</td>\n",
       "    </tr>\n",
       "    <tr>\n",
       "      <th>1959-12-27</th>\n",
       "      <td>43.337348</td>\n",
       "      <td>37</td>\n",
       "    </tr>\n",
       "    <tr>\n",
       "      <th>1959-12-28</th>\n",
       "      <td>43.518928</td>\n",
       "      <td>52</td>\n",
       "    </tr>\n",
       "    <tr>\n",
       "      <th>1959-12-29</th>\n",
       "      <td>42.958948</td>\n",
       "      <td>48</td>\n",
       "    </tr>\n",
       "    <tr>\n",
       "      <th>1959-12-30</th>\n",
       "      <td>42.165758</td>\n",
       "      <td>55</td>\n",
       "    </tr>\n",
       "    <tr>\n",
       "      <th>1959-12-31</th>\n",
       "      <td>41.852596</td>\n",
       "      <td>50</td>\n",
       "    </tr>\n",
       "  </tbody>\n",
       "</table>\n",
       "<p>73 rows × 2 columns</p>\n",
       "</div>"
      ],
      "text/plain": [
       "            predicted_births  actual_birth\n",
       "1959-10-20         47.991726            42\n",
       "1959-10-21         46.865301            38\n",
       "1959-10-22         46.203394            47\n",
       "1959-10-23         46.594482            38\n",
       "1959-10-24         47.674343            36\n",
       "...                      ...           ...\n",
       "1959-12-27         43.337348            37\n",
       "1959-12-28         43.518928            52\n",
       "1959-12-29         42.958948            48\n",
       "1959-12-30         42.165758            55\n",
       "1959-12-31         41.852596            50\n",
       "\n",
       "[73 rows x 2 columns]"
      ]
     },
     "execution_count": 212,
     "metadata": {},
     "output_type": "execute_result"
    }
   ],
   "source": [
    "df_compare"
   ]
  },
  {
   "cell_type": "code",
   "execution_count": null,
   "metadata": {},
   "outputs": [],
   "source": []
  }
 ],
 "metadata": {
  "kernelspec": {
   "display_name": "Python 3",
   "language": "python",
   "name": "python3"
  },
  "language_info": {
   "codemirror_mode": {
    "name": "ipython",
    "version": 3
   },
   "file_extension": ".py",
   "mimetype": "text/x-python",
   "name": "python",
   "nbconvert_exporter": "python",
   "pygments_lexer": "ipython3",
   "version": "3.8.3"
  }
 },
 "nbformat": 4,
 "nbformat_minor": 4
}
