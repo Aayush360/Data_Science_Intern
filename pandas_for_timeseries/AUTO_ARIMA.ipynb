{
 "cells": [
  {
   "cell_type": "code",
   "execution_count": 2,
   "metadata": {},
   "outputs": [],
   "source": [
    "import pandas as pd\n",
    "import numpy as np\n",
    "import matplotlib.pyplot as plt\n",
    "import seaborn as sns\n",
    "\n",
    "import statsmodels.graphics.tsaplots as sgt\n",
    "import statsmodels.tsa.stattools as sts\n",
    "from statsmodels.tsa.arima_model import ARIMA\n",
    "from scipy.stats.distributions import chi2\n",
    "import yfinance\n",
    "\n",
    "from math import sqrt\n",
    "sns.set()"
   ]
  },
  {
   "cell_type": "markdown",
   "metadata": {},
   "source": [
    "### Loading the data"
   ]
  },
  {
   "cell_type": "code",
   "execution_count": 3,
   "metadata": {},
   "outputs": [
    {
     "name": "stdout",
     "output_type": "stream",
     "text": [
      "[*********************100%***********************]  4 of 4 completed\n"
     ]
    }
   ],
   "source": [
    "raw_data = yfinance.download(tickers=\"^GSPC ^FTSE ^N225 ^GDAXI\", start=\"1994-01-07\", end=\"2018-01-25\",\n",
    "                            interval=\"1d\", group_by=\"ticker\", auto_adjust=True, treads=True)"
   ]
  },
  {
   "cell_type": "code",
   "execution_count": 4,
   "metadata": {},
   "outputs": [],
   "source": [
    "df_comp = raw_data.copy()"
   ]
  },
  {
   "cell_type": "code",
   "execution_count": 5,
   "metadata": {},
   "outputs": [
    {
     "data": {
      "text/html": [
       "<div>\n",
       "<style scoped>\n",
       "    .dataframe tbody tr th:only-of-type {\n",
       "        vertical-align: middle;\n",
       "    }\n",
       "\n",
       "    .dataframe tbody tr th {\n",
       "        vertical-align: top;\n",
       "    }\n",
       "\n",
       "    .dataframe thead tr th {\n",
       "        text-align: left;\n",
       "    }\n",
       "\n",
       "    .dataframe thead tr:last-of-type th {\n",
       "        text-align: right;\n",
       "    }\n",
       "</style>\n",
       "<table border=\"1\" class=\"dataframe\">\n",
       "  <thead>\n",
       "    <tr>\n",
       "      <th></th>\n",
       "      <th colspan=\"5\" halign=\"left\">^GSPC</th>\n",
       "      <th colspan=\"5\" halign=\"left\">^N225</th>\n",
       "      <th colspan=\"5\" halign=\"left\">^FTSE</th>\n",
       "      <th colspan=\"5\" halign=\"left\">^GDAXI</th>\n",
       "    </tr>\n",
       "    <tr>\n",
       "      <th></th>\n",
       "      <th>Open</th>\n",
       "      <th>High</th>\n",
       "      <th>Low</th>\n",
       "      <th>Close</th>\n",
       "      <th>Volume</th>\n",
       "      <th>Open</th>\n",
       "      <th>High</th>\n",
       "      <th>Low</th>\n",
       "      <th>Close</th>\n",
       "      <th>Volume</th>\n",
       "      <th>Open</th>\n",
       "      <th>High</th>\n",
       "      <th>Low</th>\n",
       "      <th>Close</th>\n",
       "      <th>Volume</th>\n",
       "      <th>Open</th>\n",
       "      <th>High</th>\n",
       "      <th>Low</th>\n",
       "      <th>Close</th>\n",
       "      <th>Volume</th>\n",
       "    </tr>\n",
       "    <tr>\n",
       "      <th>Date</th>\n",
       "      <th></th>\n",
       "      <th></th>\n",
       "      <th></th>\n",
       "      <th></th>\n",
       "      <th></th>\n",
       "      <th></th>\n",
       "      <th></th>\n",
       "      <th></th>\n",
       "      <th></th>\n",
       "      <th></th>\n",
       "      <th></th>\n",
       "      <th></th>\n",
       "      <th></th>\n",
       "      <th></th>\n",
       "      <th></th>\n",
       "      <th></th>\n",
       "      <th></th>\n",
       "      <th></th>\n",
       "      <th></th>\n",
       "      <th></th>\n",
       "    </tr>\n",
       "  </thead>\n",
       "  <tbody>\n",
       "    <tr>\n",
       "      <th>1994-01-06</th>\n",
       "      <td>467.549988</td>\n",
       "      <td>469.000000</td>\n",
       "      <td>467.019989</td>\n",
       "      <td>467.119995</td>\n",
       "      <td>365960000.0</td>\n",
       "      <td>NaN</td>\n",
       "      <td>NaN</td>\n",
       "      <td>NaN</td>\n",
       "      <td>NaN</td>\n",
       "      <td>NaN</td>\n",
       "      <td>3355.300049</td>\n",
       "      <td>3407.699951</td>\n",
       "      <td>3355.300049</td>\n",
       "      <td>3403.000000</td>\n",
       "      <td>0.0</td>\n",
       "      <td>2228.090088</td>\n",
       "      <td>2228.489990</td>\n",
       "      <td>2206.459961</td>\n",
       "      <td>2220.629883</td>\n",
       "      <td>0.0</td>\n",
       "    </tr>\n",
       "    <tr>\n",
       "      <th>1994-01-07</th>\n",
       "      <td>467.089996</td>\n",
       "      <td>470.260010</td>\n",
       "      <td>467.029999</td>\n",
       "      <td>469.899994</td>\n",
       "      <td>324920000.0</td>\n",
       "      <td>17842.980469</td>\n",
       "      <td>18131.410156</td>\n",
       "      <td>17787.480469</td>\n",
       "      <td>18124.009766</td>\n",
       "      <td>0.0</td>\n",
       "      <td>3401.399902</td>\n",
       "      <td>3446.800049</td>\n",
       "      <td>3398.699951</td>\n",
       "      <td>3446.000000</td>\n",
       "      <td>0.0</td>\n",
       "      <td>2218.959961</td>\n",
       "      <td>2227.639893</td>\n",
       "      <td>2201.820068</td>\n",
       "      <td>2224.949951</td>\n",
       "      <td>0.0</td>\n",
       "    </tr>\n",
       "    <tr>\n",
       "      <th>1994-01-10</th>\n",
       "      <td>469.899994</td>\n",
       "      <td>475.269989</td>\n",
       "      <td>469.549988</td>\n",
       "      <td>475.269989</td>\n",
       "      <td>319490000.0</td>\n",
       "      <td>18186.519531</td>\n",
       "      <td>18567.060547</td>\n",
       "      <td>18186.519531</td>\n",
       "      <td>18443.439453</td>\n",
       "      <td>0.0</td>\n",
       "      <td>3465.699951</td>\n",
       "      <td>3468.100098</td>\n",
       "      <td>3430.000000</td>\n",
       "      <td>3440.600098</td>\n",
       "      <td>0.0</td>\n",
       "      <td>2231.840088</td>\n",
       "      <td>2238.010010</td>\n",
       "      <td>2222.000000</td>\n",
       "      <td>2225.000000</td>\n",
       "      <td>0.0</td>\n",
       "    </tr>\n",
       "    <tr>\n",
       "      <th>1994-01-11</th>\n",
       "      <td>475.269989</td>\n",
       "      <td>475.279999</td>\n",
       "      <td>473.269989</td>\n",
       "      <td>474.130005</td>\n",
       "      <td>305490000.0</td>\n",
       "      <td>18481.849609</td>\n",
       "      <td>18671.669922</td>\n",
       "      <td>18373.039062</td>\n",
       "      <td>18485.250000</td>\n",
       "      <td>0.0</td>\n",
       "      <td>3442.500000</td>\n",
       "      <td>3442.500000</td>\n",
       "      <td>3413.500000</td>\n",
       "      <td>3413.800049</td>\n",
       "      <td>0.0</td>\n",
       "      <td>2225.429932</td>\n",
       "      <td>2235.610107</td>\n",
       "      <td>2225.179932</td>\n",
       "      <td>2228.100098</td>\n",
       "      <td>0.0</td>\n",
       "    </tr>\n",
       "    <tr>\n",
       "      <th>1994-01-12</th>\n",
       "      <td>474.130005</td>\n",
       "      <td>475.059998</td>\n",
       "      <td>472.140015</td>\n",
       "      <td>474.170013</td>\n",
       "      <td>310690000.0</td>\n",
       "      <td>18447.339844</td>\n",
       "      <td>18807.080078</td>\n",
       "      <td>18301.929688</td>\n",
       "      <td>18793.880859</td>\n",
       "      <td>0.0</td>\n",
       "      <td>3394.800049</td>\n",
       "      <td>3402.399902</td>\n",
       "      <td>3372.000000</td>\n",
       "      <td>3372.000000</td>\n",
       "      <td>0.0</td>\n",
       "      <td>2227.120117</td>\n",
       "      <td>2227.790039</td>\n",
       "      <td>2182.060059</td>\n",
       "      <td>2182.060059</td>\n",
       "      <td>0.0</td>\n",
       "    </tr>\n",
       "  </tbody>\n",
       "</table>\n",
       "</div>"
      ],
      "text/plain": [
       "                 ^GSPC                                                   \\\n",
       "                  Open        High         Low       Close       Volume   \n",
       "Date                                                                      \n",
       "1994-01-06  467.549988  469.000000  467.019989  467.119995  365960000.0   \n",
       "1994-01-07  467.089996  470.260010  467.029999  469.899994  324920000.0   \n",
       "1994-01-10  469.899994  475.269989  469.549988  475.269989  319490000.0   \n",
       "1994-01-11  475.269989  475.279999  473.269989  474.130005  305490000.0   \n",
       "1994-01-12  474.130005  475.059998  472.140015  474.170013  310690000.0   \n",
       "\n",
       "                   ^N225                                                   \\\n",
       "                    Open          High           Low         Close Volume   \n",
       "Date                                                                        \n",
       "1994-01-06           NaN           NaN           NaN           NaN    NaN   \n",
       "1994-01-07  17842.980469  18131.410156  17787.480469  18124.009766    0.0   \n",
       "1994-01-10  18186.519531  18567.060547  18186.519531  18443.439453    0.0   \n",
       "1994-01-11  18481.849609  18671.669922  18373.039062  18485.250000    0.0   \n",
       "1994-01-12  18447.339844  18807.080078  18301.929688  18793.880859    0.0   \n",
       "\n",
       "                  ^FTSE                                                \\\n",
       "                   Open         High          Low        Close Volume   \n",
       "Date                                                                    \n",
       "1994-01-06  3355.300049  3407.699951  3355.300049  3403.000000    0.0   \n",
       "1994-01-07  3401.399902  3446.800049  3398.699951  3446.000000    0.0   \n",
       "1994-01-10  3465.699951  3468.100098  3430.000000  3440.600098    0.0   \n",
       "1994-01-11  3442.500000  3442.500000  3413.500000  3413.800049    0.0   \n",
       "1994-01-12  3394.800049  3402.399902  3372.000000  3372.000000    0.0   \n",
       "\n",
       "                 ^GDAXI                                                \n",
       "                   Open         High          Low        Close Volume  \n",
       "Date                                                                   \n",
       "1994-01-06  2228.090088  2228.489990  2206.459961  2220.629883    0.0  \n",
       "1994-01-07  2218.959961  2227.639893  2201.820068  2224.949951    0.0  \n",
       "1994-01-10  2231.840088  2238.010010  2222.000000  2225.000000    0.0  \n",
       "1994-01-11  2225.429932  2235.610107  2225.179932  2228.100098    0.0  \n",
       "1994-01-12  2227.120117  2227.790039  2182.060059  2182.060059    0.0  "
      ]
     },
     "execution_count": 5,
     "metadata": {},
     "output_type": "execute_result"
    }
   ],
   "source": [
    "df_comp.head()"
   ]
  },
  {
   "cell_type": "code",
   "execution_count": 8,
   "metadata": {},
   "outputs": [],
   "source": [
    "df_comp['spx'] = df_comp['^GSPC'].Close[:]\n",
    "df_comp['dax'] = df_comp['^GDAXI'].Close[:]\n",
    "df_comp['ftse'] = df_comp['^FTSE'].Close[:]\n",
    "df_comp['nikkei'] = df_comp['^N225'].Close[:]\n"
   ]
  },
  {
   "cell_type": "code",
   "execution_count": 11,
   "metadata": {},
   "outputs": [],
   "source": [
    "df_comp = df_comp.iloc[1:]\n",
    "del df_comp['^GSPC']\n",
    "del df_comp['^GDAXI']\n",
    "del df_comp['^FTSE']\n",
    "del df_comp['^N225']\n",
    "\n",
    "df_comp = df_comp.asfreq('b')\n",
    "df_comp = df_comp.fillna(method='ffill')\n",
    "\n"
   ]
  },
  {
   "cell_type": "markdown",
   "metadata": {},
   "source": [
    "### Creating Returns"
   ]
  },
  {
   "cell_type": "code",
   "execution_count": 13,
   "metadata": {},
   "outputs": [],
   "source": [
    "df_comp['ret_spx'] =df_comp['spx'].pct_change(1)*100\n",
    "df_comp['ret_ftse'] =df_comp['ftse'].pct_change(1)*100\n",
    "df_comp['ret_dax'] =df_comp['dax'].pct_change(1)*100\n",
    "df_comp['ret_nikkei'] =df_comp['nikkei'].pct_change(1)*100\n"
   ]
  },
  {
   "cell_type": "markdown",
   "metadata": {},
   "source": [
    "### Splitting the data"
   ]
  },
  {
   "cell_type": "code",
   "execution_count": 14,
   "metadata": {},
   "outputs": [],
   "source": [
    "size = int(len(df_comp)*0.8)\n",
    "df = df_comp.iloc[:size]\n",
    "df_test = df_comp.iloc[size:]"
   ]
  },
  {
   "cell_type": "markdown",
   "metadata": {},
   "source": [
    "### Fitting the Model"
   ]
  },
  {
   "cell_type": "code",
   "execution_count": 15,
   "metadata": {},
   "outputs": [],
   "source": [
    "from pmdarima.arima import auto_arima"
   ]
  },
  {
   "cell_type": "code",
   "execution_count": 17,
   "metadata": {},
   "outputs": [],
   "source": [
    "## the default given by the model package is not always optimal or resonable"
   ]
  },
  {
   "cell_type": "code",
   "execution_count": 16,
   "metadata": {},
   "outputs": [],
   "source": [
    "model_auto = auto_arima(df_comp.ret_ftse[1:])"
   ]
  },
  {
   "cell_type": "code",
   "execution_count": 18,
   "metadata": {},
   "outputs": [
    {
     "data": {
      "text/plain": [
       "ARIMA(order=(4, 0, 5), scoring_args={}, suppress_warnings=True)"
      ]
     },
     "execution_count": 18,
     "metadata": {},
     "output_type": "execute_result"
    }
   ],
   "source": [
    "model_auto"
   ]
  },
  {
   "cell_type": "code",
   "execution_count": 19,
   "metadata": {},
   "outputs": [
    {
     "data": {
      "text/html": [
       "<table class=\"simpletable\">\n",
       "<caption>SARIMAX Results</caption>\n",
       "<tr>\n",
       "  <th>Dep. Variable:</th>           <td>y</td>        <th>  No. Observations:  </th>   <td>6273</td>   \n",
       "</tr>\n",
       "<tr>\n",
       "  <th>Model:</th>           <td>SARIMAX(4, 0, 5)</td> <th>  Log Likelihood     </th> <td>-9553.097</td>\n",
       "</tr>\n",
       "<tr>\n",
       "  <th>Date:</th>            <td>Wed, 20 Jan 2021</td> <th>  AIC                </th> <td>19128.193</td>\n",
       "</tr>\n",
       "<tr>\n",
       "  <th>Time:</th>                <td>14:22:59</td>     <th>  BIC                </th> <td>19202.377</td>\n",
       "</tr>\n",
       "<tr>\n",
       "  <th>Sample:</th>                  <td>0</td>        <th>  HQIC               </th> <td>19153.897</td>\n",
       "</tr>\n",
       "<tr>\n",
       "  <th></th>                      <td> - 6273</td>     <th>                     </th>     <td> </td>    \n",
       "</tr>\n",
       "<tr>\n",
       "  <th>Covariance Type:</th>        <td>opg</td>       <th>                     </th>     <td> </td>    \n",
       "</tr>\n",
       "</table>\n",
       "<table class=\"simpletable\">\n",
       "<tr>\n",
       "      <td></td>         <th>coef</th>     <th>std err</th>      <th>z</th>      <th>P>|z|</th>  <th>[0.025</th>    <th>0.975]</th>  \n",
       "</tr>\n",
       "<tr>\n",
       "  <th>intercept</th> <td>    0.0270</td> <td>    0.020</td> <td>    1.347</td> <td> 0.178</td> <td>   -0.012</td> <td>    0.066</td>\n",
       "</tr>\n",
       "<tr>\n",
       "  <th>ar.L1</th>     <td>   -0.0124</td> <td>    0.078</td> <td>   -0.159</td> <td> 0.874</td> <td>   -0.165</td> <td>    0.140</td>\n",
       "</tr>\n",
       "<tr>\n",
       "  <th>ar.L2</th>     <td>   -0.5613</td> <td>    0.077</td> <td>   -7.271</td> <td> 0.000</td> <td>   -0.713</td> <td>   -0.410</td>\n",
       "</tr>\n",
       "<tr>\n",
       "  <th>ar.L3</th>     <td>   -0.2105</td> <td>    0.069</td> <td>   -3.058</td> <td> 0.002</td> <td>   -0.345</td> <td>   -0.076</td>\n",
       "</tr>\n",
       "<tr>\n",
       "  <th>ar.L4</th>     <td>    0.2798</td> <td>    0.075</td> <td>    3.741</td> <td> 0.000</td> <td>    0.133</td> <td>    0.426</td>\n",
       "</tr>\n",
       "<tr>\n",
       "  <th>ma.L1</th>     <td>   -0.0063</td> <td>    0.078</td> <td>   -0.081</td> <td> 0.935</td> <td>   -0.159</td> <td>    0.146</td>\n",
       "</tr>\n",
       "<tr>\n",
       "  <th>ma.L2</th>     <td>    0.5129</td> <td>    0.078</td> <td>    6.600</td> <td> 0.000</td> <td>    0.361</td> <td>    0.665</td>\n",
       "</tr>\n",
       "<tr>\n",
       "  <th>ma.L3</th>     <td>    0.1320</td> <td>    0.067</td> <td>    1.966</td> <td> 0.049</td> <td>    0.000</td> <td>    0.264</td>\n",
       "</tr>\n",
       "<tr>\n",
       "  <th>ma.L4</th>     <td>   -0.2819</td> <td>    0.074</td> <td>   -3.826</td> <td> 0.000</td> <td>   -0.426</td> <td>   -0.137</td>\n",
       "</tr>\n",
       "<tr>\n",
       "  <th>ma.L5</th>     <td>   -0.0886</td> <td>    0.008</td> <td>  -10.478</td> <td> 0.000</td> <td>   -0.105</td> <td>   -0.072</td>\n",
       "</tr>\n",
       "<tr>\n",
       "  <th>sigma2</th>    <td>    1.2292</td> <td>    0.012</td> <td>  104.077</td> <td> 0.000</td> <td>    1.206</td> <td>    1.252</td>\n",
       "</tr>\n",
       "</table>\n",
       "<table class=\"simpletable\">\n",
       "<tr>\n",
       "  <th>Ljung-Box (Q):</th>          <td>70.57</td> <th>  Jarque-Bera (JB):  </th> <td>8753.92</td>\n",
       "</tr>\n",
       "<tr>\n",
       "  <th>Prob(Q):</th>                <td>0.00</td>  <th>  Prob(JB):          </th>  <td>0.00</td>  \n",
       "</tr>\n",
       "<tr>\n",
       "  <th>Heteroskedasticity (H):</th> <td>0.87</td>  <th>  Skew:              </th>  <td>-0.18</td> \n",
       "</tr>\n",
       "<tr>\n",
       "  <th>Prob(H) (two-sided):</th>    <td>0.00</td>  <th>  Kurtosis:          </th>  <td>8.78</td>  \n",
       "</tr>\n",
       "</table><br/><br/>Warnings:<br/>[1] Covariance matrix calculated using the outer product of gradients (complex-step)."
      ],
      "text/plain": [
       "<class 'statsmodels.iolib.summary.Summary'>\n",
       "\"\"\"\n",
       "                               SARIMAX Results                                \n",
       "==============================================================================\n",
       "Dep. Variable:                      y   No. Observations:                 6273\n",
       "Model:               SARIMAX(4, 0, 5)   Log Likelihood               -9553.097\n",
       "Date:                Wed, 20 Jan 2021   AIC                          19128.193\n",
       "Time:                        14:22:59   BIC                          19202.377\n",
       "Sample:                             0   HQIC                         19153.897\n",
       "                               - 6273                                         \n",
       "Covariance Type:                  opg                                         \n",
       "==============================================================================\n",
       "                 coef    std err          z      P>|z|      [0.025      0.975]\n",
       "------------------------------------------------------------------------------\n",
       "intercept      0.0270      0.020      1.347      0.178      -0.012       0.066\n",
       "ar.L1         -0.0124      0.078     -0.159      0.874      -0.165       0.140\n",
       "ar.L2         -0.5613      0.077     -7.271      0.000      -0.713      -0.410\n",
       "ar.L3         -0.2105      0.069     -3.058      0.002      -0.345      -0.076\n",
       "ar.L4          0.2798      0.075      3.741      0.000       0.133       0.426\n",
       "ma.L1         -0.0063      0.078     -0.081      0.935      -0.159       0.146\n",
       "ma.L2          0.5129      0.078      6.600      0.000       0.361       0.665\n",
       "ma.L3          0.1320      0.067      1.966      0.049       0.000       0.264\n",
       "ma.L4         -0.2819      0.074     -3.826      0.000      -0.426      -0.137\n",
       "ma.L5         -0.0886      0.008    -10.478      0.000      -0.105      -0.072\n",
       "sigma2         1.2292      0.012    104.077      0.000       1.206       1.252\n",
       "===================================================================================\n",
       "Ljung-Box (Q):                       70.57   Jarque-Bera (JB):              8753.92\n",
       "Prob(Q):                              0.00   Prob(JB):                         0.00\n",
       "Heteroskedasticity (H):               0.87   Skew:                            -0.18\n",
       "Prob(H) (two-sided):                  0.00   Kurtosis:                         8.78\n",
       "===================================================================================\n",
       "\n",
       "Warnings:\n",
       "[1] Covariance matrix calculated using the outer product of gradients (complex-step).\n",
       "\"\"\""
      ]
     },
     "execution_count": 19,
     "metadata": {},
     "output_type": "execute_result"
    }
   ],
   "source": [
    "model_auto.summary()"
   ]
  },
  {
   "cell_type": "code",
   "execution_count": 20,
   "metadata": {},
   "outputs": [],
   "source": [
    "## suggest this is ARMA(4,5)\n",
    "\n",
    "## sample goes from 0 - 6273 # thus we re using all the elements\n",
    "\n",
    "## AUTO_ARIMA automatically splits the data, validate a model choice and then return the results "
   ]
  },
  {
   "cell_type": "code",
   "execution_count": null,
   "metadata": {},
   "outputs": [],
   "source": []
  },
  {
   "cell_type": "code",
   "execution_count": 21,
   "metadata": {},
   "outputs": [
    {
     "data": {
      "text/plain": [
       "6274"
      ]
     },
     "execution_count": 21,
     "metadata": {},
     "output_type": "execute_result"
    }
   ],
   "source": [
    "## comments:\n",
    "\n",
    "## while performing manual analysis, ARMA(4,5) was not the preferred model of choice --we disregarded it as some of its\n",
    "## coeff were not signoficant as we can see in above tabel as well \n",
    "\n",
    "## auto_arima only considers the single features the AIC -- THE lower the AIC the better the fit regeardless of sig\n",
    "## of some coefficients -- drawback of auto_arima\n",
    "\n",
    "## however empirical reasearch has sometime shown that omitting certain lags can be beneficial in the model estimation\n",
    "## when clustering is apparent \n",
    "\n",
    "## we could have easily overfitted while going through the models in previous section exampple\n",
    "## thus we should be open-minded ablut the result of the methods\n",
    "\n",
    "## The default argument of the method restrict the number of AR and MA compenet we are willing to include --\n",
    "## we might be simply excluding the model we considered best while fitting the model in the previous section\n",
    "\n"
   ]
  },
  {
   "cell_type": "code",
   "execution_count": null,
   "metadata": {},
   "outputs": [],
   "source": [
    "model_auto = auto_arima(df_comp.ret_ftse[1:],exogenous = df_comp[['ret_spx','ret_dax','ret_nikkei']][1:],m=5,\n",
    "                       max_order=None, max_p=7, max_q = 7, max_d=2, max_P=4, max_Q=4,max_D = 2, maxiter=50,\n",
    "                       alpha=0.05, n_jobs=-1, trend='ct', information_criterion='oob', \n",
    "                        out_of_sample_size=int(len(df_comp)*0.2))"
   ]
  },
  {
   "cell_type": "code",
   "execution_count": null,
   "metadata": {},
   "outputs": [],
   "source": [
    "## fewer non-seasonal lags than the default counterpart \n",
    "## contains exog var and seasonal componet thus diff than original best fit \n",
    "## drift coeff-- linear trend coefficient + intercept ---- > ct \n",
    "## AIC value has also gone down"
   ]
  },
  {
   "cell_type": "code",
   "execution_count": null,
   "metadata": {},
   "outputs": [],
   "source": []
  },
  {
   "cell_type": "code",
   "execution_count": null,
   "metadata": {},
   "outputs": [],
   "source": []
  }
 ],
 "metadata": {
  "kernelspec": {
   "display_name": "Python 3",
   "language": "python",
   "name": "python3"
  },
  "language_info": {
   "codemirror_mode": {
    "name": "ipython",
    "version": 3
   },
   "file_extension": ".py",
   "mimetype": "text/x-python",
   "name": "python",
   "nbconvert_exporter": "python",
   "pygments_lexer": "ipython3",
   "version": "3.8.3"
  }
 },
 "nbformat": 4,
 "nbformat_minor": 4
}
