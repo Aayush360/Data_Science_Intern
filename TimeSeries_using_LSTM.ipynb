{
  "nbformat": 4,
  "nbformat_minor": 0,
  "metadata": {
    "colab": {
      "name": "TimeSeries_using_LSTM.ipynb",
      "provenance": [],
      "authorship_tag": "ABX9TyOpfNcxIiQoVCtGJcOpAUEa",
      "include_colab_link": true
    },
    "kernelspec": {
      "name": "python3",
      "display_name": "Python 3"
    },
    "accelerator": "GPU"
  },
  "cells": [
    {
      "cell_type": "markdown",
      "metadata": {
        "id": "view-in-github",
        "colab_type": "text"
      },
      "source": [
        "<a href=\"https://colab.research.google.com/github/Aayush360/Data_Science_Intern/blob/master/TimeSeries_using_LSTM.ipynb\" target=\"_parent\"><img src=\"https://colab.research.google.com/assets/colab-badge.svg\" alt=\"Open In Colab\"/></a>"
      ]
    },
    {
      "cell_type": "code",
      "metadata": {
        "id": "GimelxLgRvk4"
      },
      "source": [
        "## Multivariate TimeSeries Analysis using LSTM --- Implemntation from AIEngineering Youtube Channel "
      ],
      "execution_count": 1,
      "outputs": []
    },
    {
      "cell_type": "code",
      "metadata": {
        "id": "wpUmqWyuSckd"
      },
      "source": [
        "## notebook imports"
      ],
      "execution_count": 2,
      "outputs": []
    },
    {
      "cell_type": "code",
      "metadata": {
        "id": "lPokiGaSSeoV"
      },
      "source": [
        "import pandas as pd\n",
        "import matplotlib as mpl\n",
        "import matplotlib.pyplot as plt\n",
        "from sklearn.preprocessing import MinMaxScaler,StandardScaler\n",
        "from keras.preprocessing.sequence import TimeseriesGenerator\n",
        "\n",
        "from sklearn.model_selection import train_test_split\n",
        "import tensorflow as tf\n",
        "\n",
        "\n",
        "mpl.rcParams['figure.figsize']= (10,8)\n",
        "mpl.rcParams['axes.grid']=False"
      ],
      "execution_count": 39,
      "outputs": []
    },
    {
      "cell_type": "code",
      "metadata": {
        "id": "fVRy5Bm1TK1w"
      },
      "source": [
        "# loading the data\n",
        "df = pd.read_csv('https://archive.ics.uci.edu/ml/machine-learning-databases/00374/energydata_complete.csv')\n"
      ],
      "execution_count": 4,
      "outputs": []
    },
    {
      "cell_type": "code",
      "metadata": {
        "colab": {
          "base_uri": "https://localhost:8080/",
          "height": 394
        },
        "id": "PE5QrEFxThvT",
        "outputId": "ec764c31-a087-4957-cedf-4dca6ca9fd55"
      },
      "source": [
        "df.head()"
      ],
      "execution_count": 5,
      "outputs": [
        {
          "output_type": "execute_result",
          "data": {
            "text/html": [
              "<div>\n",
              "<style scoped>\n",
              "    .dataframe tbody tr th:only-of-type {\n",
              "        vertical-align: middle;\n",
              "    }\n",
              "\n",
              "    .dataframe tbody tr th {\n",
              "        vertical-align: top;\n",
              "    }\n",
              "\n",
              "    .dataframe thead th {\n",
              "        text-align: right;\n",
              "    }\n",
              "</style>\n",
              "<table border=\"1\" class=\"dataframe\">\n",
              "  <thead>\n",
              "    <tr style=\"text-align: right;\">\n",
              "      <th></th>\n",
              "      <th>date</th>\n",
              "      <th>Appliances</th>\n",
              "      <th>lights</th>\n",
              "      <th>T1</th>\n",
              "      <th>RH_1</th>\n",
              "      <th>T2</th>\n",
              "      <th>RH_2</th>\n",
              "      <th>T3</th>\n",
              "      <th>RH_3</th>\n",
              "      <th>T4</th>\n",
              "      <th>RH_4</th>\n",
              "      <th>T5</th>\n",
              "      <th>RH_5</th>\n",
              "      <th>T6</th>\n",
              "      <th>RH_6</th>\n",
              "      <th>T7</th>\n",
              "      <th>RH_7</th>\n",
              "      <th>T8</th>\n",
              "      <th>RH_8</th>\n",
              "      <th>T9</th>\n",
              "      <th>RH_9</th>\n",
              "      <th>T_out</th>\n",
              "      <th>Press_mm_hg</th>\n",
              "      <th>RH_out</th>\n",
              "      <th>Windspeed</th>\n",
              "      <th>Visibility</th>\n",
              "      <th>Tdewpoint</th>\n",
              "      <th>rv1</th>\n",
              "      <th>rv2</th>\n",
              "    </tr>\n",
              "  </thead>\n",
              "  <tbody>\n",
              "    <tr>\n",
              "      <th>0</th>\n",
              "      <td>2016-01-11 17:00:00</td>\n",
              "      <td>60</td>\n",
              "      <td>30</td>\n",
              "      <td>19.89</td>\n",
              "      <td>47.596667</td>\n",
              "      <td>19.2</td>\n",
              "      <td>44.790000</td>\n",
              "      <td>19.79</td>\n",
              "      <td>44.730000</td>\n",
              "      <td>19.000000</td>\n",
              "      <td>45.566667</td>\n",
              "      <td>17.166667</td>\n",
              "      <td>55.20</td>\n",
              "      <td>7.026667</td>\n",
              "      <td>84.256667</td>\n",
              "      <td>17.200000</td>\n",
              "      <td>41.626667</td>\n",
              "      <td>18.2</td>\n",
              "      <td>48.900000</td>\n",
              "      <td>17.033333</td>\n",
              "      <td>45.53</td>\n",
              "      <td>6.600000</td>\n",
              "      <td>733.5</td>\n",
              "      <td>92.0</td>\n",
              "      <td>7.000000</td>\n",
              "      <td>63.000000</td>\n",
              "      <td>5.3</td>\n",
              "      <td>13.275433</td>\n",
              "      <td>13.275433</td>\n",
              "    </tr>\n",
              "    <tr>\n",
              "      <th>1</th>\n",
              "      <td>2016-01-11 17:10:00</td>\n",
              "      <td>60</td>\n",
              "      <td>30</td>\n",
              "      <td>19.89</td>\n",
              "      <td>46.693333</td>\n",
              "      <td>19.2</td>\n",
              "      <td>44.722500</td>\n",
              "      <td>19.79</td>\n",
              "      <td>44.790000</td>\n",
              "      <td>19.000000</td>\n",
              "      <td>45.992500</td>\n",
              "      <td>17.166667</td>\n",
              "      <td>55.20</td>\n",
              "      <td>6.833333</td>\n",
              "      <td>84.063333</td>\n",
              "      <td>17.200000</td>\n",
              "      <td>41.560000</td>\n",
              "      <td>18.2</td>\n",
              "      <td>48.863333</td>\n",
              "      <td>17.066667</td>\n",
              "      <td>45.56</td>\n",
              "      <td>6.483333</td>\n",
              "      <td>733.6</td>\n",
              "      <td>92.0</td>\n",
              "      <td>6.666667</td>\n",
              "      <td>59.166667</td>\n",
              "      <td>5.2</td>\n",
              "      <td>18.606195</td>\n",
              "      <td>18.606195</td>\n",
              "    </tr>\n",
              "    <tr>\n",
              "      <th>2</th>\n",
              "      <td>2016-01-11 17:20:00</td>\n",
              "      <td>50</td>\n",
              "      <td>30</td>\n",
              "      <td>19.89</td>\n",
              "      <td>46.300000</td>\n",
              "      <td>19.2</td>\n",
              "      <td>44.626667</td>\n",
              "      <td>19.79</td>\n",
              "      <td>44.933333</td>\n",
              "      <td>18.926667</td>\n",
              "      <td>45.890000</td>\n",
              "      <td>17.166667</td>\n",
              "      <td>55.09</td>\n",
              "      <td>6.560000</td>\n",
              "      <td>83.156667</td>\n",
              "      <td>17.200000</td>\n",
              "      <td>41.433333</td>\n",
              "      <td>18.2</td>\n",
              "      <td>48.730000</td>\n",
              "      <td>17.000000</td>\n",
              "      <td>45.50</td>\n",
              "      <td>6.366667</td>\n",
              "      <td>733.7</td>\n",
              "      <td>92.0</td>\n",
              "      <td>6.333333</td>\n",
              "      <td>55.333333</td>\n",
              "      <td>5.1</td>\n",
              "      <td>28.642668</td>\n",
              "      <td>28.642668</td>\n",
              "    </tr>\n",
              "    <tr>\n",
              "      <th>3</th>\n",
              "      <td>2016-01-11 17:30:00</td>\n",
              "      <td>50</td>\n",
              "      <td>40</td>\n",
              "      <td>19.89</td>\n",
              "      <td>46.066667</td>\n",
              "      <td>19.2</td>\n",
              "      <td>44.590000</td>\n",
              "      <td>19.79</td>\n",
              "      <td>45.000000</td>\n",
              "      <td>18.890000</td>\n",
              "      <td>45.723333</td>\n",
              "      <td>17.166667</td>\n",
              "      <td>55.09</td>\n",
              "      <td>6.433333</td>\n",
              "      <td>83.423333</td>\n",
              "      <td>17.133333</td>\n",
              "      <td>41.290000</td>\n",
              "      <td>18.1</td>\n",
              "      <td>48.590000</td>\n",
              "      <td>17.000000</td>\n",
              "      <td>45.40</td>\n",
              "      <td>6.250000</td>\n",
              "      <td>733.8</td>\n",
              "      <td>92.0</td>\n",
              "      <td>6.000000</td>\n",
              "      <td>51.500000</td>\n",
              "      <td>5.0</td>\n",
              "      <td>45.410389</td>\n",
              "      <td>45.410389</td>\n",
              "    </tr>\n",
              "    <tr>\n",
              "      <th>4</th>\n",
              "      <td>2016-01-11 17:40:00</td>\n",
              "      <td>60</td>\n",
              "      <td>40</td>\n",
              "      <td>19.89</td>\n",
              "      <td>46.333333</td>\n",
              "      <td>19.2</td>\n",
              "      <td>44.530000</td>\n",
              "      <td>19.79</td>\n",
              "      <td>45.000000</td>\n",
              "      <td>18.890000</td>\n",
              "      <td>45.530000</td>\n",
              "      <td>17.200000</td>\n",
              "      <td>55.09</td>\n",
              "      <td>6.366667</td>\n",
              "      <td>84.893333</td>\n",
              "      <td>17.200000</td>\n",
              "      <td>41.230000</td>\n",
              "      <td>18.1</td>\n",
              "      <td>48.590000</td>\n",
              "      <td>17.000000</td>\n",
              "      <td>45.40</td>\n",
              "      <td>6.133333</td>\n",
              "      <td>733.9</td>\n",
              "      <td>92.0</td>\n",
              "      <td>5.666667</td>\n",
              "      <td>47.666667</td>\n",
              "      <td>4.9</td>\n",
              "      <td>10.084097</td>\n",
              "      <td>10.084097</td>\n",
              "    </tr>\n",
              "  </tbody>\n",
              "</table>\n",
              "</div>"
            ],
            "text/plain": [
              "                  date  Appliances  lights  ...  Tdewpoint        rv1        rv2\n",
              "0  2016-01-11 17:00:00          60      30  ...        5.3  13.275433  13.275433\n",
              "1  2016-01-11 17:10:00          60      30  ...        5.2  18.606195  18.606195\n",
              "2  2016-01-11 17:20:00          50      30  ...        5.1  28.642668  28.642668\n",
              "3  2016-01-11 17:30:00          50      40  ...        5.0  45.410389  45.410389\n",
              "4  2016-01-11 17:40:00          60      40  ...        4.9  10.084097  10.084097\n",
              "\n",
              "[5 rows x 29 columns]"
            ]
          },
          "metadata": {
            "tags": []
          },
          "execution_count": 5
        }
      ]
    },
    {
      "cell_type": "code",
      "metadata": {
        "colab": {
          "base_uri": "https://localhost:8080/"
        },
        "id": "x4dqXALwTj3-",
        "outputId": "a70d08c5-bc6b-4bbe-f93e-22736f93ef0e"
      },
      "source": [
        "df.info()"
      ],
      "execution_count": 6,
      "outputs": [
        {
          "output_type": "stream",
          "text": [
            "<class 'pandas.core.frame.DataFrame'>\n",
            "RangeIndex: 19735 entries, 0 to 19734\n",
            "Data columns (total 29 columns):\n",
            " #   Column       Non-Null Count  Dtype  \n",
            "---  ------       --------------  -----  \n",
            " 0   date         19735 non-null  object \n",
            " 1   Appliances   19735 non-null  int64  \n",
            " 2   lights       19735 non-null  int64  \n",
            " 3   T1           19735 non-null  float64\n",
            " 4   RH_1         19735 non-null  float64\n",
            " 5   T2           19735 non-null  float64\n",
            " 6   RH_2         19735 non-null  float64\n",
            " 7   T3           19735 non-null  float64\n",
            " 8   RH_3         19735 non-null  float64\n",
            " 9   T4           19735 non-null  float64\n",
            " 10  RH_4         19735 non-null  float64\n",
            " 11  T5           19735 non-null  float64\n",
            " 12  RH_5         19735 non-null  float64\n",
            " 13  T6           19735 non-null  float64\n",
            " 14  RH_6         19735 non-null  float64\n",
            " 15  T7           19735 non-null  float64\n",
            " 16  RH_7         19735 non-null  float64\n",
            " 17  T8           19735 non-null  float64\n",
            " 18  RH_8         19735 non-null  float64\n",
            " 19  T9           19735 non-null  float64\n",
            " 20  RH_9         19735 non-null  float64\n",
            " 21  T_out        19735 non-null  float64\n",
            " 22  Press_mm_hg  19735 non-null  float64\n",
            " 23  RH_out       19735 non-null  float64\n",
            " 24  Windspeed    19735 non-null  float64\n",
            " 25  Visibility   19735 non-null  float64\n",
            " 26  Tdewpoint    19735 non-null  float64\n",
            " 27  rv1          19735 non-null  float64\n",
            " 28  rv2          19735 non-null  float64\n",
            "dtypes: float64(26), int64(2), object(1)\n",
            "memory usage: 4.4+ MB\n"
          ],
          "name": "stdout"
        }
      ]
    },
    {
      "cell_type": "code",
      "metadata": {
        "id": "QY4HstY6TmJS"
      },
      "source": [
        "## seems like there is no-missing value ,, we need to convert the date to datetime object"
      ],
      "execution_count": 7,
      "outputs": []
    },
    {
      "cell_type": "code",
      "metadata": {
        "colab": {
          "base_uri": "https://localhost:8080/"
        },
        "id": "cXB4lcrTTuP7",
        "outputId": "b78373e9-0fc9-41bb-ee41-2ea76eeef25d"
      },
      "source": [
        "df.isna().sum() #checks for any missing values"
      ],
      "execution_count": 8,
      "outputs": [
        {
          "output_type": "execute_result",
          "data": {
            "text/plain": [
              "date           0\n",
              "Appliances     0\n",
              "lights         0\n",
              "T1             0\n",
              "RH_1           0\n",
              "T2             0\n",
              "RH_2           0\n",
              "T3             0\n",
              "RH_3           0\n",
              "T4             0\n",
              "RH_4           0\n",
              "T5             0\n",
              "RH_5           0\n",
              "T6             0\n",
              "RH_6           0\n",
              "T7             0\n",
              "RH_7           0\n",
              "T8             0\n",
              "RH_8           0\n",
              "T9             0\n",
              "RH_9           0\n",
              "T_out          0\n",
              "Press_mm_hg    0\n",
              "RH_out         0\n",
              "Windspeed      0\n",
              "Visibility     0\n",
              "Tdewpoint      0\n",
              "rv1            0\n",
              "rv2            0\n",
              "dtype: int64"
            ]
          },
          "metadata": {
            "tags": []
          },
          "execution_count": 8
        }
      ]
    },
    {
      "cell_type": "code",
      "metadata": {
        "id": "mtUXGQCXTyrB"
      },
      "source": [
        "df_copy = df.copy() # let us first copy the data before making any changes"
      ],
      "execution_count": 9,
      "outputs": []
    },
    {
      "cell_type": "code",
      "metadata": {
        "colab": {
          "base_uri": "https://localhost:8080/",
          "height": 394
        },
        "id": "oJYNcPayT84g",
        "outputId": "54fa77cb-7fb9-4bb4-9dbf-9180d467b395"
      },
      "source": [
        "df['date'] = pd.to_datetime(df['date'],infer_datetime_format=True)\n",
        "df.head()"
      ],
      "execution_count": 10,
      "outputs": [
        {
          "output_type": "execute_result",
          "data": {
            "text/html": [
              "<div>\n",
              "<style scoped>\n",
              "    .dataframe tbody tr th:only-of-type {\n",
              "        vertical-align: middle;\n",
              "    }\n",
              "\n",
              "    .dataframe tbody tr th {\n",
              "        vertical-align: top;\n",
              "    }\n",
              "\n",
              "    .dataframe thead th {\n",
              "        text-align: right;\n",
              "    }\n",
              "</style>\n",
              "<table border=\"1\" class=\"dataframe\">\n",
              "  <thead>\n",
              "    <tr style=\"text-align: right;\">\n",
              "      <th></th>\n",
              "      <th>date</th>\n",
              "      <th>Appliances</th>\n",
              "      <th>lights</th>\n",
              "      <th>T1</th>\n",
              "      <th>RH_1</th>\n",
              "      <th>T2</th>\n",
              "      <th>RH_2</th>\n",
              "      <th>T3</th>\n",
              "      <th>RH_3</th>\n",
              "      <th>T4</th>\n",
              "      <th>RH_4</th>\n",
              "      <th>T5</th>\n",
              "      <th>RH_5</th>\n",
              "      <th>T6</th>\n",
              "      <th>RH_6</th>\n",
              "      <th>T7</th>\n",
              "      <th>RH_7</th>\n",
              "      <th>T8</th>\n",
              "      <th>RH_8</th>\n",
              "      <th>T9</th>\n",
              "      <th>RH_9</th>\n",
              "      <th>T_out</th>\n",
              "      <th>Press_mm_hg</th>\n",
              "      <th>RH_out</th>\n",
              "      <th>Windspeed</th>\n",
              "      <th>Visibility</th>\n",
              "      <th>Tdewpoint</th>\n",
              "      <th>rv1</th>\n",
              "      <th>rv2</th>\n",
              "    </tr>\n",
              "  </thead>\n",
              "  <tbody>\n",
              "    <tr>\n",
              "      <th>0</th>\n",
              "      <td>2016-01-11 17:00:00</td>\n",
              "      <td>60</td>\n",
              "      <td>30</td>\n",
              "      <td>19.89</td>\n",
              "      <td>47.596667</td>\n",
              "      <td>19.2</td>\n",
              "      <td>44.790000</td>\n",
              "      <td>19.79</td>\n",
              "      <td>44.730000</td>\n",
              "      <td>19.000000</td>\n",
              "      <td>45.566667</td>\n",
              "      <td>17.166667</td>\n",
              "      <td>55.20</td>\n",
              "      <td>7.026667</td>\n",
              "      <td>84.256667</td>\n",
              "      <td>17.200000</td>\n",
              "      <td>41.626667</td>\n",
              "      <td>18.2</td>\n",
              "      <td>48.900000</td>\n",
              "      <td>17.033333</td>\n",
              "      <td>45.53</td>\n",
              "      <td>6.600000</td>\n",
              "      <td>733.5</td>\n",
              "      <td>92.0</td>\n",
              "      <td>7.000000</td>\n",
              "      <td>63.000000</td>\n",
              "      <td>5.3</td>\n",
              "      <td>13.275433</td>\n",
              "      <td>13.275433</td>\n",
              "    </tr>\n",
              "    <tr>\n",
              "      <th>1</th>\n",
              "      <td>2016-01-11 17:10:00</td>\n",
              "      <td>60</td>\n",
              "      <td>30</td>\n",
              "      <td>19.89</td>\n",
              "      <td>46.693333</td>\n",
              "      <td>19.2</td>\n",
              "      <td>44.722500</td>\n",
              "      <td>19.79</td>\n",
              "      <td>44.790000</td>\n",
              "      <td>19.000000</td>\n",
              "      <td>45.992500</td>\n",
              "      <td>17.166667</td>\n",
              "      <td>55.20</td>\n",
              "      <td>6.833333</td>\n",
              "      <td>84.063333</td>\n",
              "      <td>17.200000</td>\n",
              "      <td>41.560000</td>\n",
              "      <td>18.2</td>\n",
              "      <td>48.863333</td>\n",
              "      <td>17.066667</td>\n",
              "      <td>45.56</td>\n",
              "      <td>6.483333</td>\n",
              "      <td>733.6</td>\n",
              "      <td>92.0</td>\n",
              "      <td>6.666667</td>\n",
              "      <td>59.166667</td>\n",
              "      <td>5.2</td>\n",
              "      <td>18.606195</td>\n",
              "      <td>18.606195</td>\n",
              "    </tr>\n",
              "    <tr>\n",
              "      <th>2</th>\n",
              "      <td>2016-01-11 17:20:00</td>\n",
              "      <td>50</td>\n",
              "      <td>30</td>\n",
              "      <td>19.89</td>\n",
              "      <td>46.300000</td>\n",
              "      <td>19.2</td>\n",
              "      <td>44.626667</td>\n",
              "      <td>19.79</td>\n",
              "      <td>44.933333</td>\n",
              "      <td>18.926667</td>\n",
              "      <td>45.890000</td>\n",
              "      <td>17.166667</td>\n",
              "      <td>55.09</td>\n",
              "      <td>6.560000</td>\n",
              "      <td>83.156667</td>\n",
              "      <td>17.200000</td>\n",
              "      <td>41.433333</td>\n",
              "      <td>18.2</td>\n",
              "      <td>48.730000</td>\n",
              "      <td>17.000000</td>\n",
              "      <td>45.50</td>\n",
              "      <td>6.366667</td>\n",
              "      <td>733.7</td>\n",
              "      <td>92.0</td>\n",
              "      <td>6.333333</td>\n",
              "      <td>55.333333</td>\n",
              "      <td>5.1</td>\n",
              "      <td>28.642668</td>\n",
              "      <td>28.642668</td>\n",
              "    </tr>\n",
              "    <tr>\n",
              "      <th>3</th>\n",
              "      <td>2016-01-11 17:30:00</td>\n",
              "      <td>50</td>\n",
              "      <td>40</td>\n",
              "      <td>19.89</td>\n",
              "      <td>46.066667</td>\n",
              "      <td>19.2</td>\n",
              "      <td>44.590000</td>\n",
              "      <td>19.79</td>\n",
              "      <td>45.000000</td>\n",
              "      <td>18.890000</td>\n",
              "      <td>45.723333</td>\n",
              "      <td>17.166667</td>\n",
              "      <td>55.09</td>\n",
              "      <td>6.433333</td>\n",
              "      <td>83.423333</td>\n",
              "      <td>17.133333</td>\n",
              "      <td>41.290000</td>\n",
              "      <td>18.1</td>\n",
              "      <td>48.590000</td>\n",
              "      <td>17.000000</td>\n",
              "      <td>45.40</td>\n",
              "      <td>6.250000</td>\n",
              "      <td>733.8</td>\n",
              "      <td>92.0</td>\n",
              "      <td>6.000000</td>\n",
              "      <td>51.500000</td>\n",
              "      <td>5.0</td>\n",
              "      <td>45.410389</td>\n",
              "      <td>45.410389</td>\n",
              "    </tr>\n",
              "    <tr>\n",
              "      <th>4</th>\n",
              "      <td>2016-01-11 17:40:00</td>\n",
              "      <td>60</td>\n",
              "      <td>40</td>\n",
              "      <td>19.89</td>\n",
              "      <td>46.333333</td>\n",
              "      <td>19.2</td>\n",
              "      <td>44.530000</td>\n",
              "      <td>19.79</td>\n",
              "      <td>45.000000</td>\n",
              "      <td>18.890000</td>\n",
              "      <td>45.530000</td>\n",
              "      <td>17.200000</td>\n",
              "      <td>55.09</td>\n",
              "      <td>6.366667</td>\n",
              "      <td>84.893333</td>\n",
              "      <td>17.200000</td>\n",
              "      <td>41.230000</td>\n",
              "      <td>18.1</td>\n",
              "      <td>48.590000</td>\n",
              "      <td>17.000000</td>\n",
              "      <td>45.40</td>\n",
              "      <td>6.133333</td>\n",
              "      <td>733.9</td>\n",
              "      <td>92.0</td>\n",
              "      <td>5.666667</td>\n",
              "      <td>47.666667</td>\n",
              "      <td>4.9</td>\n",
              "      <td>10.084097</td>\n",
              "      <td>10.084097</td>\n",
              "    </tr>\n",
              "  </tbody>\n",
              "</table>\n",
              "</div>"
            ],
            "text/plain": [
              "                 date  Appliances  lights  ...  Tdewpoint        rv1        rv2\n",
              "0 2016-01-11 17:00:00          60      30  ...        5.3  13.275433  13.275433\n",
              "1 2016-01-11 17:10:00          60      30  ...        5.2  18.606195  18.606195\n",
              "2 2016-01-11 17:20:00          50      30  ...        5.1  28.642668  28.642668\n",
              "3 2016-01-11 17:30:00          50      40  ...        5.0  45.410389  45.410389\n",
              "4 2016-01-11 17:40:00          60      40  ...        4.9  10.084097  10.084097\n",
              "\n",
              "[5 rows x 29 columns]"
            ]
          },
          "metadata": {
            "tags": []
          },
          "execution_count": 10
        }
      ]
    },
    {
      "cell_type": "code",
      "metadata": {
        "id": "AJvnFGoyUI8U"
      },
      "source": [
        "## set the index to datetime\n",
        "\n",
        "df = df.set_index('date')"
      ],
      "execution_count": 11,
      "outputs": []
    },
    {
      "cell_type": "code",
      "metadata": {
        "colab": {
          "base_uri": "https://localhost:8080/",
          "height": 425
        },
        "id": "Z8gnUUw3URdM",
        "outputId": "847ff91f-c66f-4dda-d40c-74da033acbb3"
      },
      "source": [
        "df.head() # now date is the index for this dataset"
      ],
      "execution_count": 12,
      "outputs": [
        {
          "output_type": "execute_result",
          "data": {
            "text/html": [
              "<div>\n",
              "<style scoped>\n",
              "    .dataframe tbody tr th:only-of-type {\n",
              "        vertical-align: middle;\n",
              "    }\n",
              "\n",
              "    .dataframe tbody tr th {\n",
              "        vertical-align: top;\n",
              "    }\n",
              "\n",
              "    .dataframe thead th {\n",
              "        text-align: right;\n",
              "    }\n",
              "</style>\n",
              "<table border=\"1\" class=\"dataframe\">\n",
              "  <thead>\n",
              "    <tr style=\"text-align: right;\">\n",
              "      <th></th>\n",
              "      <th>Appliances</th>\n",
              "      <th>lights</th>\n",
              "      <th>T1</th>\n",
              "      <th>RH_1</th>\n",
              "      <th>T2</th>\n",
              "      <th>RH_2</th>\n",
              "      <th>T3</th>\n",
              "      <th>RH_3</th>\n",
              "      <th>T4</th>\n",
              "      <th>RH_4</th>\n",
              "      <th>T5</th>\n",
              "      <th>RH_5</th>\n",
              "      <th>T6</th>\n",
              "      <th>RH_6</th>\n",
              "      <th>T7</th>\n",
              "      <th>RH_7</th>\n",
              "      <th>T8</th>\n",
              "      <th>RH_8</th>\n",
              "      <th>T9</th>\n",
              "      <th>RH_9</th>\n",
              "      <th>T_out</th>\n",
              "      <th>Press_mm_hg</th>\n",
              "      <th>RH_out</th>\n",
              "      <th>Windspeed</th>\n",
              "      <th>Visibility</th>\n",
              "      <th>Tdewpoint</th>\n",
              "      <th>rv1</th>\n",
              "      <th>rv2</th>\n",
              "    </tr>\n",
              "    <tr>\n",
              "      <th>date</th>\n",
              "      <th></th>\n",
              "      <th></th>\n",
              "      <th></th>\n",
              "      <th></th>\n",
              "      <th></th>\n",
              "      <th></th>\n",
              "      <th></th>\n",
              "      <th></th>\n",
              "      <th></th>\n",
              "      <th></th>\n",
              "      <th></th>\n",
              "      <th></th>\n",
              "      <th></th>\n",
              "      <th></th>\n",
              "      <th></th>\n",
              "      <th></th>\n",
              "      <th></th>\n",
              "      <th></th>\n",
              "      <th></th>\n",
              "      <th></th>\n",
              "      <th></th>\n",
              "      <th></th>\n",
              "      <th></th>\n",
              "      <th></th>\n",
              "      <th></th>\n",
              "      <th></th>\n",
              "      <th></th>\n",
              "      <th></th>\n",
              "    </tr>\n",
              "  </thead>\n",
              "  <tbody>\n",
              "    <tr>\n",
              "      <th>2016-01-11 17:00:00</th>\n",
              "      <td>60</td>\n",
              "      <td>30</td>\n",
              "      <td>19.89</td>\n",
              "      <td>47.596667</td>\n",
              "      <td>19.2</td>\n",
              "      <td>44.790000</td>\n",
              "      <td>19.79</td>\n",
              "      <td>44.730000</td>\n",
              "      <td>19.000000</td>\n",
              "      <td>45.566667</td>\n",
              "      <td>17.166667</td>\n",
              "      <td>55.20</td>\n",
              "      <td>7.026667</td>\n",
              "      <td>84.256667</td>\n",
              "      <td>17.200000</td>\n",
              "      <td>41.626667</td>\n",
              "      <td>18.2</td>\n",
              "      <td>48.900000</td>\n",
              "      <td>17.033333</td>\n",
              "      <td>45.53</td>\n",
              "      <td>6.600000</td>\n",
              "      <td>733.5</td>\n",
              "      <td>92.0</td>\n",
              "      <td>7.000000</td>\n",
              "      <td>63.000000</td>\n",
              "      <td>5.3</td>\n",
              "      <td>13.275433</td>\n",
              "      <td>13.275433</td>\n",
              "    </tr>\n",
              "    <tr>\n",
              "      <th>2016-01-11 17:10:00</th>\n",
              "      <td>60</td>\n",
              "      <td>30</td>\n",
              "      <td>19.89</td>\n",
              "      <td>46.693333</td>\n",
              "      <td>19.2</td>\n",
              "      <td>44.722500</td>\n",
              "      <td>19.79</td>\n",
              "      <td>44.790000</td>\n",
              "      <td>19.000000</td>\n",
              "      <td>45.992500</td>\n",
              "      <td>17.166667</td>\n",
              "      <td>55.20</td>\n",
              "      <td>6.833333</td>\n",
              "      <td>84.063333</td>\n",
              "      <td>17.200000</td>\n",
              "      <td>41.560000</td>\n",
              "      <td>18.2</td>\n",
              "      <td>48.863333</td>\n",
              "      <td>17.066667</td>\n",
              "      <td>45.56</td>\n",
              "      <td>6.483333</td>\n",
              "      <td>733.6</td>\n",
              "      <td>92.0</td>\n",
              "      <td>6.666667</td>\n",
              "      <td>59.166667</td>\n",
              "      <td>5.2</td>\n",
              "      <td>18.606195</td>\n",
              "      <td>18.606195</td>\n",
              "    </tr>\n",
              "    <tr>\n",
              "      <th>2016-01-11 17:20:00</th>\n",
              "      <td>50</td>\n",
              "      <td>30</td>\n",
              "      <td>19.89</td>\n",
              "      <td>46.300000</td>\n",
              "      <td>19.2</td>\n",
              "      <td>44.626667</td>\n",
              "      <td>19.79</td>\n",
              "      <td>44.933333</td>\n",
              "      <td>18.926667</td>\n",
              "      <td>45.890000</td>\n",
              "      <td>17.166667</td>\n",
              "      <td>55.09</td>\n",
              "      <td>6.560000</td>\n",
              "      <td>83.156667</td>\n",
              "      <td>17.200000</td>\n",
              "      <td>41.433333</td>\n",
              "      <td>18.2</td>\n",
              "      <td>48.730000</td>\n",
              "      <td>17.000000</td>\n",
              "      <td>45.50</td>\n",
              "      <td>6.366667</td>\n",
              "      <td>733.7</td>\n",
              "      <td>92.0</td>\n",
              "      <td>6.333333</td>\n",
              "      <td>55.333333</td>\n",
              "      <td>5.1</td>\n",
              "      <td>28.642668</td>\n",
              "      <td>28.642668</td>\n",
              "    </tr>\n",
              "    <tr>\n",
              "      <th>2016-01-11 17:30:00</th>\n",
              "      <td>50</td>\n",
              "      <td>40</td>\n",
              "      <td>19.89</td>\n",
              "      <td>46.066667</td>\n",
              "      <td>19.2</td>\n",
              "      <td>44.590000</td>\n",
              "      <td>19.79</td>\n",
              "      <td>45.000000</td>\n",
              "      <td>18.890000</td>\n",
              "      <td>45.723333</td>\n",
              "      <td>17.166667</td>\n",
              "      <td>55.09</td>\n",
              "      <td>6.433333</td>\n",
              "      <td>83.423333</td>\n",
              "      <td>17.133333</td>\n",
              "      <td>41.290000</td>\n",
              "      <td>18.1</td>\n",
              "      <td>48.590000</td>\n",
              "      <td>17.000000</td>\n",
              "      <td>45.40</td>\n",
              "      <td>6.250000</td>\n",
              "      <td>733.8</td>\n",
              "      <td>92.0</td>\n",
              "      <td>6.000000</td>\n",
              "      <td>51.500000</td>\n",
              "      <td>5.0</td>\n",
              "      <td>45.410389</td>\n",
              "      <td>45.410389</td>\n",
              "    </tr>\n",
              "    <tr>\n",
              "      <th>2016-01-11 17:40:00</th>\n",
              "      <td>60</td>\n",
              "      <td>40</td>\n",
              "      <td>19.89</td>\n",
              "      <td>46.333333</td>\n",
              "      <td>19.2</td>\n",
              "      <td>44.530000</td>\n",
              "      <td>19.79</td>\n",
              "      <td>45.000000</td>\n",
              "      <td>18.890000</td>\n",
              "      <td>45.530000</td>\n",
              "      <td>17.200000</td>\n",
              "      <td>55.09</td>\n",
              "      <td>6.366667</td>\n",
              "      <td>84.893333</td>\n",
              "      <td>17.200000</td>\n",
              "      <td>41.230000</td>\n",
              "      <td>18.1</td>\n",
              "      <td>48.590000</td>\n",
              "      <td>17.000000</td>\n",
              "      <td>45.40</td>\n",
              "      <td>6.133333</td>\n",
              "      <td>733.9</td>\n",
              "      <td>92.0</td>\n",
              "      <td>5.666667</td>\n",
              "      <td>47.666667</td>\n",
              "      <td>4.9</td>\n",
              "      <td>10.084097</td>\n",
              "      <td>10.084097</td>\n",
              "    </tr>\n",
              "  </tbody>\n",
              "</table>\n",
              "</div>"
            ],
            "text/plain": [
              "                     Appliances  lights     T1  ...  Tdewpoint        rv1        rv2\n",
              "date                                            ...                                 \n",
              "2016-01-11 17:00:00          60      30  19.89  ...        5.3  13.275433  13.275433\n",
              "2016-01-11 17:10:00          60      30  19.89  ...        5.2  18.606195  18.606195\n",
              "2016-01-11 17:20:00          50      30  19.89  ...        5.1  28.642668  28.642668\n",
              "2016-01-11 17:30:00          50      40  19.89  ...        5.0  45.410389  45.410389\n",
              "2016-01-11 17:40:00          60      40  19.89  ...        4.9  10.084097  10.084097\n",
              "\n",
              "[5 rows x 28 columns]"
            ]
          },
          "metadata": {
            "tags": []
          },
          "execution_count": 12
        }
      ]
    },
    {
      "cell_type": "code",
      "metadata": {
        "colab": {
          "base_uri": "https://localhost:8080/",
          "height": 577
        },
        "id": "bT18UsSZUSqN",
        "outputId": "d8f984b1-428d-4764-a292-eda584571ffc"
      },
      "source": [
        "## let us plot the data slecting the features we are interested in \n",
        "\n",
        "df[['Appliances','lights','RH_1','T_out','Visibility']].plot(subplots=True)"
      ],
      "execution_count": 13,
      "outputs": [
        {
          "output_type": "execute_result",
          "data": {
            "text/plain": [
              "array([<matplotlib.axes._subplots.AxesSubplot object at 0x7f0207dceb70>,\n",
              "       <matplotlib.axes._subplots.AxesSubplot object at 0x7f0207cdae10>,\n",
              "       <matplotlib.axes._subplots.AxesSubplot object at 0x7f0207d12e10>,\n",
              "       <matplotlib.axes._subplots.AxesSubplot object at 0x7f0207cc7e10>,\n",
              "       <matplotlib.axes._subplots.AxesSubplot object at 0x7f0207c7ce10>],\n",
              "      dtype=object)"
            ]
          },
          "metadata": {
            "tags": []
          },
          "execution_count": 13
        },
        {
          "output_type": "display_data",
          "data": {
            "image/png": "[encoded data removed]",
            "text/plain": [
              "<Figure size 720x576 with 5 Axes>"
            ]
          },
          "metadata": {
            "tags": [],
            "needs_background": "light"
          }
        }
      ]
    },
    {
      "cell_type": "code",
      "metadata": {
        "id": "2vPDO77tUxEN"
      },
      "source": [
        "## we can see some trend in the temperature ,, i.e being incresing gradually to the end though there are some fluctuation\n",
        "##we can see the lights also having slight negative trend,, i.e decresing towards the end\n",
        "## also there is vague but slight negeative trend in the Appliances,, though  there are some spikes randomly scatterd all over the chart\n",
        "## the humidity seems to have some correlation with the temperature "
      ],
      "execution_count": 14,
      "outputs": []
    },
    {
      "cell_type": "code",
      "metadata": {
        "id": "fumAZss0V6BM"
      },
      "source": [
        "## let us select Appliances, RH_1, T_out and Visibility as our feature\n",
        "## since we are interrested in finding the Appliances usage, it will be our Target "
      ],
      "execution_count": 15,
      "outputs": []
    },
    {
      "cell_type": "code",
      "metadata": {
        "colab": {
          "base_uri": "https://localhost:8080/",
          "height": 235
        },
        "id": "HEX-vTdLWU96",
        "outputId": "a94d3131-7478-4ef1-ca71-1652d324132c"
      },
      "source": [
        "df_input = df[['Appliances','RH_1','T_out','Visibility']]\n",
        "df_input.head()"
      ],
      "execution_count": 16,
      "outputs": [
        {
          "output_type": "execute_result",
          "data": {
            "text/html": [
              "<div>\n",
              "<style scoped>\n",
              "    .dataframe tbody tr th:only-of-type {\n",
              "        vertical-align: middle;\n",
              "    }\n",
              "\n",
              "    .dataframe tbody tr th {\n",
              "        vertical-align: top;\n",
              "    }\n",
              "\n",
              "    .dataframe thead th {\n",
              "        text-align: right;\n",
              "    }\n",
              "</style>\n",
              "<table border=\"1\" class=\"dataframe\">\n",
              "  <thead>\n",
              "    <tr style=\"text-align: right;\">\n",
              "      <th></th>\n",
              "      <th>Appliances</th>\n",
              "      <th>RH_1</th>\n",
              "      <th>T_out</th>\n",
              "      <th>Visibility</th>\n",
              "    </tr>\n",
              "    <tr>\n",
              "      <th>date</th>\n",
              "      <th></th>\n",
              "      <th></th>\n",
              "      <th></th>\n",
              "      <th></th>\n",
              "    </tr>\n",
              "  </thead>\n",
              "  <tbody>\n",
              "    <tr>\n",
              "      <th>2016-01-11 17:00:00</th>\n",
              "      <td>60</td>\n",
              "      <td>47.596667</td>\n",
              "      <td>6.600000</td>\n",
              "      <td>63.000000</td>\n",
              "    </tr>\n",
              "    <tr>\n",
              "      <th>2016-01-11 17:10:00</th>\n",
              "      <td>60</td>\n",
              "      <td>46.693333</td>\n",
              "      <td>6.483333</td>\n",
              "      <td>59.166667</td>\n",
              "    </tr>\n",
              "    <tr>\n",
              "      <th>2016-01-11 17:20:00</th>\n",
              "      <td>50</td>\n",
              "      <td>46.300000</td>\n",
              "      <td>6.366667</td>\n",
              "      <td>55.333333</td>\n",
              "    </tr>\n",
              "    <tr>\n",
              "      <th>2016-01-11 17:30:00</th>\n",
              "      <td>50</td>\n",
              "      <td>46.066667</td>\n",
              "      <td>6.250000</td>\n",
              "      <td>51.500000</td>\n",
              "    </tr>\n",
              "    <tr>\n",
              "      <th>2016-01-11 17:40:00</th>\n",
              "      <td>60</td>\n",
              "      <td>46.333333</td>\n",
              "      <td>6.133333</td>\n",
              "      <td>47.666667</td>\n",
              "    </tr>\n",
              "  </tbody>\n",
              "</table>\n",
              "</div>"
            ],
            "text/plain": [
              "                     Appliances       RH_1     T_out  Visibility\n",
              "date                                                            \n",
              "2016-01-11 17:00:00          60  47.596667  6.600000   63.000000\n",
              "2016-01-11 17:10:00          60  46.693333  6.483333   59.166667\n",
              "2016-01-11 17:20:00          50  46.300000  6.366667   55.333333\n",
              "2016-01-11 17:30:00          50  46.066667  6.250000   51.500000\n",
              "2016-01-11 17:40:00          60  46.333333  6.133333   47.666667"
            ]
          },
          "metadata": {
            "tags": []
          },
          "execution_count": 16
        }
      ]
    },
    {
      "cell_type": "code",
      "metadata": {
        "colab": {
          "base_uri": "https://localhost:8080/",
          "height": 297
        },
        "id": "qXGDhc81WZEK",
        "outputId": "ffff645c-960f-48bc-ec07-b2a2ac5a1d95"
      },
      "source": [
        "df_input.describe()"
      ],
      "execution_count": 17,
      "outputs": [
        {
          "output_type": "execute_result",
          "data": {
            "text/html": [
              "<div>\n",
              "<style scoped>\n",
              "    .dataframe tbody tr th:only-of-type {\n",
              "        vertical-align: middle;\n",
              "    }\n",
              "\n",
              "    .dataframe tbody tr th {\n",
              "        vertical-align: top;\n",
              "    }\n",
              "\n",
              "    .dataframe thead th {\n",
              "        text-align: right;\n",
              "    }\n",
              "</style>\n",
              "<table border=\"1\" class=\"dataframe\">\n",
              "  <thead>\n",
              "    <tr style=\"text-align: right;\">\n",
              "      <th></th>\n",
              "      <th>Appliances</th>\n",
              "      <th>RH_1</th>\n",
              "      <th>T_out</th>\n",
              "      <th>Visibility</th>\n",
              "    </tr>\n",
              "  </thead>\n",
              "  <tbody>\n",
              "    <tr>\n",
              "      <th>count</th>\n",
              "      <td>19735.000000</td>\n",
              "      <td>19735.000000</td>\n",
              "      <td>19735.000000</td>\n",
              "      <td>19735.000000</td>\n",
              "    </tr>\n",
              "    <tr>\n",
              "      <th>mean</th>\n",
              "      <td>97.694958</td>\n",
              "      <td>40.259739</td>\n",
              "      <td>7.411665</td>\n",
              "      <td>38.330834</td>\n",
              "    </tr>\n",
              "    <tr>\n",
              "      <th>std</th>\n",
              "      <td>102.524891</td>\n",
              "      <td>3.979299</td>\n",
              "      <td>5.317409</td>\n",
              "      <td>11.794719</td>\n",
              "    </tr>\n",
              "    <tr>\n",
              "      <th>min</th>\n",
              "      <td>10.000000</td>\n",
              "      <td>27.023333</td>\n",
              "      <td>-5.000000</td>\n",
              "      <td>1.000000</td>\n",
              "    </tr>\n",
              "    <tr>\n",
              "      <th>25%</th>\n",
              "      <td>50.000000</td>\n",
              "      <td>37.333333</td>\n",
              "      <td>3.666667</td>\n",
              "      <td>29.000000</td>\n",
              "    </tr>\n",
              "    <tr>\n",
              "      <th>50%</th>\n",
              "      <td>60.000000</td>\n",
              "      <td>39.656667</td>\n",
              "      <td>6.916667</td>\n",
              "      <td>40.000000</td>\n",
              "    </tr>\n",
              "    <tr>\n",
              "      <th>75%</th>\n",
              "      <td>100.000000</td>\n",
              "      <td>43.066667</td>\n",
              "      <td>10.408333</td>\n",
              "      <td>40.000000</td>\n",
              "    </tr>\n",
              "    <tr>\n",
              "      <th>max</th>\n",
              "      <td>1080.000000</td>\n",
              "      <td>63.360000</td>\n",
              "      <td>26.100000</td>\n",
              "      <td>66.000000</td>\n",
              "    </tr>\n",
              "  </tbody>\n",
              "</table>\n",
              "</div>"
            ],
            "text/plain": [
              "         Appliances          RH_1         T_out    Visibility\n",
              "count  19735.000000  19735.000000  19735.000000  19735.000000\n",
              "mean      97.694958     40.259739      7.411665     38.330834\n",
              "std      102.524891      3.979299      5.317409     11.794719\n",
              "min       10.000000     27.023333     -5.000000      1.000000\n",
              "25%       50.000000     37.333333      3.666667     29.000000\n",
              "50%       60.000000     39.656667      6.916667     40.000000\n",
              "75%      100.000000     43.066667     10.408333     40.000000\n",
              "max     1080.000000     63.360000     26.100000     66.000000"
            ]
          },
          "metadata": {
            "tags": []
          },
          "execution_count": 17
        }
      ]
    },
    {
      "cell_type": "code",
      "metadata": {
        "id": "4DNhbgsRWZG8"
      },
      "source": [
        "## for the Appliance column the mean value is 97 and median is 60,, this seems to be positively skewed data \n",
        "## the maximum value of 1080 sugest there is presence of outliers in the data,, we should handle this outlier either using a cutoff point\n",
        "##or transforming the data"
      ],
      "execution_count": 18,
      "outputs": []
    },
    {
      "cell_type": "code",
      "metadata": {
        "id": "ZjJGbis5XF6s"
      },
      "source": [
        "# plt.hist(df_input[['Appliances']])"
      ],
      "execution_count": 19,
      "outputs": []
    },
    {
      "cell_type": "code",
      "metadata": {
        "colab": {
          "base_uri": "https://localhost:8080/",
          "height": 450
        },
        "id": "icKsKs8VXkgY",
        "outputId": "b8d4e27f-7ca0-4a15-d753-d35a30449319"
      },
      "source": [
        "## let us use a cutoff point point to see how many data are above this value\n",
        "\n",
        "df_input.query('Appliances>500')"
      ],
      "execution_count": 20,
      "outputs": [
        {
          "output_type": "execute_result",
          "data": {
            "text/html": [
              "<div>\n",
              "<style scoped>\n",
              "    .dataframe tbody tr th:only-of-type {\n",
              "        vertical-align: middle;\n",
              "    }\n",
              "\n",
              "    .dataframe tbody tr th {\n",
              "        vertical-align: top;\n",
              "    }\n",
              "\n",
              "    .dataframe thead th {\n",
              "        text-align: right;\n",
              "    }\n",
              "</style>\n",
              "<table border=\"1\" class=\"dataframe\">\n",
              "  <thead>\n",
              "    <tr style=\"text-align: right;\">\n",
              "      <th></th>\n",
              "      <th>Appliances</th>\n",
              "      <th>RH_1</th>\n",
              "      <th>T_out</th>\n",
              "      <th>Visibility</th>\n",
              "    </tr>\n",
              "    <tr>\n",
              "      <th>date</th>\n",
              "      <th></th>\n",
              "      <th></th>\n",
              "      <th></th>\n",
              "      <th></th>\n",
              "    </tr>\n",
              "  </thead>\n",
              "  <tbody>\n",
              "    <tr>\n",
              "      <th>2016-01-11 18:50:00</th>\n",
              "      <td>580</td>\n",
              "      <td>46.396667</td>\n",
              "      <td>5.983333</td>\n",
              "      <td>40.000000</td>\n",
              "    </tr>\n",
              "    <tr>\n",
              "      <th>2016-01-13 21:20:00</th>\n",
              "      <td>520</td>\n",
              "      <td>41.530000</td>\n",
              "      <td>2.900000</td>\n",
              "      <td>36.333333</td>\n",
              "    </tr>\n",
              "    <tr>\n",
              "      <th>2016-01-14 10:20:00</th>\n",
              "      <td>550</td>\n",
              "      <td>43.433333</td>\n",
              "      <td>2.033333</td>\n",
              "      <td>40.000000</td>\n",
              "    </tr>\n",
              "    <tr>\n",
              "      <th>2016-01-14 10:30:00</th>\n",
              "      <td>690</td>\n",
              "      <td>43.766667</td>\n",
              "      <td>2.100000</td>\n",
              "      <td>40.000000</td>\n",
              "    </tr>\n",
              "    <tr>\n",
              "      <th>2016-01-14 10:40:00</th>\n",
              "      <td>620</td>\n",
              "      <td>43.693333</td>\n",
              "      <td>2.166667</td>\n",
              "      <td>40.000000</td>\n",
              "    </tr>\n",
              "    <tr>\n",
              "      <th>...</th>\n",
              "      <td>...</td>\n",
              "      <td>...</td>\n",
              "      <td>...</td>\n",
              "      <td>...</td>\n",
              "    </tr>\n",
              "    <tr>\n",
              "      <th>2016-05-26 17:20:00</th>\n",
              "      <td>600</td>\n",
              "      <td>44.066667</td>\n",
              "      <td>20.833333</td>\n",
              "      <td>40.000000</td>\n",
              "    </tr>\n",
              "    <tr>\n",
              "      <th>2016-05-26 17:30:00</th>\n",
              "      <td>520</td>\n",
              "      <td>43.366667</td>\n",
              "      <td>20.900000</td>\n",
              "      <td>40.000000</td>\n",
              "    </tr>\n",
              "    <tr>\n",
              "      <th>2016-05-27 09:40:00</th>\n",
              "      <td>580</td>\n",
              "      <td>47.226667</td>\n",
              "      <td>15.900000</td>\n",
              "      <td>61.000000</td>\n",
              "    </tr>\n",
              "    <tr>\n",
              "      <th>2016-05-27 09:50:00</th>\n",
              "      <td>660</td>\n",
              "      <td>47.693333</td>\n",
              "      <td>16.100000</td>\n",
              "      <td>61.000000</td>\n",
              "    </tr>\n",
              "    <tr>\n",
              "      <th>2016-05-27 11:30:00</th>\n",
              "      <td>620</td>\n",
              "      <td>48.326667</td>\n",
              "      <td>19.100000</td>\n",
              "      <td>64.000000</td>\n",
              "    </tr>\n",
              "  </tbody>\n",
              "</table>\n",
              "<p>288 rows × 4 columns</p>\n",
              "</div>"
            ],
            "text/plain": [
              "                     Appliances       RH_1      T_out  Visibility\n",
              "date                                                             \n",
              "2016-01-11 18:50:00         580  46.396667   5.983333   40.000000\n",
              "2016-01-13 21:20:00         520  41.530000   2.900000   36.333333\n",
              "2016-01-14 10:20:00         550  43.433333   2.033333   40.000000\n",
              "2016-01-14 10:30:00         690  43.766667   2.100000   40.000000\n",
              "2016-01-14 10:40:00         620  43.693333   2.166667   40.000000\n",
              "...                         ...        ...        ...         ...\n",
              "2016-05-26 17:20:00         600  44.066667  20.833333   40.000000\n",
              "2016-05-26 17:30:00         520  43.366667  20.900000   40.000000\n",
              "2016-05-27 09:40:00         580  47.226667  15.900000   61.000000\n",
              "2016-05-27 09:50:00         660  47.693333  16.100000   61.000000\n",
              "2016-05-27 11:30:00         620  48.326667  19.100000   64.000000\n",
              "\n",
              "[288 rows x 4 columns]"
            ]
          },
          "metadata": {
            "tags": []
          },
          "execution_count": 20
        }
      ]
    },
    {
      "cell_type": "code",
      "metadata": {
        "id": "WksQ1zbNXkjk"
      },
      "source": [
        "## there are 288 rows that lies above 288 ,, let us handle these using MinmaxScaler,, \n",
        "## Standard scaler will not change the distribution nor does it handles the outliers thus we go for MinMaxScaler"
      ],
      "execution_count": 21,
      "outputs": []
    },
    {
      "cell_type": "code",
      "metadata": {
        "id": "L4LFWYGlXkl3"
      },
      "source": [
        "scaler = MinMaxScaler()\n",
        "scaled_input_df = scaler.fit_transform(df_input)"
      ],
      "execution_count": 22,
      "outputs": []
    },
    {
      "cell_type": "code",
      "metadata": {
        "colab": {
          "base_uri": "https://localhost:8080/"
        },
        "id": "qR0bF1RIXOQI",
        "outputId": "46b1bd36-6782-493a-a6dd-c669097e4d32"
      },
      "source": [
        "scaled_input_df ## all values are scaled between 0 and 1 "
      ],
      "execution_count": 25,
      "outputs": [
        {
          "output_type": "execute_result",
          "data": {
            "text/plain": [
              "array([[0.04672897, 0.56618659, 0.37299035, 0.95384615],\n",
              "       [0.04672897, 0.54132648, 0.36923901, 0.89487179],\n",
              "       [0.03738318, 0.53050179, 0.36548767, 0.83589744],\n",
              "       ...,\n",
              "       [0.24299065, 0.53866618, 0.88317256, 0.37435897],\n",
              "       [0.38317757, 0.54949087, 0.87888532, 0.38717949],\n",
              "       [0.39252336, 0.53875791, 0.87459807, 0.4       ]])"
            ]
          },
          "metadata": {
            "tags": []
          },
          "execution_count": 25
        }
      ]
    },
    {
      "cell_type": "code",
      "metadata": {
        "id": "ouqlUqbBYogW"
      },
      "source": [
        "## let us make features an terget to train the data\n",
        "\n",
        "features = scaled_input_df\n",
        "target = scaled_input_df[:,0]"
      ],
      "execution_count": 27,
      "outputs": []
    },
    {
      "cell_type": "code",
      "metadata": {
        "id": "XEuxtIlgY_5u"
      },
      "source": [
        "## split the data 60-20-20\n",
        "\n",
        "X_train,X_test,y_train,y_test = train_test_split(features,target,test_size=0.2,shuffle=False)\n"
      ],
      "execution_count": 28,
      "outputs": []
    },
    {
      "cell_type": "code",
      "metadata": {
        "id": "uqmGdLCNY_8q"
      },
      "source": [
        "## let us make a validation dataset_ out of trainig data\n",
        "val_size = int((X_train.shape[0])*0.2)\n",
        "train_size = X_train.shape[0] -val_size"
      ],
      "execution_count": 32,
      "outputs": []
    },
    {
      "cell_type": "code",
      "metadata": {
        "id": "BKAFrrtNY__Q"
      },
      "source": [
        "X_train = X_train[:train_size,:]\n",
        "y_train = y_train[:train_size]"
      ],
      "execution_count": 34,
      "outputs": []
    },
    {
      "cell_type": "code",
      "metadata": {
        "id": "7snoq3zlaLDH"
      },
      "source": [
        "X_val = X_train[-val_size:,:]\n",
        "y_val = y_train[-val_size:]"
      ],
      "execution_count": 50,
      "outputs": []
    },
    {
      "cell_type": "code",
      "metadata": {
        "colab": {
          "base_uri": "https://localhost:8080/"
        },
        "id": "F_OOe969bWzT",
        "outputId": "967cbd95-b4ea-4971-a5b6-5804105d9e3d"
      },
      "source": [
        "720/(6*24) # 6 data points makes 1 hour (10 min each and) to know the date we divide by 24 "
      ],
      "execution_count": 38,
      "outputs": [
        {
          "output_type": "execute_result",
          "data": {
            "text/plain": [
              "5.0"
            ]
          },
          "metadata": {
            "tags": []
          },
          "execution_count": 38
        }
      ]
    },
    {
      "cell_type": "code",
      "metadata": {
        "id": "BmRQ8dISaadS"
      },
      "source": [
        "## making a generator for train test and validation set\n",
        "\n",
        "window_length = 720  #window of 5 days,,, we are taking 5 days into account to predict the next day\n",
        "batch_size=32\n",
        "num_features = 4\n",
        "\n",
        "train_generator = TimeseriesGenerator(X_train,y_train,length=window_length, sampling_rate=1,batch_size=batch_size)\n",
        "test_generator = TimeseriesGenerator(X_test,y_test,length=window_length, sampling_rate=1,batch_size=batch_size)"
      ],
      "execution_count": 41,
      "outputs": []
    },
    {
      "cell_type": "code",
      "metadata": {
        "id": "HW77qmG5iRDO"
      },
      "source": [
        "val_generator = TimeseriesGenerator(X_val,y_val,length=window_length, sampling_rate=1,batch_size=batch_size)\n"
      ],
      "execution_count": 51,
      "outputs": []
    },
    {
      "cell_type": "code",
      "metadata": {
        "colab": {
          "base_uri": "https://localhost:8080/"
        },
        "id": "fSk7veo1cyrS",
        "outputId": "492c9457-92a9-46f0-99cc-627bce405150"
      },
      "source": [
        "train_generator[0]\n",
        "\n",
        "## contains 32 values,, batches\n",
        "## each takes into account 5 days of values and target as the 6th day Appliance value"
      ],
      "execution_count": 43,
      "outputs": [
        {
          "output_type": "execute_result",
          "data": {
            "text/plain": [
              "(array([[[0.04672897, 0.56618659, 0.37299035, 0.95384615],\n",
              "         [0.04672897, 0.54132648, 0.36923901, 0.89487179],\n",
              "         [0.03738318, 0.53050179, 0.36548767, 0.83589744],\n",
              "         ...,\n",
              "         [0.06542056, 0.31584258, 0.25241158, 0.79230769],\n",
              "         [0.05607477, 0.31309054, 0.23901393, 0.72820513],\n",
              "         [0.06542056, 0.31107238, 0.22561629, 0.66410256]],\n",
              " \n",
              "        [[0.04672897, 0.54132648, 0.36923901, 0.89487179],\n",
              "         [0.03738318, 0.53050179, 0.36548767, 0.83589744],\n",
              "         [0.03738318, 0.52408036, 0.36173633, 0.77692308],\n",
              "         ...,\n",
              "         [0.05607477, 0.31309054, 0.23901393, 0.72820513],\n",
              "         [0.06542056, 0.31107238, 0.22561629, 0.66410256],\n",
              "         [0.06542056, 0.30923768, 0.21221865, 0.6       ]],\n",
              " \n",
              "        [[0.03738318, 0.53050179, 0.36548767, 0.83589744],\n",
              "         [0.03738318, 0.52408036, 0.36173633, 0.77692308],\n",
              "         [0.04672897, 0.53141914, 0.35798499, 0.71794872],\n",
              "         ...,\n",
              "         [0.06542056, 0.31107238, 0.22561629, 0.66410256],\n",
              "         [0.06542056, 0.30923768, 0.21221865, 0.6       ],\n",
              "         [0.13084112, 0.3055683 , 0.2170418 , 0.6       ]],\n",
              " \n",
              "        ...,\n",
              " \n",
              "        [[0.08411215, 0.50389872, 0.34297964, 0.6       ],\n",
              "         [0.09345794, 0.49821117, 0.34083601, 0.6       ],\n",
              "         [0.36448598, 0.49380791, 0.34244373, 0.6       ],\n",
              "         ...,\n",
              "         [0.08411215, 0.32134667, 0.17470525, 0.24615385],\n",
              "         [0.09345794, 0.31749381, 0.17524116, 0.26923077],\n",
              "         [0.09345794, 0.31400789, 0.17577706, 0.29230769]],\n",
              " \n",
              "        [[0.09345794, 0.49821117, 0.34083601, 0.6       ],\n",
              "         [0.36448598, 0.49380791, 0.34244373, 0.6       ],\n",
              "         [0.36448598, 0.48830383, 0.34405145, 0.6       ],\n",
              "         ...,\n",
              "         [0.09345794, 0.31749381, 0.17524116, 0.26923077],\n",
              "         [0.09345794, 0.31400789, 0.17577706, 0.29230769],\n",
              "         [0.1682243 , 0.31208146, 0.17631297, 0.31538462]],\n",
              " \n",
              "        [[0.36448598, 0.49380791, 0.34244373, 0.6       ],\n",
              "         [0.36448598, 0.48830383, 0.34405145, 0.6       ],\n",
              "         [0.35514019, 0.48261627, 0.34565916, 0.6       ],\n",
              "         ...,\n",
              "         [0.09345794, 0.31400789, 0.17577706, 0.29230769],\n",
              "         [0.1682243 , 0.31208146, 0.17631297, 0.31538462],\n",
              "         [0.41121495, 0.3100633 , 0.17684887, 0.33846154]]]),\n",
              " array([0.06542056, 0.13084112, 0.34579439, 0.26168224, 0.24299065,\n",
              "        0.38317757, 0.25233645, 0.27102804, 0.31775701, 0.24299065,\n",
              "        0.51401869, 1.        , 0.69158879, 0.35514019, 0.31775701,\n",
              "        0.30841121, 0.26168224, 0.20560748, 0.10280374, 0.09345794,\n",
              "        0.08411215, 0.09345794, 0.11214953, 0.12149533, 0.09345794,\n",
              "        0.08411215, 0.08411215, 0.09345794, 0.09345794, 0.1682243 ,\n",
              "        0.41121495, 0.18691589]))"
            ]
          },
          "metadata": {
            "tags": []
          },
          "execution_count": 43
        }
      ]
    },
    {
      "cell_type": "code",
      "metadata": {
        "id": "sS4OsALYdDD2"
      },
      "source": [
        "### Creating the model\n",
        "\n",
        "model = tf.keras.Sequential()\n",
        "model.add(tf.keras.layers.LSTM(128,input_shape=(window_length,num_features),return_sequences=True)) # since we want full sequence not just output from last sequence\n",
        "model.add(tf.keras.layers.LeakyReLU(alpha=0.5))\n",
        "model.add(tf.keras.layers.LSTM(128,return_sequences=True))\n",
        "model.add(tf.keras.layers.LeakyReLU(alpha=0.5))\n",
        "model.add(tf.keras.layers.Dropout(0.3))\n",
        "model.add(tf.keras.layers.LSTM(64,return_sequences=False))\n",
        "model.add(tf.keras.layers.Dropout(0.3))\n",
        "model.add(tf.keras.layers.Dense(1)) # since output is a single number instead of the vector\n",
        "\n",
        "\n"
      ],
      "execution_count": 44,
      "outputs": []
    },
    {
      "cell_type": "code",
      "metadata": {
        "colab": {
          "base_uri": "https://localhost:8080/"
        },
        "id": "R2qMOMhgeoeX",
        "outputId": "c77d605f-0eb7-4212-e418-2daec1266854"
      },
      "source": [
        "model.summary()"
      ],
      "execution_count": 45,
      "outputs": [
        {
          "output_type": "stream",
          "text": [
            "Model: \"sequential\"\n",
            "_________________________________________________________________\n",
            "Layer (type)                 Output Shape              Param #   \n",
            "=================================================================\n",
            "lstm (LSTM)                  (None, 720, 128)          68096     \n",
            "_________________________________________________________________\n",
            "leaky_re_lu (LeakyReLU)      (None, 720, 128)          0         \n",
            "_________________________________________________________________\n",
            "lstm_1 (LSTM)                (None, 720, 128)          131584    \n",
            "_________________________________________________________________\n",
            "leaky_re_lu_1 (LeakyReLU)    (None, 720, 128)          0         \n",
            "_________________________________________________________________\n",
            "dropout (Dropout)            (None, 720, 128)          0         \n",
            "_________________________________________________________________\n",
            "lstm_2 (LSTM)                (None, 64)                49408     \n",
            "_________________________________________________________________\n",
            "dropout_1 (Dropout)          (None, 64)                0         \n",
            "_________________________________________________________________\n",
            "dense (Dense)                (None, 1)                 65        \n",
            "=================================================================\n",
            "Total params: 249,153\n",
            "Trainable params: 249,153\n",
            "Non-trainable params: 0\n",
            "_________________________________________________________________\n"
          ],
          "name": "stdout"
        }
      ]
    },
    {
      "cell_type": "code",
      "metadata": {
        "colab": {
          "base_uri": "https://localhost:8080/"
        },
        "id": "c1JbWFCQeqmQ",
        "outputId": "15771726-2808-47bf-be53-73fd38508042"
      },
      "source": [
        "early_stop = tf.keras.callbacks.EarlyStopping(monitor='val_loss',\n",
        "                                              patience=2,mode='min') # if val loss does not improve for 2 consecutive iteration stop the trianing\n",
        "model.compile(loss=tf.losses.MeanSquaredError(),\n",
        "              optimizer=tf.optimizers.Adam(),\n",
        "              metrics = [tf.metrics.MeanAbsoluteError()])     \n",
        "\n",
        "history = model.fit_generator(train_generator,epochs=50,\n",
        "                              validation_data = test_generator,\n",
        "                              shuffle=False,\n",
        "                              callbacks=[early_stop])                 "
      ],
      "execution_count": 48,
      "outputs": [
        {
          "output_type": "stream",
          "text": [
            "/usr/local/lib/python3.6/dist-packages/tensorflow/python/keras/engine/training.py:1844: UserWarning: `Model.fit_generator` is deprecated and will be removed in a future version. Please use `Model.fit`, which supports generators.\n",
            "  warnings.warn('`Model.fit_generator` is deprecated and '\n"
          ],
          "name": "stderr"
        },
        {
          "output_type": "stream",
          "text": [
            "Epoch 1/50\n",
            "373/373 [==============================] - 42s 87ms/step - loss: 0.0123 - mean_absolute_error: 0.0646 - val_loss: 0.0073 - val_mean_absolute_error: 0.0393\n",
            "Epoch 2/50\n",
            "373/373 [==============================] - 32s 85ms/step - loss: 0.0099 - mean_absolute_error: 0.0557 - val_loss: 0.0056 - val_mean_absolute_error: 0.0343\n",
            "Epoch 3/50\n",
            "373/373 [==============================] - 32s 86ms/step - loss: 0.0078 - mean_absolute_error: 0.0460 - val_loss: 0.0043 - val_mean_absolute_error: 0.0296\n",
            "Epoch 4/50\n",
            "373/373 [==============================] - 32s 85ms/step - loss: 0.0055 - mean_absolute_error: 0.0380 - val_loss: 0.0036 - val_mean_absolute_error: 0.0261\n",
            "Epoch 5/50\n",
            "373/373 [==============================] - 32s 85ms/step - loss: 0.0051 - mean_absolute_error: 0.0355 - val_loss: 0.0037 - val_mean_absolute_error: 0.0271\n",
            "Epoch 6/50\n",
            "373/373 [==============================] - 32s 85ms/step - loss: 0.0049 - mean_absolute_error: 0.0351 - val_loss: 0.0035 - val_mean_absolute_error: 0.0287\n",
            "Epoch 7/50\n",
            "373/373 [==============================] - 32s 85ms/step - loss: 0.0047 - mean_absolute_error: 0.0343 - val_loss: 0.0034 - val_mean_absolute_error: 0.0281\n",
            "Epoch 8/50\n",
            "373/373 [==============================] - 32s 85ms/step - loss: 0.0046 - mean_absolute_error: 0.0339 - val_loss: 0.0033 - val_mean_absolute_error: 0.0268\n",
            "Epoch 9/50\n",
            "373/373 [==============================] - 32s 86ms/step - loss: 0.0047 - mean_absolute_error: 0.0339 - val_loss: 0.0034 - val_mean_absolute_error: 0.0279\n",
            "Epoch 10/50\n",
            "373/373 [==============================] - 32s 85ms/step - loss: 0.0046 - mean_absolute_error: 0.0336 - val_loss: 0.0033 - val_mean_absolute_error: 0.0269\n",
            "Epoch 11/50\n",
            "373/373 [==============================] - 32s 86ms/step - loss: 0.0047 - mean_absolute_error: 0.0336 - val_loss: 0.0034 - val_mean_absolute_error: 0.0282\n",
            "Epoch 12/50\n",
            "373/373 [==============================] - 32s 85ms/step - loss: 0.0046 - mean_absolute_error: 0.0332 - val_loss: 0.0034 - val_mean_absolute_error: 0.0274\n"
          ],
          "name": "stdout"
        }
      ]
    },
    {
      "cell_type": "code",
      "metadata": {
        "colab": {
          "base_uri": "https://localhost:8080/"
        },
        "id": "Q0IYENvOfsn3",
        "outputId": "f9ec5b51-9034-4670-93df-fd9ba46791ec"
      },
      "source": [
        "model.evaluate_generator(val_generator,verbose=False)"
      ],
      "execution_count": 52,
      "outputs": [
        {
          "output_type": "stream",
          "text": [
            "/usr/local/lib/python3.6/dist-packages/tensorflow/python/keras/engine/training.py:1877: UserWarning: `Model.evaluate_generator` is deprecated and will be removed in a future version. Please use `Model.evaluate`, which supports generators.\n",
            "  warnings.warn('`Model.evaluate_generator` is deprecated and '\n"
          ],
          "name": "stderr"
        },
        {
          "output_type": "execute_result",
          "data": {
            "text/plain": [
              "[0.0037064107600599527, 0.027431339025497437]"
            ]
          },
          "metadata": {
            "tags": []
          },
          "execution_count": 52
        }
      ]
    },
    {
      "cell_type": "code",
      "metadata": {
        "colab": {
          "base_uri": "https://localhost:8080/"
        },
        "id": "4LOYB0CoiBBi",
        "outputId": "f3df6911-68a7-4538-a1f2-a7dfa54ce883"
      },
      "source": [
        "predictions = model.predict_generator(test_generator)"
      ],
      "execution_count": 53,
      "outputs": [
        {
          "output_type": "stream",
          "text": [
            "/usr/local/lib/python3.6/dist-packages/tensorflow/python/keras/engine/training.py:1905: UserWarning: `Model.predict_generator` is deprecated and will be removed in a future version. Please use `Model.predict`, which supports generators.\n",
            "  warnings.warn('`Model.predict_generator` is deprecated and '\n"
          ],
          "name": "stderr"
        }
      ]
    },
    {
      "cell_type": "code",
      "metadata": {
        "colab": {
          "base_uri": "https://localhost:8080/"
        },
        "id": "wSlb6-Z_icrV",
        "outputId": "d57033a8-ced1-4430-d3a6-28db7a53bc9f"
      },
      "source": [
        "predictions.shape #720 less than the y_test,, because it takes initial 720 records and predicts the next one"
      ],
      "execution_count": 54,
      "outputs": [
        {
          "output_type": "execute_result",
          "data": {
            "text/plain": [
              "(3227, 1)"
            ]
          },
          "metadata": {
            "tags": []
          },
          "execution_count": 54
        }
      ]
    },
    {
      "cell_type": "code",
      "metadata": {
        "colab": {
          "base_uri": "https://localhost:8080/"
        },
        "id": "PqGdiV47ig3F",
        "outputId": "7e0d4296-0117-4d1c-db09-ca60c5e056e2"
      },
      "source": [
        "y_test.shape"
      ],
      "execution_count": 55,
      "outputs": [
        {
          "output_type": "execute_result",
          "data": {
            "text/plain": [
              "(3947,)"
            ]
          },
          "metadata": {
            "tags": []
          },
          "execution_count": 55
        }
      ]
    },
    {
      "cell_type": "code",
      "metadata": {
        "colab": {
          "base_uri": "https://localhost:8080/"
        },
        "id": "WP1rad0IikBI",
        "outputId": "db5a31fd-0347-4f5b-8db7-7a2363dbd4dc"
      },
      "source": [
        "X_test"
      ],
      "execution_count": 58,
      "outputs": [
        {
          "output_type": "execute_result",
          "data": {
            "text/plain": [
              "array([[0.3364486 , 0.30923768, 0.34297964, 0.6       ],\n",
              "       [0.54205607, 0.3055683 , 0.34726688, 0.6       ],\n",
              "       [0.28971963, 0.30455921, 0.35155413, 0.6       ],\n",
              "       ...,\n",
              "       [0.24299065, 0.53866618, 0.88317256, 0.37435897],\n",
              "       [0.38317757, 0.54949087, 0.87888532, 0.38717949],\n",
              "       [0.39252336, 0.53875791, 0.87459807, 0.4       ]])"
            ]
          },
          "metadata": {
            "tags": []
          },
          "execution_count": 58
        }
      ]
    },
    {
      "cell_type": "code",
      "metadata": {
        "colab": {
          "base_uri": "https://localhost:8080/"
        },
        "id": "Hp-rtZktix91",
        "outputId": "d36b6cda-3b45-4ec2-e34e-d91594c754ec"
      },
      "source": [
        "len(X_test[:,1:][window_length:]) # takes features except Appliances"
      ],
      "execution_count": 62,
      "outputs": [
        {
          "output_type": "execute_result",
          "data": {
            "text/plain": [
              "3227"
            ]
          },
          "metadata": {
            "tags": []
          },
          "execution_count": 62
        }
      ]
    },
    {
      "cell_type": "code",
      "metadata": {
        "colab": {
          "base_uri": "https://localhost:8080/"
        },
        "id": "xRiatX7AjzKS",
        "outputId": "46b60f45-5e19-4ea7-92a8-64aaa6306479"
      },
      "source": [
        "df_input.columns"
      ],
      "execution_count": 64,
      "outputs": [
        {
          "output_type": "execute_result",
          "data": {
            "text/plain": [
              "Index(['Appliances', 'RH_1', 'T_out', 'Visibility'], dtype='object')"
            ]
          },
          "metadata": {
            "tags": []
          },
          "execution_count": 64
        }
      ]
    },
    {
      "cell_type": "code",
      "metadata": {
        "id": "ZfEd1tPTjJMD"
      },
      "source": [
        "## let us concat this result with prediction\n",
        "\n",
        "df_pred = pd.concat([pd.DataFrame(predictions),pd.DataFrame(X_test[:,1:][window_length:]) ], axis=1 )"
      ],
      "execution_count": 66,
      "outputs": []
    },
    {
      "cell_type": "code",
      "metadata": {
        "id": "JUyrLVAHj_kV"
      },
      "source": [
        "## since the out is scales as well we need to reverse the effect\n",
        "\n",
        "rev = scaler.inverse_transform(df_pred)"
      ],
      "execution_count": 71,
      "outputs": []
    },
    {
      "cell_type": "code",
      "metadata": {
        "colab": {
          "base_uri": "https://localhost:8080/"
        },
        "id": "v0285kFqkEEo",
        "outputId": "28444360-f282-42a7-ba47-3829fe9dc40b"
      },
      "source": [
        "rev"
      ],
      "execution_count": 72,
      "outputs": [
        {
          "output_type": "execute_result",
          "data": {
            "text/plain": [
              "array([[ 83.30465131,  34.6       ,   9.1       ,  40.        ],\n",
              "       [105.92715569,  33.66666667,   9.65      ,  40.        ],\n",
              "       [130.21399185,  33.73333333,  10.2       ,  40.        ],\n",
              "       ...,\n",
              "       [ 82.0620846 ,  46.59666667,  22.46666667,  25.33333333],\n",
              "       [263.5650669 ,  46.99      ,  22.33333333,  26.16666667],\n",
              "       [285.18569887,  46.6       ,  22.2       ,  27.        ]])"
            ]
          },
          "metadata": {
            "tags": []
          },
          "execution_count": 72
        }
      ]
    },
    {
      "cell_type": "code",
      "metadata": {
        "colab": {
          "base_uri": "https://localhost:8080/"
        },
        "id": "t8NUDMypkd3E",
        "outputId": "d8889d0b-51eb-4f5f-85ed-16bf12e6cabd"
      },
      "source": [
        "df_final = df_input[-len(predictions):]\n",
        "df_final.shape"
      ],
      "execution_count": 75,
      "outputs": [
        {
          "output_type": "execute_result",
          "data": {
            "text/plain": [
              "(3227, 4)"
            ]
          },
          "metadata": {
            "tags": []
          },
          "execution_count": 75
        }
      ]
    },
    {
      "cell_type": "code",
      "metadata": {
        "colab": {
          "base_uri": "https://localhost:8080/"
        },
        "id": "jCIyDl8xlKBx",
        "outputId": "93fc390b-42a6-4188-a313-e859466959e2"
      },
      "source": [
        "df_final['Predicted_Appliance'] = rev[:,0]"
      ],
      "execution_count": 76,
      "outputs": [
        {
          "output_type": "stream",
          "text": [
            "/usr/local/lib/python3.6/dist-packages/ipykernel_launcher.py:1: SettingWithCopyWarning: \n",
            "A value is trying to be set on a copy of a slice from a DataFrame.\n",
            "Try using .loc[row_indexer,col_indexer] = value instead\n",
            "\n",
            "See the caveats in the documentation: https://pandas.pydata.org/pandas-docs/stable/user_guide/indexing.html#returning-a-view-versus-a-copy\n",
            "  \"\"\"Entry point for launching an IPython kernel.\n"
          ],
          "name": "stderr"
        }
      ]
    },
    {
      "cell_type": "code",
      "metadata": {
        "colab": {
          "base_uri": "https://localhost:8080/",
          "height": 450
        },
        "id": "vb0mvpPHliDG",
        "outputId": "eb1f8a8f-5179-4d85-cd27-cd9bde41f608"
      },
      "source": [
        "df_final"
      ],
      "execution_count": 77,
      "outputs": [
        {
          "output_type": "execute_result",
          "data": {
            "text/html": [
              "<div>\n",
              "<style scoped>\n",
              "    .dataframe tbody tr th:only-of-type {\n",
              "        vertical-align: middle;\n",
              "    }\n",
              "\n",
              "    .dataframe tbody tr th {\n",
              "        vertical-align: top;\n",
              "    }\n",
              "\n",
              "    .dataframe thead th {\n",
              "        text-align: right;\n",
              "    }\n",
              "</style>\n",
              "<table border=\"1\" class=\"dataframe\">\n",
              "  <thead>\n",
              "    <tr style=\"text-align: right;\">\n",
              "      <th></th>\n",
              "      <th>Appliances</th>\n",
              "      <th>RH_1</th>\n",
              "      <th>T_out</th>\n",
              "      <th>Visibility</th>\n",
              "      <th>Predicted_Appliance</th>\n",
              "    </tr>\n",
              "    <tr>\n",
              "      <th>date</th>\n",
              "      <th></th>\n",
              "      <th></th>\n",
              "      <th></th>\n",
              "      <th></th>\n",
              "      <th></th>\n",
              "    </tr>\n",
              "  </thead>\n",
              "  <tbody>\n",
              "    <tr>\n",
              "      <th>2016-05-05 08:20:00</th>\n",
              "      <td>90</td>\n",
              "      <td>34.600000</td>\n",
              "      <td>9.100000</td>\n",
              "      <td>40.000000</td>\n",
              "      <td>83.304651</td>\n",
              "    </tr>\n",
              "    <tr>\n",
              "      <th>2016-05-05 08:30:00</th>\n",
              "      <td>120</td>\n",
              "      <td>33.666667</td>\n",
              "      <td>9.650000</td>\n",
              "      <td>40.000000</td>\n",
              "      <td>105.927156</td>\n",
              "    </tr>\n",
              "    <tr>\n",
              "      <th>2016-05-05 08:40:00</th>\n",
              "      <td>390</td>\n",
              "      <td>33.733333</td>\n",
              "      <td>10.200000</td>\n",
              "      <td>40.000000</td>\n",
              "      <td>130.213992</td>\n",
              "    </tr>\n",
              "    <tr>\n",
              "      <th>2016-05-05 08:50:00</th>\n",
              "      <td>240</td>\n",
              "      <td>34.072500</td>\n",
              "      <td>10.750000</td>\n",
              "      <td>40.000000</td>\n",
              "      <td>380.415174</td>\n",
              "    </tr>\n",
              "    <tr>\n",
              "      <th>2016-05-05 09:00:00</th>\n",
              "      <td>120</td>\n",
              "      <td>33.630000</td>\n",
              "      <td>11.300000</td>\n",
              "      <td>40.000000</td>\n",
              "      <td>173.391240</td>\n",
              "    </tr>\n",
              "    <tr>\n",
              "      <th>...</th>\n",
              "      <td>...</td>\n",
              "      <td>...</td>\n",
              "      <td>...</td>\n",
              "      <td>...</td>\n",
              "      <td>...</td>\n",
              "    </tr>\n",
              "    <tr>\n",
              "      <th>2016-05-27 17:20:00</th>\n",
              "      <td>100</td>\n",
              "      <td>46.560000</td>\n",
              "      <td>22.733333</td>\n",
              "      <td>23.666667</td>\n",
              "      <td>87.944258</td>\n",
              "    </tr>\n",
              "    <tr>\n",
              "      <th>2016-05-27 17:30:00</th>\n",
              "      <td>90</td>\n",
              "      <td>46.500000</td>\n",
              "      <td>22.600000</td>\n",
              "      <td>24.500000</td>\n",
              "      <td>98.117435</td>\n",
              "    </tr>\n",
              "    <tr>\n",
              "      <th>2016-05-27 17:40:00</th>\n",
              "      <td>270</td>\n",
              "      <td>46.596667</td>\n",
              "      <td>22.466667</td>\n",
              "      <td>25.333333</td>\n",
              "      <td>82.062085</td>\n",
              "    </tr>\n",
              "    <tr>\n",
              "      <th>2016-05-27 17:50:00</th>\n",
              "      <td>420</td>\n",
              "      <td>46.990000</td>\n",
              "      <td>22.333333</td>\n",
              "      <td>26.166667</td>\n",
              "      <td>263.565067</td>\n",
              "    </tr>\n",
              "    <tr>\n",
              "      <th>2016-05-27 18:00:00</th>\n",
              "      <td>430</td>\n",
              "      <td>46.600000</td>\n",
              "      <td>22.200000</td>\n",
              "      <td>27.000000</td>\n",
              "      <td>285.185699</td>\n",
              "    </tr>\n",
              "  </tbody>\n",
              "</table>\n",
              "<p>3227 rows × 5 columns</p>\n",
              "</div>"
            ],
            "text/plain": [
              "                     Appliances       RH_1  ...  Visibility  Predicted_Appliance\n",
              "date                                        ...                                 \n",
              "2016-05-05 08:20:00          90  34.600000  ...   40.000000            83.304651\n",
              "2016-05-05 08:30:00         120  33.666667  ...   40.000000           105.927156\n",
              "2016-05-05 08:40:00         390  33.733333  ...   40.000000           130.213992\n",
              "2016-05-05 08:50:00         240  34.072500  ...   40.000000           380.415174\n",
              "2016-05-05 09:00:00         120  33.630000  ...   40.000000           173.391240\n",
              "...                         ...        ...  ...         ...                  ...\n",
              "2016-05-27 17:20:00         100  46.560000  ...   23.666667            87.944258\n",
              "2016-05-27 17:30:00          90  46.500000  ...   24.500000            98.117435\n",
              "2016-05-27 17:40:00         270  46.596667  ...   25.333333            82.062085\n",
              "2016-05-27 17:50:00         420  46.990000  ...   26.166667           263.565067\n",
              "2016-05-27 18:00:00         430  46.600000  ...   27.000000           285.185699\n",
              "\n",
              "[3227 rows x 5 columns]"
            ]
          },
          "metadata": {
            "tags": []
          },
          "execution_count": 77
        }
      ]
    },
    {
      "cell_type": "code",
      "metadata": {
        "colab": {
          "base_uri": "https://localhost:8080/",
          "height": 535
        },
        "id": "EuWJP2pKlj1s",
        "outputId": "af4d42f1-1db8-4a77-8b55-a8b1e101f221"
      },
      "source": [
        "## let us see how well our model predicted by visulizing \n",
        "\n",
        "df_final[['Appliances','Predicted_Appliance']].plot()"
      ],
      "execution_count": 78,
      "outputs": [
        {
          "output_type": "execute_result",
          "data": {
            "text/plain": [
              "<matplotlib.axes._subplots.AxesSubplot at 0x7f0153d0ebe0>"
            ]
          },
          "metadata": {
            "tags": []
          },
          "execution_count": 78
        },
        {
          "output_type": "display_data",
          "data": {
            "image/png": "[encoded data removed]",
            "text/plain": [
              "<Figure size 720x576 with 1 Axes>"
            ]
          },
          "metadata": {
            "tags": [],
            "needs_background": "light"
          }
        }
      ]
    },
    {
      "cell_type": "code",
      "metadata": {
        "id": "dnZWcJNtlwUh"
      },
      "source": [
        "## pretty good estimation\n",
        "## but failed to capture the extreme points in the original data\n",
        "## may be we should include those feauters which accounted for these higher spikes and retrain the model to get even better estimaiton\n",
        "## altogther LSTM did a good job capturing the trend in the data"
      ],
      "execution_count": 79,
      "outputs": []
    },
    {
      "cell_type": "code",
      "metadata": {
        "id": "79fUPL7ZmGqv"
      },
      "source": [
        ""
      ],
      "execution_count": null,
      "outputs": []
    }
  ]
}