{
 "cells": [
  {
   "cell_type": "code",
   "execution_count": 1,
   "metadata": {},
   "outputs": [],
   "source": [
    "## takes into account more than just past prices or past residuals --- MAX models"
   ]
  },
  {
   "cell_type": "code",
   "execution_count": 29,
   "metadata": {},
   "outputs": [],
   "source": [
    "import pandas as pd\n",
    "import numpy as np\n",
    "import matplotlib.pyplot as plt\n",
    "import seaborn as sns\n",
    "\n",
    "import statsmodels.graphics.tsaplots as sgt\n",
    "import statsmodels.tsa.stattools as sts\n",
    "from statsmodels.tsa.arima_model import ARIMA\n",
    "from scipy.stats.distributions import chi2\n",
    "\n",
    "from math import sqrt\n",
    "sns.set()"
   ]
  },
  {
   "cell_type": "code",
   "execution_count": 30,
   "metadata": {},
   "outputs": [],
   "source": [
    "raw_csv = pd.read_csv('Index2018.csv')\n",
    "df_copy = raw_csv.copy()\n",
    "df_copy['date'] = pd.to_datetime(df_copy['date'],dayfirst=True)\n",
    "df_copy.set_index('date',inplace=True)\n",
    "df_copy = df_copy.asfreq('b')\n",
    "df_copy = df_copy.fillna(method='ffill')"
   ]
  },
  {
   "cell_type": "code",
   "execution_count": 31,
   "metadata": {},
   "outputs": [],
   "source": [
    "### Analyzing FTSE column as market_value(price)\n",
    "\n",
    "df_copy['market_value'] = df_copy['ftse']"
   ]
  },
  {
   "cell_type": "code",
   "execution_count": 32,
   "metadata": {},
   "outputs": [],
   "source": [
    "df_copy.drop(['spx','dax','ftse','nikkei'],inplace=True,axis=1)"
   ]
  },
  {
   "cell_type": "code",
   "execution_count": 33,
   "metadata": {},
   "outputs": [
    {
     "data": {
      "text/html": [
       "<div>\n",
       "<style scoped>\n",
       "    .dataframe tbody tr th:only-of-type {\n",
       "        vertical-align: middle;\n",
       "    }\n",
       "\n",
       "    .dataframe tbody tr th {\n",
       "        vertical-align: top;\n",
       "    }\n",
       "\n",
       "    .dataframe thead th {\n",
       "        text-align: right;\n",
       "    }\n",
       "</style>\n",
       "<table border=\"1\" class=\"dataframe\">\n",
       "  <thead>\n",
       "    <tr style=\"text-align: right;\">\n",
       "      <th></th>\n",
       "      <th>market_value</th>\n",
       "    </tr>\n",
       "    <tr>\n",
       "      <th>date</th>\n",
       "      <th></th>\n",
       "    </tr>\n",
       "  </thead>\n",
       "  <tbody>\n",
       "    <tr>\n",
       "      <th>1994-01-07</th>\n",
       "      <td>3445.98</td>\n",
       "    </tr>\n",
       "    <tr>\n",
       "      <th>1994-01-10</th>\n",
       "      <td>3440.58</td>\n",
       "    </tr>\n",
       "    <tr>\n",
       "      <th>1994-01-11</th>\n",
       "      <td>3413.77</td>\n",
       "    </tr>\n",
       "    <tr>\n",
       "      <th>1994-01-12</th>\n",
       "      <td>3372.02</td>\n",
       "    </tr>\n",
       "    <tr>\n",
       "      <th>1994-01-13</th>\n",
       "      <td>3360.01</td>\n",
       "    </tr>\n",
       "  </tbody>\n",
       "</table>\n",
       "</div>"
      ],
      "text/plain": [
       "            market_value\n",
       "date                    \n",
       "1994-01-07       3445.98\n",
       "1994-01-10       3440.58\n",
       "1994-01-11       3413.77\n",
       "1994-01-12       3372.02\n",
       "1994-01-13       3360.01"
      ]
     },
     "execution_count": 33,
     "metadata": {},
     "output_type": "execute_result"
    }
   ],
   "source": [
    "df_copy.head()"
   ]
  },
  {
   "cell_type": "code",
   "execution_count": 34,
   "metadata": {},
   "outputs": [],
   "source": [
    "# split \n",
    "\n",
    "size = int(len(df_copy)*0.8)\n",
    "df = df_copy.iloc[:size]\n",
    "df_test = df_copy.iloc[size:]"
   ]
  },
  {
   "cell_type": "code",
   "execution_count": 35,
   "metadata": {},
   "outputs": [],
   "source": [
    "def llr_test(model_1,model_2,df=1):\n",
    "    ''' can only use this when order of simple model is nested inside the complex model'''\n",
    "    L1 = model_1.fit().llf\n",
    "    L2 = model_2.fit().llf\n",
    "    LR = (2*(L2-L1))\n",
    "    p = chi2.sf(LR,df).round(3)\n",
    "    return p\n",
    "    "
   ]
  },
  {
   "cell_type": "code",
   "execution_count": 36,
   "metadata": {},
   "outputs": [
    {
     "name": "stderr",
     "output_type": "stream",
     "text": [
      "<ipython-input-36-51bce0380152>:1: SettingWithCopyWarning: \n",
      "A value is trying to be set on a copy of a slice from a DataFrame.\n",
      "Try using .loc[row_indexer,col_indexer] = value instead\n",
      "\n",
      "See the caveats in the documentation: https://pandas.pydata.org/pandas-docs/stable/user_guide/indexing.html#returning-a-view-versus-a-copy\n",
      "  df['returns']=df['market_value'].pct_change(1).mul(100)\n"
     ]
    }
   ],
   "source": [
    "df['returns']=df['market_value'].pct_change(1).mul(100)"
   ]
  },
  {
   "cell_type": "code",
   "execution_count": 37,
   "metadata": {},
   "outputs": [
    {
     "data": {
      "text/plain": [
       "Index(['market_value', 'returns'], dtype='object')"
      ]
     },
     "execution_count": 37,
     "metadata": {},
     "output_type": "execute_result"
    }
   ],
   "source": [
    "df.columns"
   ]
  },
  {
   "cell_type": "code",
   "execution_count": 38,
   "metadata": {},
   "outputs": [
    {
     "data": {
      "text/plain": [
       "0        469.900000\n",
       "1        475.270000\n",
       "2        474.130000\n",
       "3        474.170000\n",
       "4        472.470000\n",
       "           ...     \n",
       "5016    1553.278930\n",
       "5017    1563.071269\n",
       "5018    1568.607909\n",
       "5019    1587.731827\n",
       "5020    1593.369863\n",
       "Name: spx, Length: 5021, dtype: float64"
      ]
     },
     "execution_count": 38,
     "metadata": {},
     "output_type": "execute_result"
    }
   ],
   "source": [
    "raw_csv['spx'].iloc[:size]"
   ]
  },
  {
   "cell_type": "code",
   "execution_count": 39,
   "metadata": {},
   "outputs": [
    {
     "name": "stderr",
     "output_type": "stream",
     "text": [
      "<ipython-input-39-75a0dcbbd4b8>:1: SettingWithCopyWarning: \n",
      "A value is trying to be set on a copy of a slice from a DataFrame.\n",
      "Try using .loc[row_indexer,col_indexer] = value instead\n",
      "\n",
      "See the caveats in the documentation: https://pandas.pydata.org/pandas-docs/stable/user_guide/indexing.html#returning-a-view-versus-a-copy\n",
      "  df['spx'] = raw_csv['spx'].iloc[:size]\n"
     ]
    }
   ],
   "source": [
    "df['spx'] = raw_csv['spx'].iloc[:size]\n",
    "# df['dax'] =raw_csv['dax'].iloc[:size]\n",
    "# df['nikkei'] =raw_csv['nikkei'].iloc[:size]"
   ]
  },
  {
   "cell_type": "code",
   "execution_count": 46,
   "metadata": {},
   "outputs": [
    {
     "data": {
      "text/plain": [
       "array([ 469.9     ,  475.27    ,  474.13    , ..., 1568.607909,\n",
       "       1587.731827, 1593.369863])"
      ]
     },
     "execution_count": 46,
     "metadata": {},
     "output_type": "execute_result"
    }
   ],
   "source": [
    "raw_csv['spx'][:size].values"
   ]
  },
  {
   "cell_type": "code",
   "execution_count": 42,
   "metadata": {},
   "outputs": [
    {
     "data": {
      "text/html": [
       "<div>\n",
       "<style scoped>\n",
       "    .dataframe tbody tr th:only-of-type {\n",
       "        vertical-align: middle;\n",
       "    }\n",
       "\n",
       "    .dataframe tbody tr th {\n",
       "        vertical-align: top;\n",
       "    }\n",
       "\n",
       "    .dataframe thead th {\n",
       "        text-align: right;\n",
       "    }\n",
       "</style>\n",
       "<table border=\"1\" class=\"dataframe\">\n",
       "  <thead>\n",
       "    <tr style=\"text-align: right;\">\n",
       "      <th></th>\n",
       "      <th>market_value</th>\n",
       "      <th>returns</th>\n",
       "      <th>spx</th>\n",
       "    </tr>\n",
       "    <tr>\n",
       "      <th>date</th>\n",
       "      <th></th>\n",
       "      <th></th>\n",
       "      <th></th>\n",
       "    </tr>\n",
       "  </thead>\n",
       "  <tbody>\n",
       "    <tr>\n",
       "      <th>1994-01-07</th>\n",
       "      <td>3445.98</td>\n",
       "      <td>NaN</td>\n",
       "      <td>NaN</td>\n",
       "    </tr>\n",
       "    <tr>\n",
       "      <th>1994-01-10</th>\n",
       "      <td>3440.58</td>\n",
       "      <td>-0.156704</td>\n",
       "      <td>NaN</td>\n",
       "    </tr>\n",
       "    <tr>\n",
       "      <th>1994-01-11</th>\n",
       "      <td>3413.77</td>\n",
       "      <td>-0.779229</td>\n",
       "      <td>NaN</td>\n",
       "    </tr>\n",
       "    <tr>\n",
       "      <th>1994-01-12</th>\n",
       "      <td>3372.02</td>\n",
       "      <td>-1.222988</td>\n",
       "      <td>NaN</td>\n",
       "    </tr>\n",
       "    <tr>\n",
       "      <th>1994-01-13</th>\n",
       "      <td>3360.01</td>\n",
       "      <td>-0.356166</td>\n",
       "      <td>NaN</td>\n",
       "    </tr>\n",
       "  </tbody>\n",
       "</table>\n",
       "</div>"
      ],
      "text/plain": [
       "            market_value   returns  spx\n",
       "date                                   \n",
       "1994-01-07       3445.98       NaN  NaN\n",
       "1994-01-10       3440.58 -0.156704  NaN\n",
       "1994-01-11       3413.77 -0.779229  NaN\n",
       "1994-01-12       3372.02 -1.222988  NaN\n",
       "1994-01-13       3360.01 -0.356166  NaN"
      ]
     },
     "execution_count": 42,
     "metadata": {},
     "output_type": "execute_result"
    }
   ],
   "source": [
    "df.head()"
   ]
  },
  {
   "cell_type": "markdown",
   "metadata": {},
   "source": [
    "### ARIMAX(1,1,1)"
   ]
  },
  {
   "cell_type": "code",
   "execution_count": 47,
   "metadata": {},
   "outputs": [
    {
     "data": {
      "text/html": [
       "<table class=\"simpletable\">\n",
       "<caption>ARIMA Model Results</caption>\n",
       "<tr>\n",
       "  <th>Dep. Variable:</th>  <td>D.market_value</td>  <th>  No. Observations:  </th>    <td>5020</td>   \n",
       "</tr>\n",
       "<tr>\n",
       "  <th>Model:</th>          <td>ARIMA(1, 1, 1)</td>  <th>  Log Likelihood     </th> <td>-27603.561</td>\n",
       "</tr>\n",
       "<tr>\n",
       "  <th>Method:</th>             <td>css-mle</td>     <th>  S.D. of innovations</th>   <td>59.132</td>  \n",
       "</tr>\n",
       "<tr>\n",
       "  <th>Date:</th>          <td>Tue, 19 Jan 2021</td> <th>  AIC                </th>  <td>55217.122</td>\n",
       "</tr>\n",
       "<tr>\n",
       "  <th>Time:</th>              <td>13:59:16</td>     <th>  BIC                </th>  <td>55249.728</td>\n",
       "</tr>\n",
       "<tr>\n",
       "  <th>Sample:</th>           <td>01-10-1994</td>    <th>  HQIC               </th>  <td>55228.547</td>\n",
       "</tr>\n",
       "<tr>\n",
       "  <th></th>                 <td>- 04-05-2013</td>   <th>                     </th>      <td> </td>    \n",
       "</tr>\n",
       "</table>\n",
       "<table class=\"simpletable\">\n",
       "<tr>\n",
       "            <td></td>              <th>coef</th>     <th>std err</th>      <th>z</th>      <th>P>|z|</th>  <th>[0.025</th>    <th>0.975]</th>  \n",
       "</tr>\n",
       "<tr>\n",
       "  <th>const</th>                <td>   -0.5591</td> <td>    2.651</td> <td>   -0.211</td> <td> 0.833</td> <td>   -5.755</td> <td>    4.636</td>\n",
       "</tr>\n",
       "<tr>\n",
       "  <th>x1</th>                   <td>    0.0010</td> <td>    0.002</td> <td>    0.440</td> <td> 0.660</td> <td>   -0.004</td> <td>    0.006</td>\n",
       "</tr>\n",
       "<tr>\n",
       "  <th>ar.L1.D.market_value</th> <td>    0.7462</td> <td>    0.070</td> <td>   10.609</td> <td> 0.000</td> <td>    0.608</td> <td>    0.884</td>\n",
       "</tr>\n",
       "<tr>\n",
       "  <th>ma.L1.D.market_value</th> <td>   -0.7923</td> <td>    0.064</td> <td>  -12.317</td> <td> 0.000</td> <td>   -0.918</td> <td>   -0.666</td>\n",
       "</tr>\n",
       "</table>\n",
       "<table class=\"simpletable\">\n",
       "<caption>Roots</caption>\n",
       "<tr>\n",
       "    <td></td>   <th>            Real</th>  <th>         Imaginary</th> <th>         Modulus</th>  <th>        Frequency</th>\n",
       "</tr>\n",
       "<tr>\n",
       "  <th>AR.1</th> <td>           1.3402</td> <td>          +0.0000j</td> <td>           1.3402</td> <td>           0.0000</td>\n",
       "</tr>\n",
       "<tr>\n",
       "  <th>MA.1</th> <td>           1.2622</td> <td>          +0.0000j</td> <td>           1.2622</td> <td>           0.0000</td>\n",
       "</tr>\n",
       "</table>"
      ],
      "text/plain": [
       "<class 'statsmodels.iolib.summary.Summary'>\n",
       "\"\"\"\n",
       "                             ARIMA Model Results                              \n",
       "==============================================================================\n",
       "Dep. Variable:         D.market_value   No. Observations:                 5020\n",
       "Model:                 ARIMA(1, 1, 1)   Log Likelihood              -27603.561\n",
       "Method:                       css-mle   S.D. of innovations             59.132\n",
       "Date:                Tue, 19 Jan 2021   AIC                          55217.122\n",
       "Time:                        13:59:16   BIC                          55249.728\n",
       "Sample:                    01-10-1994   HQIC                         55228.547\n",
       "                         - 04-05-2013                                         \n",
       "========================================================================================\n",
       "                           coef    std err          z      P>|z|      [0.025      0.975]\n",
       "----------------------------------------------------------------------------------------\n",
       "const                   -0.5591      2.651     -0.211      0.833      -5.755       4.636\n",
       "x1                       0.0010      0.002      0.440      0.660      -0.004       0.006\n",
       "ar.L1.D.market_value     0.7462      0.070     10.609      0.000       0.608       0.884\n",
       "ma.L1.D.market_value    -0.7923      0.064    -12.317      0.000      -0.918      -0.666\n",
       "                                    Roots                                    \n",
       "=============================================================================\n",
       "                  Real          Imaginary           Modulus         Frequency\n",
       "-----------------------------------------------------------------------------\n",
       "AR.1            1.3402           +0.0000j            1.3402            0.0000\n",
       "MA.1            1.2622           +0.0000j            1.2622            0.0000\n",
       "-----------------------------------------------------------------------------\n",
       "\"\"\""
      ]
     },
     "execution_count": 47,
     "metadata": {},
     "output_type": "execute_result"
    }
   ],
   "source": [
    "## including spx as exogenous\n",
    "model_ar_1_i_1_ma_1_Xspx = ARIMA(df.market_value,exog=raw_csv['spx'][:size].values,order=(1,1,1))\n",
    "result_ar_1_i_1_ma_1_Xspx=model_ar_1_i_1_ma_1_Xspx.fit()\n",
    "result_ar_1_i_1_ma_1_Xspx.summary()"
   ]
  },
  {
   "cell_type": "code",
   "execution_count": 49,
   "metadata": {},
   "outputs": [
    {
     "data": {
      "text/html": [
       "<table class=\"simpletable\">\n",
       "<caption>ARIMA Model Results</caption>\n",
       "<tr>\n",
       "  <th>Dep. Variable:</th>  <td>D.market_value</td>  <th>  No. Observations:  </th>    <td>5020</td>   \n",
       "</tr>\n",
       "<tr>\n",
       "  <th>Model:</th>          <td>ARIMA(1, 1, 1)</td>  <th>  Log Likelihood     </th> <td>-27603.412</td>\n",
       "</tr>\n",
       "<tr>\n",
       "  <th>Method:</th>             <td>css-mle</td>     <th>  S.D. of innovations</th>   <td>59.131</td>  \n",
       "</tr>\n",
       "<tr>\n",
       "  <th>Date:</th>          <td>Tue, 19 Jan 2021</td> <th>  AIC                </th>  <td>55216.823</td>\n",
       "</tr>\n",
       "<tr>\n",
       "  <th>Time:</th>              <td>14:00:13</td>     <th>  BIC                </th>  <td>55249.429</td>\n",
       "</tr>\n",
       "<tr>\n",
       "  <th>Sample:</th>           <td>01-10-1994</td>    <th>  HQIC               </th>  <td>55228.249</td>\n",
       "</tr>\n",
       "<tr>\n",
       "  <th></th>                 <td>- 04-05-2013</td>   <th>                     </th>      <td> </td>    \n",
       "</tr>\n",
       "</table>\n",
       "<table class=\"simpletable\">\n",
       "<tr>\n",
       "            <td></td>              <th>coef</th>     <th>std err</th>      <th>z</th>      <th>P>|z|</th>  <th>[0.025</th>    <th>0.975]</th>  \n",
       "</tr>\n",
       "<tr>\n",
       "  <th>const</th>                <td>   -1.3678</td> <td>    2.448</td> <td>   -0.559</td> <td> 0.576</td> <td>   -6.165</td> <td>    3.430</td>\n",
       "</tr>\n",
       "<tr>\n",
       "  <th>x1</th>                   <td>    0.0001</td> <td>    0.000</td> <td>    0.815</td> <td> 0.415</td> <td>   -0.000</td> <td>    0.000</td>\n",
       "</tr>\n",
       "<tr>\n",
       "  <th>ar.L1.D.market_value</th> <td>    0.7472</td> <td>    0.070</td> <td>   10.629</td> <td> 0.000</td> <td>    0.609</td> <td>    0.885</td>\n",
       "</tr>\n",
       "<tr>\n",
       "  <th>ma.L1.D.market_value</th> <td>   -0.7934</td> <td>    0.064</td> <td>  -12.350</td> <td> 0.000</td> <td>   -0.919</td> <td>   -0.668</td>\n",
       "</tr>\n",
       "</table>\n",
       "<table class=\"simpletable\">\n",
       "<caption>Roots</caption>\n",
       "<tr>\n",
       "    <td></td>   <th>            Real</th>  <th>         Imaginary</th> <th>         Modulus</th>  <th>        Frequency</th>\n",
       "</tr>\n",
       "<tr>\n",
       "  <th>AR.1</th> <td>           1.3383</td> <td>          +0.0000j</td> <td>           1.3383</td> <td>           0.0000</td>\n",
       "</tr>\n",
       "<tr>\n",
       "  <th>MA.1</th> <td>           1.2604</td> <td>          +0.0000j</td> <td>           1.2604</td> <td>           0.0000</td>\n",
       "</tr>\n",
       "</table>"
      ],
      "text/plain": [
       "<class 'statsmodels.iolib.summary.Summary'>\n",
       "\"\"\"\n",
       "                             ARIMA Model Results                              \n",
       "==============================================================================\n",
       "Dep. Variable:         D.market_value   No. Observations:                 5020\n",
       "Model:                 ARIMA(1, 1, 1)   Log Likelihood              -27603.412\n",
       "Method:                       css-mle   S.D. of innovations             59.131\n",
       "Date:                Tue, 19 Jan 2021   AIC                          55216.823\n",
       "Time:                        14:00:13   BIC                          55249.429\n",
       "Sample:                    01-10-1994   HQIC                         55228.249\n",
       "                         - 04-05-2013                                         \n",
       "========================================================================================\n",
       "                           coef    std err          z      P>|z|      [0.025      0.975]\n",
       "----------------------------------------------------------------------------------------\n",
       "const                   -1.3678      2.448     -0.559      0.576      -6.165       3.430\n",
       "x1                       0.0001      0.000      0.815      0.415      -0.000       0.000\n",
       "ar.L1.D.market_value     0.7472      0.070     10.629      0.000       0.609       0.885\n",
       "ma.L1.D.market_value    -0.7934      0.064    -12.350      0.000      -0.919      -0.668\n",
       "                                    Roots                                    \n",
       "=============================================================================\n",
       "                  Real          Imaginary           Modulus         Frequency\n",
       "-----------------------------------------------------------------------------\n",
       "AR.1            1.3383           +0.0000j            1.3383            0.0000\n",
       "MA.1            1.2604           +0.0000j            1.2604            0.0000\n",
       "-----------------------------------------------------------------------------\n",
       "\"\"\""
      ]
     },
     "execution_count": 49,
     "metadata": {},
     "output_type": "execute_result"
    }
   ],
   "source": [
    "## including nekkei as exogenous\n",
    "model_ar_1_i_1_ma_1_Xspx = ARIMA(df.market_value,exog=raw_csv['nikkei'][:size].values,order=(1,1,1))\n",
    "result_ar_1_i_1_ma_1_Xspx=model_ar_1_i_1_ma_1_Xspx.fit()\n",
    "result_ar_1_i_1_ma_1_Xspx.summary()\n"
   ]
  },
  {
   "cell_type": "code",
   "execution_count": 50,
   "metadata": {},
   "outputs": [
    {
     "data": {
      "text/html": [
       "<table class=\"simpletable\">\n",
       "<caption>ARIMA Model Results</caption>\n",
       "<tr>\n",
       "  <th>Dep. Variable:</th>  <td>D.market_value</td>  <th>  No. Observations:  </th>    <td>5020</td>   \n",
       "</tr>\n",
       "<tr>\n",
       "  <th>Model:</th>          <td>ARIMA(1, 1, 1)</td>  <th>  Log Likelihood     </th> <td>-27603.664</td>\n",
       "</tr>\n",
       "<tr>\n",
       "  <th>Method:</th>             <td>css-mle</td>     <th>  S.D. of innovations</th>   <td>59.134</td>  \n",
       "</tr>\n",
       "<tr>\n",
       "  <th>Date:</th>          <td>Tue, 19 Jan 2021</td> <th>  AIC                </th>  <td>55217.328</td>\n",
       "</tr>\n",
       "<tr>\n",
       "  <th>Time:</th>              <td>14:00:37</td>     <th>  BIC                </th>  <td>55249.934</td>\n",
       "</tr>\n",
       "<tr>\n",
       "  <th>Sample:</th>           <td>01-10-1994</td>    <th>  HQIC               </th>  <td>55228.754</td>\n",
       "</tr>\n",
       "<tr>\n",
       "  <th></th>                 <td>- 04-05-2013</td>   <th>                     </th>      <td> </td>    \n",
       "</tr>\n",
       "</table>\n",
       "<table class=\"simpletable\">\n",
       "<tr>\n",
       "            <td></td>              <th>coef</th>     <th>std err</th>      <th>z</th>      <th>P>|z|</th>  <th>[0.025</th>    <th>0.975]</th>  \n",
       "</tr>\n",
       "<tr>\n",
       "  <th>const</th>                <td>    0.6972</td> <td>    2.106</td> <td>    0.331</td> <td> 0.741</td> <td>   -3.431</td> <td>    4.825</td>\n",
       "</tr>\n",
       "<tr>\n",
       "  <th>x1</th>                   <td>-2.642e-05</td> <td>    0.000</td> <td>   -0.066</td> <td> 0.947</td> <td>   -0.001</td> <td>    0.001</td>\n",
       "</tr>\n",
       "<tr>\n",
       "  <th>ar.L1.D.market_value</th> <td>    0.7478</td> <td>    0.070</td> <td>   10.639</td> <td> 0.000</td> <td>    0.610</td> <td>    0.886</td>\n",
       "</tr>\n",
       "<tr>\n",
       "  <th>ma.L1.D.market_value</th> <td>   -0.7939</td> <td>    0.064</td> <td>  -12.358</td> <td> 0.000</td> <td>   -0.920</td> <td>   -0.668</td>\n",
       "</tr>\n",
       "</table>\n",
       "<table class=\"simpletable\">\n",
       "<caption>Roots</caption>\n",
       "<tr>\n",
       "    <td></td>   <th>            Real</th>  <th>         Imaginary</th> <th>         Modulus</th>  <th>        Frequency</th>\n",
       "</tr>\n",
       "<tr>\n",
       "  <th>AR.1</th> <td>           1.3373</td> <td>          +0.0000j</td> <td>           1.3373</td> <td>           0.0000</td>\n",
       "</tr>\n",
       "<tr>\n",
       "  <th>MA.1</th> <td>           1.2596</td> <td>          +0.0000j</td> <td>           1.2596</td> <td>           0.0000</td>\n",
       "</tr>\n",
       "</table>"
      ],
      "text/plain": [
       "<class 'statsmodels.iolib.summary.Summary'>\n",
       "\"\"\"\n",
       "                             ARIMA Model Results                              \n",
       "==============================================================================\n",
       "Dep. Variable:         D.market_value   No. Observations:                 5020\n",
       "Model:                 ARIMA(1, 1, 1)   Log Likelihood              -27603.664\n",
       "Method:                       css-mle   S.D. of innovations             59.134\n",
       "Date:                Tue, 19 Jan 2021   AIC                          55217.328\n",
       "Time:                        14:00:37   BIC                          55249.934\n",
       "Sample:                    01-10-1994   HQIC                         55228.754\n",
       "                         - 04-05-2013                                         \n",
       "========================================================================================\n",
       "                           coef    std err          z      P>|z|      [0.025      0.975]\n",
       "----------------------------------------------------------------------------------------\n",
       "const                    0.6972      2.106      0.331      0.741      -3.431       4.825\n",
       "x1                   -2.642e-05      0.000     -0.066      0.947      -0.001       0.001\n",
       "ar.L1.D.market_value     0.7478      0.070     10.639      0.000       0.610       0.886\n",
       "ma.L1.D.market_value    -0.7939      0.064    -12.358      0.000      -0.920      -0.668\n",
       "                                    Roots                                    \n",
       "=============================================================================\n",
       "                  Real          Imaginary           Modulus         Frequency\n",
       "-----------------------------------------------------------------------------\n",
       "AR.1            1.3373           +0.0000j            1.3373            0.0000\n",
       "MA.1            1.2596           +0.0000j            1.2596            0.0000\n",
       "-----------------------------------------------------------------------------\n",
       "\"\"\""
      ]
     },
     "execution_count": 50,
     "metadata": {},
     "output_type": "execute_result"
    }
   ],
   "source": [
    "## inclusing dax as exog\n",
    "model_ar_1_i_1_ma_1_Xspx = ARIMA(df.market_value,exog=raw_csv['dax'][:size].values,order=(1,1,1))\n",
    "result_ar_1_i_1_ma_1_Xspx=model_ar_1_i_1_ma_1_Xspx.fit()\n",
    "result_ar_1_i_1_ma_1_Xspx.summary()\n",
    "\n",
    "# not sig because maybe we have not included all the indexes"
   ]
  },
  {
   "cell_type": "code",
   "execution_count": null,
   "metadata": {},
   "outputs": [],
   "source": []
  },
  {
   "cell_type": "code",
   "execution_count": null,
   "metadata": {},
   "outputs": [],
   "source": []
  },
  {
   "cell_type": "code",
   "execution_count": null,
   "metadata": {},
   "outputs": [],
   "source": []
  },
  {
   "cell_type": "markdown",
   "metadata": {},
   "source": [
    "### SARIMAX"
   ]
  },
  {
   "cell_type": "code",
   "execution_count": 52,
   "metadata": {},
   "outputs": [],
   "source": [
    "from statsmodels.tsa.statespace.sarimax import SARIMAX"
   ]
  },
  {
   "cell_type": "code",
   "execution_count": 55,
   "metadata": {},
   "outputs": [
    {
     "data": {
      "text/html": [
       "<table class=\"simpletable\">\n",
       "<caption>SARIMAX Results</caption>\n",
       "<tr>\n",
       "  <th>Dep. Variable:</th>           <td>market_value</td>          <th>  No. Observations:  </th>    <td>5021</td>   \n",
       "</tr>\n",
       "<tr>\n",
       "  <th>Model:</th>           <td>SARIMAX(1, 0, 1)x(2, 0, 1, 5)</td> <th>  Log Likelihood     </th> <td>-27485.333</td>\n",
       "</tr>\n",
       "<tr>\n",
       "  <th>Date:</th>                  <td>Tue, 19 Jan 2021</td>        <th>  AIC                </th>  <td>54984.665</td>\n",
       "</tr>\n",
       "<tr>\n",
       "  <th>Time:</th>                      <td>14:44:44</td>            <th>  BIC                </th>  <td>55030.315</td>\n",
       "</tr>\n",
       "<tr>\n",
       "  <th>Sample:</th>                   <td>01-07-1994</td>           <th>  HQIC               </th>  <td>55000.662</td>\n",
       "</tr>\n",
       "<tr>\n",
       "  <th></th>                         <td>- 04-05-2013</td>          <th>                     </th>      <td> </td>    \n",
       "</tr>\n",
       "<tr>\n",
       "  <th>Covariance Type:</th>              <td>opg</td>              <th>                     </th>      <td> </td>    \n",
       "</tr>\n",
       "</table>\n",
       "<table class=\"simpletable\">\n",
       "<tr>\n",
       "      <td></td>        <th>coef</th>     <th>std err</th>      <th>z</th>      <th>P>|z|</th>  <th>[0.025</th>    <th>0.975]</th>  \n",
       "</tr>\n",
       "<tr>\n",
       "  <th>x1</th>       <td>    1.0907</td> <td>    0.032</td> <td>   33.859</td> <td> 0.000</td> <td>    1.028</td> <td>    1.154</td>\n",
       "</tr>\n",
       "<tr>\n",
       "  <th>ar.L1</th>    <td>    0.9998</td> <td>    0.000</td> <td> 2600.099</td> <td> 0.000</td> <td>    0.999</td> <td>    1.001</td>\n",
       "</tr>\n",
       "<tr>\n",
       "  <th>ma.L1</th>    <td>   -0.1038</td> <td>    0.009</td> <td>  -11.683</td> <td> 0.000</td> <td>   -0.121</td> <td>   -0.086</td>\n",
       "</tr>\n",
       "<tr>\n",
       "  <th>ar.S.L5</th>  <td>    0.9665</td> <td>    0.010</td> <td>   97.642</td> <td> 0.000</td> <td>    0.947</td> <td>    0.986</td>\n",
       "</tr>\n",
       "<tr>\n",
       "  <th>ar.S.L10</th> <td>    0.0331</td> <td>    0.008</td> <td>    4.038</td> <td> 0.000</td> <td>    0.017</td> <td>    0.049</td>\n",
       "</tr>\n",
       "<tr>\n",
       "  <th>ma.S.L5</th>  <td>   -0.9992</td> <td>    0.008</td> <td> -128.822</td> <td> 0.000</td> <td>   -1.014</td> <td>   -0.984</td>\n",
       "</tr>\n",
       "<tr>\n",
       "  <th>sigma2</th>   <td> 3319.0237</td> <td>   35.997</td> <td>   92.202</td> <td> 0.000</td> <td> 3248.470</td> <td> 3389.577</td>\n",
       "</tr>\n",
       "</table>\n",
       "<table class=\"simpletable\">\n",
       "<tr>\n",
       "  <th>Ljung-Box (Q):</th>          <td>193.06</td> <th>  Jarque-Bera (JB):  </th> <td>6450.20</td>\n",
       "</tr>\n",
       "<tr>\n",
       "  <th>Prob(Q):</th>                 <td>0.00</td>  <th>  Prob(JB):          </th>  <td>0.00</td>  \n",
       "</tr>\n",
       "<tr>\n",
       "  <th>Heteroskedasticity (H):</th>  <td>2.26</td>  <th>  Skew:              </th>  <td>-0.31</td> \n",
       "</tr>\n",
       "<tr>\n",
       "  <th>Prob(H) (two-sided):</th>     <td>0.00</td>  <th>  Kurtosis:          </th>  <td>8.52</td>  \n",
       "</tr>\n",
       "</table><br/><br/>Warnings:<br/>[1] Covariance matrix calculated using the outer product of gradients (complex-step)."
      ],
      "text/plain": [
       "<class 'statsmodels.iolib.summary.Summary'>\n",
       "\"\"\"\n",
       "                                     SARIMAX Results                                     \n",
       "=========================================================================================\n",
       "Dep. Variable:                      market_value   No. Observations:                 5021\n",
       "Model:             SARIMAX(1, 0, 1)x(2, 0, 1, 5)   Log Likelihood              -27485.333\n",
       "Date:                           Tue, 19 Jan 2021   AIC                          54984.665\n",
       "Time:                                   14:44:44   BIC                          55030.315\n",
       "Sample:                               01-07-1994   HQIC                         55000.662\n",
       "                                    - 04-05-2013                                         \n",
       "Covariance Type:                             opg                                         \n",
       "==============================================================================\n",
       "                 coef    std err          z      P>|z|      [0.025      0.975]\n",
       "------------------------------------------------------------------------------\n",
       "x1             1.0907      0.032     33.859      0.000       1.028       1.154\n",
       "ar.L1          0.9998      0.000   2600.099      0.000       0.999       1.001\n",
       "ma.L1         -0.1038      0.009    -11.683      0.000      -0.121      -0.086\n",
       "ar.S.L5        0.9665      0.010     97.642      0.000       0.947       0.986\n",
       "ar.S.L10       0.0331      0.008      4.038      0.000       0.017       0.049\n",
       "ma.S.L5       -0.9992      0.008   -128.822      0.000      -1.014      -0.984\n",
       "sigma2      3319.0237     35.997     92.202      0.000    3248.470    3389.577\n",
       "===================================================================================\n",
       "Ljung-Box (Q):                      193.06   Jarque-Bera (JB):              6450.20\n",
       "Prob(Q):                              0.00   Prob(JB):                         0.00\n",
       "Heteroskedasticity (H):               2.26   Skew:                            -0.31\n",
       "Prob(H) (two-sided):                  0.00   Kurtosis:                         8.52\n",
       "===================================================================================\n",
       "\n",
       "Warnings:\n",
       "[1] Covariance matrix calculated using the outer product of gradients (complex-step).\n",
       "\"\"\""
      ]
     },
     "execution_count": 55,
     "metadata": {},
     "output_type": "execute_result"
    }
   ],
   "source": [
    "model_sarimax = SARIMAX(df.market_value,exog=raw_csv['spx'][:size].values,order=(1,0,1),seasonal_order=(2,0,1,5))\n",
    "result_sarimax=model_sarimax.fit()\n",
    "result_sarimax.summary()"
   ]
  },
  {
   "cell_type": "code",
   "execution_count": null,
   "metadata": {},
   "outputs": [],
   "source": []
  }
 ],
 "metadata": {
  "kernelspec": {
   "display_name": "Python 3",
   "language": "python",
   "name": "python3"
  },
  "language_info": {
   "codemirror_mode": {
    "name": "ipython",
    "version": 3
   },
   "file_extension": ".py",
   "mimetype": "text/x-python",
   "name": "python",
   "nbconvert_exporter": "python",
   "pygments_lexer": "ipython3",
   "version": "3.8.3"
  }
 },
 "nbformat": 4,
 "nbformat_minor": 4
}
