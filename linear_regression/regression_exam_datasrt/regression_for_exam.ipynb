{
 "cells": [
  {
   "cell_type": "markdown",
   "metadata": {},
   "source": [
    "### notebook imports"
   ]
  },
  {
   "cell_type": "code",
   "execution_count": 264,
   "metadata": {},
   "outputs": [],
   "source": [
    "from sklearn.model_selection import train_test_split\n",
    "import numpy as np\n",
    "import pandas as pd\n",
    "import matplotlib.pyplot as plt\n",
    "import seaborn as sns\n",
    "from sklearn.linear_model import LinearRegression\n",
    "import statsmodels.api as sm\n",
    "from statsmodels.stats.outliers_influence import variance_inflation_factor\n",
    "from sklearn.preprocessing import scale\n",
    "from sklearn.metrics import mean_absolute_error, mean_squared_error, r2_score\n",
    "sns.set()\n",
    "%matplotlib inline"
   ]
  },
  {
   "cell_type": "code",
   "execution_count": 205,
   "metadata": {},
   "outputs": [
    {
     "data": {
      "text/html": [
       "<div>\n",
       "<style scoped>\n",
       "    .dataframe tbody tr th:only-of-type {\n",
       "        vertical-align: middle;\n",
       "    }\n",
       "\n",
       "    .dataframe tbody tr th {\n",
       "        vertical-align: top;\n",
       "    }\n",
       "\n",
       "    .dataframe thead th {\n",
       "        text-align: right;\n",
       "    }\n",
       "</style>\n",
       "<table border=\"1\" class=\"dataframe\">\n",
       "  <thead>\n",
       "    <tr style=\"text-align: right;\">\n",
       "      <th></th>\n",
       "      <th>gender</th>\n",
       "      <th>race/ethnicity</th>\n",
       "      <th>parental level of education</th>\n",
       "      <th>lunch</th>\n",
       "      <th>test preparation course</th>\n",
       "      <th>math score</th>\n",
       "      <th>reading score</th>\n",
       "      <th>writing score</th>\n",
       "    </tr>\n",
       "  </thead>\n",
       "  <tbody>\n",
       "    <tr>\n",
       "      <th>0</th>\n",
       "      <td>female</td>\n",
       "      <td>group E</td>\n",
       "      <td>associate's degree</td>\n",
       "      <td>standard</td>\n",
       "      <td>none</td>\n",
       "      <td>70</td>\n",
       "      <td>76</td>\n",
       "      <td>69</td>\n",
       "    </tr>\n",
       "    <tr>\n",
       "      <th>1</th>\n",
       "      <td>female</td>\n",
       "      <td>group C</td>\n",
       "      <td>some college</td>\n",
       "      <td>standard</td>\n",
       "      <td>none</td>\n",
       "      <td>47</td>\n",
       "      <td>52</td>\n",
       "      <td>50</td>\n",
       "    </tr>\n",
       "    <tr>\n",
       "      <th>2</th>\n",
       "      <td>male</td>\n",
       "      <td>group E</td>\n",
       "      <td>high school</td>\n",
       "      <td>standard</td>\n",
       "      <td>none</td>\n",
       "      <td>75</td>\n",
       "      <td>72</td>\n",
       "      <td>68</td>\n",
       "    </tr>\n",
       "    <tr>\n",
       "      <th>3</th>\n",
       "      <td>female</td>\n",
       "      <td>group B</td>\n",
       "      <td>some college</td>\n",
       "      <td>free/reduced</td>\n",
       "      <td>completed</td>\n",
       "      <td>44</td>\n",
       "      <td>52</td>\n",
       "      <td>54</td>\n",
       "    </tr>\n",
       "    <tr>\n",
       "      <th>4</th>\n",
       "      <td>female</td>\n",
       "      <td>group B</td>\n",
       "      <td>bachelor's degree</td>\n",
       "      <td>standard</td>\n",
       "      <td>completed</td>\n",
       "      <td>67</td>\n",
       "      <td>76</td>\n",
       "      <td>80</td>\n",
       "    </tr>\n",
       "  </tbody>\n",
       "</table>\n",
       "</div>"
      ],
      "text/plain": [
       "   gender race/ethnicity parental level of education         lunch  \\\n",
       "0  female        group E          associate's degree      standard   \n",
       "1  female        group C                some college      standard   \n",
       "2    male        group E                 high school      standard   \n",
       "3  female        group B                some college  free/reduced   \n",
       "4  female        group B           bachelor's degree      standard   \n",
       "\n",
       "  test preparation course  math score  reading score  writing score  \n",
       "0                    none          70             76             69  \n",
       "1                    none          47             52             50  \n",
       "2                    none          75             72             68  \n",
       "3               completed          44             52             54  \n",
       "4               completed          67             76             80  "
      ]
     },
     "execution_count": 205,
     "metadata": {},
     "output_type": "execute_result"
    }
   ],
   "source": [
    "data = pd.read_csv('exams.csv')\n",
    "data.head()"
   ]
  },
  {
   "cell_type": "code",
   "execution_count": 206,
   "metadata": {},
   "outputs": [
    {
     "data": {
      "text/html": [
       "<div>\n",
       "<style scoped>\n",
       "    .dataframe tbody tr th:only-of-type {\n",
       "        vertical-align: middle;\n",
       "    }\n",
       "\n",
       "    .dataframe tbody tr th {\n",
       "        vertical-align: top;\n",
       "    }\n",
       "\n",
       "    .dataframe thead th {\n",
       "        text-align: right;\n",
       "    }\n",
       "</style>\n",
       "<table border=\"1\" class=\"dataframe\">\n",
       "  <thead>\n",
       "    <tr style=\"text-align: right;\">\n",
       "      <th></th>\n",
       "      <th>math score</th>\n",
       "      <th>reading score</th>\n",
       "      <th>writing score</th>\n",
       "    </tr>\n",
       "  </thead>\n",
       "  <tbody>\n",
       "    <tr>\n",
       "      <th>count</th>\n",
       "      <td>100.000000</td>\n",
       "      <td>100.000000</td>\n",
       "      <td>100.000000</td>\n",
       "    </tr>\n",
       "    <tr>\n",
       "      <th>mean</th>\n",
       "      <td>66.730000</td>\n",
       "      <td>69.980000</td>\n",
       "      <td>69.140000</td>\n",
       "    </tr>\n",
       "    <tr>\n",
       "      <th>std</th>\n",
       "      <td>15.631395</td>\n",
       "      <td>13.732642</td>\n",
       "      <td>14.886792</td>\n",
       "    </tr>\n",
       "    <tr>\n",
       "      <th>min</th>\n",
       "      <td>18.000000</td>\n",
       "      <td>25.000000</td>\n",
       "      <td>20.000000</td>\n",
       "    </tr>\n",
       "    <tr>\n",
       "      <th>25%</th>\n",
       "      <td>58.000000</td>\n",
       "      <td>61.000000</td>\n",
       "      <td>62.000000</td>\n",
       "    </tr>\n",
       "    <tr>\n",
       "      <th>50%</th>\n",
       "      <td>69.000000</td>\n",
       "      <td>71.500000</td>\n",
       "      <td>69.000000</td>\n",
       "    </tr>\n",
       "    <tr>\n",
       "      <th>75%</th>\n",
       "      <td>78.250000</td>\n",
       "      <td>80.000000</td>\n",
       "      <td>81.000000</td>\n",
       "    </tr>\n",
       "    <tr>\n",
       "      <th>max</th>\n",
       "      <td>96.000000</td>\n",
       "      <td>94.000000</td>\n",
       "      <td>93.000000</td>\n",
       "    </tr>\n",
       "  </tbody>\n",
       "</table>\n",
       "</div>"
      ],
      "text/plain": [
       "       math score  reading score  writing score\n",
       "count  100.000000     100.000000     100.000000\n",
       "mean    66.730000      69.980000      69.140000\n",
       "std     15.631395      13.732642      14.886792\n",
       "min     18.000000      25.000000      20.000000\n",
       "25%     58.000000      61.000000      62.000000\n",
       "50%     69.000000      71.500000      69.000000\n",
       "75%     78.250000      80.000000      81.000000\n",
       "max     96.000000      94.000000      93.000000"
      ]
     },
     "execution_count": 206,
     "metadata": {},
     "output_type": "execute_result"
    }
   ],
   "source": [
    "data.describe()"
   ]
  },
  {
   "cell_type": "code",
   "execution_count": 207,
   "metadata": {},
   "outputs": [
    {
     "name": "stdout",
     "output_type": "stream",
     "text": [
      "<class 'pandas.core.frame.DataFrame'>\n",
      "RangeIndex: 100 entries, 0 to 99\n",
      "Data columns (total 8 columns):\n",
      " #   Column                       Non-Null Count  Dtype \n",
      "---  ------                       --------------  ----- \n",
      " 0   gender                       100 non-null    object\n",
      " 1   race/ethnicity               100 non-null    object\n",
      " 2   parental level of education  100 non-null    object\n",
      " 3   lunch                        100 non-null    object\n",
      " 4   test preparation course      100 non-null    object\n",
      " 5   math score                   100 non-null    int64 \n",
      " 6   reading score                100 non-null    int64 \n",
      " 7   writing score                100 non-null    int64 \n",
      "dtypes: int64(3), object(5)\n",
      "memory usage: 6.4+ KB\n"
     ]
    }
   ],
   "source": [
    "data.info()"
   ]
  },
  {
   "cell_type": "code",
   "execution_count": 208,
   "metadata": {},
   "outputs": [
    {
     "data": {
      "text/plain": [
       "female    55\n",
       "male      45\n",
       "Name: gender, dtype: int64"
      ]
     },
     "execution_count": 208,
     "metadata": {},
     "output_type": "execute_result"
    }
   ],
   "source": [
    "data['gender'].value_counts()"
   ]
  },
  {
   "cell_type": "code",
   "execution_count": 209,
   "metadata": {},
   "outputs": [
    {
     "data": {
      "text/plain": [
       "group C    33\n",
       "group D    27\n",
       "group B    22\n",
       "group E    12\n",
       "group A     6\n",
       "Name: race/ethnicity, dtype: int64"
      ]
     },
     "execution_count": 209,
     "metadata": {},
     "output_type": "execute_result"
    }
   ],
   "source": [
    "data['race/ethnicity'].value_counts()"
   ]
  },
  {
   "cell_type": "code",
   "execution_count": 210,
   "metadata": {},
   "outputs": [
    {
     "data": {
      "text/plain": [
       "standard        71\n",
       "free/reduced    29\n",
       "Name: lunch, dtype: int64"
      ]
     },
     "execution_count": 210,
     "metadata": {},
     "output_type": "execute_result"
    }
   ],
   "source": [
    "data['lunch'].value_counts()"
   ]
  },
  {
   "cell_type": "code",
   "execution_count": 211,
   "metadata": {},
   "outputs": [
    {
     "data": {
      "text/plain": [
       "none         65\n",
       "completed    35\n",
       "Name: test preparation course, dtype: int64"
      ]
     },
     "execution_count": 211,
     "metadata": {},
     "output_type": "execute_result"
    }
   ],
   "source": [
    "data['test preparation course'].value_counts()"
   ]
  },
  {
   "cell_type": "markdown",
   "metadata": {},
   "source": [
    "### Data Exploration using pandas"
   ]
  },
  {
   "cell_type": "code",
   "execution_count": 212,
   "metadata": {},
   "outputs": [
    {
     "data": {
      "text/plain": [
       "gender                         0\n",
       "race/ethnicity                 0\n",
       "parental level of education    0\n",
       "lunch                          0\n",
       "test preparation course        0\n",
       "math score                     0\n",
       "reading score                  0\n",
       "writing score                  0\n",
       "dtype: int64"
      ]
     },
     "execution_count": 212,
     "metadata": {},
     "output_type": "execute_result"
    }
   ],
   "source": [
    "data.isnull().sum() # there is no null value in the columns"
   ]
  },
  {
   "cell_type": "markdown",
   "metadata": {},
   "source": [
    "To analyze the relationship between a categorical feature and a continuous feature is to plot a boxplot. The boxplot is a simple way of representing statistical data on a plot in which a rectangle is drawn to represent the second and third quartiles, usually with a vertical line inside to indicate the median value. The lower and upper quartiles are shown as horizontal lines at either side of the rectangle."
   ]
  },
  {
   "cell_type": "code",
   "execution_count": 213,
   "metadata": {},
   "outputs": [],
   "source": [
    "# copy the original dataset\n",
    "\n",
    "df_replace_pe = data.copy()"
   ]
  },
  {
   "cell_type": "code",
   "execution_count": 214,
   "metadata": {},
   "outputs": [
    {
     "data": {
      "text/html": [
       "<div>\n",
       "<style scoped>\n",
       "    .dataframe tbody tr th:only-of-type {\n",
       "        vertical-align: middle;\n",
       "    }\n",
       "\n",
       "    .dataframe tbody tr th {\n",
       "        vertical-align: top;\n",
       "    }\n",
       "\n",
       "    .dataframe thead th {\n",
       "        text-align: right;\n",
       "    }\n",
       "</style>\n",
       "<table border=\"1\" class=\"dataframe\">\n",
       "  <thead>\n",
       "    <tr style=\"text-align: right;\">\n",
       "      <th></th>\n",
       "      <th>gender</th>\n",
       "      <th>race/ethnicity</th>\n",
       "      <th>parental level of education</th>\n",
       "      <th>lunch</th>\n",
       "      <th>test preparation course</th>\n",
       "      <th>math score</th>\n",
       "      <th>reading score</th>\n",
       "      <th>writing score</th>\n",
       "    </tr>\n",
       "  </thead>\n",
       "  <tbody>\n",
       "    <tr>\n",
       "      <th>0</th>\n",
       "      <td>female</td>\n",
       "      <td>group E</td>\n",
       "      <td>associate's degree</td>\n",
       "      <td>standard</td>\n",
       "      <td>none</td>\n",
       "      <td>70</td>\n",
       "      <td>76</td>\n",
       "      <td>69</td>\n",
       "    </tr>\n",
       "    <tr>\n",
       "      <th>1</th>\n",
       "      <td>female</td>\n",
       "      <td>group C</td>\n",
       "      <td>some college</td>\n",
       "      <td>standard</td>\n",
       "      <td>none</td>\n",
       "      <td>47</td>\n",
       "      <td>52</td>\n",
       "      <td>50</td>\n",
       "    </tr>\n",
       "    <tr>\n",
       "      <th>2</th>\n",
       "      <td>male</td>\n",
       "      <td>group E</td>\n",
       "      <td>high school</td>\n",
       "      <td>standard</td>\n",
       "      <td>none</td>\n",
       "      <td>75</td>\n",
       "      <td>72</td>\n",
       "      <td>68</td>\n",
       "    </tr>\n",
       "    <tr>\n",
       "      <th>3</th>\n",
       "      <td>female</td>\n",
       "      <td>group B</td>\n",
       "      <td>some college</td>\n",
       "      <td>free/reduced</td>\n",
       "      <td>completed</td>\n",
       "      <td>44</td>\n",
       "      <td>52</td>\n",
       "      <td>54</td>\n",
       "    </tr>\n",
       "    <tr>\n",
       "      <th>4</th>\n",
       "      <td>female</td>\n",
       "      <td>group B</td>\n",
       "      <td>bachelor's degree</td>\n",
       "      <td>standard</td>\n",
       "      <td>completed</td>\n",
       "      <td>67</td>\n",
       "      <td>76</td>\n",
       "      <td>80</td>\n",
       "    </tr>\n",
       "  </tbody>\n",
       "</table>\n",
       "</div>"
      ],
      "text/plain": [
       "   gender race/ethnicity parental level of education         lunch  \\\n",
       "0  female        group E          associate's degree      standard   \n",
       "1  female        group C                some college      standard   \n",
       "2    male        group E                 high school      standard   \n",
       "3  female        group B                some college  free/reduced   \n",
       "4  female        group B           bachelor's degree      standard   \n",
       "\n",
       "  test preparation course  math score  reading score  writing score  \n",
       "0                    none          70             76             69  \n",
       "1                    none          47             52             50  \n",
       "2                    none          75             72             68  \n",
       "3               completed          44             52             54  \n",
       "4               completed          67             76             80  "
      ]
     },
     "execution_count": 214,
     "metadata": {},
     "output_type": "execute_result"
    }
   ],
   "source": [
    "df_replace_pe.head()"
   ]
  },
  {
   "cell_type": "code",
   "execution_count": 215,
   "metadata": {},
   "outputs": [],
   "source": [
    "df_replace_pe = pd.get_dummies(df,prefix=['gender'],columns=['gender'])"
   ]
  },
  {
   "cell_type": "markdown",
   "metadata": {},
   "source": [
    "The basic strategy is to convert each category value into a new column and assign a 1 or 0 (True/False) value to the column. This has the benefit of not weighting a value improperly."
   ]
  },
  {
   "cell_type": "code",
   "execution_count": 216,
   "metadata": {},
   "outputs": [],
   "source": [
    "# creating the average score out of math reading and writing\n",
    "\n",
    "df_replace_pe['average_score']=(df_replace_pe['math score']+df_replace_pe['reading score']+df_replace_pe['writing score'])/3"
   ]
  },
  {
   "cell_type": "code",
   "execution_count": 217,
   "metadata": {},
   "outputs": [
    {
     "data": {
      "text/html": [
       "<div>\n",
       "<style scoped>\n",
       "    .dataframe tbody tr th:only-of-type {\n",
       "        vertical-align: middle;\n",
       "    }\n",
       "\n",
       "    .dataframe tbody tr th {\n",
       "        vertical-align: top;\n",
       "    }\n",
       "\n",
       "    .dataframe thead th {\n",
       "        text-align: right;\n",
       "    }\n",
       "</style>\n",
       "<table border=\"1\" class=\"dataframe\">\n",
       "  <thead>\n",
       "    <tr style=\"text-align: right;\">\n",
       "      <th></th>\n",
       "      <th>race/ethnicity</th>\n",
       "      <th>parental level of education</th>\n",
       "      <th>lunch</th>\n",
       "      <th>test preparation course</th>\n",
       "      <th>math score</th>\n",
       "      <th>reading score</th>\n",
       "      <th>writing score</th>\n",
       "      <th>gender_female</th>\n",
       "      <th>gender_male</th>\n",
       "      <th>average_score</th>\n",
       "    </tr>\n",
       "  </thead>\n",
       "  <tbody>\n",
       "    <tr>\n",
       "      <th>0</th>\n",
       "      <td>group E</td>\n",
       "      <td>associate's degree</td>\n",
       "      <td>standard</td>\n",
       "      <td>none</td>\n",
       "      <td>70</td>\n",
       "      <td>76</td>\n",
       "      <td>69</td>\n",
       "      <td>1</td>\n",
       "      <td>0</td>\n",
       "      <td>71.666667</td>\n",
       "    </tr>\n",
       "    <tr>\n",
       "      <th>1</th>\n",
       "      <td>group C</td>\n",
       "      <td>some college</td>\n",
       "      <td>standard</td>\n",
       "      <td>none</td>\n",
       "      <td>47</td>\n",
       "      <td>52</td>\n",
       "      <td>50</td>\n",
       "      <td>1</td>\n",
       "      <td>0</td>\n",
       "      <td>49.666667</td>\n",
       "    </tr>\n",
       "    <tr>\n",
       "      <th>2</th>\n",
       "      <td>group E</td>\n",
       "      <td>high school</td>\n",
       "      <td>standard</td>\n",
       "      <td>none</td>\n",
       "      <td>75</td>\n",
       "      <td>72</td>\n",
       "      <td>68</td>\n",
       "      <td>0</td>\n",
       "      <td>1</td>\n",
       "      <td>71.666667</td>\n",
       "    </tr>\n",
       "    <tr>\n",
       "      <th>3</th>\n",
       "      <td>group B</td>\n",
       "      <td>some college</td>\n",
       "      <td>free/reduced</td>\n",
       "      <td>completed</td>\n",
       "      <td>44</td>\n",
       "      <td>52</td>\n",
       "      <td>54</td>\n",
       "      <td>1</td>\n",
       "      <td>0</td>\n",
       "      <td>50.000000</td>\n",
       "    </tr>\n",
       "    <tr>\n",
       "      <th>4</th>\n",
       "      <td>group B</td>\n",
       "      <td>bachelor's degree</td>\n",
       "      <td>standard</td>\n",
       "      <td>completed</td>\n",
       "      <td>67</td>\n",
       "      <td>76</td>\n",
       "      <td>80</td>\n",
       "      <td>1</td>\n",
       "      <td>0</td>\n",
       "      <td>74.333333</td>\n",
       "    </tr>\n",
       "  </tbody>\n",
       "</table>\n",
       "</div>"
      ],
      "text/plain": [
       "  race/ethnicity parental level of education         lunch  \\\n",
       "0        group E          associate's degree      standard   \n",
       "1        group C                some college      standard   \n",
       "2        group E                 high school      standard   \n",
       "3        group B                some college  free/reduced   \n",
       "4        group B           bachelor's degree      standard   \n",
       "\n",
       "  test preparation course  math score  reading score  writing score  \\\n",
       "0                    none          70             76             69   \n",
       "1                    none          47             52             50   \n",
       "2                    none          75             72             68   \n",
       "3               completed          44             52             54   \n",
       "4               completed          67             76             80   \n",
       "\n",
       "   gender_female  gender_male  average_score  \n",
       "0              1            0      71.666667  \n",
       "1              1            0      49.666667  \n",
       "2              0            1      71.666667  \n",
       "3              1            0      50.000000  \n",
       "4              1            0      74.333333  "
      ]
     },
     "execution_count": 217,
     "metadata": {},
     "output_type": "execute_result"
    }
   ],
   "source": [
    "df_replace_pe.head()"
   ]
  },
  {
   "cell_type": "code",
   "execution_count": 218,
   "metadata": {},
   "outputs": [
    {
     "data": {
      "text/plain": [
       "some college          25\n",
       "associate's degree    21\n",
       "some high school      18\n",
       "high school           16\n",
       "bachelor's degree     13\n",
       "master's degree        7\n",
       "Name: parental level of education, dtype: int64"
      ]
     },
     "execution_count": 218,
     "metadata": {},
     "output_type": "execute_result"
    }
   ],
   "source": [
    "data['parental level of education'].value_counts()"
   ]
  },
  {
   "cell_type": "code",
   "execution_count": 219,
   "metadata": {},
   "outputs": [],
   "source": [
    "# mapper for parental education level\n",
    "\n",
    "map_parental_education={'parental level of education':{'some college':2,'associate\\'s degree':2,\n",
    "                                    'some high school':1,'high school':1,'bachelor\\'s degree':2,\n",
    "                                    'master\\'s degree':3}}"
   ]
  },
  {
   "cell_type": "code",
   "execution_count": 220,
   "metadata": {},
   "outputs": [],
   "source": [
    "# mapper for lunch \n",
    "\n",
    "map_lunch={'lunch':{'standard':2,'free/reduced':1}}"
   ]
  },
  {
   "cell_type": "code",
   "execution_count": 221,
   "metadata": {},
   "outputs": [],
   "source": [
    "# mapper fot test preparation\n",
    "\n",
    "map_test_prep = {'test preparation course':{'none':0,'completed':1}}"
   ]
  },
  {
   "cell_type": "code",
   "execution_count": 222,
   "metadata": {},
   "outputs": [
    {
     "data": {
      "text/html": [
       "<div>\n",
       "<style scoped>\n",
       "    .dataframe tbody tr th:only-of-type {\n",
       "        vertical-align: middle;\n",
       "    }\n",
       "\n",
       "    .dataframe tbody tr th {\n",
       "        vertical-align: top;\n",
       "    }\n",
       "\n",
       "    .dataframe thead th {\n",
       "        text-align: right;\n",
       "    }\n",
       "</style>\n",
       "<table border=\"1\" class=\"dataframe\">\n",
       "  <thead>\n",
       "    <tr style=\"text-align: right;\">\n",
       "      <th></th>\n",
       "      <th>race/ethnicity</th>\n",
       "      <th>parental level of education</th>\n",
       "      <th>lunch</th>\n",
       "      <th>test preparation course</th>\n",
       "      <th>math score</th>\n",
       "      <th>reading score</th>\n",
       "      <th>writing score</th>\n",
       "      <th>gender_female</th>\n",
       "      <th>gender_male</th>\n",
       "      <th>average_score</th>\n",
       "    </tr>\n",
       "  </thead>\n",
       "  <tbody>\n",
       "    <tr>\n",
       "      <th>0</th>\n",
       "      <td>group E</td>\n",
       "      <td>2</td>\n",
       "      <td>standard</td>\n",
       "      <td>none</td>\n",
       "      <td>70</td>\n",
       "      <td>76</td>\n",
       "      <td>69</td>\n",
       "      <td>1</td>\n",
       "      <td>0</td>\n",
       "      <td>71.666667</td>\n",
       "    </tr>\n",
       "    <tr>\n",
       "      <th>1</th>\n",
       "      <td>group C</td>\n",
       "      <td>2</td>\n",
       "      <td>standard</td>\n",
       "      <td>none</td>\n",
       "      <td>47</td>\n",
       "      <td>52</td>\n",
       "      <td>50</td>\n",
       "      <td>1</td>\n",
       "      <td>0</td>\n",
       "      <td>49.666667</td>\n",
       "    </tr>\n",
       "    <tr>\n",
       "      <th>2</th>\n",
       "      <td>group E</td>\n",
       "      <td>1</td>\n",
       "      <td>standard</td>\n",
       "      <td>none</td>\n",
       "      <td>75</td>\n",
       "      <td>72</td>\n",
       "      <td>68</td>\n",
       "      <td>0</td>\n",
       "      <td>1</td>\n",
       "      <td>71.666667</td>\n",
       "    </tr>\n",
       "    <tr>\n",
       "      <th>3</th>\n",
       "      <td>group B</td>\n",
       "      <td>2</td>\n",
       "      <td>free/reduced</td>\n",
       "      <td>completed</td>\n",
       "      <td>44</td>\n",
       "      <td>52</td>\n",
       "      <td>54</td>\n",
       "      <td>1</td>\n",
       "      <td>0</td>\n",
       "      <td>50.000000</td>\n",
       "    </tr>\n",
       "    <tr>\n",
       "      <th>4</th>\n",
       "      <td>group B</td>\n",
       "      <td>2</td>\n",
       "      <td>standard</td>\n",
       "      <td>completed</td>\n",
       "      <td>67</td>\n",
       "      <td>76</td>\n",
       "      <td>80</td>\n",
       "      <td>1</td>\n",
       "      <td>0</td>\n",
       "      <td>74.333333</td>\n",
       "    </tr>\n",
       "  </tbody>\n",
       "</table>\n",
       "</div>"
      ],
      "text/plain": [
       "  race/ethnicity  parental level of education         lunch  \\\n",
       "0        group E                            2      standard   \n",
       "1        group C                            2      standard   \n",
       "2        group E                            1      standard   \n",
       "3        group B                            2  free/reduced   \n",
       "4        group B                            2      standard   \n",
       "\n",
       "  test preparation course  math score  reading score  writing score  \\\n",
       "0                    none          70             76             69   \n",
       "1                    none          47             52             50   \n",
       "2                    none          75             72             68   \n",
       "3               completed          44             52             54   \n",
       "4               completed          67             76             80   \n",
       "\n",
       "   gender_female  gender_male  average_score  \n",
       "0              1            0      71.666667  \n",
       "1              1            0      49.666667  \n",
       "2              0            1      71.666667  \n",
       "3              1            0      50.000000  \n",
       "4              1            0      74.333333  "
      ]
     },
     "execution_count": 222,
     "metadata": {},
     "output_type": "execute_result"
    }
   ],
   "source": [
    "# replacing parental level of education with numerical value ,ordinal\n",
    "\n",
    "df_replace_pe.replace(map_parental_education,inplace=True)\n",
    "df_replace_pe.head()"
   ]
  },
  {
   "cell_type": "code",
   "execution_count": 223,
   "metadata": {},
   "outputs": [
    {
     "data": {
      "text/html": [
       "<div>\n",
       "<style scoped>\n",
       "    .dataframe tbody tr th:only-of-type {\n",
       "        vertical-align: middle;\n",
       "    }\n",
       "\n",
       "    .dataframe tbody tr th {\n",
       "        vertical-align: top;\n",
       "    }\n",
       "\n",
       "    .dataframe thead th {\n",
       "        text-align: right;\n",
       "    }\n",
       "</style>\n",
       "<table border=\"1\" class=\"dataframe\">\n",
       "  <thead>\n",
       "    <tr style=\"text-align: right;\">\n",
       "      <th></th>\n",
       "      <th>race/ethnicity</th>\n",
       "      <th>parental level of education</th>\n",
       "      <th>lunch</th>\n",
       "      <th>test preparation course</th>\n",
       "      <th>math score</th>\n",
       "      <th>reading score</th>\n",
       "      <th>writing score</th>\n",
       "      <th>gender_female</th>\n",
       "      <th>gender_male</th>\n",
       "      <th>average_score</th>\n",
       "    </tr>\n",
       "  </thead>\n",
       "  <tbody>\n",
       "    <tr>\n",
       "      <th>0</th>\n",
       "      <td>group E</td>\n",
       "      <td>2</td>\n",
       "      <td>2</td>\n",
       "      <td>none</td>\n",
       "      <td>70</td>\n",
       "      <td>76</td>\n",
       "      <td>69</td>\n",
       "      <td>1</td>\n",
       "      <td>0</td>\n",
       "      <td>71.666667</td>\n",
       "    </tr>\n",
       "    <tr>\n",
       "      <th>1</th>\n",
       "      <td>group C</td>\n",
       "      <td>2</td>\n",
       "      <td>2</td>\n",
       "      <td>none</td>\n",
       "      <td>47</td>\n",
       "      <td>52</td>\n",
       "      <td>50</td>\n",
       "      <td>1</td>\n",
       "      <td>0</td>\n",
       "      <td>49.666667</td>\n",
       "    </tr>\n",
       "    <tr>\n",
       "      <th>2</th>\n",
       "      <td>group E</td>\n",
       "      <td>1</td>\n",
       "      <td>2</td>\n",
       "      <td>none</td>\n",
       "      <td>75</td>\n",
       "      <td>72</td>\n",
       "      <td>68</td>\n",
       "      <td>0</td>\n",
       "      <td>1</td>\n",
       "      <td>71.666667</td>\n",
       "    </tr>\n",
       "    <tr>\n",
       "      <th>3</th>\n",
       "      <td>group B</td>\n",
       "      <td>2</td>\n",
       "      <td>1</td>\n",
       "      <td>completed</td>\n",
       "      <td>44</td>\n",
       "      <td>52</td>\n",
       "      <td>54</td>\n",
       "      <td>1</td>\n",
       "      <td>0</td>\n",
       "      <td>50.000000</td>\n",
       "    </tr>\n",
       "    <tr>\n",
       "      <th>4</th>\n",
       "      <td>group B</td>\n",
       "      <td>2</td>\n",
       "      <td>2</td>\n",
       "      <td>completed</td>\n",
       "      <td>67</td>\n",
       "      <td>76</td>\n",
       "      <td>80</td>\n",
       "      <td>1</td>\n",
       "      <td>0</td>\n",
       "      <td>74.333333</td>\n",
       "    </tr>\n",
       "  </tbody>\n",
       "</table>\n",
       "</div>"
      ],
      "text/plain": [
       "  race/ethnicity  parental level of education  lunch test preparation course  \\\n",
       "0        group E                            2      2                    none   \n",
       "1        group C                            2      2                    none   \n",
       "2        group E                            1      2                    none   \n",
       "3        group B                            2      1               completed   \n",
       "4        group B                            2      2               completed   \n",
       "\n",
       "   math score  reading score  writing score  gender_female  gender_male  \\\n",
       "0          70             76             69              1            0   \n",
       "1          47             52             50              1            0   \n",
       "2          75             72             68              0            1   \n",
       "3          44             52             54              1            0   \n",
       "4          67             76             80              1            0   \n",
       "\n",
       "   average_score  \n",
       "0      71.666667  \n",
       "1      49.666667  \n",
       "2      71.666667  \n",
       "3      50.000000  \n",
       "4      74.333333  "
      ]
     },
     "execution_count": 223,
     "metadata": {},
     "output_type": "execute_result"
    }
   ],
   "source": [
    "# replacing lunch variable with numerical value , ordinal\n",
    "\n",
    "df_replace_pe.replace(map_lunch,inplace=True)\n",
    "df_replace_pe.head()"
   ]
  },
  {
   "cell_type": "code",
   "execution_count": 224,
   "metadata": {},
   "outputs": [
    {
     "data": {
      "text/html": [
       "<div>\n",
       "<style scoped>\n",
       "    .dataframe tbody tr th:only-of-type {\n",
       "        vertical-align: middle;\n",
       "    }\n",
       "\n",
       "    .dataframe tbody tr th {\n",
       "        vertical-align: top;\n",
       "    }\n",
       "\n",
       "    .dataframe thead th {\n",
       "        text-align: right;\n",
       "    }\n",
       "</style>\n",
       "<table border=\"1\" class=\"dataframe\">\n",
       "  <thead>\n",
       "    <tr style=\"text-align: right;\">\n",
       "      <th></th>\n",
       "      <th>race/ethnicity</th>\n",
       "      <th>parental level of education</th>\n",
       "      <th>lunch</th>\n",
       "      <th>test preparation course</th>\n",
       "      <th>math score</th>\n",
       "      <th>reading score</th>\n",
       "      <th>writing score</th>\n",
       "      <th>gender_female</th>\n",
       "      <th>gender_male</th>\n",
       "      <th>average_score</th>\n",
       "    </tr>\n",
       "  </thead>\n",
       "  <tbody>\n",
       "    <tr>\n",
       "      <th>0</th>\n",
       "      <td>group E</td>\n",
       "      <td>2</td>\n",
       "      <td>2</td>\n",
       "      <td>0</td>\n",
       "      <td>70</td>\n",
       "      <td>76</td>\n",
       "      <td>69</td>\n",
       "      <td>1</td>\n",
       "      <td>0</td>\n",
       "      <td>71.666667</td>\n",
       "    </tr>\n",
       "    <tr>\n",
       "      <th>1</th>\n",
       "      <td>group C</td>\n",
       "      <td>2</td>\n",
       "      <td>2</td>\n",
       "      <td>0</td>\n",
       "      <td>47</td>\n",
       "      <td>52</td>\n",
       "      <td>50</td>\n",
       "      <td>1</td>\n",
       "      <td>0</td>\n",
       "      <td>49.666667</td>\n",
       "    </tr>\n",
       "    <tr>\n",
       "      <th>2</th>\n",
       "      <td>group E</td>\n",
       "      <td>1</td>\n",
       "      <td>2</td>\n",
       "      <td>0</td>\n",
       "      <td>75</td>\n",
       "      <td>72</td>\n",
       "      <td>68</td>\n",
       "      <td>0</td>\n",
       "      <td>1</td>\n",
       "      <td>71.666667</td>\n",
       "    </tr>\n",
       "    <tr>\n",
       "      <th>3</th>\n",
       "      <td>group B</td>\n",
       "      <td>2</td>\n",
       "      <td>1</td>\n",
       "      <td>1</td>\n",
       "      <td>44</td>\n",
       "      <td>52</td>\n",
       "      <td>54</td>\n",
       "      <td>1</td>\n",
       "      <td>0</td>\n",
       "      <td>50.000000</td>\n",
       "    </tr>\n",
       "    <tr>\n",
       "      <th>4</th>\n",
       "      <td>group B</td>\n",
       "      <td>2</td>\n",
       "      <td>2</td>\n",
       "      <td>1</td>\n",
       "      <td>67</td>\n",
       "      <td>76</td>\n",
       "      <td>80</td>\n",
       "      <td>1</td>\n",
       "      <td>0</td>\n",
       "      <td>74.333333</td>\n",
       "    </tr>\n",
       "  </tbody>\n",
       "</table>\n",
       "</div>"
      ],
      "text/plain": [
       "  race/ethnicity  parental level of education  lunch  test preparation course  \\\n",
       "0        group E                            2      2                        0   \n",
       "1        group C                            2      2                        0   \n",
       "2        group E                            1      2                        0   \n",
       "3        group B                            2      1                        1   \n",
       "4        group B                            2      2                        1   \n",
       "\n",
       "   math score  reading score  writing score  gender_female  gender_male  \\\n",
       "0          70             76             69              1            0   \n",
       "1          47             52             50              1            0   \n",
       "2          75             72             68              0            1   \n",
       "3          44             52             54              1            0   \n",
       "4          67             76             80              1            0   \n",
       "\n",
       "   average_score  \n",
       "0      71.666667  \n",
       "1      49.666667  \n",
       "2      71.666667  \n",
       "3      50.000000  \n",
       "4      74.333333  "
      ]
     },
     "execution_count": 224,
     "metadata": {},
     "output_type": "execute_result"
    }
   ],
   "source": [
    "# replacing lunch variable with numerical value , ordinal \n",
    "\n",
    "df_replace_pe.replace(map_test_prep,inplace=True)\n",
    "df_replace_pe.head()"
   ]
  },
  {
   "cell_type": "code",
   "execution_count": 225,
   "metadata": {},
   "outputs": [
    {
     "data": {
      "text/plain": [
       "0.16845426456797344"
      ]
     },
     "execution_count": 225,
     "metadata": {},
     "output_type": "execute_result"
    }
   ],
   "source": [
    "\n",
    "df_replace_pe['parental level of education'].corr(df_replace_pe['average_score'])"
   ]
  },
  {
   "cell_type": "code",
   "execution_count": 226,
   "metadata": {},
   "outputs": [],
   "source": [
    "df_replace_race = df_replace_pe"
   ]
  },
  {
   "cell_type": "code",
   "execution_count": 227,
   "metadata": {},
   "outputs": [
    {
     "data": {
      "text/html": [
       "<div>\n",
       "<style scoped>\n",
       "    .dataframe tbody tr th:only-of-type {\n",
       "        vertical-align: middle;\n",
       "    }\n",
       "\n",
       "    .dataframe tbody tr th {\n",
       "        vertical-align: top;\n",
       "    }\n",
       "\n",
       "    .dataframe thead th {\n",
       "        text-align: right;\n",
       "    }\n",
       "</style>\n",
       "<table border=\"1\" class=\"dataframe\">\n",
       "  <thead>\n",
       "    <tr style=\"text-align: right;\">\n",
       "      <th></th>\n",
       "      <th>race/ethnicity</th>\n",
       "      <th>parental level of education</th>\n",
       "      <th>lunch</th>\n",
       "      <th>test preparation course</th>\n",
       "      <th>math score</th>\n",
       "      <th>reading score</th>\n",
       "      <th>writing score</th>\n",
       "      <th>gender_female</th>\n",
       "      <th>gender_male</th>\n",
       "      <th>average_score</th>\n",
       "    </tr>\n",
       "  </thead>\n",
       "  <tbody>\n",
       "    <tr>\n",
       "      <th>0</th>\n",
       "      <td>group E</td>\n",
       "      <td>2</td>\n",
       "      <td>2</td>\n",
       "      <td>0</td>\n",
       "      <td>70</td>\n",
       "      <td>76</td>\n",
       "      <td>69</td>\n",
       "      <td>1</td>\n",
       "      <td>0</td>\n",
       "      <td>71.666667</td>\n",
       "    </tr>\n",
       "    <tr>\n",
       "      <th>1</th>\n",
       "      <td>group C</td>\n",
       "      <td>2</td>\n",
       "      <td>2</td>\n",
       "      <td>0</td>\n",
       "      <td>47</td>\n",
       "      <td>52</td>\n",
       "      <td>50</td>\n",
       "      <td>1</td>\n",
       "      <td>0</td>\n",
       "      <td>49.666667</td>\n",
       "    </tr>\n",
       "    <tr>\n",
       "      <th>2</th>\n",
       "      <td>group E</td>\n",
       "      <td>1</td>\n",
       "      <td>2</td>\n",
       "      <td>0</td>\n",
       "      <td>75</td>\n",
       "      <td>72</td>\n",
       "      <td>68</td>\n",
       "      <td>0</td>\n",
       "      <td>1</td>\n",
       "      <td>71.666667</td>\n",
       "    </tr>\n",
       "    <tr>\n",
       "      <th>3</th>\n",
       "      <td>group B</td>\n",
       "      <td>2</td>\n",
       "      <td>1</td>\n",
       "      <td>1</td>\n",
       "      <td>44</td>\n",
       "      <td>52</td>\n",
       "      <td>54</td>\n",
       "      <td>1</td>\n",
       "      <td>0</td>\n",
       "      <td>50.000000</td>\n",
       "    </tr>\n",
       "    <tr>\n",
       "      <th>4</th>\n",
       "      <td>group B</td>\n",
       "      <td>2</td>\n",
       "      <td>2</td>\n",
       "      <td>1</td>\n",
       "      <td>67</td>\n",
       "      <td>76</td>\n",
       "      <td>80</td>\n",
       "      <td>1</td>\n",
       "      <td>0</td>\n",
       "      <td>74.333333</td>\n",
       "    </tr>\n",
       "  </tbody>\n",
       "</table>\n",
       "</div>"
      ],
      "text/plain": [
       "  race/ethnicity  parental level of education  lunch  test preparation course  \\\n",
       "0        group E                            2      2                        0   \n",
       "1        group C                            2      2                        0   \n",
       "2        group E                            1      2                        0   \n",
       "3        group B                            2      1                        1   \n",
       "4        group B                            2      2                        1   \n",
       "\n",
       "   math score  reading score  writing score  gender_female  gender_male  \\\n",
       "0          70             76             69              1            0   \n",
       "1          47             52             50              1            0   \n",
       "2          75             72             68              0            1   \n",
       "3          44             52             54              1            0   \n",
       "4          67             76             80              1            0   \n",
       "\n",
       "   average_score  \n",
       "0      71.666667  \n",
       "1      49.666667  \n",
       "2      71.666667  \n",
       "3      50.000000  \n",
       "4      74.333333  "
      ]
     },
     "execution_count": 227,
     "metadata": {},
     "output_type": "execute_result"
    }
   ],
   "source": [
    "df_replace_race.head()"
   ]
  },
  {
   "cell_type": "code",
   "execution_count": 228,
   "metadata": {},
   "outputs": [
    {
     "data": {
      "text/html": [
       "<div>\n",
       "<style scoped>\n",
       "    .dataframe tbody tr th:only-of-type {\n",
       "        vertical-align: middle;\n",
       "    }\n",
       "\n",
       "    .dataframe tbody tr th {\n",
       "        vertical-align: top;\n",
       "    }\n",
       "\n",
       "    .dataframe thead th {\n",
       "        text-align: right;\n",
       "    }\n",
       "</style>\n",
       "<table border=\"1\" class=\"dataframe\">\n",
       "  <thead>\n",
       "    <tr style=\"text-align: right;\">\n",
       "      <th></th>\n",
       "      <th>parental level of education</th>\n",
       "      <th>lunch</th>\n",
       "      <th>test preparation course</th>\n",
       "      <th>math score</th>\n",
       "      <th>reading score</th>\n",
       "      <th>writing score</th>\n",
       "      <th>gender_female</th>\n",
       "      <th>gender_male</th>\n",
       "      <th>average_score</th>\n",
       "      <th>col_group A</th>\n",
       "      <th>col_group B</th>\n",
       "      <th>col_group C</th>\n",
       "      <th>col_group D</th>\n",
       "      <th>col_group E</th>\n",
       "    </tr>\n",
       "  </thead>\n",
       "  <tbody>\n",
       "    <tr>\n",
       "      <th>0</th>\n",
       "      <td>2</td>\n",
       "      <td>2</td>\n",
       "      <td>0</td>\n",
       "      <td>70</td>\n",
       "      <td>76</td>\n",
       "      <td>69</td>\n",
       "      <td>1</td>\n",
       "      <td>0</td>\n",
       "      <td>71.666667</td>\n",
       "      <td>0</td>\n",
       "      <td>0</td>\n",
       "      <td>0</td>\n",
       "      <td>0</td>\n",
       "      <td>1</td>\n",
       "    </tr>\n",
       "    <tr>\n",
       "      <th>1</th>\n",
       "      <td>2</td>\n",
       "      <td>2</td>\n",
       "      <td>0</td>\n",
       "      <td>47</td>\n",
       "      <td>52</td>\n",
       "      <td>50</td>\n",
       "      <td>1</td>\n",
       "      <td>0</td>\n",
       "      <td>49.666667</td>\n",
       "      <td>0</td>\n",
       "      <td>0</td>\n",
       "      <td>1</td>\n",
       "      <td>0</td>\n",
       "      <td>0</td>\n",
       "    </tr>\n",
       "    <tr>\n",
       "      <th>2</th>\n",
       "      <td>1</td>\n",
       "      <td>2</td>\n",
       "      <td>0</td>\n",
       "      <td>75</td>\n",
       "      <td>72</td>\n",
       "      <td>68</td>\n",
       "      <td>0</td>\n",
       "      <td>1</td>\n",
       "      <td>71.666667</td>\n",
       "      <td>0</td>\n",
       "      <td>0</td>\n",
       "      <td>0</td>\n",
       "      <td>0</td>\n",
       "      <td>1</td>\n",
       "    </tr>\n",
       "    <tr>\n",
       "      <th>3</th>\n",
       "      <td>2</td>\n",
       "      <td>1</td>\n",
       "      <td>1</td>\n",
       "      <td>44</td>\n",
       "      <td>52</td>\n",
       "      <td>54</td>\n",
       "      <td>1</td>\n",
       "      <td>0</td>\n",
       "      <td>50.000000</td>\n",
       "      <td>0</td>\n",
       "      <td>1</td>\n",
       "      <td>0</td>\n",
       "      <td>0</td>\n",
       "      <td>0</td>\n",
       "    </tr>\n",
       "    <tr>\n",
       "      <th>4</th>\n",
       "      <td>2</td>\n",
       "      <td>2</td>\n",
       "      <td>1</td>\n",
       "      <td>67</td>\n",
       "      <td>76</td>\n",
       "      <td>80</td>\n",
       "      <td>1</td>\n",
       "      <td>0</td>\n",
       "      <td>74.333333</td>\n",
       "      <td>0</td>\n",
       "      <td>1</td>\n",
       "      <td>0</td>\n",
       "      <td>0</td>\n",
       "      <td>0</td>\n",
       "    </tr>\n",
       "  </tbody>\n",
       "</table>\n",
       "</div>"
      ],
      "text/plain": [
       "   parental level of education  lunch  test preparation course  math score  \\\n",
       "0                            2      2                        0          70   \n",
       "1                            2      2                        0          47   \n",
       "2                            1      2                        0          75   \n",
       "3                            2      1                        1          44   \n",
       "4                            2      2                        1          67   \n",
       "\n",
       "   reading score  writing score  gender_female  gender_male  average_score  \\\n",
       "0             76             69              1            0      71.666667   \n",
       "1             52             50              1            0      49.666667   \n",
       "2             72             68              0            1      71.666667   \n",
       "3             52             54              1            0      50.000000   \n",
       "4             76             80              1            0      74.333333   \n",
       "\n",
       "   col_group A  col_group B  col_group C  col_group D  col_group E  \n",
       "0            0            0            0            0            1  \n",
       "1            0            0            1            0            0  \n",
       "2            0            0            0            0            1  \n",
       "3            0            1            0            0            0  \n",
       "4            0            1            0            0            0  "
      ]
     },
     "execution_count": 228,
     "metadata": {},
     "output_type": "execute_result"
    }
   ],
   "source": [
    "# including ethnicity\n",
    "\n",
    "df_replace_race = pd.get_dummies(df_replace_pe,prefix=['col'],columns=['race/ethnicity'])\n",
    "df_replace_race.head()"
   ]
  },
  {
   "cell_type": "code",
   "execution_count": null,
   "metadata": {},
   "outputs": [],
   "source": []
  },
  {
   "cell_type": "code",
   "execution_count": 268,
   "metadata": {},
   "outputs": [
    {
     "data": {
      "image/png": "[encoded data removed]",
      "text/plain": [
       "<Figure size 720x432 with 1 Axes>"
      ]
     },
     "metadata": {
      "needs_background": "light"
     },
     "output_type": "display_data"
    }
   ],
   "source": [
    "df_replace_pe.boxplot('average_score','lunch',rot=30,figsize=(10,6))\n",
    "plt.show()\n",
    "\n",
    "# shows who eats better lunch scores higher on average ,,,, not very sure though!!!"
   ]
  },
  {
   "cell_type": "code",
   "execution_count": null,
   "metadata": {},
   "outputs": [],
   "source": []
  },
  {
   "cell_type": "code",
   "execution_count": 229,
   "metadata": {},
   "outputs": [
    {
     "data": {
      "image/png": "[encoded data removed]",
      "text/plain": [
       "<Figure size 720x432 with 1 Axes>"
      ]
     },
     "metadata": {
      "needs_background": "light"
     },
     "output_type": "display_data"
    }
   ],
   "source": [
    "df_replace_pe.boxplot('average_score','parental level of education',rot=30,figsize=(10,6))\n",
    "plt.show()\n",
    "\n",
    "# shows average score of children whose parent is educated is slightly higher than the meadian score from others"
   ]
  },
  {
   "cell_type": "code",
   "execution_count": 230,
   "metadata": {},
   "outputs": [
    {
     "data": {
      "text/plain": [
       "<matplotlib.axes._subplots.AxesSubplot at 0x7fa1998178b0>"
      ]
     },
     "execution_count": 230,
     "metadata": {},
     "output_type": "execute_result"
    },
    {
     "data": {
      "image/png": "[encoded data removed]",
      "text/plain": [
       "<Figure size 720x432 with 1 Axes>"
      ]
     },
     "metadata": {
      "needs_background": "light"
     },
     "output_type": "display_data"
    }
   ],
   "source": [
    "df_replace_pe.boxplot('average_score','gender_female',rot=30, figsize=(10,6))\n",
    "\n",
    "# not significant"
   ]
  },
  {
   "cell_type": "markdown",
   "metadata": {},
   "source": [
    "one-hot encoding solves the problem of unequal weights given to categories within a feature, it is not very useful when there are many categories, as that will result in formation of as many new columns, which can result in the curse of dimensionality. "
   ]
  },
  {
   "cell_type": "code",
   "execution_count": 231,
   "metadata": {},
   "outputs": [
    {
     "data": {
      "image/png": "[encoded data removed]",
      "text/plain": [
       "<Figure size 720x432 with 1 Axes>"
      ]
     },
     "metadata": {
      "needs_background": "light"
     },
     "output_type": "display_data"
    }
   ],
   "source": [
    "df_replace_pe.boxplot('average_score','race/ethnicity',rot=30,figsize=(10,6))\n",
    "plt.show()\n"
   ]
  },
  {
   "cell_type": "code",
   "execution_count": 232,
   "metadata": {},
   "outputs": [
    {
     "data": {
      "image/png": "[encoded data removed]",
      "text/plain": [
       "<Figure size 720x432 with 1 Axes>"
      ]
     },
     "metadata": {
      "needs_background": "light"
     },
     "output_type": "display_data"
    }
   ],
   "source": [
    "df_replace_pe.boxplot('average_score','test preparation course',rot=30,figsize=(10,6))\n",
    "plt.show()\n",
    "\n",
    "# those who has taken course preparation is likely to score higher than who has not"
   ]
  },
  {
   "cell_type": "code",
   "execution_count": null,
   "metadata": {},
   "outputs": [],
   "source": []
  },
  {
   "cell_type": "code",
   "execution_count": null,
   "metadata": {},
   "outputs": [],
   "source": []
  },
  {
   "cell_type": "code",
   "execution_count": null,
   "metadata": {},
   "outputs": [],
   "source": []
  },
  {
   "cell_type": "code",
   "execution_count": null,
   "metadata": {},
   "outputs": [],
   "source": []
  },
  {
   "cell_type": "code",
   "execution_count": null,
   "metadata": {},
   "outputs": [],
   "source": []
  },
  {
   "cell_type": "markdown",
   "metadata": {},
   "source": [
    "### Data Visualization"
   ]
  },
  {
   "cell_type": "code",
   "execution_count": 10,
   "metadata": {},
   "outputs": [
    {
     "data": {
      "image/png": "[encoded data removed]",
      "text/plain": [
       "<Figure size 432x288 with 1 Axes>"
      ]
     },
     "metadata": {
      "needs_background": "light"
     },
     "output_type": "display_data"
    }
   ],
   "source": [
    "math_skew = np.round(data['math score'].skew(),3)\n",
    "plt.title(f'Distribution of math score skewness:{math_skew}')\n",
    "sns.distplot(data['math score'])\n",
    "plt.show()\n",
    "\n",
    "# data is negatively skewed"
   ]
  },
  {
   "cell_type": "code",
   "execution_count": 12,
   "metadata": {},
   "outputs": [
    {
     "data": {
      "image/png": "[encoded data removed]",
      "text/plain": [
       "<Figure size 432x288 with 1 Axes>"
      ]
     },
     "metadata": {
      "needs_background": "light"
     },
     "output_type": "display_data"
    }
   ],
   "source": [
    "log_math_score = np.log(data['math score'])\n",
    "math_skew = np.round(log_math_score.skew(),3)\n",
    "plt.title(f'Distribution of math score skewness:{math_skew}')\n",
    "sns.distplot(log_math_score)\n",
    "plt.show()"
   ]
  },
  {
   "cell_type": "code",
   "execution_count": 13,
   "metadata": {},
   "outputs": [
    {
     "data": {
      "image/png": "[encoded data removed]",
      "text/plain": [
       "<Figure size 432x288 with 1 Axes>"
      ]
     },
     "metadata": {
      "needs_background": "light"
     },
     "output_type": "display_data"
    }
   ],
   "source": [
    "reading_skew = np.round(data['reading score'].skew(),3)\n",
    "plt.title(f'Distribution of math score skewness:{reading_skew}')\n",
    "sns.distplot(data['reading score'])\n",
    "plt.show()\n"
   ]
  },
  {
   "cell_type": "code",
   "execution_count": 15,
   "metadata": {},
   "outputs": [
    {
     "data": {
      "image/png": "[encoded data removed]",
      "text/plain": [
       "<Figure size 432x288 with 1 Axes>"
      ]
     },
     "metadata": {
      "needs_background": "light"
     },
     "output_type": "display_data"
    }
   ],
   "source": [
    "writing_skew = np.round(data['writing score'].skew(),3)\n",
    "plt.title(f'Distribution of math score skewness:{writing_skew}')\n",
    "sns.distplot(data['writing score'])\n",
    "plt.show()\n"
   ]
  },
  {
   "cell_type": "code",
   "execution_count": 31,
   "metadata": {},
   "outputs": [
    {
     "data": {
      "image/png": "[encoded data removed]",
      "text/plain": [
       "<Figure size 720x432 with 1 Axes>"
      ]
     },
     "metadata": {
      "needs_background": "light"
     },
     "output_type": "display_data"
    }
   ],
   "source": [
    "data.boxplot('math score','race/ethnicity',rot=30,figsize=(10,6))\n",
    "plt.show()\n"
   ]
  },
  {
   "cell_type": "code",
   "execution_count": 32,
   "metadata": {},
   "outputs": [
    {
     "data": {
      "image/png": "[encoded data removed]",
      "text/plain": [
       "<Figure size 720x432 with 1 Axes>"
      ]
     },
     "metadata": {
      "needs_background": "light"
     },
     "output_type": "display_data"
    }
   ],
   "source": [
    "data.boxplot('reading score','race/ethnicity',rot=30,figsize=(10,6))\n",
    "plt.show()"
   ]
  },
  {
   "cell_type": "code",
   "execution_count": 33,
   "metadata": {},
   "outputs": [
    {
     "data": {
      "image/png": "[encoded data removed]",
      "text/plain": [
       "<Figure size 720x432 with 1 Axes>"
      ]
     },
     "metadata": {
      "needs_background": "light"
     },
     "output_type": "display_data"
    }
   ],
   "source": [
    "data.boxplot('writing score','race/ethnicity',rot=30,figsize=(10,6))\n",
    "plt.show()"
   ]
  },
  {
   "cell_type": "code",
   "execution_count": null,
   "metadata": {},
   "outputs": [],
   "source": []
  },
  {
   "cell_type": "code",
   "execution_count": 34,
   "metadata": {},
   "outputs": [],
   "source": [
    "### my insight: group A could be people from north american background\n",
    "## group E could be people form asian background"
   ]
  },
  {
   "cell_type": "code",
   "execution_count": 127,
   "metadata": {},
   "outputs": [
    {
     "data": {
      "text/plain": [
       "-1.79"
      ]
     },
     "execution_count": 127,
     "metadata": {},
     "output_type": "execute_result"
    },
    {
     "data": {
      "image/png": "[encoded data removed]",
      "text/plain": [
       "<Figure size 432x288 with 1 Axes>"
      ]
     },
     "metadata": {
      "needs_background": "light"
     },
     "output_type": "display_data"
    }
   ],
   "source": [
    "log_score = np.log(df_replace_pe['average_score'])\n",
    "skew = np.round(log_score.skew(),2)\n",
    "sns.distplot(log_score)\n",
    "skew"
   ]
  },
  {
   "cell_type": "code",
   "execution_count": 128,
   "metadata": {},
   "outputs": [
    {
     "data": {
      "text/plain": [
       "-0.75"
      ]
     },
     "execution_count": 128,
     "metadata": {},
     "output_type": "execute_result"
    },
    {
     "data": {
      "image/png": "[encoded data removed]",
      "text/plain": [
       "<Figure size 432x288 with 1 Axes>"
      ]
     },
     "metadata": {
      "needs_background": "light"
     },
     "output_type": "display_data"
    }
   ],
   "source": [
    "skew = np.round(df_replace_pe['average_score'].skew(),2)\n",
    "sns.distplot(df_replace_pe['average_score'])\n",
    "skew"
   ]
  },
  {
   "cell_type": "code",
   "execution_count": null,
   "metadata": {},
   "outputs": [],
   "source": []
  },
  {
   "cell_type": "code",
   "execution_count": null,
   "metadata": {},
   "outputs": [],
   "source": []
  },
  {
   "cell_type": "code",
   "execution_count": 166,
   "metadata": {},
   "outputs": [
    {
     "data": {
      "text/plain": [
       "Index(['parental level of education', 'lunch', 'test preparation course',\n",
       "       'math score', 'reading score', 'writing score', 'gender_female',\n",
       "       'gender_male', 'average_score', 'col_group A', 'col_group B',\n",
       "       'col_group C', 'col_group D', 'col_group E'],\n",
       "      dtype='object')"
      ]
     },
     "execution_count": 166,
     "metadata": {},
     "output_type": "execute_result"
    }
   ],
   "source": [
    "df_replace_race.columns"
   ]
  },
  {
   "cell_type": "code",
   "execution_count": 123,
   "metadata": {},
   "outputs": [
    {
     "data": {
      "text/plain": [
       "Index(['race/ethnicity', 'parental level of education', 'lunch',\n",
       "       'test preparation course', 'math score', 'reading score',\n",
       "       'writing score', 'gender_female', 'gender_male', 'average_score'],\n",
       "      dtype='object')"
      ]
     },
     "execution_count": 123,
     "metadata": {},
     "output_type": "execute_result"
    }
   ],
   "source": [
    "df_replace_pe.columns"
   ]
  },
  {
   "cell_type": "code",
   "execution_count": 234,
   "metadata": {},
   "outputs": [],
   "source": [
    "\n",
    "df_replace_race[['average_score']] = scale(df_replace_race[['average_score']].astype('float64'))\n",
    "df_replace_race[['math score']] = scale(df_replace_race[['math score']].astype('float64'))\n",
    "df_replace_race[['reading score']] = scale(df_replace_race[['reading score']].astype('float64'))\n",
    "df_replace_race[['writing score']] = scale(df_replace_race[['writing score']].astype('float64'))"
   ]
  },
  {
   "cell_type": "markdown",
   "metadata": {},
   "source": [
    "### Train test split"
   ]
  },
  {
   "cell_type": "code",
   "execution_count": 235,
   "metadata": {},
   "outputs": [],
   "source": [
    "# let's determine writing score\n",
    "\n",
    "X = df_replace_pe[['parental level of education', 'lunch','test preparation course','math score','reading score']]\n",
    "y = df_replace_pe['writing score']\n",
    "\n",
    "X_train,X_test,y_train,y_test = train_test_split(X,y,test_size=0.2, random_state=101)"
   ]
  },
  {
   "cell_type": "markdown",
   "metadata": {},
   "source": [
    "## Multivariable regression"
   ]
  },
  {
   "cell_type": "code",
   "execution_count": 236,
   "metadata": {},
   "outputs": [
    {
     "name": "stdout",
     "output_type": "stream",
     "text": [
      "r-squared for training data:  0.9370278636984172\n",
      "r-squared for test data:  0.9065521788899756\n",
      "intercept:  -5.274180486132863\n"
     ]
    },
    {
     "data": {
      "text/html": [
       "<div>\n",
       "<style scoped>\n",
       "    .dataframe tbody tr th:only-of-type {\n",
       "        vertical-align: middle;\n",
       "    }\n",
       "\n",
       "    .dataframe tbody tr th {\n",
       "        vertical-align: top;\n",
       "    }\n",
       "\n",
       "    .dataframe thead th {\n",
       "        text-align: right;\n",
       "    }\n",
       "</style>\n",
       "<table border=\"1\" class=\"dataframe\">\n",
       "  <thead>\n",
       "    <tr style=\"text-align: right;\">\n",
       "      <th></th>\n",
       "      <th>coef</th>\n",
       "    </tr>\n",
       "  </thead>\n",
       "  <tbody>\n",
       "    <tr>\n",
       "      <th>parental level of education</th>\n",
       "      <td>1.186050</td>\n",
       "    </tr>\n",
       "    <tr>\n",
       "      <th>lunch</th>\n",
       "      <td>0.565904</td>\n",
       "    </tr>\n",
       "    <tr>\n",
       "      <th>test preparation course</th>\n",
       "      <td>4.473588</td>\n",
       "    </tr>\n",
       "    <tr>\n",
       "      <th>math score</th>\n",
       "      <td>0.115062</td>\n",
       "    </tr>\n",
       "    <tr>\n",
       "      <th>reading score</th>\n",
       "      <td>0.890719</td>\n",
       "    </tr>\n",
       "  </tbody>\n",
       "</table>\n",
       "</div>"
      ],
      "text/plain": [
       "                                 coef\n",
       "parental level of education  1.186050\n",
       "lunch                        0.565904\n",
       "test preparation course      4.473588\n",
       "math score                   0.115062\n",
       "reading score                0.890719"
      ]
     },
     "execution_count": 236,
     "metadata": {},
     "output_type": "execute_result"
    }
   ],
   "source": [
    "# Model 1\n",
    "\n",
    "regr = LinearRegression()\n",
    "regr.fit(X_train,y_train)\n",
    "\n",
    "# calculating r_squred value\n",
    "\n",
    "print('r-squared for training data: ', regr.score(X_train,y_train))\n",
    "print('r-squared for test data: ', regr.score(X_test,y_test))\n",
    "\n",
    "print('intercept: ', regr.intercept_)\n",
    "pd.DataFrame(regr.coef_,index=X_train.columns,columns=['coef'])\n"
   ]
  },
  {
   "cell_type": "code",
   "execution_count": 237,
   "metadata": {},
   "outputs": [],
   "source": [
    "## model 2\n",
    "\n",
    "X = df_replace_race[['parental level of education', 'lunch','test preparation course','math score','reading score','col_group A', 'col_group B',\n",
    "       'col_group C', 'col_group D', 'col_group E']]\n",
    "y = df_replace_pe['writing score']\n",
    "\n",
    "X_train,X_test,y_train,y_test = train_test_split(X,y,test_size=0.2, random_state=101)"
   ]
  },
  {
   "cell_type": "code",
   "execution_count": 238,
   "metadata": {},
   "outputs": [
    {
     "name": "stdout",
     "output_type": "stream",
     "text": [
      "r-squared for training data:  0.9424151458763038\n",
      "r-squared for test data:  0.894729186593366\n",
      "intercept:  65.78286285229146\n"
     ]
    },
    {
     "data": {
      "text/html": [
       "<div>\n",
       "<style scoped>\n",
       "    .dataframe tbody tr th:only-of-type {\n",
       "        vertical-align: middle;\n",
       "    }\n",
       "\n",
       "    .dataframe tbody tr th {\n",
       "        vertical-align: top;\n",
       "    }\n",
       "\n",
       "    .dataframe thead th {\n",
       "        text-align: right;\n",
       "    }\n",
       "</style>\n",
       "<table border=\"1\" class=\"dataframe\">\n",
       "  <thead>\n",
       "    <tr style=\"text-align: right;\">\n",
       "      <th></th>\n",
       "      <th>coef</th>\n",
       "    </tr>\n",
       "  </thead>\n",
       "  <tbody>\n",
       "    <tr>\n",
       "      <th>parental level of education</th>\n",
       "      <td>1.114354</td>\n",
       "    </tr>\n",
       "    <tr>\n",
       "      <th>lunch</th>\n",
       "      <td>0.268754</td>\n",
       "    </tr>\n",
       "    <tr>\n",
       "      <th>test preparation course</th>\n",
       "      <td>4.288804</td>\n",
       "    </tr>\n",
       "    <tr>\n",
       "      <th>math score</th>\n",
       "      <td>2.176119</td>\n",
       "    </tr>\n",
       "    <tr>\n",
       "      <th>reading score</th>\n",
       "      <td>11.707005</td>\n",
       "    </tr>\n",
       "    <tr>\n",
       "      <th>col_group A</th>\n",
       "      <td>2.470258</td>\n",
       "    </tr>\n",
       "    <tr>\n",
       "      <th>col_group B</th>\n",
       "      <td>-0.391384</td>\n",
       "    </tr>\n",
       "    <tr>\n",
       "      <th>col_group C</th>\n",
       "      <td>-1.259616</td>\n",
       "    </tr>\n",
       "    <tr>\n",
       "      <th>col_group D</th>\n",
       "      <td>0.722268</td>\n",
       "    </tr>\n",
       "    <tr>\n",
       "      <th>col_group E</th>\n",
       "      <td>-1.541526</td>\n",
       "    </tr>\n",
       "  </tbody>\n",
       "</table>\n",
       "</div>"
      ],
      "text/plain": [
       "                                  coef\n",
       "parental level of education   1.114354\n",
       "lunch                         0.268754\n",
       "test preparation course       4.288804\n",
       "math score                    2.176119\n",
       "reading score                11.707005\n",
       "col_group A                   2.470258\n",
       "col_group B                  -0.391384\n",
       "col_group C                  -1.259616\n",
       "col_group D                   0.722268\n",
       "col_group E                  -1.541526"
      ]
     },
     "execution_count": 238,
     "metadata": {},
     "output_type": "execute_result"
    }
   ],
   "source": [
    "regr = LinearRegression()\n",
    "regr.fit(X_train,y_train)\n",
    "\n",
    "# calculating r_squred value\n",
    "\n",
    "print('r-squared for training data: ', regr.score(X_train,y_train))\n",
    "print('r-squared for test data: ', regr.score(X_test,y_test))\n",
    "\n",
    "print('intercept: ', regr.intercept_)\n",
    "pd.DataFrame(regr.coef_,index=X_train.columns,columns=['coef'])\n"
   ]
  },
  {
   "cell_type": "markdown",
   "metadata": {},
   "source": [
    "## P-values and evaluating coefficients"
   ]
  },
  {
   "cell_type": "code",
   "execution_count": 239,
   "metadata": {},
   "outputs": [
    {
     "data": {
      "text/html": [
       "<table class=\"simpletable\">\n",
       "<caption>OLS Regression Results</caption>\n",
       "<tr>\n",
       "  <th>Dep. Variable:</th>      <td>writing score</td>  <th>  R-squared:         </th> <td>   0.942</td>\n",
       "</tr>\n",
       "<tr>\n",
       "  <th>Model:</th>                   <td>OLS</td>       <th>  Adj. R-squared:    </th> <td>   0.935</td>\n",
       "</tr>\n",
       "<tr>\n",
       "  <th>Method:</th>             <td>Least Squares</td>  <th>  F-statistic:       </th> <td>   127.3</td>\n",
       "</tr>\n",
       "<tr>\n",
       "  <th>Date:</th>             <td>Wed, 06 Jan 2021</td> <th>  Prob (F-statistic):</th> <td>9.04e-40</td>\n",
       "</tr>\n",
       "<tr>\n",
       "  <th>Time:</th>                 <td>15:37:04</td>     <th>  Log-Likelihood:    </th> <td> -213.88</td>\n",
       "</tr>\n",
       "<tr>\n",
       "  <th>No. Observations:</th>      <td>    80</td>      <th>  AIC:               </th> <td>   447.8</td>\n",
       "</tr>\n",
       "<tr>\n",
       "  <th>Df Residuals:</th>          <td>    70</td>      <th>  BIC:               </th> <td>   471.6</td>\n",
       "</tr>\n",
       "<tr>\n",
       "  <th>Df Model:</th>              <td>     9</td>      <th>                     </th>     <td> </td>   \n",
       "</tr>\n",
       "<tr>\n",
       "  <th>Covariance Type:</th>      <td>nonrobust</td>    <th>                     </th>     <td> </td>   \n",
       "</tr>\n",
       "</table>\n",
       "<table class=\"simpletable\">\n",
       "<tr>\n",
       "               <td></td>                  <th>coef</th>     <th>std err</th>      <th>t</th>      <th>P>|t|</th>  <th>[0.025</th>    <th>0.975]</th>  \n",
       "</tr>\n",
       "<tr>\n",
       "  <th>const</th>                       <td>   54.8191</td> <td>    2.119</td> <td>   25.870</td> <td> 0.000</td> <td>   50.593</td> <td>   59.045</td>\n",
       "</tr>\n",
       "<tr>\n",
       "  <th>parental level of education</th> <td>    1.1144</td> <td>    0.727</td> <td>    1.533</td> <td> 0.130</td> <td>   -0.336</td> <td>    2.564</td>\n",
       "</tr>\n",
       "<tr>\n",
       "  <th>lunch</th>                       <td>    0.2688</td> <td>    1.089</td> <td>    0.247</td> <td> 0.806</td> <td>   -1.904</td> <td>    2.442</td>\n",
       "</tr>\n",
       "<tr>\n",
       "  <th>test preparation course</th>     <td>    4.2888</td> <td>    0.985</td> <td>    4.353</td> <td> 0.000</td> <td>    2.324</td> <td>    6.254</td>\n",
       "</tr>\n",
       "<tr>\n",
       "  <th>math score</th>                  <td>    2.1761</td> <td>    0.800</td> <td>    2.719</td> <td> 0.008</td> <td>    0.580</td> <td>    3.772</td>\n",
       "</tr>\n",
       "<tr>\n",
       "  <th>reading score</th>               <td>   11.7070</td> <td>    0.748</td> <td>   15.652</td> <td> 0.000</td> <td>   10.215</td> <td>   13.199</td>\n",
       "</tr>\n",
       "<tr>\n",
       "  <th>col_group A</th>                 <td>   13.4341</td> <td>    1.655</td> <td>    8.118</td> <td> 0.000</td> <td>   10.134</td> <td>   16.735</td>\n",
       "</tr>\n",
       "<tr>\n",
       "  <th>col_group B</th>                 <td>   10.5724</td> <td>    0.920</td> <td>   11.489</td> <td> 0.000</td> <td>    8.737</td> <td>   12.408</td>\n",
       "</tr>\n",
       "<tr>\n",
       "  <th>col_group C</th>                 <td>    9.7042</td> <td>    0.871</td> <td>   11.140</td> <td> 0.000</td> <td>    7.967</td> <td>   11.442</td>\n",
       "</tr>\n",
       "<tr>\n",
       "  <th>col_group D</th>                 <td>   11.6861</td> <td>    0.897</td> <td>   13.030</td> <td> 0.000</td> <td>    9.897</td> <td>   13.475</td>\n",
       "</tr>\n",
       "<tr>\n",
       "  <th>col_group E</th>                 <td>    9.4223</td> <td>    1.076</td> <td>    8.760</td> <td> 0.000</td> <td>    7.277</td> <td>   11.568</td>\n",
       "</tr>\n",
       "</table>\n",
       "<table class=\"simpletable\">\n",
       "<tr>\n",
       "  <th>Omnibus:</th>       <td> 0.950</td> <th>  Durbin-Watson:     </th> <td>   2.111</td>\n",
       "</tr>\n",
       "<tr>\n",
       "  <th>Prob(Omnibus):</th> <td> 0.622</td> <th>  Jarque-Bera (JB):  </th> <td>   1.013</td>\n",
       "</tr>\n",
       "<tr>\n",
       "  <th>Skew:</th>          <td> 0.165</td> <th>  Prob(JB):          </th> <td>   0.603</td>\n",
       "</tr>\n",
       "<tr>\n",
       "  <th>Kurtosis:</th>      <td> 2.558</td> <th>  Cond. No.          </th> <td>2.72e+16</td>\n",
       "</tr>\n",
       "</table><br/><br/>Warnings:<br/>[1] Standard Errors assume that the covariance matrix of the errors is correctly specified.<br/>[2] The smallest eigenvalue is 8.14e-31. This might indicate that there are<br/>strong multicollinearity problems or that the design matrix is singular."
      ],
      "text/plain": [
       "<class 'statsmodels.iolib.summary.Summary'>\n",
       "\"\"\"\n",
       "                            OLS Regression Results                            \n",
       "==============================================================================\n",
       "Dep. Variable:          writing score   R-squared:                       0.942\n",
       "Model:                            OLS   Adj. R-squared:                  0.935\n",
       "Method:                 Least Squares   F-statistic:                     127.3\n",
       "Date:                Wed, 06 Jan 2021   Prob (F-statistic):           9.04e-40\n",
       "Time:                        15:37:04   Log-Likelihood:                -213.88\n",
       "No. Observations:                  80   AIC:                             447.8\n",
       "Df Residuals:                      70   BIC:                             471.6\n",
       "Df Model:                           9                                         \n",
       "Covariance Type:            nonrobust                                         \n",
       "===============================================================================================\n",
       "                                  coef    std err          t      P>|t|      [0.025      0.975]\n",
       "-----------------------------------------------------------------------------------------------\n",
       "const                          54.8191      2.119     25.870      0.000      50.593      59.045\n",
       "parental level of education     1.1144      0.727      1.533      0.130      -0.336       2.564\n",
       "lunch                           0.2688      1.089      0.247      0.806      -1.904       2.442\n",
       "test preparation course         4.2888      0.985      4.353      0.000       2.324       6.254\n",
       "math score                      2.1761      0.800      2.719      0.008       0.580       3.772\n",
       "reading score                  11.7070      0.748     15.652      0.000      10.215      13.199\n",
       "col_group A                    13.4341      1.655      8.118      0.000      10.134      16.735\n",
       "col_group B                    10.5724      0.920     11.489      0.000       8.737      12.408\n",
       "col_group C                     9.7042      0.871     11.140      0.000       7.967      11.442\n",
       "col_group D                    11.6861      0.897     13.030      0.000       9.897      13.475\n",
       "col_group E                     9.4223      1.076      8.760      0.000       7.277      11.568\n",
       "==============================================================================\n",
       "Omnibus:                        0.950   Durbin-Watson:                   2.111\n",
       "Prob(Omnibus):                  0.622   Jarque-Bera (JB):                1.013\n",
       "Skew:                           0.165   Prob(JB):                        0.603\n",
       "Kurtosis:                       2.558   Cond. No.                     2.72e+16\n",
       "==============================================================================\n",
       "\n",
       "Warnings:\n",
       "[1] Standard Errors assume that the covariance matrix of the errors is correctly specified.\n",
       "[2] The smallest eigenvalue is 8.14e-31. This might indicate that there are\n",
       "strong multicollinearity problems or that the design matrix is singular.\n",
       "\"\"\""
      ]
     },
     "execution_count": 239,
     "metadata": {},
     "output_type": "execute_result"
    }
   ],
   "source": [
    "X_incl_const = sm.add_constant(X_train)\n",
    "model = sm.OLS(y_train,X_incl_const)\n",
    "result = model.fit()\n",
    "result.summary()"
   ]
  },
  {
   "cell_type": "markdown",
   "metadata": {},
   "source": [
    "note: p-value for parental level of education is insignificant"
   ]
  },
  {
   "cell_type": "code",
   "execution_count": 240,
   "metadata": {},
   "outputs": [
    {
     "name": "stdout",
     "output_type": "stream",
     "text": [
      "const 0.0\n",
      "parental level of education 1.0514204376163399\n",
      "lunch 1.384205549531936\n",
      "test preparation course 1.2360750535552503\n",
      "math score 3.338717832692972\n",
      "reading score 3.03624776054864\n",
      "col_group A inf\n",
      "col_group B inf\n",
      "col_group C inf\n",
      "col_group D inf\n",
      "col_group E inf\n"
     ]
    },
    {
     "name": "stderr",
     "output_type": "stream",
     "text": [
      "/opt/anaconda3/lib/python3.8/site-packages/statsmodels/regression/linear_model.py:1685: RuntimeWarning: divide by zero encountered in double_scalars\n",
      "  return 1 - self.ssr/self.centered_tss\n",
      "/opt/anaconda3/lib/python3.8/site-packages/statsmodels/stats/outliers_influence.py:193: RuntimeWarning: divide by zero encountered in double_scalars\n",
      "  vif = 1. / (1. - r_squared_i)\n"
     ]
    }
   ],
   "source": [
    "# variance inflation factor to check for multicollinearity\n",
    "\n",
    "for i in range(len(X_incl_const.columns)):\n",
    "    print(f'{X_incl_const.columns[i]} {variance_inflation_factor(exog=X_incl_const.values, exog_idx=i)}')"
   ]
  },
  {
   "cell_type": "code",
   "execution_count": 241,
   "metadata": {},
   "outputs": [
    {
     "name": "stdout",
     "output_type": "stream",
     "text": [
      "r-squared for training data:  0.9404815083145798\n",
      "r-squared for test data:  0.8940652781249139\n",
      "intercept:  68.23183087356293\n"
     ]
    },
    {
     "data": {
      "text/html": [
       "<div>\n",
       "<style scoped>\n",
       "    .dataframe tbody tr th:only-of-type {\n",
       "        vertical-align: middle;\n",
       "    }\n",
       "\n",
       "    .dataframe tbody tr th {\n",
       "        vertical-align: top;\n",
       "    }\n",
       "\n",
       "    .dataframe thead th {\n",
       "        text-align: right;\n",
       "    }\n",
       "</style>\n",
       "<table border=\"1\" class=\"dataframe\">\n",
       "  <thead>\n",
       "    <tr style=\"text-align: right;\">\n",
       "      <th></th>\n",
       "      <th>coef</th>\n",
       "    </tr>\n",
       "  </thead>\n",
       "  <tbody>\n",
       "    <tr>\n",
       "      <th>test preparation course</th>\n",
       "      <td>4.199653</td>\n",
       "    </tr>\n",
       "    <tr>\n",
       "      <th>math score</th>\n",
       "      <td>2.150758</td>\n",
       "    </tr>\n",
       "    <tr>\n",
       "      <th>reading score</th>\n",
       "      <td>11.806522</td>\n",
       "    </tr>\n",
       "    <tr>\n",
       "      <th>col_group A</th>\n",
       "      <td>2.717885</td>\n",
       "    </tr>\n",
       "    <tr>\n",
       "      <th>col_group B</th>\n",
       "      <td>-0.562319</td>\n",
       "    </tr>\n",
       "    <tr>\n",
       "      <th>col_group C</th>\n",
       "      <td>-1.268752</td>\n",
       "    </tr>\n",
       "    <tr>\n",
       "      <th>col_group D</th>\n",
       "      <td>0.672736</td>\n",
       "    </tr>\n",
       "    <tr>\n",
       "      <th>col_group E</th>\n",
       "      <td>-1.559549</td>\n",
       "    </tr>\n",
       "  </tbody>\n",
       "</table>\n",
       "</div>"
      ],
      "text/plain": [
       "                              coef\n",
       "test preparation course   4.199653\n",
       "math score                2.150758\n",
       "reading score            11.806522\n",
       "col_group A               2.717885\n",
       "col_group B              -0.562319\n",
       "col_group C              -1.268752\n",
       "col_group D               0.672736\n",
       "col_group E              -1.559549"
      ]
     },
     "execution_count": 241,
     "metadata": {},
     "output_type": "execute_result"
    }
   ],
   "source": [
    "## model 2\n",
    "\n",
    "X = df_replace_race[['test preparation course','math score','reading score','col_group A', 'col_group B',\n",
    "       'col_group C', 'col_group D', 'col_group E']]\n",
    "y = df_replace_pe['writing score']\n",
    "\n",
    "X_train,X_test,y_train,y_test = train_test_split(X,y,test_size=0.2, random_state=101)\n",
    "\n",
    "regr = LinearRegression()\n",
    "regr.fit(X_train,y_train)\n",
    "\n",
    "# calculating r_squred value\n",
    "\n",
    "print('r-squared for training data: ', regr.score(X_train,y_train))\n",
    "print('r-squared for test data: ', regr.score(X_test,y_test))\n",
    "\n",
    "print('intercept: ', regr.intercept_)\n",
    "pd.DataFrame(regr.coef_,index=X_train.columns,columns=['coef'])"
   ]
  },
  {
   "cell_type": "markdown",
   "metadata": {},
   "source": [
    "### Model simplification and BIC metric"
   ]
  },
  {
   "cell_type": "code",
   "execution_count": 242,
   "metadata": {},
   "outputs": [
    {
     "name": "stdout",
     "output_type": "stream",
     "text": [
      "r-squared for model-1 0.9424151458763039\n",
      "bic for model- 1 471.5811957312498\n",
      "mean squared error 14.050611859094868\n"
     ]
    }
   ],
   "source": [
    "# Model 2: including parental_level_of_education\n",
    "\n",
    "X = df_replace_race[['parental level of education', 'lunch','test preparation course','math score','reading score','col_group A', 'col_group B',\n",
    "       'col_group C', 'col_group D', 'col_group E']]\n",
    "y = df_replace_pe['writing score']\n",
    "\n",
    "X_train,X_test,y_train,y_test = train_test_split(X,y,test_size=0.2, random_state=101)\n",
    "X_incl_const = sm.add_constant(X_train)\n",
    "model = sm.OLS(y_train,X_incl_const)\n",
    "result = model.fit()\n",
    "coef_with_pe= pd.DataFrame({'coef': result.params, 'p-value':round(result.pvalues,3)})\n",
    "\n",
    "print('r-squared for model-1',result.rsquared)\n",
    "print('bic for model- 1',result.bic)\n",
    "print('mean squared error', result.mse_resid)"
   ]
  },
  {
   "cell_type": "code",
   "execution_count": 244,
   "metadata": {},
   "outputs": [
    {
     "name": "stdout",
     "output_type": "stream",
     "text": [
      "r-squared for model-1 0.992274840851824\n",
      "bic for model- 1 294.06215386169345\n",
      "mean squared error 1.5908502442105041\n",
      "const 0.0\n",
      "lunch 1.3573617956145103\n",
      "test preparation course 1.2325517737595746\n",
      "math score 3.3361748876013384\n",
      "reading score 3.0134618305579943\n",
      "col_group A inf\n",
      "col_group B inf\n",
      "col_group C inf\n",
      "col_group D inf\n",
      "col_group E inf\n"
     ]
    },
    {
     "name": "stderr",
     "output_type": "stream",
     "text": [
      "/opt/anaconda3/lib/python3.8/site-packages/statsmodels/regression/linear_model.py:1685: RuntimeWarning: divide by zero encountered in double_scalars\n",
      "  return 1 - self.ssr/self.centered_tss\n",
      "/opt/anaconda3/lib/python3.8/site-packages/statsmodels/stats/outliers_influence.py:193: RuntimeWarning: divide by zero encountered in double_scalars\n",
      "  vif = 1. / (1. - r_squared_i)\n"
     ]
    }
   ],
   "source": [
    "# Model 3: excluding parental_level_of_edication\n",
    "\n",
    "X = df_replace_race[['lunch','test preparation course','math score','reading score','col_group A', 'col_group B',\n",
    "       'col_group C', 'col_group D', 'col_group E']]\n",
    "y = df_replace_pe['average_score']\n",
    "\n",
    "X_train,X_test,y_train,y_test = train_test_split(X,y,test_size=0.2, random_state=101)\n",
    "X_incl_const = sm.add_constant(X_train)\n",
    "model = sm.OLS(y_train,X_incl_const)\n",
    "result = model.fit()\n",
    "coef_wo_pe= pd.DataFrame({'coef': result.params, 'p-value':round(result.pvalues,3)})\n",
    "\n",
    "print('r-squared for model-1',result.rsquared)\n",
    "print('bic for model- 1',result.bic)\n",
    "print('mean squared error', result.mse_resid)\n",
    "\n",
    "# variance inflation factor to check for multicollinearity\n",
    "\n",
    "for i in range(len(X_incl_const.columns)):\n",
    "    print(f'{X_incl_const.columns[i]} {variance_inflation_factor(exog=X_incl_const.values, exog_idx=i)}')"
   ]
  },
  {
   "cell_type": "code",
   "execution_count": 245,
   "metadata": {},
   "outputs": [
    {
     "name": "stdout",
     "output_type": "stream",
     "text": [
      "r-squared for model-1 0.9347937437598153\n",
      "bic for model- 1 459.6147293618862\n",
      "mean squared error 14.849540278380367\n"
     ]
    }
   ],
   "source": [
    "# Model 4 : \n",
    "\n",
    "X = df_replace_race[['lunch','test preparation course','math score','reading score']]\n",
    "y = df_replace_pe['writing score']\n",
    "\n",
    "X_train,X_test,y_train,y_test = train_test_split(X,y,test_size=0.2, random_state=101)\n",
    "X_incl_const = sm.add_constant(X_train)\n",
    "model = sm.OLS(y_train,X_incl_const)\n",
    "result = model.fit()\n",
    "org_coef= pd.DataFrame({'coef': result.params, 'p-value':round(result.pvalues,3)})\n",
    "\n",
    "print('r-squared for model-1',result.rsquared)\n",
    "print('bic for model- 1',result.bic)\n",
    "print('mean squared error', result.mse_resid)"
   ]
  },
  {
   "cell_type": "code",
   "execution_count": 246,
   "metadata": {},
   "outputs": [
    {
     "name": "stdout",
     "output_type": "stream",
     "text": [
      "r-squared for model-1 0.9469198516830823\n",
      "bic for model- 1 447.53656277588095\n",
      "mean squared error 12.251391374814443\n"
     ]
    }
   ],
   "source": [
    "# Model 5 : excluding parental_level_of_edication and ethnicity but include gender\n",
    "\n",
    "X = df_replace_race[['lunch','test preparation course','gender_male','gender_female','reading score','math score']]\n",
    "y = df_replace_pe['writing score']\n",
    "\n",
    "X_train,X_test,y_train,y_test = train_test_split(X,y,test_size=0.2, random_state=101)\n",
    "X_incl_const = sm.add_constant(X_train)\n",
    "model = sm.OLS(y_train,X_incl_const)\n",
    "result = model.fit()\n",
    "org_coef= pd.DataFrame({'coef': result.params, 'p-value':round(result.pvalues,3)})\n",
    "\n",
    "print('r-squared for model-1',result.rsquared)\n",
    "print('bic for model- 1',result.bic)\n",
    "print('mean squared error', result.mse_resid)"
   ]
  },
  {
   "cell_type": "code",
   "execution_count": 247,
   "metadata": {},
   "outputs": [
    {
     "name": "stdout",
     "output_type": "stream",
     "text": [
      "r-squared for model-1 0.9469042787888468\n",
      "bic for model- 1 443.1780034611041\n",
      "mean squared error 12.09158593357149\n"
     ]
    }
   ],
   "source": [
    "# Model 6 : excluding parental_level_of_edication,lunch and ethnicity \n",
    "\n",
    "X = df_replace_race[['test preparation course','gender_male','gender_female','reading score','math score']]\n",
    "y = df_replace_pe['writing score']\n",
    "\n",
    "X_train,X_test,y_train,y_test = train_test_split(X,y,test_size=0.2, random_state=101)\n",
    "X_incl_const = sm.add_constant(X_train)\n",
    "model = sm.OLS(y_train,X_incl_const)\n",
    "result = model.fit()\n",
    "org_coef= pd.DataFrame({'coef': result.params, 'p-value':round(result.pvalues,3)})\n",
    "\n",
    "print('r-squared for model-1',result.rsquared)\n",
    "print('bic for model- 1',result.bic)\n",
    "print('mean squared error', result.mse_resid)"
   ]
  },
  {
   "cell_type": "code",
   "execution_count": 249,
   "metadata": {},
   "outputs": [
    {
     "name": "stdout",
     "output_type": "stream",
     "text": [
      "r-squared for model-1 0.9404824354931781\n",
      "bic for model- 1 469.84012004859085\n",
      "mean squared error 14.317652197894509\n"
     ]
    }
   ],
   "source": [
    "# Model 7 : excluding parental_level_of_edication, gender\n",
    "\n",
    "X = df_replace_race[['lunch','test preparation course','reading score','math score','col_group A', 'col_group B',\n",
    "       'col_group C', 'col_group D', 'col_group E']]\n",
    "y = df_replace_pe['writing score']\n",
    "\n",
    "X_train,X_test,y_train,y_test = train_test_split(X,y,test_size=0.2, random_state=101)\n",
    "X_incl_const = sm.add_constant(X_train)\n",
    "model = sm.OLS(y_train,X_incl_const)\n",
    "result = model.fit()\n",
    "org_coef= pd.DataFrame({'coef': result.params, 'p-value':round(result.pvalues,3)})\n",
    "\n",
    "print('r-squared for model-1',result.rsquared)\n",
    "print('bic for model- 1',result.bic)\n",
    "print('mean squared error', result.mse_resid)"
   ]
  },
  {
   "cell_type": "code",
   "execution_count": 250,
   "metadata": {},
   "outputs": [
    {
     "name": "stdout",
     "output_type": "stream",
     "text": [
      "r-squared for model-1 0.9347141904950896\n",
      "bic for model- 1 455.3302452395508\n",
      "mean squared error 14.672030022240794\n"
     ]
    }
   ],
   "source": [
    "# Model4 : excluding parental_level_of_edication and ethnicity , gender\n",
    "\n",
    "X = df_replace_race[['test preparation course','reading score','math score']]\n",
    "y = df_replace_pe['writing score']\n",
    "\n",
    "X_train,X_test,y_train,y_test = train_test_split(X,y,test_size=0.2, random_state=101)\n",
    "X_incl_const = sm.add_constant(X_train)\n",
    "model = sm.OLS(y_train,X_incl_const)\n",
    "result = model.fit()\n",
    "org_coef= pd.DataFrame({'coef': result.params, 'p-value':round(result.pvalues,3)})\n",
    "\n",
    "print('r-squared for model-1',result.rsquared)\n",
    "print('bic for model- 1',result.bic)\n",
    "print('mean squared error', result.mse_resid)"
   ]
  },
  {
   "cell_type": "markdown",
   "metadata": {},
   "source": [
    "### AFTER MODEL COMPARISION"
   ]
  },
  {
   "cell_type": "markdown",
   "metadata": {},
   "source": [
    "Out of all the models, model 6 has relatively low BIC and lower mse compared to other models and also the r-squared is pretty high "
   ]
  },
  {
   "cell_type": "code",
   "execution_count": 259,
   "metadata": {},
   "outputs": [
    {
     "name": "stdout",
     "output_type": "stream",
     "text": [
      "r-squared for model-1 0.9469042787888468\n",
      "bic for model- 1 443.1780034611041\n",
      "mean squared error 12.09158593357149\n"
     ]
    }
   ],
   "source": [
    "# Model 6 : excluding parental_level_of_edication,lunch and ethnicity \n",
    "\n",
    "X = df_replace_race[['test preparation course','gender_male','gender_female','reading score','math score']]\n",
    "y = df_replace_pe['writing score']\n",
    "\n",
    "X_train,X_test,y_train,y_test = train_test_split(X,y,test_size=0.2, random_state=101)\n",
    "X_incl_const = sm.add_constant(X_train)\n",
    "model = sm.OLS(y_train,X_incl_const)\n",
    "result = model.fit()\n",
    "org_coef= pd.DataFrame({'coef': result.params, 'p-value':round(result.pvalues,3)})\n",
    "\n",
    "print('r-squared for model-1',result.rsquared)\n",
    "print('bic for model- 1',result.bic)\n",
    "print('mean squared error', result.mse_resid)"
   ]
  },
  {
   "cell_type": "code",
   "execution_count": 260,
   "metadata": {},
   "outputs": [
    {
     "data": {
      "image/png": "[encoded data removed]",
      "text/plain": [
       "<Figure size 720x432 with 1 Axes>"
      ]
     },
     "metadata": {
      "needs_background": "light"
     },
     "output_type": "display_data"
    }
   ],
   "source": [
    "corr = round(y_train.corr(result.fittedvalues),2) # fitted and actual values are quite similar\n",
    "plt.figure(figsize=(10,6))\n",
    "plt.scatter(y_train,result.fittedvalues,c='orange', alpha=0.6)\n",
    "plt.title(f'actual vs predicted log values (correlation: {corr})', fontsize=15)\n",
    "plt.xlabel('actual log values $y_i$',fontsize=12)\n",
    "plt.ylabel('predicted log values $\\haty_i$',fontsize=12)\n",
    "plt.plot(y_train,y_train,'g--',lw=5 )\n",
    "plt.show()"
   ]
  },
  {
   "cell_type": "code",
   "execution_count": 261,
   "metadata": {},
   "outputs": [
    {
     "data": {
      "image/png": "[encoded data removed]",
      "text/plain": [
       "<Figure size 720x432 with 1 Axes>"
      ]
     },
     "metadata": {
      "needs_background": "light"
     },
     "output_type": "display_data"
    }
   ],
   "source": [
    "# predicted value vs residual\n",
    "\n",
    "plt.figure(figsize=(10,6))\n",
    "plt.scatter(result.fittedvalues,result.resid,c='navy', alpha=0.6)\n",
    "plt.title('Residual vs Fitted values', fontsize=15)\n",
    "plt.xlabel('predicted value $\\haty_i$',fontsize=12)\n",
    "plt.ylabel('residauls ',fontsize=12)\n",
    "plt.show()\n",
    "\n",
    "# the graph for residuals looks random"
   ]
  },
  {
   "cell_type": "code",
   "execution_count": 262,
   "metadata": {},
   "outputs": [
    {
     "data": {
      "image/png": "[encoded data removed]",
      "text/plain": [
       "<Figure size 720x432 with 1 Axes>"
      ]
     },
     "metadata": {
      "needs_background": "light"
     },
     "output_type": "display_data"
    }
   ],
   "source": [
    "### Distriution of residuals - checking for normality\n",
    "\n",
    "resid_mean = round(result.resid.mean(),3)\n",
    "resid_skew = round(result.resid.skew(),3)\n",
    "\n",
    "plt.figure(figsize=(10,6))\n",
    "sns.distplot(result.resid, color='navy')\n",
    "plt.title(f'Distribution of residuals for log_model mean:{resid_mean} skew:{resid_skew} ', fontsize=15)\n",
    "plt.show()\n"
   ]
  },
  {
   "cell_type": "code",
   "execution_count": 266,
   "metadata": {},
   "outputs": [
    {
     "name": "stdout",
     "output_type": "stream",
     "text": [
      "training r-score 0.9469042787888468\n",
      "testing r-score  0.9235945874824454\n",
      "mean squared error: 16.375781051356185\n",
      "mean absoulte error:  2.976443492131625\n"
     ]
    }
   ],
   "source": [
    "\n",
    "X = df_replace_race[['test preparation course','gender_male','gender_female','reading score','math score']]\n",
    "y = df_replace_pe['writing score']\n",
    "\n",
    "X_train,X_test,y_train,y_test = train_test_split(X,y,test_size=0.2, random_state=101)\n",
    "\n",
    "regr = LinearRegression()\n",
    "regr.fit(X_train,y_train)\n",
    "y_pred = regr.predict(X_test)\n",
    "\n",
    "print('training r-score', regr.score(X_train,y_train))\n",
    "print('testing r-score ', r2_score(y_test,y_pred))\n",
    "print('mean squared error:', mean_squared_error(y_test,y_pred))\n",
    "print('mean absoulte error: ', mean_absolute_error(y_test,y_pred))\n",
    "\n"
   ]
  },
  {
   "cell_type": "code",
   "execution_count": null,
   "metadata": {},
   "outputs": [],
   "source": []
  },
  {
   "cell_type": "code",
   "execution_count": null,
   "metadata": {},
   "outputs": [],
   "source": []
  },
  {
   "cell_type": "code",
   "execution_count": null,
   "metadata": {},
   "outputs": [],
   "source": []
  }
 ],
 "metadata": {
  "kernelspec": {
   "display_name": "Python 3",
   "language": "python",
   "name": "python3"
  },
  "language_info": {
   "codemirror_mode": {
    "name": "ipython",
    "version": 3
   },
   "file_extension": ".py",
   "mimetype": "text/x-python",
   "name": "python",
   "nbconvert_exporter": "python",
   "pygments_lexer": "ipython3",
   "version": "3.8.3"
  }
 },
 "nbformat": 4,
 "nbformat_minor": 4
}
